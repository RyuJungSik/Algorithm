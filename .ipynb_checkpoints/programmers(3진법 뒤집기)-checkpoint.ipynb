{
 "cells": [
  {
   "cell_type": "code",
   "execution_count": null,
   "metadata": {},
   "outputs": [],
   "source": [
    "def mkthree(num):\n",
    "    three_list=[]\n",
    "    while num>0:\n",
    "        three_list.append(num%3)\n",
    "        num//=3\n",
    "    return three_list\n",
    "\n",
    "def mkten(list):\n",
    "    sum=0\n",
    "    for i in range(0, len(list)):\n",
    "        sum+=(3**i)*list[len(list)-i-1]\n",
    "    return sum\n",
    "def solution(n):\n",
    "    answer = 0\n",
    "    before=mkthree(n)\n",
    "    after=mkten(before)\n",
    "    answer=after\n",
    "    return answer"
   ]
  }
 ],
 "metadata": {
  "kernelspec": {
   "display_name": "Python 3",
   "language": "python",
   "name": "python3"
  },
  "language_info": {
   "codemirror_mode": {
    "name": "ipython",
    "version": 3
   },
   "file_extension": ".py",
   "mimetype": "text/x-python",
   "name": "python",
   "nbconvert_exporter": "python",
   "pygments_lexer": "ipython3",
   "version": "3.8.5"
  }
 },
 "nbformat": 4,
 "nbformat_minor": 4
}
