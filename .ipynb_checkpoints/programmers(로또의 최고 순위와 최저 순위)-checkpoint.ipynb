{
 "cells": [
  {
   "cell_type": "code",
   "execution_count": null,
   "metadata": {},
   "outputs": [],
   "source": [
    "def solution(lottos, win_nums):\n",
    "    max_num=0\n",
    "    min_num=0\n",
    "    zero_num=0\n",
    "    cor_num=0\n",
    "    answer = []\n",
    "    for i in lottos:\n",
    "        if i==0:\n",
    "            zero_num+=1\n",
    "    for j in lottos:\n",
    "        if j in win_nums:\n",
    "            cor_num+=1\n",
    "    \n",
    "    max_num=cor_num+zero_num\n",
    "    min_num=cor_num\n",
    "    \n",
    "    if(max_num!=0):\n",
    "        max_rank=7-max_num\n",
    "    else:\n",
    "        max_rank=6\n",
    "    \n",
    "    if(min_num!=0):\n",
    "        min_rank=7-min_num\n",
    "    else:\n",
    "        min_rank=6\n",
    "    \n",
    "    answer.append(max_rank)\n",
    "    answer.append(min_rank)\n",
    "\n",
    "    return answer"
   ]
  }
 ],
 "metadata": {
  "kernelspec": {
   "display_name": "Python 3",
   "language": "python",
   "name": "python3"
  },
  "language_info": {
   "codemirror_mode": {
    "name": "ipython",
    "version": 3
   },
   "file_extension": ".py",
   "mimetype": "text/x-python",
   "name": "python",
   "nbconvert_exporter": "python",
   "pygments_lexer": "ipython3",
   "version": "3.8.5"
  }
 },
 "nbformat": 4,
 "nbformat_minor": 4
}
