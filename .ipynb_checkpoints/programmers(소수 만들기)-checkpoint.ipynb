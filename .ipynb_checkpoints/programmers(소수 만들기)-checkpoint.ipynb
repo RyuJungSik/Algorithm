{
 "cells": [
  {
   "cell_type": "code",
   "execution_count": null,
   "metadata": {},
   "outputs": [],
   "source": [
    "from itertools import combinations\n",
    "\n",
    "def solution(nums):\n",
    "    answer =0\n",
    "    length=len(nums)\n",
    "    three_sum=[]\n",
    "    three_sum2=[]\n",
    "    # for i in range(0, length-2):\n",
    "    #     for j in range(1+i, length-1):\n",
    "    #         for k in range(1+j, length):\n",
    "    #             three_sum.append(nums[i]+nums[j]+nums[k])\n",
    "    # three_sum.sort()\n",
    "    three_sum=list(combinations(nums, 3))\n",
    "\n",
    "    for i in three_sum:\n",
    "        flag=0\n",
    "        for j in range(2, sum(i)):\n",
    "            if sum(i)%j==0:\n",
    "                flag=1\n",
    "                break;\n",
    "        if flag==0:\n",
    "            answer+=1\n",
    "            \n",
    "    \n",
    "    return answer"
   ]
  }
 ],
 "metadata": {
  "kernelspec": {
   "display_name": "Python 3",
   "language": "python",
   "name": "python3"
  },
  "language_info": {
   "codemirror_mode": {
    "name": "ipython",
    "version": 3
   },
   "file_extension": ".py",
   "mimetype": "text/x-python",
   "name": "python",
   "nbconvert_exporter": "python",
   "pygments_lexer": "ipython3",
   "version": "3.8.5"
  }
 },
 "nbformat": 4,
 "nbformat_minor": 4
}
