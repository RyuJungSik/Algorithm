{
 "cells": [
  {
   "cell_type": "code",
   "execution_count": null,
   "metadata": {},
   "outputs": [],
   "source": [
    "def solution(s, n):\n",
    "    answer = ''\n",
    "    for i in s:\n",
    "        unicodenum=0\n",
    "        \n",
    "        if i==' ':\n",
    "            answer+=' '\n",
    "        elif i.isupper():\n",
    "            unicodenum=(ord(i)+n)\n",
    "            if unicodenum>=91:\n",
    "                unicodenum-=26\n",
    "            \n",
    "            answer+=chr(unicodenum)\n",
    "        else:\n",
    "            unicodenum=(ord(i)+n)\n",
    "            if unicodenum>=123:\n",
    "                unicodenum-=26\n",
    "            answer+=chr(unicodenum)\n",
    "            \n",
    "            \n",
    "    return answer"
   ]
  }
 ],
 "metadata": {
  "kernelspec": {
   "display_name": "Python 3",
   "language": "python",
   "name": "python3"
  },
  "language_info": {
   "codemirror_mode": {
    "name": "ipython",
    "version": 3
   },
   "file_extension": ".py",
   "mimetype": "text/x-python",
   "name": "python",
   "nbconvert_exporter": "python",
   "pygments_lexer": "ipython3",
   "version": "3.8.5"
  }
 },
 "nbformat": 4,
 "nbformat_minor": 4
}
