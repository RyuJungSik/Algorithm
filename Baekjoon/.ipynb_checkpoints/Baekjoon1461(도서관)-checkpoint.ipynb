{
 "cells": [
  {
   "cell_type": "code",
   "execution_count": 31,
   "metadata": {},
   "outputs": [
    {
     "name": "stdout",
     "output_type": "stream",
     "text": [
      "6\n",
      "2\n",
      "1 6 9 3 6 7\n",
      "5\n"
     ]
    }
   ],
   "source": [
    "import sys\n",
    "n=int(input())\n",
    "k=int(input())\n",
    "\n",
    "if k>=n:\n",
    "    print(0)\n",
    "    sys.exit()\n",
    "array=list(map(int, input().split()))\n",
    "array.sort()\n",
    "\n",
    "distances=[]\n",
    "for i in range(1, n):\n",
    "    distances.append(array[i]-array[i-1])\n",
    "distances.sort(reverse=True)\n",
    "\n",
    "for i in range(k-1):\n",
    "    distances[i]=0\n",
    "print(sum(distances))\n"
   ]
  },
  {
   "cell_type": "code",
   "execution_count": null,
   "metadata": {},
   "outputs": [],
   "source": []
  }
 ],
 "metadata": {
  "kernelspec": {
   "display_name": "Python 3",
   "language": "python",
   "name": "python3"
  },
  "language_info": {
   "codemirror_mode": {
    "name": "ipython",
    "version": 3
   },
   "file_extension": ".py",
   "mimetype": "text/x-python",
   "name": "python",
   "nbconvert_exporter": "python",
   "pygments_lexer": "ipython3",
   "version": "3.8.5"
  }
 },
 "nbformat": 4,
 "nbformat_minor": 4
}
