{
 "cells": [
  {
   "cell_type": "code",
   "execution_count": 42,
   "metadata": {},
   "outputs": [
    {
     "name": "stdout",
     "output_type": "stream",
     "text": [
      "3 5 10\n",
      "5 3 7\n",
      "10\n"
     ]
    }
   ],
   "source": [
    "n, s, m=map(int, input().split())\n",
    "vs=list(map(int, input().split()))\n",
    "vs.insert(0,0)\n",
    "dp=[[0]*(m+1) for _ in range(n+1)]\n",
    "dp[0][s]=1\n",
    "\n",
    "for i in range(1, len(vs)):\n",
    "    for j in range(m+1):\n",
    "        if dp[i-1][j]==0:\n",
    "            continue\n",
    "        if j-vs[i]>=0:\n",
    "            dp[i][j-vs[i]]=1\n",
    "        if j+vs[i]<=m:\n",
    "            dp[i][j+vs[i]]=1\n",
    "\n",
    "result=-1\n",
    "\n",
    "for i in range(m, -1, -1):\n",
    "    if dp[n][i]==1:\n",
    "        result=i\n",
    "        break\n",
    "print(result)"
   ]
  },
  {
   "cell_type": "code",
   "execution_count": null,
   "metadata": {},
   "outputs": [],
   "source": []
  }
 ],
 "metadata": {
  "kernelspec": {
   "display_name": "Python 3",
   "language": "python",
   "name": "python3"
  },
  "language_info": {
   "codemirror_mode": {
    "name": "ipython",
    "version": 3
   },
   "file_extension": ".py",
   "mimetype": "text/x-python",
   "name": "python",
   "nbconvert_exporter": "python",
   "pygments_lexer": "ipython3",
   "version": "3.8.5"
  }
 },
 "nbformat": 4,
 "nbformat_minor": 4
}
