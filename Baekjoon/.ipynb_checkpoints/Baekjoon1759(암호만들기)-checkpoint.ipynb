{
 "cells": [
  {
   "cell_type": "code",
   "execution_count": 72,
   "metadata": {},
   "outputs": [
    {
     "name": "stdout",
     "output_type": "stream",
     "text": [
      "5 5\n",
      "IEFCJ\n",
      "FHFKC\n",
      "FFALF\n",
      "HFGCF\n",
      "HMCHH\n",
      "10\n"
     ]
    }
   ],
   "source": [
    "dx=[-1,1,0,0]\n",
    "dy=[0,0,-1,1]\n",
    "\n",
    "def bfs(x,y):\n",
    "    global result\n",
    "    q=set()\n",
    "    q.add((x,y,array[x][y]))\n",
    "    \n",
    "    while q:\n",
    "        x,y,step=q.pop()\n",
    "        result=max(result, len(step))\n",
    "        \n",
    "        for i in range(4):\n",
    "            nx=x+dx[i]\n",
    "            ny=y+dy[i]\n",
    "            \n",
    "            if(0<=nx<r and 0<=ny<c and array[nx][ny] not in step):\n",
    "                q.add((nx,ny,step+array[nx][ny]))\n",
    "r,c=map(int, input().split())\n",
    "array=[]\n",
    "for _ in range(r):\n",
    "    array.append(input())\n",
    "result=0\n",
    "bfs(0,0)\n",
    "print(result)"
   ]
  },
  {
   "cell_type": "code",
   "execution_count": null,
   "metadata": {},
   "outputs": [],
   "source": []
  }
 ],
 "metadata": {
  "kernelspec": {
   "display_name": "Python 3",
   "language": "python",
   "name": "python3"
  },
  "language_info": {
   "codemirror_mode": {
    "name": "ipython",
    "version": 3
   },
   "file_extension": ".py",
   "mimetype": "text/x-python",
   "name": "python",
   "nbconvert_exporter": "python",
   "pygments_lexer": "ipython3",
   "version": "3.8.5"
  }
 },
 "nbformat": 4,
 "nbformat_minor": 4
}
