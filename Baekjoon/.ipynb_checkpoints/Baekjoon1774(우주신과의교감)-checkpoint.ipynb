{
 "cells": [
  {
   "cell_type": "code",
   "execution_count": null,
   "metadata": {},
   "outputs": [
    {
     "name": "stdout",
     "output_type": "stream",
     "text": [
      "7 9\n",
      "0 6\n",
      "0 1 1\n",
      "0 2 1\n",
      "0 3 2\n",
      "0 4 3\n",
      "1 5 2\n",
      "2 6 4\n",
      "3 6 2\n",
      "4 6 4\n",
      "5 6 1\n",
      "5\n"
     ]
    }
   ],
   "source": [
    "import heapq\n",
    "from collections import deque\n",
    "INF=int(1e9)\n",
    "\n",
    "\n",
    "            \n",
    "\n",
    "def dijkstra():\n",
    "    q=[]\n",
    "    distance[s]=0\n",
    "    heapq.heappush(q,(s,0))\n",
    "    while q:\n",
    "        now,dist=heapq.heappop(q)\n",
    "        if dist>distance[now]:\n",
    "            continue\n",
    "        for i in adj[now]:\n",
    "            cost=distance[now]+i[1]\n",
    "            if cost<distance[i[0]] and dropped[now][i[0]]==False:\n",
    "                distance[i[0]]=cost\n",
    "                heapq.heappush(q,(i[0],cost))\n",
    "\n",
    "def BFS():\n",
    "    dQ=deque()\n",
    "    dQ.append(d)\n",
    "    while dQ:\n",
    "        now=dQ.popleft()\n",
    "        if now==s:\n",
    "            continue\n",
    "        for i in adj_reverse[now]:\n",
    "            a=distance[now]-i[1]\n",
    "            b=distance[i[0]]\n",
    "            if a==b:\n",
    "                dropped[i[0]][now]=True\n",
    "                dQ.append(i[0])\n",
    "                          \n",
    "while True:\n",
    "    n,m=map(int, input().split())\n",
    "    if n==0:\n",
    "        break\n",
    "    s,d=map(int, input().split())\n",
    "    adj=[[]for _ in range(n)]\n",
    "    adj_reverse=[[]for _ in range(n)]\n",
    "    distance=[INF]*(n)\n",
    "    dropped=[[False]*n for _ in range(n)]\n",
    "    for _ in range(m):\n",
    "        u,v,p=map(int, input().split())\n",
    "        adj[u].append((v,p))\n",
    "        adj_reverse[v].append((u,p))\n",
    "    dijkstra()\n",
    "    BFS()\n",
    "    distance=[INF]*(n)\n",
    "    dijkstra()\n",
    "    if distance[d]==INF:\n",
    "        print(-1)\n",
    "    else:\n",
    "        print(distance[d])\n",
    "\n"
   ]
  },
  {
   "cell_type": "code",
   "execution_count": null,
   "metadata": {},
   "outputs": [],
   "source": []
  },
  {
   "cell_type": "code",
   "execution_count": null,
   "metadata": {},
   "outputs": [],
   "source": []
  }
 ],
 "metadata": {
  "kernelspec": {
   "display_name": "Python 3",
   "language": "python",
   "name": "python3"
  },
  "language_info": {
   "codemirror_mode": {
    "name": "ipython",
    "version": 3
   },
   "file_extension": ".py",
   "mimetype": "text/x-python",
   "name": "python",
   "nbconvert_exporter": "python",
   "pygments_lexer": "ipython3",
   "version": "3.8.5"
  }
 },
 "nbformat": 4,
 "nbformat_minor": 4
}
