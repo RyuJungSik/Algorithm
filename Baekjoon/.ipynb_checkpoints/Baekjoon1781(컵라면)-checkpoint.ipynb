{
 "cells": [
  {
   "cell_type": "code",
   "execution_count": 48,
   "metadata": {},
   "outputs": [
    {
     "name": "stdout",
     "output_type": "stream",
     "text": [
      "3\n",
      "1 1\n",
      "2 50\n",
      "2 100\n",
      "150\n"
     ]
    }
   ],
   "source": [
    "import heapq\n",
    "n=int(input())\n",
    "arr=[]\n",
    "q=[]\n",
    "count=1\n",
    "answer=0\n",
    "for _ in range(n):\n",
    "    a,b=map(int, input().split())\n",
    "    arr.append((a,b))\n",
    "arr.sort(key=lambda data: data[0])\n",
    "\n",
    "for i in range(0, len(arr)):\n",
    "    a=arr[i][0]\n",
    "    heapq.heappush(q, arr[i][1])\n",
    "    if len(q)>a:\n",
    "        heapq.heappop(q)\n",
    "           \n",
    "\n",
    "print(sum(q))\n"
   ]
  },
  {
   "cell_type": "code",
   "execution_count": null,
   "metadata": {},
   "outputs": [],
   "source": []
  },
  {
   "cell_type": "code",
   "execution_count": null,
   "metadata": {},
   "outputs": [],
   "source": []
  }
 ],
 "metadata": {
  "kernelspec": {
   "display_name": "Python 3",
   "language": "python",
   "name": "python3"
  },
  "language_info": {
   "codemirror_mode": {
    "name": "ipython",
    "version": 3
   },
   "file_extension": ".py",
   "mimetype": "text/x-python",
   "name": "python",
   "nbconvert_exporter": "python",
   "pygments_lexer": "ipython3",
   "version": "3.8.5"
  }
 },
 "nbformat": 4,
 "nbformat_minor": 4
}
