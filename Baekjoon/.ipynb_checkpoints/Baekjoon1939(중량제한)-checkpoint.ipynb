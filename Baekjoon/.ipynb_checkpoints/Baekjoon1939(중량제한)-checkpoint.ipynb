{
 "cells": [
  {
   "cell_type": "code",
   "execution_count": 1,
   "metadata": {},
   "outputs": [
    {
     "name": "stdout",
     "output_type": "stream",
     "text": [
      "3 3\n",
      "1 2 2\n",
      "3 1 3\n",
      "2 3 2\n",
      "1 3\n",
      "3\n"
     ]
    }
   ],
   "source": [
    "n,m=map(int, input().split())\n",
    "island=[]\n",
    "weight=[]\n",
    "for _ in range(m):\n",
    "    a,b,c=map(int, input().split())\n",
    "    island.append([a,b])\n",
    "    weight.append(c)\n",
    "s, e=map(int, input().split())\n",
    "\n",
    "minV=1\n",
    "maxV=max(weight)\n",
    "midV=(minV+maxV)//2\n",
    "\n",
    "while min<=max:\n",
    "    "
   ]
  },
  {
   "cell_type": "code",
   "execution_count": null,
   "metadata": {},
   "outputs": [],
   "source": []
  }
 ],
 "metadata": {
  "kernelspec": {
   "display_name": "Python 3",
   "language": "python",
   "name": "python3"
  },
  "language_info": {
   "codemirror_mode": {
    "name": "ipython",
    "version": 3
   },
   "file_extension": ".py",
   "mimetype": "text/x-python",
   "name": "python",
   "nbconvert_exporter": "python",
   "pygments_lexer": "ipython3",
   "version": "3.8.5"
  }
 },
 "nbformat": 4,
 "nbformat_minor": 4
}
