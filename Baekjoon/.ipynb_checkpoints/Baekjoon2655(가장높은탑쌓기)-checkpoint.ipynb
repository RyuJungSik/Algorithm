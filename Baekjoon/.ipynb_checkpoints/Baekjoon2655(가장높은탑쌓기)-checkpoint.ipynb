{
 "cells": [
  {
   "cell_type": "code",
   "execution_count": 44,
   "metadata": {},
   "outputs": [
    {
     "name": "stdout",
     "output_type": "stream",
     "text": [
      "5\n",
      "25 3 4\n",
      "4 4 6\n",
      "9 2 3\n",
      "16 2 5\n",
      "1 5 2\n",
      "3\n",
      "5\n",
      "3\n",
      "1\n"
     ]
    },
    {
     "data": {
      "text/plain": [
       "[None, None, None]"
      ]
     },
     "execution_count": 44,
     "metadata": {},
     "output_type": "execute_result"
    }
   ],
   "source": [
    "n=int(input())\n",
    "array=[]\n",
    "\n",
    "array.append((0,0,0,0))\n",
    "\n",
    "for i in range(1, n+1):\n",
    "    a,b,c=map(int, input().split())\n",
    "    array.append((i,a,b,c))\n",
    "array.sort(key=lambda data: data[3])\n",
    "\n",
    "dp=[0]*(n+1)\n",
    "\n",
    "for i in range(1, n+1):\n",
    "    for j in range(0, i):\n",
    "        if array[i][1]>array[j][1]:\n",
    "            dp[i]=max(dp[i], dp[j]+array[i][2])\n",
    "max_value=max(dp)\n",
    "index=n\n",
    "result=[]\n",
    "\n",
    "while index!=0:\n",
    "    if max_value==dp[index]:\n",
    "        result.append(array[index][0])\n",
    "        max_value-=array[index][2]\n",
    "    index-=1\n",
    "result.reverse()\n",
    "print(len(result))\n",
    "[print(i) for i in result]"
   ]
  },
  {
   "cell_type": "code",
   "execution_count": null,
   "metadata": {},
   "outputs": [],
   "source": []
  }
 ],
 "metadata": {
  "kernelspec": {
   "display_name": "Python 3",
   "language": "python",
   "name": "python3"
  },
  "language_info": {
   "codemirror_mode": {
    "name": "ipython",
    "version": 3
   },
   "file_extension": ".py",
   "mimetype": "text/x-python",
   "name": "python",
   "nbconvert_exporter": "python",
   "pygments_lexer": "ipython3",
   "version": "3.8.5"
  }
 },
 "nbformat": 4,
 "nbformat_minor": 4
}
