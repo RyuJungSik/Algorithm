{
 "cells": [
  {
   "cell_type": "code",
   "execution_count": 48,
   "metadata": {},
   "outputs": [
    {
     "name": "stdout",
     "output_type": "stream",
     "text": [
      "10\n",
      "9857\n"
     ]
    }
   ],
   "source": [
    "DP=[1,0,0,0,0,0,0,0]\n",
    "\n",
    "def nxt(state):\n",
    "    tmp=[0 for _ in range(8)]\n",
    "    tmp[0]=state[1]+state[2]\n",
    "    tmp[1]=state[0]+state[2]+state[3]\n",
    "    tmp[2]=state[0]+state[1]+state[3]+state[4]\n",
    "    tmp[3]=state[1]+state[2]+state[4]+state[5]\n",
    "    tmp[4]=state[2]+state[3]+state[5]+state[7]\n",
    "    tmp[5]=state[3]+state[4]+state[6]\n",
    "    tmp[6]=state[5]+state[7]\n",
    "    tmp[7]=state[4]+state[6]\n",
    "    return tmp\n",
    "\n",
    "for i in range(int(input())):\n",
    "    DP=nxt(DP)\n",
    "print(DP[0]%1000000007)\n",
    "    "
   ]
  },
  {
   "cell_type": "code",
   "execution_count": null,
   "metadata": {},
   "outputs": [],
   "source": []
  }
 ],
 "metadata": {
  "kernelspec": {
   "display_name": "Python 3",
   "language": "python",
   "name": "python3"
  },
  "language_info": {
   "codemirror_mode": {
    "name": "ipython",
    "version": 3
   },
   "file_extension": ".py",
   "mimetype": "text/x-python",
   "name": "python",
   "nbconvert_exporter": "python",
   "pygments_lexer": "ipython3",
   "version": "3.8.5"
  }
 },
 "nbformat": 4,
 "nbformat_minor": 4
}
