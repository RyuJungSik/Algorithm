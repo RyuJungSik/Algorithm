{
 "cells": [
  {
   "cell_type": "code",
   "execution_count": 46,
   "metadata": {},
   "outputs": [
    {
     "name": "stdout",
     "output_type": "stream",
     "text": [
      "2 4\n",
      "0011\n",
      "0011\n",
      "4\n"
     ]
    }
   ],
   "source": [
    "n,m=map(int, input().split())\n",
    "arr=[list(input()) for _ in range(n)]\n",
    "DP=[[0]*(m+1) for _ in range(n+1)]\n",
    "\n",
    "for i in range(1,n+1):\n",
    "    for j in range(1,m+1):\n",
    "        DP[i][j]=int(arr[i-1][j-1])+DP[i][j-1]+DP[i-1][j]-DP[i-1][j-1]\n",
    "ans=0\n",
    "for i in range(1,min(n,m)+1):\n",
    "    for j in range(1,n-i+2):\n",
    "        for k in range(1,m-i+2):\n",
    "#             print(i,j,k)\n",
    "#             print(i,j+i-1, k+i-1)\n",
    "            nextJ=j+i-1\n",
    "            nextK=k+i-1\n",
    "            sqSum=DP[nextJ][nextK]-DP[j-1][nextK]-DP[nextJ][k-1]+DP[j-1][k-1]\n",
    "            if sqSum==(i*i):\n",
    "                ans=sqSum\n",
    "                break\n",
    "        \n",
    "print(ans)\n"
   ]
  }
 ],
 "metadata": {
  "kernelspec": {
   "display_name": "Python 3",
   "language": "python",
   "name": "python3"
  },
  "language_info": {
   "codemirror_mode": {
    "name": "ipython",
    "version": 3
   },
   "file_extension": ".py",
   "mimetype": "text/x-python",
   "name": "python",
   "nbconvert_exporter": "python",
   "pygments_lexer": "ipython3",
   "version": "3.8.5"
  }
 },
 "nbformat": 4,
 "nbformat_minor": 4
}
