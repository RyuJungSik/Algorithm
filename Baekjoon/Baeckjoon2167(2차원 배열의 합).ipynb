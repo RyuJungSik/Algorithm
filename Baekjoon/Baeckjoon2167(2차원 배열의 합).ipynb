{
 "cells": [
  {
   "cell_type": "code",
   "execution_count": 30,
   "metadata": {},
   "outputs": [
    {
     "name": "stdout",
     "output_type": "stream",
     "text": [
      "2 3\n",
      "1 2 4\n",
      "8 16 32\n",
      "3\n",
      "1 1 2 3\n",
      "63\n",
      "1 2 1 2\n",
      "2\n",
      "1 3 2 3\n",
      "36\n"
     ]
    }
   ],
   "source": [
    "from copy import deepcopy\n",
    "\n",
    "n,m=map(int, input().split())\n",
    "arr=[list(map(int, input().split())) for _ in range(n)]\n",
    "DP=[[0]*(m+1) for _ in range(n+1)]\n",
    "\n",
    "for i in range(1,n+1):\n",
    "    for j in range(1,m+1):\n",
    "        DP[i][j]=DP[i][j-1]+DP[i-1][j]-DP[i-1][j-1]+arr[i-1][j-1]\n",
    "k=int(input())\n",
    "\n",
    "for _ in range(k):\n",
    "    a,b,c,d=map(int, input().split())\n",
    "    ans=DP[c][d]-DP[a-1][d]-DP[c][b-1]+DP[a-1][b-1]\n",
    "    print(ans)\n"
   ]
  },
  {
   "cell_type": "code",
   "execution_count": null,
   "metadata": {},
   "outputs": [],
   "source": []
  }
 ],
 "metadata": {
  "kernelspec": {
   "display_name": "Python 3",
   "language": "python",
   "name": "python3"
  },
  "language_info": {
   "codemirror_mode": {
    "name": "ipython",
    "version": 3
   },
   "file_extension": ".py",
   "mimetype": "text/x-python",
   "name": "python",
   "nbconvert_exporter": "python",
   "pygments_lexer": "ipython3",
   "version": "3.8.5"
  }
 },
 "nbformat": 4,
 "nbformat_minor": 4
}
