{
 "cells": [
  {
   "cell_type": "code",
   "execution_count": null,
   "metadata": {},
   "outputs": [],
   "source": [
    "def count(mask,words):\n",
    "    cnt=0\n",
    "    for word in words:\n",
    "        if (word & ((1<<26)-1-mask))==0:\n",
    "            cnt+=1\n",
    "    return cnt\n",
    "    \n",
    "\n",
    "def go(index,k,mask,words):\n",
    "    if k<0:\n",
    "        return 0\n",
    "    if index==26:\n",
    "        return count(mask,words)\n",
    "    ans=0\n",
    "    t1=go(index+1,k-1,mask|(1<<index),words)\n",
    "    if ans<t1:\n",
    "        ans=t1\n",
    "    if index not in [ord('a')-ord('a'),ord('n')-ord('a'),ord('t')-ord('a'),ord('i')-ord('a'),ord('c')-ord('a')]:\n",
    "        t2=go(index+1,k,mask,words)\n",
    "        if ans<t2:\n",
    "            ans=t2\n",
    "    return ans\n",
    "\n",
    "\n",
    "n,m=map(int,input().split())\n",
    "words=[0]*n\n",
    "for i in range(n):\n",
    "    s=input()\n",
    "    for x in s:\n",
    "        words[i]|=((1<<(ord(x)-ord('a'))))\n",
    "print(go(0,m,0,words))"
   ]
  }
 ],
 "metadata": {
  "kernelspec": {
   "display_name": "Python 3",
   "language": "python",
   "name": "python3"
  },
  "language_info": {
   "codemirror_mode": {
    "name": "ipython",
    "version": 3
   },
   "file_extension": ".py",
   "mimetype": "text/x-python",
   "name": "python",
   "nbconvert_exporter": "python",
   "pygments_lexer": "ipython3",
   "version": "3.8.5"
  }
 },
 "nbformat": 4,
 "nbformat_minor": 4
}
