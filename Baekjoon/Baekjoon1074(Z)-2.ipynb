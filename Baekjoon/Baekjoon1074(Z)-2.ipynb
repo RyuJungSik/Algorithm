{
 "cells": [
  {
   "cell_type": "code",
   "execution_count": 24,
   "metadata": {},
   "outputs": [
    {
     "name": "stdout",
     "output_type": "stream",
     "text": [
      "3 7 7\n",
      "0 7 0 7\n",
      "-1\n",
      "4 7 4 7\n",
      "47\n",
      "6 7 6 7\n",
      "59\n",
      "7 7 7 7\n",
      "62\n",
      "63\n"
     ]
    }
   ],
   "source": [
    "n,r,c=map(int, input().split())\n",
    "\n",
    "arr=[[0]*n for _ in range(n)]\n",
    "num=-1\n",
    "def makeZ(r1, r2, c1, c2 ):\n",
    "    global num\n",
    "    midR=(r1+r2)//2\n",
    "    midC=(c1+c2)//2\n",
    "    if r1==r2 or c1==c2:\n",
    "        if c1==r and r1==c:\n",
    "            print(num+1)\n",
    "        return\n",
    "    if r1<=c<=midR and c1<=r<=midC:\n",
    "        makeZ(r1,midR,c1,midC)\n",
    "    else:\n",
    "        num+=(midR-r1+1)**2\n",
    "    if midR+1<=c<=r2 and c1<=r<=midC:\n",
    "        makeZ(midR+1,r2,c1,midC)\n",
    "    else:\n",
    "        num+=(r2-(midR+1)+1)**2\n",
    "    if r1<=c<=midR and midC+1<=r<=c2:\n",
    "        makeZ(r1,midR,midC+1,c2)\n",
    "    else:\n",
    "        num+=(midR-r1+1)**2\n",
    "    if midR+1<=c<=r2 and midC+1<=r<=c2:\n",
    "        makeZ(midR+1,r2,midC+1,c2)\n",
    "    else:\n",
    "        num+=(r2-(midR+1)+1)**2\n",
    "    \n",
    "    \n",
    "makeZ(0,(2**n)-1,0,(2**n)-1)\n"
   ]
  },
  {
   "cell_type": "code",
   "execution_count": null,
   "metadata": {},
   "outputs": [],
   "source": []
  },
  {
   "cell_type": "code",
   "execution_count": null,
   "metadata": {},
   "outputs": [],
   "source": []
  }
 ],
 "metadata": {
  "kernelspec": {
   "display_name": "Python 3",
   "language": "python",
   "name": "python3"
  },
  "language_info": {
   "codemirror_mode": {
    "name": "ipython",
    "version": 3
   },
   "file_extension": ".py",
   "mimetype": "text/x-python",
   "name": "python",
   "nbconvert_exporter": "python",
   "pygments_lexer": "ipython3",
   "version": "3.8.5"
  }
 },
 "nbformat": 4,
 "nbformat_minor": 4
}
