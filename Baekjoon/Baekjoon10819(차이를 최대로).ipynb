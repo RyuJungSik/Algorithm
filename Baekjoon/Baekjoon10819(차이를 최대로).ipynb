{
 "cells": [
  {
   "cell_type": "code",
   "execution_count": 1,
   "metadata": {},
   "outputs": [
    {
     "name": "stdout",
     "output_type": "stream",
     "text": [
      "6\n",
      "20 1 15 8 4 10\n",
      "62\n"
     ]
    }
   ],
   "source": [
    "from itertools import permutations\n",
    "\n",
    "def makeValue(arr):\n",
    "    sumValue=0\n",
    "    for i in range(0, len(arr)-1):\n",
    "        sumValue+=abs(arr[i]-arr[i+1])\n",
    "    return sumValue\n",
    "\n",
    "n=int(input())\n",
    "arr=list(map(int, input().split()))\n",
    "answer=0\n",
    "per=list(permutations(arr,n))\n",
    "for i in per:\n",
    "    answer=max(answer,makeValue(i))\n",
    "print(answer)"
   ]
  },
  {
   "cell_type": "code",
   "execution_count": null,
   "metadata": {},
   "outputs": [],
   "source": []
  }
 ],
 "metadata": {
  "kernelspec": {
   "display_name": "Python 3",
   "language": "python",
   "name": "python3"
  },
  "language_info": {
   "codemirror_mode": {
    "name": "ipython",
    "version": 3
   },
   "file_extension": ".py",
   "mimetype": "text/x-python",
   "name": "python",
   "nbconvert_exporter": "python",
   "pygments_lexer": "ipython3",
   "version": "3.8.5"
  }
 },
 "nbformat": 4,
 "nbformat_minor": 4
}
