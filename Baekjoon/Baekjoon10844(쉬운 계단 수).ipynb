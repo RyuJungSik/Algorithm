{
 "cells": [
  {
   "cell_type": "code",
   "execution_count": 57,
   "metadata": {},
   "outputs": [
    {
     "name": "stdout",
     "output_type": "stream",
     "text": [
      "2\n",
      "17\n"
     ]
    }
   ],
   "source": [
    "n=int(input())\n",
    "maxV=101\n",
    "answer=0\n",
    "dp=[[0 for _ in range(10)] for _ in range(maxV)]\n",
    "for i in range(1,10):\n",
    "    dp[1][i]=1\n",
    "\n",
    "for i in range(2,maxV):\n",
    "    for j in range(0,10):\n",
    "        if j ==0:\n",
    "            dp[i][j]+=dp[i-1][j+1]%1000000000\n",
    "        elif j==9:\n",
    "            dp[i][j]+=dp[i-1][j-1]%1000000000\n",
    "        else:\n",
    "            dp[i][j]+=(dp[i-1][j-1]+dp[i-1][j+1])%1000000000\n",
    "\n",
    "\n",
    "for i in range(0,10):\n",
    "    answer+=dp[n][i]%1000000000\n",
    "print(answer%1000000000)"
   ]
  }
 ],
 "metadata": {
  "kernelspec": {
   "display_name": "Python 3",
   "language": "python",
   "name": "python3"
  },
  "language_info": {
   "codemirror_mode": {
    "name": "ipython",
    "version": 3
   },
   "file_extension": ".py",
   "mimetype": "text/x-python",
   "name": "python",
   "nbconvert_exporter": "python",
   "pygments_lexer": "ipython3",
   "version": "3.8.5"
  }
 },
 "nbformat": 4,
 "nbformat_minor": 4
}
