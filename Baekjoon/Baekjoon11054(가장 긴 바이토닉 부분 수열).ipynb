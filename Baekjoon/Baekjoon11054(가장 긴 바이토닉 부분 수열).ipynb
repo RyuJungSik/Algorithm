{
 "cells": [
  {
   "cell_type": "code",
   "execution_count": 7,
   "metadata": {},
   "outputs": [
    {
     "name": "stdout",
     "output_type": "stream",
     "text": [
      "6\n",
      "10 30 10 20 20 10\n",
      "4 [0, 0, 0, 0, 2, 1]\n",
      "3 [0, 0, 0, 1, 2, 1]\n",
      "3 [0, 0, 0, 2, 2, 1]\n",
      "2 [0, 0, 1, 2, 2, 1]\n",
      "2 [0, 0, 1, 2, 2, 1]\n",
      "2 [0, 0, 1, 2, 2, 1]\n",
      "1 [0, 2, 1, 2, 2, 1]\n",
      "1 [0, 3, 1, 2, 2, 1]\n",
      "1 [0, 3, 1, 2, 2, 1]\n",
      "1 [0, 3, 1, 2, 2, 1]\n",
      "0 [1, 3, 1, 2, 2, 1]\n",
      "0 [1, 3, 1, 2, 2, 1]\n",
      "0 [1, 3, 1, 2, 2, 1]\n",
      "0 [1, 3, 1, 2, 2, 1]\n",
      "0 [1, 3, 1, 2, 2, 1]\n",
      "3\n"
     ]
    }
   ],
   "source": [
    "n = int(input())\n",
    "a = list(map(int,input().split()))\n",
    "d = [0]*n\n",
    "for i in range(n-1, -1, -1):\n",
    "    d[i] = 1\n",
    "    for j in range(i+1, n):\n",
    "        if a[i] > a[j] and d[i] < d[j]+1:\n",
    "            d[i] = d[j]+1\n",
    "        print(i, d)\n",
    "print(max(d))\n"
   ]
  },
  {
   "cell_type": "code",
   "execution_count": null,
   "metadata": {},
   "outputs": [],
   "source": []
  }
 ],
 "metadata": {
  "kernelspec": {
   "display_name": "Python 3",
   "language": "python",
   "name": "python3"
  },
  "language_info": {
   "codemirror_mode": {
    "name": "ipython",
    "version": 3
   },
   "file_extension": ".py",
   "mimetype": "text/x-python",
   "name": "python",
   "nbconvert_exporter": "python",
   "pygments_lexer": "ipython3",
   "version": "3.8.5"
  }
 },
 "nbformat": 4,
 "nbformat_minor": 4
}
