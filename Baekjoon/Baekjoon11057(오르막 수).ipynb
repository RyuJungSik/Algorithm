{
 "cells": [
  {
   "cell_type": "code",
   "execution_count": null,
   "metadata": {},
   "outputs": [],
   "source": [
    "n=int(input())\n",
    "\n",
    "dp=[[ 0 for _ in range(10)] for _ in range(n+1)]\n",
    "for i in range(10):\n",
    "    dp[1][i]=1\n",
    "\n",
    "for i in range(1, n+1):\n",
    "    for j in range(0,10):\n",
    "        for k in range(0,j+1):\n",
    "            dp[i][j]+=dp[i-1][k]%10007\n",
    "print(sum(dp[n])%10007)"
   ]
  }
 ],
 "metadata": {
  "kernelspec": {
   "display_name": "Python 3",
   "language": "python",
   "name": "python3"
  },
  "language_info": {
   "codemirror_mode": {
    "name": "ipython",
    "version": 3
   },
   "file_extension": ".py",
   "mimetype": "text/x-python",
   "name": "python",
   "nbconvert_exporter": "python",
   "pygments_lexer": "ipython3",
   "version": "3.8.5"
  }
 },
 "nbformat": 4,
 "nbformat_minor": 4
}
