{
 "cells": [
  {
   "cell_type": "code",
   "execution_count": 40,
   "metadata": {},
   "outputs": [
    {
     "name": "stdout",
     "output_type": "stream",
     "text": [
      "100\n",
      "5\n",
      "0 1 2 3 4\n",
      "0\n"
     ]
    }
   ],
   "source": [
    "broken=[False]*10\n",
    "tg=int(input())\n",
    "n=int(input())\n",
    "if n!=0:\n",
    "    arr=list(map(int, input().split()))\n",
    "else:\n",
    "    arr=[]\n",
    "\n",
    "def checked(c):\n",
    "    s=str(c)\n",
    "    flag=True\n",
    "    for i in s:\n",
    "        if int(i) in arr:\n",
    "            return False\n",
    "    return True\n",
    "\n",
    "for i in arr:\n",
    "    broken[i]=True\n",
    "    \n",
    "ans=abs(100-tg)\n",
    "\n",
    "for i in range(1000000):\n",
    "    if checked(i)==False:\n",
    "        continue\n",
    "    ans=min(ans,len(str(i))+abs(tg-i))\n",
    "print(ans)"
   ]
  },
  {
   "cell_type": "code",
   "execution_count": null,
   "metadata": {},
   "outputs": [],
   "source": []
  }
 ],
 "metadata": {
  "kernelspec": {
   "display_name": "Python 3",
   "language": "python",
   "name": "python3"
  },
  "language_info": {
   "codemirror_mode": {
    "name": "ipython",
    "version": 3
   },
   "file_extension": ".py",
   "mimetype": "text/x-python",
   "name": "python",
   "nbconvert_exporter": "python",
   "pygments_lexer": "ipython3",
   "version": "3.8.5"
  }
 },
 "nbformat": 4,
 "nbformat_minor": 4
}
