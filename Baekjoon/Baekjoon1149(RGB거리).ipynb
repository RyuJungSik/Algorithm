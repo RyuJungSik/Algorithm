{
 "cells": [
  {
   "cell_type": "code",
   "execution_count": null,
   "metadata": {},
   "outputs": [],
   "source": [
    "n=int(input())\n",
    "p=[]\n",
    "for _ in range(n):\n",
    "    p.append(list(map(int,input().split())))\n",
    "dp=[[1000 for _ in range(3)] for _  in range(n)]\n",
    "for i in range(3):\n",
    "    dp[0][i]=p[0][i]\n",
    "    \n",
    "for i in range(1,n):\n",
    "    for j in range(3):\n",
    "        dp[i][j]=min(dp[i-1][(j+1)%3],dp[i-1][(j+2)%3])+p[i][j]\n",
    "print(min(dp[n-1]))"
   ]
  }
 ],
 "metadata": {
  "kernelspec": {
   "display_name": "Python 3",
   "language": "python",
   "name": "python3"
  },
  "language_info": {
   "codemirror_mode": {
    "name": "ipython",
    "version": 3
   },
   "file_extension": ".py",
   "mimetype": "text/x-python",
   "name": "python",
   "nbconvert_exporter": "python",
   "pygments_lexer": "ipython3",
   "version": "3.8.5"
  }
 },
 "nbformat": 4,
 "nbformat_minor": 4
}
