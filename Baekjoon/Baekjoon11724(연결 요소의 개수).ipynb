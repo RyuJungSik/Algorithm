{
 "cells": [
  {
   "cell_type": "code",
   "execution_count": null,
   "metadata": {},
   "outputs": [],
   "source": [
    "def dfs(index, value):\n",
    "    global visited\n",
    "    if index+1==n:\n",
    "        return\n",
    "    else:\n",
    "        for i in graph[value]:\n",
    "            if visited[i]==False:\n",
    "                visited[i]=True\n",
    "                dfs(index+1,i)\n",
    "\n",
    "n,m=map(int, input().split())\n",
    "answer=0\n",
    "visited=[False]*(n+1)\n",
    "visited[0]=True\n",
    "graph=[[] for _ in range(n+1)]\n",
    "for _ in range(m):\n",
    "    a,b=map(int, input().split())\n",
    "    graph[a].append(b)\n",
    "    graph[b].append(a)\n",
    "\n",
    "for i in range(1,n+1):\n",
    "    if visited[i]==True:\n",
    "        continue\n",
    "    visited[i]=True\n",
    "    dfs(0,i)\n",
    "    answer+=1\n",
    "    \n",
    "print(answer)"
   ]
  }
 ],
 "metadata": {
  "kernelspec": {
   "display_name": "Python 3",
   "language": "python",
   "name": "python3"
  },
  "language_info": {
   "codemirror_mode": {
    "name": "ipython",
    "version": 3
   },
   "file_extension": ".py",
   "mimetype": "text/x-python",
   "name": "python",
   "nbconvert_exporter": "python",
   "pygments_lexer": "ipython3",
   "version": "3.8.5"
  }
 },
 "nbformat": 4,
 "nbformat_minor": 4
}
