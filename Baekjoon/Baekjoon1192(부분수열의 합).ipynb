{
 "cells": [
  {
   "cell_type": "code",
   "execution_count": 7,
   "metadata": {},
   "outputs": [
    {
     "name": "stdout",
     "output_type": "stream",
     "text": [
      "5 0\n",
      "-7 -3 -2 5 8\n",
      "[0, 1, 1, 1, 0]\n",
      "1\n"
     ]
    }
   ],
   "source": [
    "n,s=map(int,input().split())\n",
    "arr=list(map(int, input().split()))\n",
    "answer=0\n",
    "bit=[0]*n\n",
    "\n",
    "def dfs(index, bit):\n",
    "    global answer\n",
    "    if index==n:\n",
    "        tmp=0\n",
    "        flag=False\n",
    "        for i in range(n):\n",
    "            if bit[i]==1:\n",
    "                tmp+=arr[i]\n",
    "                flag=True\n",
    "        if tmp==s and flag:\n",
    "            answer+=1\n",
    "        return\n",
    "    else:\n",
    "        dfs(index+1, bit)\n",
    "        bit[index]=1\n",
    "        dfs(index+1, bit)\n",
    "        bit[index]=0\n",
    "\n",
    "dfs(0,bit)\n",
    "print(answer)"
   ]
  }
 ],
 "metadata": {
  "kernelspec": {
   "display_name": "Python 3",
   "language": "python",
   "name": "python3"
  },
  "language_info": {
   "codemirror_mode": {
    "name": "ipython",
    "version": 3
   },
   "file_extension": ".py",
   "mimetype": "text/x-python",
   "name": "python",
   "nbconvert_exporter": "python",
   "pygments_lexer": "ipython3",
   "version": "3.8.5"
  }
 },
 "nbformat": 4,
 "nbformat_minor": 4
}
