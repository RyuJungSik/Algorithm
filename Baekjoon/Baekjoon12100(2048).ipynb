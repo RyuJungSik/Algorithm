{
 "cells": [
  {
   "cell_type": "code",
   "execution_count": 135,
   "metadata": {},
   "outputs": [
    {
     "name": "stdout",
     "output_type": "stream",
     "text": [
      "3\n",
      "8 4 4\n",
      "2 2 0\n",
      "4 2 4\n",
      "[[8, 4, 4], [2, 2, 0], [4, 2, 4]]\n",
      "[[0, 8, 8], [0, 0, 4], [4, 2, 4]]\n"
     ]
    }
   ],
   "source": [
    "n=int(input())\n",
    "\n",
    "arr=[]\n",
    "answer=0\n",
    "def right():\n",
    "    for i in range(n):\n",
    "        tmp=[]\n",
    "        tmp2=[]\n",
    "        for j in range(n):\n",
    "            if arr[i][j]!=0:\n",
    "                tmp.append(arr[i][j])\n",
    "        \n",
    "        for k in range(len(tmp)-2,-1,-1):\n",
    "            if tmp[k]==tmp[k+1]:\n",
    "                tmp[k+1]*=2\n",
    "                tmp[k]=0\n",
    "        for j in tmp:\n",
    "            if j!=0:\n",
    "                tmp2.append(j)\n",
    "        for j in range(n-len(tmp2)):\n",
    "            tmp2.insert(0,0)\n",
    "        for j in range(n):\n",
    "            arr[i][j]=tmp2[j]\n",
    "            \n",
    "                \n",
    "\n",
    "# def dfs(index):\n",
    "#     global answer\n",
    "#     if index==5:\n",
    "#         answer=max(answer,max(map(max, arr)))\n",
    "#         return\n",
    "#     else:\n",
    "        \n",
    "        \n",
    "        \n",
    "for _ in range(n):\n",
    "    arr.append(list(map(int, input().split())))\n",
    "print(arr)\n",
    "right()\n",
    "print(arr)\n",
    "    \n",
    "    \n",
    "# for _ in range(5):\n",
    "#     dfs(0)"
   ]
  },
  {
   "cell_type": "code",
   "execution_count": null,
   "metadata": {},
   "outputs": [],
   "source": []
  },
  {
   "cell_type": "code",
   "execution_count": null,
   "metadata": {},
   "outputs": [],
   "source": []
  }
 ],
 "metadata": {
  "kernelspec": {
   "display_name": "Python 3",
   "language": "python",
   "name": "python3"
  },
  "language_info": {
   "codemirror_mode": {
    "name": "ipython",
    "version": 3
   },
   "file_extension": ".py",
   "mimetype": "text/x-python",
   "name": "python",
   "nbconvert_exporter": "python",
   "pygments_lexer": "ipython3",
   "version": "3.8.5"
  }
 },
 "nbformat": 4,
 "nbformat_minor": 4
}
