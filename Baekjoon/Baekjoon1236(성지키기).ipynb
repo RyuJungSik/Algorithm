{
 "cells": [
  {
   "cell_type": "code",
   "execution_count": 92,
   "metadata": {},
   "outputs": [
    {
     "name": "stdout",
     "output_type": "stream",
     "text": [
      "4 4\n",
      "..x.\n",
      "xxxx\n",
      "....\n",
      "....\n",
      "2\n"
     ]
    }
   ],
   "source": [
    "n, m=map(int, input().split())\n",
    "arr=[]\n",
    "col=set()\n",
    "row=set()\n",
    "for _ in range(n):\n",
    "    arr.append(list(input()))\n",
    "\n",
    "for i in range(0,n):\n",
    "    for j in range(0,m):\n",
    "        if arr[i][j]=='X':\n",
    "            col.add(i)\n",
    "            row.add(j)\n",
    "print(max(n-len(col), m-len(row)))"
   ]
  },
  {
   "cell_type": "code",
   "execution_count": null,
   "metadata": {},
   "outputs": [],
   "source": []
  },
  {
   "cell_type": "code",
   "execution_count": null,
   "metadata": {},
   "outputs": [],
   "source": []
  }
 ],
 "metadata": {
  "kernelspec": {
   "display_name": "Python 3",
   "language": "python",
   "name": "python3"
  },
  "language_info": {
   "codemirror_mode": {
    "name": "ipython",
    "version": 3
   },
   "file_extension": ".py",
   "mimetype": "text/x-python",
   "name": "python",
   "nbconvert_exporter": "python",
   "pygments_lexer": "ipython3",
   "version": "3.8.5"
  }
 },
 "nbformat": 4,
 "nbformat_minor": 4
}
