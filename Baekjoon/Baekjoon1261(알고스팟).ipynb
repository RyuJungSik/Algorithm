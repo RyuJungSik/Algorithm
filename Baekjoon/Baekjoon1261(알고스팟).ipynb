{
 "cells": [
  {
   "cell_type": "code",
   "execution_count": null,
   "metadata": {},
   "outputs": [],
   "source": [
    "from collections import deque\n",
    "\n",
    "m,n=map(int,input().split())\n",
    "board=[]\n",
    "visited=[[-1]*m for _ in range(n)]\n",
    "dx=[1,-1,0,0]\n",
    "dy=[0,0,1,-1]\n",
    "for _ in range(n):\n",
    "    board.append(list(map(int,list(input()))))\n",
    "\n",
    "def bfs():\n",
    "    q=deque()\n",
    "    q.append((0,0))\n",
    "    visited[0][0]=0\n",
    "    while q:\n",
    "        now=q.popleft()\n",
    "        nowX,nowY=now[0],now[1]\n",
    "        for i in range(4):\n",
    "            nextX=nowX+dx[i]\n",
    "            nextY=nowY+dy[i]\n",
    "            if 0<=nextX<n and 0<=nextY<m and visited[nextX][nextY]==-1:\n",
    "                if board[nextX][nextY]==0:\n",
    "                    visited[nextX][nextY]=visited[nowX][nowY]\n",
    "                    q.appendleft((nextX,nextY))\n",
    "                else:\n",
    "                    visited[nextX][nextY]=visited[nowX][nowY]+1\n",
    "                    q.append((nextX,nextY))\n",
    "                \n",
    "bfs()               \n",
    "print(visited[n-1][m-1])"
   ]
  }
 ],
 "metadata": {
  "kernelspec": {
   "display_name": "Python 3",
   "language": "python",
   "name": "python3"
  }
 },
 "nbformat": 4,
 "nbformat_minor": 4
}
