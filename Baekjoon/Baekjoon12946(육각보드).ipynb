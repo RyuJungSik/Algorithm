{
 "cells": [
  {
   "cell_type": "code",
   "execution_count": 15,
   "metadata": {},
   "outputs": [
    {
     "name": "stdout",
     "output_type": "stream",
     "text": [
      "4\n",
      "XXXX\n",
      "XXXX\n",
      "XXXX\n",
      "XXXX\n",
      "3\n"
     ]
    }
   ],
   "source": [
    "#!/usr/bin/python3\n",
    "import sys\n",
    "sys.setrecursionlimit(1000000)\n",
    "n = int(input())\n",
    "a = [input() for _ in range(n)]\n",
    "color = [[-1]*n for _ in range(n)]\n",
    "dx = [-1,-1,0,0,1,1]\n",
    "dy = [0,1,-1,1,-1,0]\n",
    "ans = 0\n",
    "\n",
    "def dfs(x, y, c):\n",
    "    global ans\n",
    "    color[x][y] = c\n",
    "    ans = max(ans, 1)\n",
    "    for k in range(6):\n",
    "        nx, ny = x+dx[k], y+dy[k]\n",
    "        if 0 <= nx < n and 0 <= ny < n:\n",
    "            if a[nx][ny] == 'X':\n",
    "                if color[nx][ny] == -1:\n",
    "                    dfs(nx, ny, 1-c)\n",
    "                ans = max(ans, 2)\n",
    "                if color[nx][ny] == c:\n",
    "                    ans = max(ans, 3)\n",
    "\n",
    "\n",
    "for i in range(n):\n",
    "    for j in range(n):\n",
    "        if a[i][j] == 'X' and color[i][j] == -1:\n",
    "            dfs(i, j, 0)\n",
    "\n",
    "print(ans)"
   ]
  },
  {
   "cell_type": "code",
   "execution_count": null,
   "metadata": {},
   "outputs": [],
   "source": []
  }
 ],
 "metadata": {
  "kernelspec": {
   "display_name": "Python 3",
   "language": "python",
   "name": "python3"
  },
  "language_info": {
   "codemirror_mode": {
    "name": "ipython",
    "version": 3
   },
   "file_extension": ".py",
   "mimetype": "text/x-python",
   "name": "python",
   "nbconvert_exporter": "python",
   "pygments_lexer": "ipython3",
   "version": "3.8.5"
  }
 },
 "nbformat": 4,
 "nbformat_minor": 4
}
