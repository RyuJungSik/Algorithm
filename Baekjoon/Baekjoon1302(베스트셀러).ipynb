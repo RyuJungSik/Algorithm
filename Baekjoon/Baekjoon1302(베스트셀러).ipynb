{
 "cells": [
  {
   "cell_type": "code",
   "execution_count": 72,
   "metadata": {},
   "outputs": [
    {
     "name": "stdout",
     "output_type": "stream",
     "text": [
      "5\n",
      "c\n",
      "c\n",
      "a\n",
      "a\n",
      "d\n",
      "a\n"
     ]
    }
   ],
   "source": [
    "n=int(input())\n",
    "\n",
    "books=dict()\n",
    "m=0\n",
    "answer=[]\n",
    "for _ in range(n):\n",
    "    name=input()\n",
    "    if name not in books:\n",
    "        books[name]=1\n",
    "    else:\n",
    "        books[name]=books[name]+1\n",
    "\n",
    "num=max(books.values())\n",
    "for name, count in books.items():\n",
    "    if(num==count):\n",
    "        answer.append(name)\n",
    "print(sorted(answer)[0])"
   ]
  },
  {
   "cell_type": "code",
   "execution_count": null,
   "metadata": {},
   "outputs": [],
   "source": []
  },
  {
   "cell_type": "code",
   "execution_count": null,
   "metadata": {},
   "outputs": [],
   "source": []
  },
  {
   "cell_type": "code",
   "execution_count": null,
   "metadata": {},
   "outputs": [],
   "source": []
  }
 ],
 "metadata": {
  "kernelspec": {
   "display_name": "Python 3",
   "language": "python",
   "name": "python3"
  },
  "language_info": {
   "codemirror_mode": {
    "name": "ipython",
    "version": 3
   },
   "file_extension": ".py",
   "mimetype": "text/x-python",
   "name": "python",
   "nbconvert_exporter": "python",
   "pygments_lexer": "ipython3",
   "version": "3.8.5"
  }
 },
 "nbformat": 4,
 "nbformat_minor": 4
}
