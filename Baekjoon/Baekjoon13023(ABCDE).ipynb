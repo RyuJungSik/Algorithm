{
 "cells": [
  {
   "cell_type": "code",
   "execution_count": null,
   "metadata": {},
   "outputs": [],
   "source": [
    "import sys\n",
    "n,m=map(int, input().split())\n",
    "edge=[]\n",
    "a=[[False]*n for _ in range(n)]\n",
    "g=[[]for _ in range(n)]\n",
    "\n",
    "for _ in range(m):\n",
    "    u,v=map(int, input().split())\n",
    "    edge.append((u,v))\n",
    "    edge.append((v,u))\n",
    "    a[u][v]=a[v][u]=True\n",
    "    g[u].append(v)\n",
    "    g[v].append(u)\n",
    "m*=2\n",
    "\n",
    "for i in range(m):\n",
    "    for j in range(m):\n",
    "        a2,b=edge[i]\n",
    "        c,d=edge[j]\n",
    "        if a2==b or a2==c or a2==d or b==c or b==d or c==d:\n",
    "            continue\n",
    "        if not a[b][c]:\n",
    "            continue\n",
    "        for e in g[d]:\n",
    "            if a2==e or b==e or c==e or d==e:\n",
    "                continue\n",
    "            print(1)\n",
    "            sys.exit(0)\n",
    "print(0)"
   ]
  }
 ],
 "metadata": {
  "kernelspec": {
   "display_name": "Python 3",
   "language": "python",
   "name": "python3"
  },
  "language_info": {
   "codemirror_mode": {
    "name": "ipython",
    "version": 3
   },
   "file_extension": ".py",
   "mimetype": "text/x-python",
   "name": "python",
   "nbconvert_exporter": "python",
   "pygments_lexer": "ipython3",
   "version": "3.8.5"
  }
 },
 "nbformat": 4,
 "nbformat_minor": 4
}
