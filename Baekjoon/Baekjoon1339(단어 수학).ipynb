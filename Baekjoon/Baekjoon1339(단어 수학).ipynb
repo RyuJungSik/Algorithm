{
 "cells": [
  {
   "cell_type": "code",
   "execution_count": null,
   "metadata": {},
   "outputs": [],
   "source": [
    "n=int(input())\n",
    "arr=[]\n",
    "answer=0\n",
    "visited=[False]*10\n",
    "def go(z,tmp):\n",
    "    global answer\n",
    "    if z==10:\n",
    "        num=0\n",
    "        for i in arr:\n",
    "            t=\"\"\n",
    "            for j in i:\n",
    "                t+=str(tmp[ord(j)-ord('A')])\n",
    "            num+=int(t)\n",
    "        answer=max(answer,num)\n",
    "        return\n",
    "    else:\n",
    "        for i in range(10):\n",
    "            if visited[i]==False:\n",
    "                visited[i]=True\n",
    "                go(z+1,tmp+[i])\n",
    "                visited[i]=False\n",
    "\n",
    "\n",
    "for _ in range(n):\n",
    "    arr.append(input())\n",
    "\n",
    "\n",
    "go(0,[])\n",
    "print(answer)"
   ]
  }
 ],
 "metadata": {
  "kernelspec": {
   "display_name": "Python 3",
   "language": "python",
   "name": "python3"
  },
  "language_info": {
   "codemirror_mode": {
    "name": "ipython",
    "version": 3
   },
   "file_extension": ".py",
   "mimetype": "text/x-python",
   "name": "python",
   "nbconvert_exporter": "python",
   "pygments_lexer": "ipython3",
   "version": "3.8.5"
  }
 },
 "nbformat": 4,
 "nbformat_minor": 4
}
