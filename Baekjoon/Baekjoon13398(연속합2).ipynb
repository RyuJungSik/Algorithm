{
 "cells": [
  {
   "cell_type": "code",
   "execution_count": null,
   "metadata": {},
   "outputs": [],
   "source": [
    "n=int(input())\n",
    "a=list(map(int,input().split()))\n",
    "\n",
    "d1=[0]*n\n",
    "d2=[0]*n\n",
    "\n",
    "for i in range(0,n):\n",
    "    d1[i]=a[i]\n",
    "    if i==0:\n",
    "        continue\n",
    "    d1[i]=max(d1[i], d1[i-1]+a[i])\n",
    "        \n",
    "\n",
    "for i in range(n-1,-1,-1):\n",
    "    d2[i]=a[i]\n",
    "    if i==n-1:\n",
    "        continue\n",
    "    d2[i]=max(d2[i],d2[i+1]+a[i])\n",
    "\n",
    "ans=max(d1)\n",
    "for i in range(1,n-1):\n",
    "    if ans<d1[i-1]+d2[i+1]:\n",
    "        ans=d1[i-1]+d2[i+1]\n",
    "\n",
    "print(ans)"
   ]
  }
 ],
 "metadata": {
  "kernelspec": {
   "display_name": "Python 3",
   "language": "python",
   "name": "python3"
  },
  "language_info": {
   "codemirror_mode": {
    "name": "ipython",
    "version": 3
   },
   "file_extension": ".py",
   "mimetype": "text/x-python",
   "name": "python",
   "nbconvert_exporter": "python",
   "pygments_lexer": "ipython3",
   "version": "3.8.5"
  }
 },
 "nbformat": 4,
 "nbformat_minor": 4
}
