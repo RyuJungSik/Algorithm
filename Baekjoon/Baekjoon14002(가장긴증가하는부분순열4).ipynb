{
 "cells": [
  {
   "cell_type": "code",
   "execution_count": 22,
   "metadata": {},
   "outputs": [
    {
     "name": "stdout",
     "output_type": "stream",
     "text": [
      "6\n",
      "10 20 10 30 20 50\n",
      "4\n",
      "10 20 30 50\n"
     ]
    }
   ],
   "source": [
    "n=int(input())\n",
    "arr=list(map(int, input().split()))\n",
    "dp=[]\n",
    "for i in range(n):\n",
    "    dp.append([1,[arr[i]]])\n",
    "\n",
    "\n",
    "for i in range(n):\n",
    "    tmp=dp[i][1]\n",
    "    for j in range(i):\n",
    "        \n",
    "        if arr[j]<arr[i]:\n",
    "            if(dp[i][0]<dp[j][0]+1):\n",
    "                dp[i][0]=dp[j][0]+1\n",
    "                dp[i][1]=tmp+dp[j][1]\n",
    "print(max(dp)[0])\n",
    "print(\" \".join(map(str,sorted(max(dp)[1]))))"
   ]
  },
  {
   "cell_type": "code",
   "execution_count": null,
   "metadata": {},
   "outputs": [],
   "source": []
  }
 ],
 "metadata": {
  "kernelspec": {
   "display_name": "Python 3",
   "language": "python",
   "name": "python3"
  },
  "language_info": {
   "codemirror_mode": {
    "name": "ipython",
    "version": 3
   },
   "file_extension": ".py",
   "mimetype": "text/x-python",
   "name": "python",
   "nbconvert_exporter": "python",
   "pygments_lexer": "ipython3",
   "version": "3.8.5"
  }
 },
 "nbformat": 4,
 "nbformat_minor": 4
}
