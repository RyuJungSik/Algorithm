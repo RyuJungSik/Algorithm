{
 "cells": [
  {
   "cell_type": "code",
   "execution_count": null,
   "metadata": {},
   "outputs": [],
   "source": [
    "n,m=map(int, input().split())\n",
    "a=[list(map(int,list(input()))) for _ in range(n)]\n",
    "ans=0\n",
    "\n",
    "for s in range(1<<(n*m)):\n",
    "    sum=0\n",
    "    for i in range(n):\n",
    "        cur=0\n",
    "        for j in range(m):\n",
    "            k=i*m+j\n",
    "            if (s&(1<<k))==0:\n",
    "                cur=cur*10+a[i][j]\n",
    "            else:\n",
    "                sum+=cur\n",
    "                cur=0\n",
    "        sum+=cur\n",
    "    for j in range(m):\n",
    "        cur=0\n",
    "        for i in range(n):\n",
    "            k=i*m+j\n",
    "            if (s&(1<<k))!=0:\n",
    "                cur=cur*10+a[i][j]\n",
    "            else:\n",
    "                sum+=cur\n",
    "                cur=0\n",
    "        sum+=cur\n",
    "    ans=max(ans,sum)\n",
    "print(ans)   "
   ]
  }
 ],
 "metadata": {
  "kernelspec": {
   "display_name": "Python 3",
   "language": "python",
   "name": "python3"
  },
  "language_info": {
   "codemirror_mode": {
    "name": "ipython",
    "version": 3
   },
   "file_extension": ".py",
   "mimetype": "text/x-python",
   "name": "python",
   "nbconvert_exporter": "python",
   "pygments_lexer": "ipython3",
   "version": "3.8.5"
  }
 },
 "nbformat": 4,
 "nbformat_minor": 4
}
