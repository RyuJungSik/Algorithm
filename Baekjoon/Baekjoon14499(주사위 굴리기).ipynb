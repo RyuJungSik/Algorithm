{
 "cells": [
  {
   "cell_type": "code",
   "execution_count": null,
   "metadata": {},
   "outputs": [],
   "source": [
    "from copy import deepcopy\n",
    "dx = [0,0,-1,1]\n",
    "dy = [1,-1,0,0]\n",
    "n,m,x,y,l = map(int,input().split())\n",
    "board = [list(map(int,input().split())) for _ in range(n)]\n",
    "dice = [0]*7\n",
    "move = list(map(int,input().split()))\n",
    "\n",
    "for k in move:\n",
    "    k-=1\n",
    "    nx,ny=x+dx[k],y+dy[k]\n",
    "\n",
    "    \n",
    "    if nx < 0 or nx >= n or ny < 0 or ny >= m:\n",
    "        continue\n",
    "    dc=deepcopy(dice)\n",
    "    if k==0:\n",
    "        dice[1]=dc[4]\n",
    "        dice[3]=dc[1]\n",
    "        dice[4]=dc[6]\n",
    "        dice[6]=dc[3]\n",
    "    elif k==1:\n",
    "        dice[4]=dc[1]\n",
    "        dice[1]=dc[3]\n",
    "        dice[3]=dc[6]\n",
    "        dice[6]=dc[4]\n",
    "    elif k==2:\n",
    "        dice[2]=dc[1]\n",
    "        dice[1]=dc[5]\n",
    "        dice[5]=dc[6]\n",
    "        dice[6]=dc[2]\n",
    "    else:\n",
    "        dice[2]=dc[6]\n",
    "        dice[1]=dc[2]\n",
    "        dice[5]=dc[1]\n",
    "        dice[6]=dc[5]\n",
    "    x,y = nx,ny\n",
    "    \n",
    "    if board[nx][ny]==0:\n",
    "        board[nx][ny]=dice[6]\n",
    "    else:\n",
    "        dice[6]=board[nx][ny]\n",
    "        board[nx][ny]=0\n",
    "    print(dice[1])"
   ]
  }
 ],
 "metadata": {
  "kernelspec": {
   "display_name": "Python 3",
   "language": "python",
   "name": "python3"
  },
  "language_info": {
   "codemirror_mode": {
    "name": "ipython",
    "version": 3
   },
   "file_extension": ".py",
   "mimetype": "text/x-python",
   "name": "python",
   "nbconvert_exporter": "python",
   "pygments_lexer": "ipython3",
   "version": "3.8.5"
  }
 },
 "nbformat": 4,
 "nbformat_minor": 4
}
