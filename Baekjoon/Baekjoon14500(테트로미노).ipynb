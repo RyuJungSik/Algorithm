{
 "cells": [
  {
   "cell_type": "code",
   "execution_count": 5,
   "metadata": {},
   "outputs": [
    {
     "name": "stdout",
     "output_type": "stream",
     "text": [
      "5 5\n",
      "1 2 3 4 5\n",
      "5 4 3 2 1\n",
      "2 3 4 5 6\n",
      "6 5 4 3 2\n",
      "1 2 1 2 1\n",
      "19\n"
     ]
    }
   ],
   "source": [
    "n,m=map(int, input().split())\n",
    "arr=[]\n",
    "for _ in range(n):\n",
    "    arr.append(list(map(int,input().split())))\n",
    "answer=0\n",
    "\n",
    "for i in range(n):\n",
    "    for j in range(m):\n",
    "        if j+3<m:\n",
    "            answer=max(answer,arr[i][j]+arr[i][j+1]+arr[i][j+2]+arr[i][j+3])\n",
    "        if i+3<n:\n",
    "            answer=max(answer,arr[i][j]+arr[i+1][j]+arr[i+2][j]+arr[i+3][j])\n",
    "        if i+1<n and j+1<m:\n",
    "            answer=max(answer,arr[i][j]+arr[i][j+1]+arr[i+1][j]+arr[i+1][j+1])\n",
    "        if i+2<n and j+1<m:\n",
    "            answer=max(answer,arr[i][j]+arr[i+1][j]+arr[i+2][j]+arr[i+2][j+1])\n",
    "        if i+1<n and j+2<m:\n",
    "            answer=max(answer,arr[i][j]+arr[i][j+1]+arr[i][j+2]+arr[i+1][j+2])\n",
    "        if 0<=i-2<n and j+1<m:\n",
    "            answer=max(answer,arr[i][j]+arr[i][j+1]+arr[i-1][j+1]+arr[i-2][j+1])\n",
    "        if i+1<n and j+2<m:\n",
    "            answer=max(answer,arr[i][j]+arr[i+1][j]+arr[i+1][j+1]+arr[i+1][j+2])\n",
    "        if i+2<n and j+1<m:\n",
    "            answer=max(answer,arr[i][j]+arr[i+1][j]+arr[i+2][j]+arr[i][j+1])\n",
    "        if 0<=i-1<n and j+2<m:\n",
    "            answer=max(answer,arr[i][j]+arr[i][j+1]+arr[i][j+2]+arr[i-1][j+2])\n",
    "        if i+2<n and j+1<m:\n",
    "            answer=max(answer,arr[i][j]+arr[i][j+1]+arr[i+1][j+1]+arr[i+2][j+1])\n",
    "        if i+1<n and j+2<m:\n",
    "            answer=max(answer,arr[i][j]+arr[i+1][j]+arr[i][j+1]+arr[i][j+2]) \n",
    "        if i+2<n and j+1<m:\n",
    "            answer=max(answer,arr[i][j]+arr[i+1][j]+arr[i+1][j+1]+arr[i+2][j+1])\n",
    "        if 0<=i-1<n and j+2<m:\n",
    "            answer=max(answer,arr[i][j]+arr[i][j+1]+arr[i-1][j+1]+arr[i-1][j+2])\n",
    "        if 0<=i-2<n and j+1<m:\n",
    "            answer=max(answer,arr[i][j]+arr[i-1][j]+arr[i-1][j+1]+arr[i-2][j+1])\n",
    "        if i+1<n and j+2<m:\n",
    "            answer=max(answer,arr[i][j]+arr[i][j+1]+arr[i+1][j+1]+arr[i+1][j+2])\n",
    "        if i+1<n and j+2<m:\n",
    "            answer=max(answer,arr[i][j]+arr[i][j+1]+arr[i][j+2]+arr[i+1][j+1])\n",
    "        if i+1<n and 0<=i-1 and j+1<m:\n",
    "            answer=max(answer,arr[i][j]+arr[i-1][j+1]+arr[i][j+1]+arr[i+1][j+1])\n",
    "        if i+2<n and j+1<m:\n",
    "            answer=max(answer,arr[i][j]+arr[i+1][j]+arr[i+2][j]+arr[i+1][j+1])\n",
    "        if 0<=i-1<n and j+2<m:\n",
    "            answer=max(answer,arr[i][j]+arr[i][j+1]+arr[i][j+2]+arr[i-1][j+1])\n",
    "print(answer)"
   ]
  },
  {
   "cell_type": "code",
   "execution_count": null,
   "metadata": {},
   "outputs": [],
   "source": []
  }
 ],
 "metadata": {
  "kernelspec": {
   "display_name": "Python 3",
   "language": "python",
   "name": "python3"
  },
  "language_info": {
   "codemirror_mode": {
    "name": "ipython",
    "version": 3
   },
   "file_extension": ".py",
   "mimetype": "text/x-python",
   "name": "python",
   "nbconvert_exporter": "python",
   "pygments_lexer": "ipython3",
   "version": "3.8.5"
  }
 },
 "nbformat": 4,
 "nbformat_minor": 4
}
