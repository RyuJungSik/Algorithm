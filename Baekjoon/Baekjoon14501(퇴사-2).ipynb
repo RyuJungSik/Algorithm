{
 "cells": [
  {
   "cell_type": "code",
   "execution_count": null,
   "metadata": {},
   "outputs": [],
   "source": [
    "n=int(input())\n",
    "t=[]\n",
    "p=[]\n",
    "answer=0\n",
    "for _ in range(n):\n",
    "    a,b=map(int,input().split())\n",
    "    t.append(a)\n",
    "    p.append(b)\n",
    "    \n",
    "def go(index,cur,s):\n",
    "    global answer\n",
    "    if index==n:\n",
    "        if cur==0:\n",
    "            answer=max(answer,s)\n",
    "        return\n",
    "    else:\n",
    "        if cur==0:\n",
    "            go(index+1,cur+t[index]-1,s+p[index])\n",
    "            go(index+1,cur,s)\n",
    "        else:\n",
    "            go(index+1,cur-1,s)\n",
    "go(0,0,0)\n",
    "print(answer)"
   ]
  }
 ],
 "metadata": {
  "kernelspec": {
   "display_name": "Python 3",
   "language": "python",
   "name": "python3"
  },
  "language_info": {
   "codemirror_mode": {
    "name": "ipython",
    "version": 3
   },
   "file_extension": ".py",
   "mimetype": "text/x-python",
   "name": "python",
   "nbconvert_exporter": "python",
   "pygments_lexer": "ipython3",
   "version": "3.8.5"
  }
 },
 "nbformat": 4,
 "nbformat_minor": 4
}
