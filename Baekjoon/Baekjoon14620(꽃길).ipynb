{
 "cells": [
  {
   "cell_type": "code",
   "execution_count": 68,
   "metadata": {},
   "outputs": [
    {
     "name": "stdout",
     "output_type": "stream",
     "text": [
      "6\n",
      "1 0 2 3 3 4\n",
      "1 1 1 1 1 1\n",
      "0 0 1 1 1 1\n",
      "3 9 9 0 1 99\n",
      "9 11 3 1 0 3\n",
      "12 3 0 0 0 1\n",
      "12\n"
     ]
    }
   ],
   "source": [
    "n=int(input())\n",
    "arr=[]\n",
    "dx=[0,1,0,-1]\n",
    "dy=[1,0,-1,0]                                                                                                                                                                                        \n",
    "answer=10000\n",
    "\n",
    "def ck(lst):\n",
    "    num=0\n",
    "    a=[]\n",
    "    for i in lst:\n",
    "        x=i//n\n",
    "        y=i%n\n",
    "        for j in range(4):\n",
    "            nX=x+dx[j]\n",
    "            nY=y+dy[j]\n",
    "            if 0<=nX<n and 0<=nY<n:\n",
    "                num+=arr[nX][nY]\n",
    "                a.append((nX,nY))\n",
    "            else:\n",
    "                return 10000\n",
    "        num+=arr[x][y]\n",
    "        a.append((x,y))\n",
    "    if len(set(a))!=15:\n",
    "        return 10000\n",
    "    else:\n",
    "        return num\n",
    "\n",
    "            \n",
    "for i in range(n):\n",
    "    arr.append(list(map(int, input().split())))\n",
    "\n",
    "for i in range(n*n):\n",
    "    for j in range(i,n*n):\n",
    "        for k in range(j,n*n):\n",
    "            answer=min(answer, ck([i,j,k]))\n",
    "        \n",
    "print(answer)"
   ]
  },
  {
   "cell_type": "code",
   "execution_count": null,
   "metadata": {},
   "outputs": [],
   "source": []
  }
 ],
 "metadata": {
  "kernelspec": {
   "display_name": "Python 3",
   "language": "python",
   "name": "python3"
  },
  "language_info": {
   "codemirror_mode": {
    "name": "ipython",
    "version": 3
   },
   "file_extension": ".py",
   "mimetype": "text/x-python",
   "name": "python",
   "nbconvert_exporter": "python",
   "pygments_lexer": "ipython3",
   "version": "3.8.5"
  }
 },
 "nbformat": 4,
 "nbformat_minor": 4
}
