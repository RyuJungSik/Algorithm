{
 "cells": [
  {
   "cell_type": "code",
   "execution_count": null,
   "metadata": {},
   "outputs": [],
   "source": [
    "n=int(input())\n",
    "dp=[0]*(n+1)\n",
    "\n",
    "for i in range(2,n+1):\n",
    "    a,b,c=0,0,0\n",
    "    s=[]\n",
    "    if i%3==0:\n",
    "        a=dp[i//3]+1\n",
    "        s.append(a)\n",
    "    if i%2==0:\n",
    "        b=dp[i//2]+1\n",
    "        s.append(b)\n",
    "    c=dp[i-1]+1\n",
    "    s.append(c)\n",
    "    dp[i]=min(s)\n",
    "print(dp[n])"
   ]
  }
 ],
 "metadata": {
  "kernelspec": {
   "display_name": "Python 3",
   "language": "python",
   "name": "python3"
  },
  "language_info": {
   "codemirror_mode": {
    "name": "ipython",
    "version": 3
   },
   "file_extension": ".py",
   "mimetype": "text/x-python",
   "name": "python",
   "nbconvert_exporter": "python",
   "pygments_lexer": "ipython3",
   "version": "3.8.5"
  }
 },
 "nbformat": 4,
 "nbformat_minor": 4
}
