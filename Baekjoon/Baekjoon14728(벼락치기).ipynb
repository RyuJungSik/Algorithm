{
 "cells": [
  {
   "cell_type": "code",
   "execution_count": null,
   "metadata": {},
   "outputs": [],
   "source": [
    "n,t=map(int, input().split())\n",
    "arr=[]\n",
    "for _ in range(n):\n",
    "    x,y=map(int,input().split())\n",
    "    arr.append([x,y])\n",
    "\n",
    "dp=[0]*(t+1)\n",
    "\n",
    "for i in arr:\n",
    "    x,y=i[0],i[1]\n",
    "    for j in range(t,x-1,-1):\n",
    "        dp[j]=max(dp[j],dp[j-x]+y)\n",
    "print(dp[t])"
   ]
  }
 ],
 "metadata": {
  "kernelspec": {
   "display_name": "Python 3",
   "language": "python",
   "name": "python3"
  },
  "language_info": {
   "codemirror_mode": {
    "name": "ipython",
    "version": 3
   },
   "file_extension": ".py",
   "mimetype": "text/x-python",
   "name": "python",
   "nbconvert_exporter": "python",
   "pygments_lexer": "ipython3",
   "version": "3.8.5"
  }
 },
 "nbformat": 4,
 "nbformat_minor": 4
}
