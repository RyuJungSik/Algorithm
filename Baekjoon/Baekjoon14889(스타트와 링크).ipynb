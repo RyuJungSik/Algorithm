{
 "cells": [
  {
   "cell_type": "code",
   "execution_count": null,
   "metadata": {},
   "outputs": [],
   "source": [
    "n=int(input())\n",
    "choice=[]\n",
    "team1=[]\n",
    "team2=[]\n",
    "arr=[]\n",
    "for _ in range(n):\n",
    "    arr.append(list(map(int,input().split())))\n",
    "ans=100000\n",
    "def dfs(index,team1,team2):\n",
    "    global ans\n",
    "    if index==n:\n",
    "        s1,s2=0,0\n",
    "        for i in range(n//2):\n",
    "            for j in range(n//2):\n",
    "                if i==j:\n",
    "                    continue\n",
    "                s1+=arr[team1[i]][team1[j]]\n",
    "                s2+=arr[team2[i]][team2[j]]\n",
    "        ans=min(ans,abs(s1-s2))\n",
    "        return\n",
    "    else:\n",
    "        if len(team1)<n//2 and len(team2)<n//2:\n",
    "            dfs(index+1,team1+[index],team2)\n",
    "            dfs(index+1,team1,team2+[index])\n",
    "        elif len(team1)==n//2:\n",
    "            dfs(index+1,team1,team2+[index])\n",
    "        else:\n",
    "            dfs(index+1,team1+[index],team2)\n",
    "        \n",
    "dfs(0,team1,team2)\n",
    "print(ans)\n"
   ]
  },
  {
   "cell_type": "code",
   "execution_count": null,
   "metadata": {},
   "outputs": [],
   "source": []
  }
 ],
 "metadata": {
  "kernelspec": {
   "display_name": "Python 3",
   "language": "python",
   "name": "python3"
  },
  "language_info": {
   "codemirror_mode": {
    "name": "ipython",
    "version": 3
   },
   "file_extension": ".py",
   "mimetype": "text/x-python",
   "name": "python",
   "nbconvert_exporter": "python",
   "pygments_lexer": "ipython3",
   "version": "3.8.5"
  }
 },
 "nbformat": 4,
 "nbformat_minor": 4
}
