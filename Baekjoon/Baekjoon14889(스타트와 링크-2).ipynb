{
 "cells": [
  {
   "cell_type": "code",
   "execution_count": null,
   "metadata": {},
   "outputs": [],
   "source": [
    "n=int(input())\n",
    "b=[]\n",
    "answer=1000\n",
    "visited=[False]*n\n",
    "for _ in range(n):\n",
    "    b.append(list(map(int, input().split())))\n",
    "\n",
    "def go(z,arr):\n",
    "    global visited,answer\n",
    "    if z==n//2:\n",
    "        arr2=[]\n",
    "        s1,s2=0,0\n",
    "        for i in range(n):\n",
    "            if i not in arr:\n",
    "                arr2.append(i)\n",
    "        for i in range(n//2):\n",
    "            for j in range(n//2):\n",
    "                s1+=b[arr[i]][arr[j]]\n",
    "                s2+=b[arr2[i]][arr2[j]]\n",
    "        answer=min((abs(s1-s2)), answer)\n",
    "        return\n",
    "    else:\n",
    "        for i in range(n):\n",
    "            if visited[i]==False:\n",
    "                if len(arr)!=0 and arr[-1]>i:\n",
    "                    continue\n",
    "                visited[i]=True\n",
    "                go(z+1,arr+[i])\n",
    "                visited[i]=False\n",
    "\n",
    "go(0,[])\n",
    "print(answer)"
   ]
  }
 ],
 "metadata": {
  "kernelspec": {
   "display_name": "Python 3",
   "language": "python",
   "name": "python3"
  },
  "language_info": {
   "codemirror_mode": {
    "name": "ipython",
    "version": 3
   },
   "file_extension": ".py",
   "mimetype": "text/x-python",
   "name": "python",
   "nbconvert_exporter": "python",
   "pygments_lexer": "ipython3",
   "version": "3.8.5"
  }
 },
 "nbformat": 4,
 "nbformat_minor": 4
}
