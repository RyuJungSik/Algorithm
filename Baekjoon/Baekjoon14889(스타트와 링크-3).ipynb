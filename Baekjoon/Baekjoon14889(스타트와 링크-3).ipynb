{
 "cells": [
  {
   "cell_type": "code",
   "execution_count": null,
   "metadata": {},
   "outputs": [],
   "source": [
    "from itertools import combinations\n",
    "\n",
    "n=int(input())\n",
    "board=[]\n",
    "a=[]\n",
    "answer=10000000\n",
    "for i in range(n):\n",
    "    a.append(i)\n",
    "    board.append(list(map(int, input().split())))\n",
    "\n",
    "for i in combinations(a,n//2):\n",
    "    tmp1=0\n",
    "    tmp2=0\n",
    "    j=[]\n",
    "    for k in range(n):\n",
    "        if k not in i:\n",
    "            j.append(k)\n",
    "    \n",
    "    for  k in range(len(i)):\n",
    "        for t in range(k+1,len(i)):\n",
    "            tmp1+=board[i[k]][i[t]]\n",
    "            tmp1+=board[i[t]][i[k]]\n",
    "            \n",
    "    for  k in range(len(j)):\n",
    "        for t in range(k+1,len(j)):\n",
    "            tmp2+=board[j[k]][j[t]]\n",
    "            tmp2+=board[j[t]][j[k]]\n",
    "    answer=min(answer,abs(tmp1-tmp2))\n",
    "print(answer)"
   ]
  }
 ],
 "metadata": {
  "kernelspec": {
   "display_name": "Python 3",
   "language": "python",
   "name": "python3"
  },
  "language_info": {
   "codemirror_mode": {
    "name": "ipython",
    "version": 3
   },
   "file_extension": ".py",
   "mimetype": "text/x-python",
   "name": "python",
   "nbconvert_exporter": "python",
   "pygments_lexer": "ipython3",
   "version": "3.8.5"
  }
 },
 "nbformat": 4,
 "nbformat_minor": 4
}
