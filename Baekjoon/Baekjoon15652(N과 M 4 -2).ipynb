{
 "cells": [
  {
   "cell_type": "code",
   "execution_count": null,
   "metadata": {},
   "outputs": [],
   "source": [
    "from itertools import product\n",
    "\n",
    "n,m=map(int, input().split())\n",
    "arr=[]\n",
    "for i in range(1,n+1):\n",
    "    arr.append(i)\n",
    "\n",
    "def go(index,tmp):\n",
    "    if index==m:\n",
    "        print(\" \".join(map(str,tmp)))\n",
    "        return\n",
    "    else:\n",
    "        for i in arr:\n",
    "            if len(tmp)==0 or tmp[-1]<=i:\n",
    "                go(index+1,tmp+[i])\n",
    "go(0,[])"
   ]
  }
 ],
 "metadata": {
  "kernelspec": {
   "display_name": "Python 3",
   "language": "python",
   "name": "python3"
  },
  "language_info": {
   "codemirror_mode": {
    "name": "ipython",
    "version": 3
   },
   "file_extension": ".py",
   "mimetype": "text/x-python",
   "name": "python",
   "nbconvert_exporter": "python",
   "pygments_lexer": "ipython3",
   "version": "3.8.5"
  }
 },
 "nbformat": 4,
 "nbformat_minor": 4
}
