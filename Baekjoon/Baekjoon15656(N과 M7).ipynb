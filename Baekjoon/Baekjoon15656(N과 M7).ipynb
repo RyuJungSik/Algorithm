{
 "cells": [
  {
   "cell_type": "code",
   "execution_count": 45,
   "metadata": {},
   "outputs": [
    {
     "name": "stdout",
     "output_type": "stream",
     "text": [
      "4 2\n",
      "9 8 7 1\n",
      "1 1 \n",
      "1 7 \n",
      "1 8 \n",
      "1 9 \n",
      "7 1 \n",
      "7 7 \n",
      "7 8 \n",
      "7 9 \n",
      "8 1 \n",
      "8 7 \n",
      "8 8 \n",
      "8 9 \n",
      "9 1 \n",
      "9 7 \n",
      "9 8 \n",
      "9 9 \n"
     ]
    }
   ],
   "source": [
    "n,m=map(int, input().split())\n",
    "arr=list(map(int, input().split()))\n",
    "arr.sort()\n",
    "ansList=[]\n",
    "def dfs(index, ansList):\n",
    "    if index==m:\n",
    "        for j in ansList:\n",
    "            print(j, end=\" \")\n",
    "        print()\n",
    "    else:\n",
    "        for i in arr:\n",
    "                ansList.append(i)\n",
    "                dfs(index+1, ansList)\n",
    "                ansList.pop()\n",
    "                \n",
    "dfs(0,ansList)"
   ]
  },
  {
   "cell_type": "code",
   "execution_count": null,
   "metadata": {},
   "outputs": [],
   "source": []
  }
 ],
 "metadata": {
  "kernelspec": {
   "display_name": "Python 3",
   "language": "python",
   "name": "python3"
  },
  "language_info": {
   "codemirror_mode": {
    "name": "ipython",
    "version": 3
   },
   "file_extension": ".py",
   "mimetype": "text/x-python",
   "name": "python",
   "nbconvert_exporter": "python",
   "pygments_lexer": "ipython3",
   "version": "3.8.5"
  }
 },
 "nbformat": 4,
 "nbformat_minor": 4
}
