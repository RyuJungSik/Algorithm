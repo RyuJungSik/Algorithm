{
 "cells": [
  {
   "cell_type": "code",
   "execution_count": null,
   "metadata": {},
   "outputs": [],
   "source": [
    "n=int(input())\n",
    "maxV=1000000\n",
    "modV=1000000009\n",
    "dp=[0]*(maxV)\n",
    "dp.insert(0,0)\n",
    "dp[1]=1\n",
    "dp[2]=2\n",
    "dp[3]=4\n",
    "\n",
    "for i in range(4,maxV+1):\n",
    "    dp[i]=(dp[i-1]+dp[i-2]+dp[i-3])%modV\n",
    "    \n",
    "for i in range(n):\n",
    "    a=int(input())\n",
    "    print(dp[a])"
   ]
  }
 ],
 "metadata": {
  "kernelspec": {
   "display_name": "Python 3",
   "language": "python",
   "name": "python3"
  },
  "language_info": {
   "codemirror_mode": {
    "name": "ipython",
    "version": 3
   },
   "file_extension": ".py",
   "mimetype": "text/x-python",
   "name": "python",
   "nbconvert_exporter": "python",
   "pygments_lexer": "ipython3",
   "version": "3.8.5"
  }
 },
 "nbformat": 4,
 "nbformat_minor": 4
}
