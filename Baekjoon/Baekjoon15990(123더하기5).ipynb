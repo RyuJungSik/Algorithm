{
 "cells": [
  {
   "cell_type": "code",
   "execution_count": 29,
   "metadata": {},
   "outputs": [
    {
     "name": "stdout",
     "output_type": "stream",
     "text": [
      "3\n",
      "3\n",
      "3\n",
      "4\n",
      "3\n",
      "5\n",
      "4\n"
     ]
    }
   ],
   "source": [
    "tc=int(input())\n",
    "maxV=100001\n",
    "dp=[[0 for _ in range(4)] for _ in range(maxV)]\n",
    "dp[1][1]=1\n",
    "dp[2][2]=1\n",
    "dp[3][1]=1\n",
    "dp[3][2]=1\n",
    "dp[3][3]=1\n",
    "\n",
    "for i in range(4,maxV):\n",
    "    dp[i][1]=(dp[i-1][2]+dp[i-1][3])%1000000009\n",
    "    dp[i][2]=(dp[i-2][1]+dp[i-2][3])%1000000009\n",
    "    dp[i][3]=(dp[i-3][1]+dp[i-3][2])%1000000009\n",
    "for i in range(tc):\n",
    "    n=int(input())\n",
    "    print((dp[n][1]+dp[n][2]+dp[n][3])%1000000009)"
   ]
  }
 ],
 "metadata": {
  "kernelspec": {
   "display_name": "Python 3",
   "language": "python",
   "name": "python3"
  },
  "language_info": {
   "codemirror_mode": {
    "name": "ipython",
    "version": 3
   },
   "file_extension": ".py",
   "mimetype": "text/x-python",
   "name": "python",
   "nbconvert_exporter": "python",
   "pygments_lexer": "ipython3",
   "version": "3.8.5"
  }
 },
 "nbformat": 4,
 "nbformat_minor": 4
}
