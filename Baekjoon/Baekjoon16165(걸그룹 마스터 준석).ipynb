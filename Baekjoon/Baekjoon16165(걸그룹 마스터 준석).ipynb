{
 "cells": [
  {
   "cell_type": "code",
   "execution_count": 67,
   "metadata": {},
   "outputs": [
    {
     "name": "stdout",
     "output_type": "stream",
     "text": [
      "2 2\n",
      "a\n",
      "2\n",
      "aaa\n",
      "bbb\n",
      "b\n",
      "2\n",
      "ccc\n",
      "ddd\n",
      "aaa\n",
      "1\n",
      "b\n",
      "0\n",
      "a\n",
      "ccc\n",
      "ddd\n"
     ]
    }
   ],
   "source": [
    "n,m=map(int, input().split())\n",
    "quiz=[]\n",
    "answer=[]\n",
    "for _ in range(n):\n",
    "    name=input()\n",
    "    num=int(input())\n",
    "    member=[]\n",
    "    for _ in range(num):\n",
    "        member.append(input())\n",
    "    quiz.append((name,num,member))\n",
    "\n",
    "for _ in range(m):\n",
    "    target=input()\n",
    "    num=int(input())\n",
    "    if num==1:\n",
    "        for j in quiz:\n",
    "            if target in j[2]:\n",
    "                answer.append(j[0])\n",
    "    else:\n",
    "        for j in quiz:\n",
    "            if target==j[0]:\n",
    "                for k in sorted(j[2]):\n",
    "                    answer.append(k)\n",
    "for i in answer:\n",
    "    print(i)"
   ]
  }
 ],
 "metadata": {
  "kernelspec": {
   "display_name": "Python 3",
   "language": "python",
   "name": "python3"
  },
  "language_info": {
   "codemirror_mode": {
    "name": "ipython",
    "version": 3
   },
   "file_extension": ".py",
   "mimetype": "text/x-python",
   "name": "python",
   "nbconvert_exporter": "python",
   "pygments_lexer": "ipython3",
   "version": "3.8.5"
  }
 },
 "nbformat": 4,
 "nbformat_minor": 4
}
