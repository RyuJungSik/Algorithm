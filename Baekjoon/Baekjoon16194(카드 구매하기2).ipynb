{
 "cells": [
  {
   "cell_type": "code",
   "execution_count": 7,
   "metadata": {},
   "outputs": [
    {
     "name": "stdout",
     "output_type": "stream",
     "text": [
      "4\n",
      "1 5 6 7\n",
      "4\n"
     ]
    }
   ],
   "source": [
    "n=int(input())\n",
    "dp=list(map(int, input().split()))\n",
    "dp.insert(0,0)\n",
    "\n",
    "for i in range(1,n+1):\n",
    "    for j in range(i):\n",
    "        dp[i]=min(dp[i], dp[i-j]+dp[j])\n",
    "print(dp[n])"
   ]
  }
 ],
 "metadata": {
  "kernelspec": {
   "display_name": "Python 3",
   "language": "python",
   "name": "python3"
  },
  "language_info": {
   "codemirror_mode": {
    "name": "ipython",
    "version": 3
   },
   "file_extension": ".py",
   "mimetype": "text/x-python",
   "name": "python",
   "nbconvert_exporter": "python",
   "pygments_lexer": "ipython3",
   "version": "3.8.5"
  }
 },
 "nbformat": 4,
 "nbformat_minor": 4
}
