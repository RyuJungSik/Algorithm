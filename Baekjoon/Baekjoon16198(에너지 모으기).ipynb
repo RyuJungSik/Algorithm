{
 "cells": [
  {
   "cell_type": "code",
   "execution_count": null,
   "metadata": {},
   "outputs": [],
   "source": [
    "n=int(input())\n",
    "arr=list(map(int, input().split()))\n",
    "answer=0\n",
    "def go(index,s,arr):\n",
    "    global answer\n",
    "    if index==n-2:\n",
    "        answer=max(answer,s)\n",
    "        return\n",
    "    else:\n",
    "        for i in range(1,len(arr)-1):\n",
    "            go(index+1,s+(arr[i-1]*arr[i+1]),arr[0:i]+arr[i+1:])\n",
    "go(0,0,arr)\n",
    "print(answer)"
   ]
  }
 ],
 "metadata": {
  "kernelspec": {
   "display_name": "Python 3",
   "language": "python",
   "name": "python3"
  },
  "language_info": {
   "codemirror_mode": {
    "name": "ipython",
    "version": 3
   },
   "file_extension": ".py",
   "mimetype": "text/x-python",
   "name": "python",
   "nbconvert_exporter": "python",
   "pygments_lexer": "ipython3",
   "version": "3.8.5"
  }
 },
 "nbformat": 4,
 "nbformat_minor": 4
}
