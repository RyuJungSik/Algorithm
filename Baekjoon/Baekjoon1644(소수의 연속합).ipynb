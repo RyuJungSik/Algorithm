{
 "cells": [
  {
   "cell_type": "code",
   "execution_count": null,
   "metadata": {},
   "outputs": [],
   "source": [
    "import math\n",
    "n=int(input())\n",
    "a=[False,False]+[True]*(n-1)\n",
    "primes=[]\n",
    "for i in range(2,n+1):\n",
    "    if a[i]:\n",
    "        primes.append(i)\n",
    "        for j in range(2*i,n+1,i):\n",
    "            a[j]=False\n",
    "\n",
    "\n",
    "left=0\n",
    "right=0\n",
    "\n",
    "length=len(primes)\n",
    "if length==0: \n",
    "    s=0\n",
    "else:\n",
    "    s=primes[0]\n",
    "answer=0\n",
    "while right<length and left<=right:\n",
    "    if s>n:\n",
    "        s-=primes[left]\n",
    "        left+=1\n",
    "        if left>=length:\n",
    "            break\n",
    "        if left>right:\n",
    "            right=left\n",
    "            s=primes[left]\n",
    "    elif s==n:\n",
    "        answer+=1\n",
    "        right+=1\n",
    "        if right<length:\n",
    "            s+=primes[right]\n",
    "    else:\n",
    "        right+=1\n",
    "        if right<length:\n",
    "            s+=primes[right]\n",
    "\n",
    "print(answer)"
   ]
  }
 ],
 "metadata": {
  "kernelspec": {
   "display_name": "Python 3",
   "language": "python",
   "name": "python3"
  },
  "language_info": {
   "codemirror_mode": {
    "name": "ipython",
    "version": 3
   },
   "file_extension": ".py",
   "mimetype": "text/x-python",
   "name": "python",
   "nbconvert_exporter": "python",
   "pygments_lexer": "ipython3",
   "version": "3.8.5"
  }
 },
 "nbformat": 4,
 "nbformat_minor": 4
}
