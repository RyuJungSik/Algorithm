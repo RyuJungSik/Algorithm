{
 "cells": [
  {
   "cell_type": "code",
   "execution_count": null,
   "metadata": {},
   "outputs": [],
   "source": [
    "k,n=map(int, input().split())\n",
    "arr=[]\n",
    "maxLen=2**31-1\n",
    "answer=[]\n",
    "for _ in range(k):\n",
    "    arr.append(int(input()))\n",
    "\n",
    "\n",
    "minLen=0\n",
    "i=(maxLen+minLen)//2\n",
    "while minLen<=maxLen:\n",
    "    gae=0\n",
    "    for j in arr:\n",
    "        gae+=j//i\n",
    "    \n",
    "    if gae<n:\n",
    "        maxLen=i-1\n",
    "        i=(maxLen+minLen)//2\n",
    "    elif gae>=n:\n",
    "        answer=i\n",
    "        minLen=i+1\n",
    "        i=(maxLen+minLen)//2\n",
    "        \n",
    "\n",
    "print(answer)"
   ]
  }
 ],
 "metadata": {
  "kernelspec": {
   "display_name": "Python 3",
   "language": "python",
   "name": "python3"
  },
  "language_info": {
   "codemirror_mode": {
    "name": "ipython",
    "version": 3
   },
   "file_extension": ".py",
   "mimetype": "text/x-python",
   "name": "python",
   "nbconvert_exporter": "python",
   "pygments_lexer": "ipython3",
   "version": "3.8.5"
  }
 },
 "nbformat": 4,
 "nbformat_minor": 4
}
