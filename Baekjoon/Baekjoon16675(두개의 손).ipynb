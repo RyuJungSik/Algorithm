{
 "cells": [
  {
   "cell_type": "code",
   "execution_count": 9,
   "metadata": {},
   "outputs": [
    {
     "name": "stdout",
     "output_type": "stream",
     "text": [
      "R P R R\n",
      "MS\n"
     ]
    }
   ],
   "source": [
    "ml,mr,tl,tr=input().split()\n",
    "ms=[ml,mr]\n",
    "tk=[tl,tr]\n",
    "answer=[]\n",
    "\n",
    "if ml==mr=='R':\n",
    "    if 'P' in tk:\n",
    "        print(\"TK\")\n",
    "    elif tl==tr=='S':\n",
    "        print(\"MS\")\n",
    "    else:\n",
    "        print('?')\n",
    "elif ml==mr=='S':\n",
    "    if 'R' in tk:\n",
    "        print(\"TK\")\n",
    "    elif tl==tr=='P':\n",
    "        print(\"MS\")\n",
    "    else:\n",
    "        print('?')\n",
    "elif ml==mr=='P':\n",
    "    if 'S' in tk:\n",
    "        print(\"TK\")\n",
    "    elif tl==tr=='R':\n",
    "        print(\"MS\")\n",
    "    else:\n",
    "        print('?')\n",
    "elif tl==tr=='R':\n",
    "    if 'P' in ms:\n",
    "        print(\"MS\")\n",
    "    elif ml==mr=='S':\n",
    "        print(\"Tk\")\n",
    "    else:\n",
    "        print('?')\n",
    "elif tl==tr=='S':\n",
    "    if 'R' in ms:\n",
    "        print(\"MS\")\n",
    "    elif ml==mr=='P':\n",
    "        print(\"TK\")\n",
    "    else:\n",
    "        print('?')\n",
    "elif tl==tr=='P':\n",
    "    if 'S' in ms:\n",
    "        print(\"MS\")\n",
    "    elif ml==mr=='R':\n",
    "        print(\"TK\")\n",
    "    else:\n",
    "        print('?')\n",
    "else:\n",
    "    print('?')"
   ]
  },
  {
   "cell_type": "raw",
   "metadata": {},
   "source": []
  },
  {
   "cell_type": "code",
   "execution_count": null,
   "metadata": {},
   "outputs": [],
   "source": []
  }
 ],
 "metadata": {
  "kernelspec": {
   "display_name": "Python 3",
   "language": "python",
   "name": "python3"
  },
  "language_info": {
   "codemirror_mode": {
    "name": "ipython",
    "version": 3
   },
   "file_extension": ".py",
   "mimetype": "text/x-python",
   "name": "python",
   "nbconvert_exporter": "python",
   "pygments_lexer": "ipython3",
   "version": "3.8.5"
  }
 },
 "nbformat": 4,
 "nbformat_minor": 4
}
