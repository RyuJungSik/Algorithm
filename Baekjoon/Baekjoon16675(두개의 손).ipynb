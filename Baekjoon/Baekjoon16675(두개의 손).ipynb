{
 "cells": [
  {
   "cell_type": "code",
   "execution_count": 87,
   "metadata": {},
   "outputs": [
    {
     "name": "stdout",
     "output_type": "stream",
     "text": [
      "R R S S\n",
      "MS\n"
     ]
    }
   ],
   "source": [
    "ml,mr,tl,tr=input().split()\n",
    "ms=[ml.mr]\n",
    "tk=[tl,tr]\n",
    "answer=[]\n",
    "if ml==mr and tl==tr and ml!=tl:\n",
    "    if ml=='R':\n",
    "        if tl=='S':\n",
    "            print(\"MS\")\n",
    "        else:\n",
    "            print(\"TK\")\n",
    "    elif ml=='S':\n",
    "        if tl=='P':\n",
    "            print(\"MS\")\n",
    "        else:\n",
    "            print(\"TK\")\n",
    "    elif ml=='P':\n",
    "        if tl=='R':\n",
    "            print(\"MS\")\n",
    "        else:\n",
    "            print(\"TK\")\n",
    "elif ml==mr and tl!=tr:\n",
    "    if ml=='R':\n",
    "        \n",
    "    elif ml=='S':\n",
    "        if tl=='P':\n",
    "            print(\"MS\")\n",
    "        else:\n",
    "            print(\"TK\")\n",
    "    elif ml=='P':\n",
    "        if tl=='R':\n",
    "            print(\"MS\")\n",
    "        else:\n",
    "            print(\"TK\")\n",
    "        "
   ]
  },
  {
   "cell_type": "raw",
   "metadata": {},
   "source": []
  },
  {
   "cell_type": "code",
   "execution_count": null,
   "metadata": {},
   "outputs": [],
   "source": []
  }
 ],
 "metadata": {
  "kernelspec": {
   "display_name": "Python 3",
   "language": "python",
   "name": "python3"
  },
  "language_info": {
   "codemirror_mode": {
    "name": "ipython",
    "version": 3
   },
   "file_extension": ".py",
   "mimetype": "text/x-python",
   "name": "python",
   "nbconvert_exporter": "python",
   "pygments_lexer": "ipython3",
   "version": "3.8.5"
  }
 },
 "nbformat": 4,
 "nbformat_minor": 4
}
