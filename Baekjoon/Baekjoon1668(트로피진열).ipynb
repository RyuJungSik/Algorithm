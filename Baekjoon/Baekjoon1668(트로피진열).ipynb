{
 "cells": [
  {
   "cell_type": "code",
   "execution_count": 83,
   "metadata": {},
   "outputs": [
    {
     "name": "stdout",
     "output_type": "stream",
     "text": [
      "5\n",
      "1\n",
      "2\n",
      "3\n",
      "2\n",
      "5\n",
      "4\n",
      "1\n"
     ]
    }
   ],
   "source": [
    "n=int(input())\n",
    "\n",
    "arr=[]\n",
    "\n",
    "ans1=0\n",
    "ans2=0\n",
    "\n",
    "for _ in range(n):\n",
    "    arr.append(int(input()))\n",
    "tmp=0\n",
    "for i in arr:\n",
    "    if tmp<i:\n",
    "        ans1+=1\n",
    "        tmp=i\n",
    "    else:\n",
    "        continue\n",
    "\n",
    "tmp=0\n",
    "arr.reverse()\n",
    "for j in arr:\n",
    "    if tmp<j:\n",
    "        ans2+=1\n",
    "        tmp=j\n",
    "    else:\n",
    "        continue\n",
    "print(ans1)\n",
    "print(ans2)"
   ]
  },
  {
   "cell_type": "code",
   "execution_count": null,
   "metadata": {},
   "outputs": [],
   "source": []
  },
  {
   "cell_type": "code",
   "execution_count": null,
   "metadata": {},
   "outputs": [],
   "source": []
  },
  {
   "cell_type": "code",
   "execution_count": null,
   "metadata": {},
   "outputs": [],
   "source": []
  }
 ],
 "metadata": {
  "kernelspec": {
   "display_name": "Python 3",
   "language": "python",
   "name": "python3"
  },
  "language_info": {
   "codemirror_mode": {
    "name": "ipython",
    "version": 3
   },
   "file_extension": ".py",
   "mimetype": "text/x-python",
   "name": "python",
   "nbconvert_exporter": "python",
   "pygments_lexer": "ipython3",
   "version": "3.8.5"
  }
 },
 "nbformat": 4,
 "nbformat_minor": 4
}
