{
 "cells": [
  {
   "cell_type": "code",
   "execution_count": 122,
   "metadata": {
    "scrolled": true
   },
   "outputs": [
    {
     "name": "stdout",
     "output_type": "stream",
     "text": [
      "6 3\n",
      "0000000000\n",
      "0000000300\n",
      "0054000300\n",
      "1054502230\n",
      "2211122220\n",
      "1111111223\n",
      "1231232131\n",
      "False\n",
      "1231232131\n",
      "False\n",
      "1231232131\n",
      "False\n",
      "0000000000\n",
      "0000000000\n",
      "0000000000\n",
      "0000000000\n",
      "1054000000\n",
      "2254500000\n"
     ]
    }
   ],
   "source": [
    "from collections import deque\n",
    "\n",
    "n,k=map(int, input().split())\n",
    "arr=[]\n",
    "\n",
    "dx=[1,-1,0,0]\n",
    "dy=[0,0,1,-1]\n",
    "\n",
    "def BFS(i,j, value):\n",
    "    global k, flag\n",
    "    q=deque()\n",
    "    q.append((i,j))\n",
    "    lst=[]\n",
    "    lst.append((i,j))\n",
    "    visited[i][j]=True\n",
    "    f=False\n",
    "    while q:\n",
    "        now=q.popleft()\n",
    "        nowX=now[0]\n",
    "        nowY=now[1]\n",
    "        for i in range(4):\n",
    "            nextX=nowX+dx[i]\n",
    "            nextY=nowY+dy[i]\n",
    "            if 0<=nextX<n and 0<=nextY<10 and visited[nextX][nextY]==False and value==arr[nextX][nextY]:\n",
    "                lst.append((nextX,nextY))\n",
    "                visited[nextX][nextY]=True\n",
    "                q.append((nextX,nextY))\n",
    "    if len(lst)>=k:\n",
    "        flag=False\n",
    "        for j in lst:\n",
    "            arr[j[0]][j[1]]='0'\n",
    "\n",
    "def down():\n",
    "    for i in range(10):\n",
    "        stack=[]\n",
    "        for j in range(n):\n",
    "            if arr[j][i]!='0':\n",
    "                stack.append(arr[j][i])\n",
    "        for j in range(n-1,-1,-1):\n",
    "            if stack:\n",
    "                arr[j][i]=stack.pop()\n",
    "            else:\n",
    "                arr[j][i]='0'\n",
    "            \n",
    "for _ in range(n):\n",
    "    arr.append(list(input()))\n",
    "\n",
    "\n",
    "while True:\n",
    "    flag=True\n",
    "    for i in range(n):\n",
    "        for j in range(10):\n",
    "            if arr[i][j]!='0':\n",
    "                visited=[[False]*10 for _ in range(n)]\n",
    "                BFS(i,j, arr[i][j])\n",
    "    down()\n",
    "    if flag==True:\n",
    "        break\n",
    "        \n",
    "for i in arr:\n",
    "    print(\"\".join(i))"
   ]
  },
  {
   "cell_type": "code",
   "execution_count": null,
   "metadata": {},
   "outputs": [],
   "source": []
  },
  {
   "cell_type": "markdown",
   "metadata": {},
   "source": [
    "###### 2"
   ]
  }
 ],
 "metadata": {
  "kernelspec": {
   "display_name": "Python 3",
   "language": "python",
   "name": "python3"
  },
  "language_info": {
   "codemirror_mode": {
    "name": "ipython",
    "version": 3
   },
   "file_extension": ".py",
   "mimetype": "text/x-python",
   "name": "python",
   "nbconvert_exporter": "python",
   "pygments_lexer": "ipython3",
   "version": "3.8.5"
  }
 },
 "nbformat": 4,
 "nbformat_minor": 4
}
