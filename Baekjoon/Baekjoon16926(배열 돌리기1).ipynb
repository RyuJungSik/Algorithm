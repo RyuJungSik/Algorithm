{
 "cells": [
  {
   "cell_type": "code",
   "execution_count": 96,
   "metadata": {
    "scrolled": false
   },
   "outputs": [
    {
     "name": "stdout",
     "output_type": "stream",
     "text": [
      "2 2 3\n",
      "1 1\n",
      "1 1\n",
      "1 1\n",
      "1 1\n"
     ]
    }
   ],
   "source": [
    "from copy import deepcopy\n",
    "\n",
    "n,m,r=map(int, input().split())\n",
    "board=[]\n",
    "for _ in range(n):\n",
    "    board.append(list(map(int, input().split())))\n",
    "# board=[[1, 2, 3, 4],[5, 6, 7, 8],[9, 8, 7, 6],[5, 4, 3, 2]]\n",
    "  \n",
    "sx=0\n",
    "ex=n\n",
    "sy=0\n",
    "ey=m\n",
    "for k in range(min(n,m)//2):\n",
    "    arr=[]\n",
    "    tmp=0\n",
    "    for j in range(sy,ey):\n",
    "        arr.append(board[sx][j])\n",
    "    for i in range(sx+1,ex):\n",
    "        arr.append(board[i][ey-1])\n",
    "    for j in range(ey-2,sy-1,-1):\n",
    "        arr.append(board[ex-1][j])\n",
    "    for i in range(ex-2,sx,-1):\n",
    "        arr.append(board[i][sy])\n",
    "\n",
    "    r=r%len(arr)\n",
    "    arr=arr[r:]+arr[0:r]\n",
    "\n",
    "    for j in range(sy,ey):\n",
    "        board[sx][j]=arr[tmp]\n",
    "        tmp+=1\n",
    "    for i in range(sx+1,ex):\n",
    "        board[i][ey-1]=arr[tmp]\n",
    "        tmp+=1\n",
    "    for j in range(ey-2,sy-1,-1):\n",
    "        board[ex-1][j]=arr[tmp]\n",
    "        tmp+=1\n",
    "    for i in range(ex-2,sx,-1):\n",
    "        board[i][sy]=arr[tmp]\n",
    "        tmp+=1\n",
    "\n",
    "    sx+=1\n",
    "    ex-=1\n",
    "    sy+=1\n",
    "    ey-=1     \n",
    "\n",
    "for i in board:\n",
    "    print(\" \".join(map(str,i)))"
   ]
  },
  {
   "cell_type": "code",
   "execution_count": null,
   "metadata": {},
   "outputs": [],
   "source": [
    "1 2 3 4 5 6 71 2 3 4 5 6 7"
   ]
  },
  {
   "cell_type": "code",
   "execution_count": null,
   "metadata": {},
   "outputs": [],
   "source": [
    "4 "
   ]
  }
 ],
 "metadata": {
  "kernelspec": {
   "display_name": "Python 3",
   "language": "python",
   "name": "python3"
  },
  "language_info": {
   "codemirror_mode": {
    "name": "ipython",
    "version": 3
   },
   "file_extension": ".py",
   "mimetype": "text/x-python",
   "name": "python",
   "nbconvert_exporter": "python",
   "pygments_lexer": "ipython3",
   "version": "3.8.5"
  }
 },
 "nbformat": 4,
 "nbformat_minor": 4
}
