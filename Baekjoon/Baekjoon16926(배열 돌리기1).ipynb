{
 "cells": [
  {
   "cell_type": "code",
   "execution_count": null,
   "metadata": {},
   "outputs": [],
   "source": [
    "n,m,r=map(int, input().split())\n",
    "a=[list(map(int,input().split())) for _ in range(n)]\n",
    "groups=[]\n",
    "groupn=min(n,m)//2\n",
    "\n",
    "for k in range(groupn):\n",
    "    group=[]\n",
    "    for j in range(k,m-k):\n",
    "        group.append(a[k][j])\n",
    "    for i in range(k+1,n-k-1):\n",
    "        group.append(a[i][m-k-1])\n",
    "    for j in range(m-k-1,k,-1):\n",
    "        group.append(a[n-k-1][j])\n",
    "    for i in range(n-k-1,k,-1):\n",
    "        group.append(a[i][k])\n",
    "    groups.append(group)\n",
    "\n",
    "for k in range(groupn):\n",
    "    group=groups[k]\n",
    "    l=len(group)\n",
    "    index=r%l\n",
    "    for j in range(k,m-k):\n",
    "        a[k][j]=group[index]\n",
    "        index=(index+1)%l\n",
    "    for i in range(k+1,n-k-1):\n",
    "        a[i][m-k-1]=group[index]\n",
    "        index=(index+1)%l\n",
    "    for j in range(m-k-1,k,-1):\n",
    "        a[n-k-1][j]=group[index]\n",
    "        index=(index+1)%l\n",
    "    for i in range(n-k-1,k,-1):\n",
    "        a[i][k]=group[index]\n",
    "        index=(index+1)%l\n",
    "for row in a:\n",
    "    print(' '.join(map(str,row)))"
   ]
  }
 ],
 "metadata": {
  "kernelspec": {
   "display_name": "Python 3",
   "language": "python",
   "name": "python3"
  },
  "language_info": {
   "codemirror_mode": {
    "name": "ipython",
    "version": 3
   },
   "file_extension": ".py",
   "mimetype": "text/x-python",
   "name": "python",
   "nbconvert_exporter": "python",
   "pygments_lexer": "ipython3",
   "version": "3.8.5"
  }
 },
 "nbformat": 4,
 "nbformat_minor": 4
}
