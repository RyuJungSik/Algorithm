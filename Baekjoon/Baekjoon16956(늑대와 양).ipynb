{
 "cells": [
  {
   "cell_type": "code",
   "execution_count": 59,
   "metadata": {},
   "outputs": [
    {
     "name": "stdout",
     "output_type": "stream",
     "text": [
      "5 5\n",
      ".S...\n",
      "...S.\n",
      "S....\n",
      "...S.\n",
      ".S...\n",
      "1\n",
      "DSDDD\n",
      "DDDSD\n",
      "SDDDD\n",
      "DDDSD\n",
      "DSDDD\n"
     ]
    }
   ],
   "source": [
    "r,c=map(int, input().split())\n",
    "arr=[]\n",
    "dx=[0,1,0,-1]\n",
    "dy=[1,0,-1,0]\n",
    "flag=False\n",
    "for _ in range(r):\n",
    "    arr.append(list(input()))\n",
    "\n",
    "for i in range(r):\n",
    "    for j in range(c):\n",
    "        if arr[i][j]=='W':\n",
    "            for k in range(4):\n",
    "                nextX=i+dx[k]\n",
    "                nextY=j+dy[k]\n",
    "                if 0<=nextX<r and 0<=nextY<c:\n",
    "                    if arr[nextX][nextY]=='S':\n",
    "                        flag=True\n",
    "if flag:\n",
    "    print(0)\n",
    "else:\n",
    "    print(1)\n",
    "    for i in range(r):\n",
    "        for j in range(c):\n",
    "            if arr[i][j]=='.':\n",
    "                print(\"D\", end=\"\")\n",
    "            else:\n",
    "                print(arr[i][j], end=\"\")\n",
    "        print()"
   ]
  },
  {
   "cell_type": "code",
   "execution_count": null,
   "metadata": {},
   "outputs": [],
   "source": []
  },
  {
   "cell_type": "code",
   "execution_count": null,
   "metadata": {},
   "outputs": [],
   "source": []
  }
 ],
 "metadata": {
  "kernelspec": {
   "display_name": "Python 3",
   "language": "python",
   "name": "python3"
  },
  "language_info": {
   "codemirror_mode": {
    "name": "ipython",
    "version": 3
   },
   "file_extension": ".py",
   "mimetype": "text/x-python",
   "name": "python",
   "nbconvert_exporter": "python",
   "pygments_lexer": "ipython3",
   "version": "3.8.5"
  }
 },
 "nbformat": 4,
 "nbformat_minor": 4
}
