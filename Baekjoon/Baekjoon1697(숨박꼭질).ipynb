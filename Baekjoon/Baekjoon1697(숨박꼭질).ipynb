{
 "cells": [
  {
   "cell_type": "code",
   "execution_count": 12,
   "metadata": {},
   "outputs": [
    {
     "ename": "SyntaxError",
     "evalue": "invalid syntax (<ipython-input-12-a8f6bec4b099>, line 16)",
     "output_type": "error",
     "traceback": [
      "\u001b[1;36m  File \u001b[1;32m\"<ipython-input-12-a8f6bec4b099>\"\u001b[1;36m, line \u001b[1;32m16\u001b[0m\n\u001b[1;33m    if now-1>=0visited[now-1]==-1:\u001b[0m\n\u001b[1;37m               ^\u001b[0m\n\u001b[1;31mSyntaxError\u001b[0m\u001b[1;31m:\u001b[0m invalid syntax\n"
     ]
    }
   ],
   "source": [
    "from collections import deque\n",
    "\n",
    "def bfs(v):\n",
    "    global cur, k\n",
    "    q=deque([v])\n",
    "    while q:\n",
    "        size=len(q)\n",
    "        if k in q:\n",
    "            break\n",
    "        for _ in range(size):\n",
    "            now=q.popleft()\n",
    "            \n",
    "            if now+1<=100000 and visited[now+1]==-1:\n",
    "                visited[now+1]=cur\n",
    "                q.append(now+1)\n",
    "            if now-1>=0 and visited[now-1]==-1:\n",
    "                visited[now-1]=cur\n",
    "                q.append(now-1)\n",
    "            if now+1<=100000 and visited[now*2]==-1:\n",
    "                visited[now*2]=cur\n",
    "                q.append(now*2) \n",
    "        cur+=1\n",
    "        \n",
    "n,k=map(int, input().split())\n",
    "\n",
    "visited=[-1]*(1000001)\n",
    "\n",
    "visited[n]=0\n",
    "cur=1\n",
    "bfs(n)\n",
    "print(visited[k])\n"
   ]
  },
  {
   "cell_type": "code",
   "execution_count": null,
   "metadata": {},
   "outputs": [],
   "source": []
  },
  {
   "cell_type": "code",
   "execution_count": null,
   "metadata": {},
   "outputs": [],
   "source": []
  }
 ],
 "metadata": {
  "kernelspec": {
   "display_name": "Python 3",
   "language": "python",
   "name": "python3"
  },
  "language_info": {
   "codemirror_mode": {
    "name": "ipython",
    "version": 3
   },
   "file_extension": ".py",
   "mimetype": "text/x-python",
   "name": "python",
   "nbconvert_exporter": "python",
   "pygments_lexer": "ipython3",
   "version": "3.8.5"
  }
 },
 "nbformat": 4,
 "nbformat_minor": 4
}
