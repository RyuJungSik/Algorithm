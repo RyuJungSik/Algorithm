{
 "cells": [
  {
   "cell_type": "code",
   "execution_count": null,
   "metadata": {},
   "outputs": [],
   "source": [
    "import sys\n",
    "sys.setrecursionlimit(1000000)\n",
    "\n",
    "def dfs(index,cur,color):\n",
    "    global flag, visited\n",
    "    if flag==False:\n",
    "        return False\n",
    "    if index==n:\n",
    "        return\n",
    "    else:\n",
    "        for i in graph[cur]:\n",
    "            visited[cur]=color\n",
    "            if visited[i]==0:\n",
    "                dfs(index+1,i,3-color)\n",
    "            else:\n",
    "                if visited[cur]==visited[i]:\n",
    "                    flag=False\n",
    "                    \n",
    "tc=int(sys.stdin.readline())\n",
    "for _ in range(tc):\n",
    "    flag=True\n",
    "    n,m=map(int, sys.stdin.readline().split())\n",
    "    graph=[[] for _ in range(n)]\n",
    "    visited=[0] * (n)\n",
    "    for _ in range(m):\n",
    "        a,b=map(int,sys.stdin.readline().split())\n",
    "        graph[a-1].append(b-1)\n",
    "        graph[b-1].append(a-1)\n",
    "    for i in range(n):\n",
    "        if visited[i]==0:\n",
    "            dfs(0,i,1)\n",
    "        if flag==False:\n",
    "            break\n",
    "    if flag==True:\n",
    "        print(\"YES\")\n",
    "    else:\n",
    "        print(\"NO\")  "
   ]
  }
 ],
 "metadata": {
  "kernelspec": {
   "display_name": "Python 3",
   "language": "python",
   "name": "python3"
  },
  "language_info": {
   "codemirror_mode": {
    "name": "ipython",
    "version": 3
   },
   "file_extension": ".py",
   "mimetype": "text/x-python",
   "name": "python",
   "nbconvert_exporter": "python",
   "pygments_lexer": "ipython3",
   "version": "3.8.5"
  }
 },
 "nbformat": 4,
 "nbformat_minor": 4
}
