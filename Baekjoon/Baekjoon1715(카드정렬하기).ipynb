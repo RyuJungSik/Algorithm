{
 "cells": [
  {
   "cell_type": "code",
   "execution_count": 18,
   "metadata": {},
   "outputs": [
    {
     "name": "stdout",
     "output_type": "stream",
     "text": [
      "3\n",
      "10\n",
      "20\n",
      "40\n",
      "100\n"
     ]
    }
   ],
   "source": [
    "import heapq\n",
    "\n",
    "heap=[]\n",
    "\n",
    "\n",
    "n=int(input())\n",
    "\n",
    "for _ in range(n):\n",
    "    x=int(input())\n",
    "    heapq.heappush(heap, x)\n",
    "\n",
    "answer=0\n",
    "while len(heap)!=1:\n",
    "    one=heapq.heappop(heap)\n",
    "    two=heapq.heappop(heap)\n",
    "    result=one+two\n",
    "    answer+=result\n",
    "    heapq.heappush(heap, result)\n",
    "print(answer)"
   ]
  },
  {
   "cell_type": "code",
   "execution_count": null,
   "metadata": {},
   "outputs": [],
   "source": []
  }
 ],
 "metadata": {
  "kernelspec": {
   "display_name": "Python 3",
   "language": "python",
   "name": "python3"
  },
  "language_info": {
   "codemirror_mode": {
    "name": "ipython",
    "version": 3
   },
   "file_extension": ".py",
   "mimetype": "text/x-python",
   "name": "python",
   "nbconvert_exporter": "python",
   "pygments_lexer": "ipython3",
   "version": "3.8.5"
  }
 },
 "nbformat": 4,
 "nbformat_minor": 4
}
