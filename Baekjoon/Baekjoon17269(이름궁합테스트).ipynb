{
 "cells": [
  {
   "cell_type": "code",
   "execution_count": 52,
   "metadata": {},
   "outputs": [
    {
     "name": "stdout",
     "output_type": "stream",
     "text": [
      "3 2\n",
      "BOJ IN\n",
      "1%\n"
     ]
    }
   ],
   "source": [
    "n,m=map(int, input().split())\n",
    "a,b=input().split()\n",
    "arr=[]\n",
    "tmp=[]\n",
    "alpaDict={}\n",
    "lines=[3,2,1,2,4,3,1,3,1,1,3,1,3,2,1,2,2,2,1,2,1,1,1,2,2,1]\n",
    "for i in range(0,len(lines)):\n",
    "    alpaDict[chr(65+i)]=lines[i]\n",
    "for i in range(0, max(n,m)):\n",
    "    if i<n:\n",
    "        tmp.append(alpaDict[a[i]])\n",
    "    if i<m:\n",
    "        tmp.append(alpaDict[b[i]])\n",
    "\n",
    "arr.append(tmp)\n",
    "\n",
    "                                                                                     \n",
    "for i in range(0, n+m-2):\n",
    "    tmp=[]\n",
    "    for j in range(0, len(arr[i])-1):\n",
    "        tmp.append((arr[i][j]+arr[i][j+1])%10)\n",
    "    arr.append(tmp)\n",
    "if arr[-1][0]!=0:\n",
    "    print(str(arr[-1][0])+str(arr[-1][1])+'%')\n",
    "else:\n",
    "    print(str(arr[-1][1])+'%')"
   ]
  }
 ],
 "metadata": {
  "kernelspec": {
   "display_name": "Python 3",
   "language": "python",
   "name": "python3"
  },
  "language_info": {
   "codemirror_mode": {
    "name": "ipython",
    "version": 3
   },
   "file_extension": ".py",
   "mimetype": "text/x-python",
   "name": "python",
   "nbconvert_exporter": "python",
   "pygments_lexer": "ipython3",
   "version": "3.8.5"
  }
 },
 "nbformat": 4,
 "nbformat_minor": 4
}
