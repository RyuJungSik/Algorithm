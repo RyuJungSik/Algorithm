{
 "cells": [
  {
   "cell_type": "code",
   "execution_count": 55,
   "metadata": {},
   "outputs": [
    {
     "name": "stdout",
     "output_type": "stream",
     "text": [
      "<ab cd>ef gh<ij kl>\n",
      "<ab cd>fe hg<ij kl>"
     ]
    }
   ],
   "source": [
    "\n",
    "s=input()\n",
    "s1=[]\n",
    "flag=0\n",
    "tmp=\"\"\n",
    "for i,j in enumerate(s):\n",
    "    if j==' ' and flag==0:\n",
    "        print(tmp[::-1], end=\"\")\n",
    "        print(\" \", end=\"\")\n",
    "        tmp=\"\"\n",
    "        continue\n",
    "    if j=='<':\n",
    "        print(tmp[::-1], end=\"\")\n",
    "        tmp=\"\"\n",
    "        print(\"<\", end=\"\")\n",
    "        flag=1\n",
    "        continue\n",
    "    if j=='>':\n",
    "        print(\">\", end=\"\")\n",
    "        flag=0\n",
    "        continue\n",
    "    if flag==1:\n",
    "        print(j, end=\"\")\n",
    "        continue\n",
    "    tmp+=j\n",
    "    \n",
    "print(tmp[::-1], end=\"\")\n"
   ]
  },
  {
   "cell_type": "code",
   "execution_count": null,
   "metadata": {},
   "outputs": [],
   "source": []
  }
 ],
 "metadata": {
  "kernelspec": {
   "display_name": "Python 3",
   "language": "python",
   "name": "python3"
  },
  "language_info": {
   "codemirror_mode": {
    "name": "ipython",
    "version": 3
   },
   "file_extension": ".py",
   "mimetype": "text/x-python",
   "name": "python",
   "nbconvert_exporter": "python",
   "pygments_lexer": "ipython3",
   "version": "3.8.5"
  }
 },
 "nbformat": 4,
 "nbformat_minor": 4
}
