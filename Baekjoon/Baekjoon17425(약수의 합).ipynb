{
 "cells": [
  {
   "cell_type": "code",
   "execution_count": null,
   "metadata": {},
   "outputs": [
    {
     "name": "stdout",
     "output_type": "stream",
     "text": [
      "5\n",
      "1\n",
      "(1, 1)\n",
      "1\n",
      "2\n",
      "(2, 3)\n",
      "3\n"
     ]
    }
   ],
   "source": [
    "tc=int(input())\n",
    "memory=(0,0)\n",
    "for _ in range(tc):\n",
    "    n=int(input())\n",
    "    answer=memory[1]\n",
    "    for i in range(1, n+1):\n",
    "        if i<=memory[0]:\n",
    "            continue\n",
    "        answer+=i*((n)//i)\n",
    "    memory=(n,answer)\n",
    "    print(memory)\n",
    "    print(answer)"
   ]
  },
  {
   "cell_type": "code",
   "execution_count": null,
   "metadata": {},
   "outputs": [],
   "source": []
  }
 ],
 "metadata": {
  "kernelspec": {
   "display_name": "Python 3",
   "language": "python",
   "name": "python3"
  },
  "language_info": {
   "codemirror_mode": {
    "name": "ipython",
    "version": 3
   },
   "file_extension": ".py",
   "mimetype": "text/x-python",
   "name": "python",
   "nbconvert_exporter": "python",
   "pygments_lexer": "ipython3",
   "version": "3.8.5"
  }
 },
 "nbformat": 4,
 "nbformat_minor": 4
}
