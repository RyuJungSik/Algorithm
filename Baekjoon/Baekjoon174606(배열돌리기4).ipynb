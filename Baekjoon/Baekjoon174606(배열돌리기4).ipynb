{
 "cells": [
  {
   "cell_type": "code",
   "execution_count": 42,
   "metadata": {},
   "outputs": [
    {
     "name": "stdout",
     "output_type": "stream",
     "text": [
      "5 6 2\n",
      "1 2 3 2 5 6\n",
      "3 8 7 2 1 3\n",
      "8 2 3 1 4 5\n",
      "3 4 5 1 1 1\n",
      "9 3 2 1 4 3\n",
      "3 4 2\n",
      "4 2 1\n",
      "12\n"
     ]
    }
   ],
   "source": [
    "import sys, itertools, copy \n",
    "\n",
    "def rotate(pm, arr): \n",
    "    result = float('inf') \n",
    "    while pm: \n",
    "        r, c, s = pm.pop() \n",
    "        uy, ux, ly, lx = r-s, c-s, r+s, c+s \n",
    "        while uy < ly and ux < lx: \n",
    "            t1, t2, t3 = arr[uy][lx], arr[ly][lx], arr[ly][ux] \n",
    "            for x in range(lx, ux, -1): \n",
    "                arr[uy][x] = arr[uy][x-1] \n",
    "            for y in range(ly, uy, -1): \n",
    "                arr[y][lx] = arr[y-1][lx] \n",
    "            arr[uy+1][lx] = t1 \n",
    "            for x in range(ux, lx): \n",
    "                arr[ly][x] = arr[ly][x+1] \n",
    "            arr[ly][lx-1] = t2 \n",
    "            for y in range(uy, ly): \n",
    "                arr[y][ux] = arr[y+1][ux] \n",
    "            arr[ly-1][ux] = t3 \n",
    "            uy, ux, ly, lx = uy+1, ux+1, ly-1, lx-1 \n",
    "    for i in range(1, n+1): \n",
    "        raw_sum = sum(arr[i]) \n",
    "        result = min(result, raw_sum) \n",
    "    return result \n",
    "\n",
    "arr, ops = [], [] \n",
    "n, m, k = map(int, input().split()) \n",
    "org_arr = [[0 for _ in range(m+1)]]+[[0]+[int(x) for x in input().split()] for _ in range(n)] \n",
    "ops = [[int(x) for x in input().split()] for _ in range(k)] \n",
    "min_value = float('inf') \n",
    "\n",
    "for pm in list(itertools.permutations(ops, k)): \n",
    "    result = rotate(list(pm), copy.deepcopy(org_arr)) \n",
    "    min_value = min(min_value, result)\n",
    "\n",
    "print(min_value)\n"
   ]
  },
  {
   "cell_type": "code",
   "execution_count": null,
   "metadata": {},
   "outputs": [],
   "source": []
  }
 ],
 "metadata": {
  "kernelspec": {
   "display_name": "Python 3",
   "language": "python",
   "name": "python3"
  },
  "language_info": {
   "codemirror_mode": {
    "name": "ipython",
    "version": 3
   },
   "file_extension": ".py",
   "mimetype": "text/x-python",
   "name": "python",
   "nbconvert_exporter": "python",
   "pygments_lexer": "ipython3",
   "version": "3.8.5"
  }
 },
 "nbformat": 4,
 "nbformat_minor": 4
}
