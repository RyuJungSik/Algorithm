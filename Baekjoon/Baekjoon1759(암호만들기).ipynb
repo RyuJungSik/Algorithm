{
 "cells": [
  {
   "cell_type": "code",
   "execution_count": 81,
   "metadata": {},
   "outputs": [
    {
     "name": "stdout",
     "output_type": "stream",
     "text": [
      "4 6\n",
      "a t c i s w\n",
      "acis\n",
      "acit\n",
      "aciw\n",
      "acst\n",
      "acsw\n",
      "actw\n",
      "aist\n",
      "aisw\n",
      "aitw\n",
      "astw\n",
      "cist\n",
      "cisw\n",
      "citw\n",
      "istw\n"
     ]
    }
   ],
   "source": [
    "l,c=map(int, input().split())\n",
    "arr=input().split()\n",
    "arr.sort()\n",
    "\n",
    "def dfs(n, step, child, mother):\n",
    "    if n==l:\n",
    "        if child>=1 and mother>=2:\n",
    "            print(step)\n",
    "        return\n",
    "    else:\n",
    "        for i in arr:\n",
    "            if step=='' or step[-1]<i:\n",
    "                if i=='a' or i=='e' or i=='i' or i=='o' or i=='u':\n",
    "                    dfs(n+1, step+i,child+1,mother)\n",
    "                else:\n",
    "                    dfs(n+1, step+i,child,mother+1)\n",
    "dfs(0,'',0,0)"
   ]
  },
  {
   "cell_type": "code",
   "execution_count": null,
   "metadata": {},
   "outputs": [],
   "source": []
  }
 ],
 "metadata": {
  "kernelspec": {
   "display_name": "Python 3",
   "language": "python",
   "name": "python3"
  },
  "language_info": {
   "codemirror_mode": {
    "name": "ipython",
    "version": 3
   },
   "file_extension": ".py",
   "mimetype": "text/x-python",
   "name": "python",
   "nbconvert_exporter": "python",
   "pygments_lexer": "ipython3",
   "version": "3.8.5"
  }
 },
 "nbformat": 4,
 "nbformat_minor": 4
}
