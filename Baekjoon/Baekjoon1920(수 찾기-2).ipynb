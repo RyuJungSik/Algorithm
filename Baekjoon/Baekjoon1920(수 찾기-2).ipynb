{
 "cells": [
  {
   "cell_type": "code",
   "execution_count": null,
   "metadata": {},
   "outputs": [],
   "source": [
    "n=int(input())\n",
    "a1=list(map(int, input().split()))\n",
    "m=int(input())\n",
    "a2=list(map(int, input().split()))\n",
    "        \n",
    "hash=dict()\n",
    "for i in a1:\n",
    "    hash[i]=1\n",
    "for i in a2:\n",
    "    if i in hash:\n",
    "        print(1)\n",
    "    else:\n",
    "        print(0)"
   ]
  }
 ],
 "metadata": {
  "kernelspec": {
   "display_name": "Python 3",
   "language": "python",
   "name": "python3"
  },
  "language_info": {
   "codemirror_mode": {
    "name": "ipython",
    "version": 3
   },
   "file_extension": ".py",
   "mimetype": "text/x-python",
   "name": "python",
   "nbconvert_exporter": "python",
   "pygments_lexer": "ipython3",
   "version": "3.8.5"
  }
 },
 "nbformat": 4,
 "nbformat_minor": 4
}
