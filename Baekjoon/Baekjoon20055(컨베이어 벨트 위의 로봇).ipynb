{
 "cells": [
  {
   "cell_type": "code",
   "execution_count": null,
   "metadata": {},
   "outputs": [],
   "source": [
    "n,k=map(int,input().split())\n",
    "nagudo=list(map(int, input().split()))\n",
    "belt=[[i,0] for i in nagudo]\n",
    "start=0\n",
    "\n",
    "answer=0\n",
    "flag=False\n",
    "\n",
    "def rotate(arr):\n",
    "    a=(arr.pop())\n",
    "    arr.insert(0,a)\n",
    "    arr[n-1][1]=0\n",
    "    return arr\n",
    "def Move(arr):\n",
    "    for i in range(n-2,-1,-1 ):\n",
    "        if arr[i][1]==0:\n",
    "            continue\n",
    "        if arr[i+1][0]>0 and arr[i+1][1]==0:\n",
    "            arr[i+1][0]-=1\n",
    "            arr[i+1][1]=1\n",
    "            arr[i][1]=0\n",
    "    arr[n-1][1]=0\n",
    "    return arr\n",
    "\n",
    "while True:\n",
    "    answer+=1\n",
    "    tmp=0\n",
    "    belt=rotate(belt)\n",
    "    belt=Move(belt)\n",
    "    if belt[0][0]>0:\n",
    "        belt[0][1]=1\n",
    "        belt[0][0]-=1\n",
    "    for i in belt:\n",
    "        if i[0]==0:\n",
    "            tmp+=1\n",
    "    if tmp>=k:\n",
    "        break\n",
    "    \n",
    "\n",
    "print(answer)"
   ]
  }
 ],
 "metadata": {
  "kernelspec": {
   "display_name": "Python 3",
   "language": "python",
   "name": "python3"
  },
  "language_info": {
   "codemirror_mode": {
    "name": "ipython",
    "version": 3
   },
   "file_extension": ".py",
   "mimetype": "text/x-python",
   "name": "python",
   "nbconvert_exporter": "python",
   "pygments_lexer": "ipython3",
   "version": "3.8.5"
  }
 },
 "nbformat": 4,
 "nbformat_minor": 4
}
