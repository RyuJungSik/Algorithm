{
 "cells": [
  {
   "cell_type": "code",
   "execution_count": null,
   "metadata": {},
   "outputs": [],
   "source": [
    "n=int(input())\n",
    "dp=[0]*(n+1)\n",
    "dp[0]=1\n",
    "if n>1:\n",
    "    dp[2]=3\n",
    "\n",
    "for i in range(3,n+1):\n",
    "    for j in range(1,i+1):\n",
    "        if j==2:\n",
    "            dp[i]+=dp[i-2]*3\n",
    "        if j>2 and j%2==0:\n",
    "            dp[i]+=dp[i-j]*2\n",
    "print(dp[n])"
   ]
  }
 ],
 "metadata": {
  "kernelspec": {
   "display_name": "Python 3",
   "language": "python",
   "name": "python3"
  },
  "language_info": {
   "codemirror_mode": {
    "name": "ipython",
    "version": 3
   },
   "file_extension": ".py",
   "mimetype": "text/x-python",
   "name": "python",
   "nbconvert_exporter": "python",
   "pygments_lexer": "ipython3",
   "version": "3.8.5"
  }
 },
 "nbformat": 4,
 "nbformat_minor": 4
}
