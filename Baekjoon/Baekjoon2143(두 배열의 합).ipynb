{
 "cells": [
  {
   "cell_type": "code",
   "execution_count": null,
   "metadata": {},
   "outputs": [],
   "source": [
    "from itertools import combinations\n",
    "from collections import Counter\n",
    "\n",
    "t=int(input())\n",
    "n1=int(input())\n",
    "\n",
    "a=list(map(int, input().split()))\n",
    "n2=int(input())\n",
    "b=list(map(int, input().split()))\n",
    "\n",
    "s1,s2=[],[]\n",
    "for i in range(n1):\n",
    "    sum = 0\n",
    "    for j in range(i, n1):\n",
    "        sum += a[j]\n",
    "        s1.append(sum)\n",
    "\n",
    "for i in range(n2):\n",
    "    sum = 0\n",
    "    for j in range(i, n2):\n",
    "        sum += b[j]\n",
    "        s2.append(sum)\n",
    "\n",
    "\n",
    "s1.sort()\n",
    "s2.sort()\n",
    "c=Counter(s2)\n",
    "\n",
    "left=0\n",
    "right=0\n",
    "answer=0\n",
    "for i in s1:\n",
    "    answer+=c[t-i]\n",
    "print(answer)\n"
   ]
  }
 ],
 "metadata": {
  "kernelspec": {
   "display_name": "Python 3",
   "language": "python",
   "name": "python3"
  },
  "language_info": {
   "codemirror_mode": {
    "name": "ipython",
    "version": 3
   },
   "file_extension": ".py",
   "mimetype": "text/x-python",
   "name": "python",
   "nbconvert_exporter": "python",
   "pygments_lexer": "ipython3",
   "version": "3.8.5"
  }
 },
 "nbformat": 4,
 "nbformat_minor": 4
}
