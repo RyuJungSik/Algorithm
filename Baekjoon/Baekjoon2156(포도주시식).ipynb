{
 "cells": [
  {
   "cell_type": "code",
   "execution_count": null,
   "metadata": {},
   "outputs": [],
   "source": [
    "n=int(input())\n",
    "arr=[]\n",
    "for i in range(n):\n",
    "    arr.append(int(input()))\n",
    "\n",
    "dp=[[0 for _ in range(3)] for _ in range(n)]\n",
    "dp[0][1]=arr[0]\n",
    "\n",
    "for i in range(1,n):\n",
    "    dp[i][0]=max(dp[i-1][0],dp[i-1][1],dp[i-1][2])\n",
    "    dp[i][1]=dp[i-1][0]+arr[i]\n",
    "    dp[i][2]=max(dp[i-1][1]+arr[i],dp[i-1][2])\n",
    "    \n",
    "print(max(dp[n-1]))"
   ]
  }
 ],
 "metadata": {
  "kernelspec": {
   "display_name": "Python 3",
   "language": "python",
   "name": "python3"
  },
  "language_info": {
   "codemirror_mode": {
    "name": "ipython",
    "version": 3
   },
   "file_extension": ".py",
   "mimetype": "text/x-python",
   "name": "python",
   "nbconvert_exporter": "python",
   "pygments_lexer": "ipython3",
   "version": "3.8.5"
  }
 },
 "nbformat": 4,
 "nbformat_minor": 4
}
