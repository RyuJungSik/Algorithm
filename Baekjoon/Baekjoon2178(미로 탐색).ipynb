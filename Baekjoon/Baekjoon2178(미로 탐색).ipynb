{
 "cells": [
  {
   "cell_type": "code",
   "execution_count": 58,
   "metadata": {},
   "outputs": [
    {
     "name": "stdout",
     "output_type": "stream",
     "text": [
      "7 7\n",
      "1011111\n",
      "1110001\n",
      "1000001\n",
      "1000001\n",
      "1000001\n",
      "1000001\n",
      "1111111\n",
      "13\n"
     ]
    }
   ],
   "source": [
    "def dfs(x,y,sum):\n",
    "    global answer, arr, flag\n",
    "    if flag:\n",
    "        return\n",
    "    if x==n-1 and y==m-1:\n",
    "        answer=min(answer, sum)\n",
    "        if answer==n+m-1:\n",
    "            flag=True\n",
    "        return\n",
    "    else:\n",
    "        for i in range(4):\n",
    "            nextX=x+dx[i]\n",
    "            nextY=y+dy[i]\n",
    "            if 0<=nextX<n and 0<=nextY<m and arr[nextX][nextY]!=0:\n",
    "                arr[nextX][nextY]=0\n",
    "                dfs(nextX,nextY,sum+1)\n",
    "                arr[nextX][nextY]=1\n",
    "\n",
    "n,m=map(int,input().split())\n",
    "arr=[]\n",
    "flag=False\n",
    "answer=10000\n",
    "dx=[1,-1,0,0]\n",
    "dy=[0,0,1,-1]\n",
    "for _ in range(n):\n",
    "    arr.append(list(map(int,list(input()))))\n",
    "dfs(0,0,1)\n",
    "print(answer)"
   ]
  },
  {
   "cell_type": "code",
   "execution_count": null,
   "metadata": {},
   "outputs": [],
   "source": []
  },
  {
   "cell_type": "code",
   "execution_count": null,
   "metadata": {},
   "outputs": [],
   "source": []
  }
 ],
 "metadata": {
  "kernelspec": {
   "display_name": "Python 3",
   "language": "python",
   "name": "python3"
  },
  "language_info": {
   "codemirror_mode": {
    "name": "ipython",
    "version": 3
   },
   "file_extension": ".py",
   "mimetype": "text/x-python",
   "name": "python",
   "nbconvert_exporter": "python",
   "pygments_lexer": "ipython3",
   "version": "3.8.5"
  }
 },
 "nbformat": 4,
 "nbformat_minor": 4
}
