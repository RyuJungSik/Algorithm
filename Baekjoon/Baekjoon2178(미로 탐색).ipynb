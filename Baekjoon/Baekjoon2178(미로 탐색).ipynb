{
 "cells": [
  {
   "cell_type": "code",
   "execution_count": null,
   "metadata": {},
   "outputs": [],
   "source": [
    "from collections import deque\n",
    "\n",
    "def bfs():\n",
    "    global answer\n",
    "    q=deque()\n",
    "    if arr[0][0]!=0:\n",
    "        q.append((0,0))\n",
    "        arr[0][0]=0\n",
    "    while q:\n",
    "        answer+=1\n",
    "        for i in range(len(q)):\n",
    "            nowX,nowY=q.popleft()\n",
    "            if nowX==n-1 and nowY==m-1:\n",
    "                return\n",
    "            for j in range(4):\n",
    "                nextX,nextY=nowX+dx[j], nowY+dy[j]\n",
    "                if 0<=nextX<n and 0<=nextY<m and arr[nextX][nextY]!=0:\n",
    "                    arr[nextX][nextY]=0\n",
    "                    q.append((nextX,nextY))\n",
    "\n",
    "n,m=map(int,input().split())\n",
    "arr=[]\n",
    "flag=False\n",
    "answer=0\n",
    "dx=[1,-1,0,0]\n",
    "dy=[0,0,1,-1]\n",
    "for _ in range(n):\n",
    "    arr.append(list(map(int,list(input()))))\n",
    "bfs()\n",
    "print(answer)"
   ]
  }
 ],
 "metadata": {
  "kernelspec": {
   "display_name": "Python 3",
   "language": "python",
   "name": "python3"
  },
  "language_info": {
   "codemirror_mode": {
    "name": "ipython",
    "version": 3
   },
   "file_extension": ".py",
   "mimetype": "text/x-python",
   "name": "python",
   "nbconvert_exporter": "python",
   "pygments_lexer": "ipython3",
   "version": "3.8.5"
  }
 },
 "nbformat": 4,
 "nbformat_minor": 4
}
