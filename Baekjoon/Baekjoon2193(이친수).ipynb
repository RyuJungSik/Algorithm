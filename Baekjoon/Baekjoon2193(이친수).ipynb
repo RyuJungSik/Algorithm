{
 "cells": [
  {
   "cell_type": "code",
   "execution_count": 58,
   "metadata": {},
   "outputs": [
    {
     "name": "stdout",
     "output_type": "stream",
     "text": [
      "3\n",
      "2\n"
     ]
    }
   ],
   "source": [
    "n=int(input())\n",
    "maxV=91\n",
    "dp=[[0 for _ in range(2)] for _ in range(maxV)]\n",
    "dp[1][1]=1\n",
    "dp[2][0]=1\n",
    "dp[2][1]=0\n",
    "\n",
    "for i in range(3,maxV):\n",
    "    dp[i][0]=dp[i-1][0]+dp[i-1][1]\n",
    "    dp[i][1]=dp[i-1][0]\n",
    "    \n",
    "print(dp[n][0]+dp[n][1])"
   ]
  }
 ],
 "metadata": {
  "kernelspec": {
   "display_name": "Python 3",
   "language": "python",
   "name": "python3"
  },
  "language_info": {
   "codemirror_mode": {
    "name": "ipython",
    "version": 3
   },
   "file_extension": ".py",
   "mimetype": "text/x-python",
   "name": "python",
   "nbconvert_exporter": "python",
   "pygments_lexer": "ipython3",
   "version": "3.8.5"
  }
 },
 "nbformat": 4,
 "nbformat_minor": 4
}
