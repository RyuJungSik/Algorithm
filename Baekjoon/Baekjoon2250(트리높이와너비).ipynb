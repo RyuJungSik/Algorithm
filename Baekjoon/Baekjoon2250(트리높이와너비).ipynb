{
 "cells": [
  {
   "cell_type": "code",
   "execution_count": 65,
   "metadata": {},
   "outputs": [
    {
     "name": "stdout",
     "output_type": "stream",
     "text": [
      "3\n",
      "1 2 3\n",
      "2 -1 -1\n",
      "3 -1 -1\n",
      "2 3\n"
     ]
    }
   ],
   "source": [
    "class Node:\n",
    "    def __init__(self, n, l, r):\n",
    "        self.p=-1\n",
    "        self.n=n\n",
    "        self.l=l\n",
    "        self.r=r\n",
    "        \n",
    "\n",
    "def in_order(node, level):\n",
    "    global level_depth, x\n",
    "    level_depth=max(level_depth, level)\n",
    "    if node.l != -1:\n",
    "        in_order(tree[node.l], level+1)\n",
    "    level_min[level]=min(level_min[level], x)\n",
    "    level_max[level]=max(level_max[level], x)\n",
    "    x+=1\n",
    "    if node.r != -1:\n",
    "        in_order(tree[node.r], level+1)\n",
    "        \n",
    "        \n",
    "n=int(input())\n",
    "tree={}\n",
    "level_min=[n]\n",
    "level_max=[0]\n",
    "root=-1\n",
    "x=1\n",
    "level_depth=1\n",
    "\n",
    "for i in range(1, n+1):\n",
    "    tree[i]=Node(i, -1, -1)\n",
    "    level_min.append(n)\n",
    "    level_max.append(0)\n",
    "    \n",
    "for _ in range(n):\n",
    "    number, left_node, right_node=map(int, input().split())\n",
    "    tree[number].l=left_node\n",
    "    tree[number].r=right_node\n",
    "    if left_node!=-1:\n",
    "        tree[left_node].p=number\n",
    "    if right_node!=-1:\n",
    "        tree[right_node].p=number\n",
    "for i in range(1, n+1):\n",
    "    if tree[i].p==-1:\n",
    "        root=i\n",
    "in_order(tree[root], 1)\n",
    "\n",
    "result_level=1\n",
    "result_width=level_max[1]-level_min[1]+1\n",
    "\n",
    "for i in range(2, level_depth +1):\n",
    "    width=level_max[i] - level_min[i]+1\n",
    "    if result_width < width:\n",
    "        result_level=i\n",
    "        result_width=width\n",
    "print(result_level, result_width)\n",
    "        "
   ]
  },
  {
   "cell_type": "code",
   "execution_count": null,
   "metadata": {},
   "outputs": [],
   "source": []
  }
 ],
 "metadata": {
  "kernelspec": {
   "display_name": "Python 3",
   "language": "python",
   "name": "python3"
  },
  "language_info": {
   "codemirror_mode": {
    "name": "ipython",
    "version": 3
   },
   "file_extension": ".py",
   "mimetype": "text/x-python",
   "name": "python",
   "nbconvert_exporter": "python",
   "pygments_lexer": "ipython3",
   "version": "3.8.5"
  }
 },
 "nbformat": 4,
 "nbformat_minor": 4
}
