{
 "cells": [
  {
   "cell_type": "code",
   "execution_count": 29,
   "metadata": {},
   "outputs": [
    {
     "name": "stdout",
     "output_type": "stream",
     "text": [
      "6 2 5\n",
      "600\n"
     ]
    }
   ],
   "source": [
    "dices=list(map(int, input().split()))\n",
    "\n",
    "if dices[0]==dices[1]==dices[2]:\n",
    "    print(10000+dices[0]*1000)\n",
    "elif dices[0]==dices[1]:\n",
    "    print(1000+dices[0]*100)\n",
    "elif dices[0]==dices[2]:\n",
    "    print(1000+dices[0]*100)\n",
    "elif dices[1]==dices[2]:\n",
    "    print(1000+dices[1]*100)\n",
    "else:\n",
    "    print(max(dices)*100)"
   ]
  }
 ],
 "metadata": {
  "kernelspec": {
   "display_name": "Python 3",
   "language": "python",
   "name": "python3"
  },
  "language_info": {
   "codemirror_mode": {
    "name": "ipython",
    "version": 3
   },
   "file_extension": ".py",
   "mimetype": "text/x-python",
   "name": "python",
   "nbconvert_exporter": "python",
   "pygments_lexer": "ipython3",
   "version": "3.8.5"
  }
 },
 "nbformat": 4,
 "nbformat_minor": 4
}
