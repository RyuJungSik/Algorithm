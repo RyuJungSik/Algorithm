{
 "cells": [
  {
   "cell_type": "code",
   "execution_count": null,
   "metadata": {},
   "outputs": [],
   "source": [
    "n=int(input())\n",
    "arr=list(input().split())\n",
    "answer=[]\n",
    "visited=[False]*10\n",
    "minV=\"9999999999\"\n",
    "maxV=\"0\"\n",
    "\n",
    "def go(z,tmp):\n",
    "    global answer, minV, maxV\n",
    "    if z==n+1:\n",
    "        num=\"\".join(map(str,tmp))\n",
    "        if int(minV)>int(num):\n",
    "            minV=num\n",
    "        if int(maxV)<int(num):\n",
    "            maxV=num\n",
    "        return\n",
    "    else:\n",
    "        for i in range(10):\n",
    "            if visited[i]==False:\n",
    "                if len(tmp)==0:\n",
    "                    tmp.append(i)\n",
    "                    visited[i]=True\n",
    "                    go(z+1,tmp)\n",
    "                    tmp.pop()\n",
    "                    visited[i]=False\n",
    "                    \n",
    "                else:\n",
    "                    if arr[z-1]=='<' and tmp[-1]<i:\n",
    "                        visited[i]=True\n",
    "                        tmp.append(i)\n",
    "                        go(z+1,tmp)\n",
    "                        tmp.pop()\n",
    "                        visited[i]=False\n",
    "                    elif arr[z-1]=='>' and tmp[-1]>i:\n",
    "                        visited[i]=True\n",
    "                        tmp.append(i)\n",
    "                        go(z+1,tmp)\n",
    "                        tmp.pop()\n",
    "                        visited[i]=False\n",
    "go(0,[])\n",
    "print(maxV)\n",
    "print(minV)"
   ]
  }
 ],
 "metadata": {
  "kernelspec": {
   "display_name": "Python 3",
   "language": "python",
   "name": "python3"
  },
  "language_info": {
   "codemirror_mode": {
    "name": "ipython",
    "version": 3
   },
   "file_extension": ".py",
   "mimetype": "text/x-python",
   "name": "python",
   "nbconvert_exporter": "python",
   "pygments_lexer": "ipython3",
   "version": "3.8.5"
  }
 },
 "nbformat": 4,
 "nbformat_minor": 4
}
