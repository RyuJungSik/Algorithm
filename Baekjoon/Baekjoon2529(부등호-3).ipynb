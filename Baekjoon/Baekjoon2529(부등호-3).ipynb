{
 "cells": [
  {
   "cell_type": "code",
   "execution_count": null,
   "metadata": {},
   "outputs": [],
   "source": [
    "n=int(input())\n",
    "arr=list(input().split())\n",
    "minV=\"9999999999\"\n",
    "maxV=\"0\"\n",
    "\n",
    "def go(index,tmp):\n",
    "    global minV, maxV\n",
    "    if index==n+1:\n",
    "        s=\"\".join(map(str,tmp))\n",
    "        if int(s)>int(maxV):\n",
    "            maxV=s\n",
    "        if int(s)<int(minV):\n",
    "            minV=s\n",
    "    else:\n",
    "        if index==0:\n",
    "            for i in range(10):\n",
    "                if i not in tmp:\n",
    "                    go(index+1,tmp+[i])\n",
    "        else:\n",
    "            for i in range(10):\n",
    "                if i in tmp:\n",
    "                    continue\n",
    "                if arr[index-1]=='<':\n",
    "                    if tmp[-1]<i:\n",
    "                        go(index+1,tmp+[i])\n",
    "                else:\n",
    "                    if tmp[-1]>i:\n",
    "                        go(index+1,tmp+[i])\n",
    "                    \n",
    "go(0,[])\n",
    "print(maxV)\n",
    "print(minV)"
   ]
  }
 ],
 "metadata": {
  "kernelspec": {
   "display_name": "Python 3",
   "language": "python",
   "name": "python3"
  },
  "language_info": {
   "codemirror_mode": {
    "name": "ipython",
    "version": 3
   },
   "file_extension": ".py",
   "mimetype": "text/x-python",
   "name": "python",
   "nbconvert_exporter": "python",
   "pygments_lexer": "ipython3",
   "version": "3.8.5"
  }
 },
 "nbformat": 4,
 "nbformat_minor": 4
}
