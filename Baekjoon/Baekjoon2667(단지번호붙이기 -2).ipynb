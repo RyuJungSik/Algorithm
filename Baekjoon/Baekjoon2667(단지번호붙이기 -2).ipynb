{
 "cells": [
  {
   "cell_type": "code",
   "execution_count": null,
   "metadata": {},
   "outputs": [],
   "source": [
    "from collections import deque\n",
    "n=int(input())\n",
    "answer=[]\n",
    "g=[]\n",
    "dx=[1,-1,0,0]\n",
    "dy=[0,0,1,-1]\n",
    "\n",
    "def bfs(i,j):\n",
    "    global g, answer\n",
    "    q=deque()\n",
    "    q.append((i,j))\n",
    "    tmp=0\n",
    "    g[i][j]=0\n",
    "    while q:\n",
    "        now=q.popleft()\n",
    "        nowX,nowY=now[0],now[1]\n",
    "        tmp+=1\n",
    "        for i in range(4):\n",
    "            nx=nowX+dx[i]\n",
    "            ny=nowY+dy[i]\n",
    "            if 0<=nx<n and 0<=ny<n and g[nx][ny]!=0:a\n",
    "                g[nx][ny]=0\n",
    "                q.append((nx,ny))\n",
    "    answer.append(tmp)\n",
    "    \n",
    "\n",
    "for _ in range(n):\n",
    "    g.append(list(map(int,list(input()))))\n",
    "\n",
    "for i in range(n):\n",
    "    for j in range(n):\n",
    "        if g[i][j]!=0:\n",
    "            bfs(i,j)\n",
    "\n",
    "print(len(answer))\n",
    "answer.sort()\n",
    "for i in answer:\n",
    "    print(i)"
   ]
  }
 ],
 "metadata": {
  "kernelspec": {
   "display_name": "Python 3",
   "language": "python",
   "name": "python3"
  },
  "language_info": {
   "codemirror_mode": {
    "name": "ipython",
    "version": 3
   },
   "file_extension": ".py",
   "mimetype": "text/x-python",
   "name": "python",
   "nbconvert_exporter": "python",
   "pygments_lexer": "ipython3",
   "version": "3.8.5"
  }
 },
 "nbformat": 4,
 "nbformat_minor": 4
}
