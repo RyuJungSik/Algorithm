{
 "cells": [
  {
   "cell_type": "code",
   "execution_count": null,
   "metadata": {},
   "outputs": [],
   "source": [
    "from collections import deque\n",
    "\n",
    "def bfs(x,y):\n",
    "    global tmp, arr\n",
    "    q=deque()\n",
    "    q.append((x,y))\n",
    "    num=arr[x][y]\n",
    "    arr[x][y]=0\n",
    "    tmp+=1\n",
    "    while q:\n",
    "        now=q.popleft()\n",
    "        for i in range(4):\n",
    "            nextX=now[0]+dx[i]\n",
    "            nextY=now[1]+dy[i]\n",
    "            if 0<=nextX<n and 0<=nextY<n and arr[nextX][nextY]!=0:\n",
    "                tmp+=1\n",
    "                arr[nextX][nextY]=0\n",
    "                q.append((nextX,nextY))\n",
    "                \n",
    "n=int(input())\n",
    "arr=[]\n",
    "answer=[]\n",
    "dx=[1,-1,0,0]\n",
    "dy=[0,0,1,-1]\n",
    "for _ in range(n):\n",
    "    arr.append(list(map(int,list(input()))))\n",
    "    \n",
    "for i in range(n):\n",
    "    for j in range(n):\n",
    "        tmp=0\n",
    "        if arr[i][j]!=0:\n",
    "            bfs(i,j)\n",
    "            answer.append(tmp)\n",
    "\n",
    "print(len(answer))            \n",
    "for i in sorted(answer):\n",
    "    print(i)"
   ]
  }
 ],
 "metadata": {
  "kernelspec": {
   "display_name": "Python 3",
   "language": "python",
   "name": "python3"
  },
  "language_info": {
   "codemirror_mode": {
    "name": "ipython",
    "version": 3
   },
   "file_extension": ".py",
   "mimetype": "text/x-python",
   "name": "python",
   "nbconvert_exporter": "python",
   "pygments_lexer": "ipython3",
   "version": "3.8.5"
  }
 },
 "nbformat": 4,
 "nbformat_minor": 4
}
