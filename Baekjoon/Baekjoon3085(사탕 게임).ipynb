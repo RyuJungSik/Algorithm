{
 "cells": [
  {
   "cell_type": "code",
   "execution_count": 15,
   "metadata": {},
   "outputs": [
    {
     "name": "stdout",
     "output_type": "stream",
     "text": [
      "4\n",
      "CPCP\n",
      "YZYZ\n",
      "CCPC\n",
      "ZYZY\n",
      "0 0 0 1\n",
      "0 0 1 0\n",
      "0 1 0 2\n",
      "0 1 1 1\n",
      "0 2 0 3\n",
      "0 2 1 2\n",
      "0 3 0 4\n",
      "0 3 1 3\n",
      "1 0 1 1\n",
      "1 0 2 0\n",
      "1 1 1 2\n",
      "1 1 2 1\n",
      "1 2 1 3\n",
      "1 2 2 2\n",
      "1 3 1 4\n",
      "1 3 2 3\n",
      "2 0 2 1\n",
      "2 0 3 0\n",
      "2 1 2 2\n",
      "2 1 3 1\n",
      "2 2 2 3\n",
      "2 2 3 2\n",
      "2 3 2 4\n",
      "2 3 3 3\n",
      "3 0 3 1\n",
      "3 0 4 0\n",
      "3 1 3 2\n",
      "3 1 4 1\n",
      "3 2 3 3\n",
      "3 2 4 2\n",
      "3 3 3 4\n",
      "3 3 4 3\n",
      "3\n"
     ]
    }
   ],
   "source": [
    "def maxCandy(arr,n):\n",
    "    maxValue=1\n",
    "    for i in arr:\n",
    "        count=1\n",
    "        for j in range(1,n):\n",
    "            if i[j-1]==i[j]:\n",
    "                count+=1\n",
    "                maxValue=max(maxValue, count)\n",
    "            else:\n",
    "                count=1\n",
    "        maxValue=max(maxValue, count)\n",
    "    for i in range(n):\n",
    "        count=1\n",
    "        for j in range(1,n):\n",
    "            if arr[j-1][i]==arr[j][i]:\n",
    "                count+=1\n",
    "                maxValue=max(maxValue, count)\n",
    "            else:\n",
    "                count=1\n",
    "        maxValue=max(maxValue, count)\n",
    "    return maxValue\n",
    "    \n",
    "dx=[0,1]\n",
    "dy=[1,0]\n",
    "n=int(input())\n",
    "arr=[]\n",
    "answer=0\n",
    "for _ in range(n):\n",
    "    arr.append(list(input()))\n",
    "\n",
    "for x in range(n):\n",
    "    for y in range(n):\n",
    "        for k in range(2):\n",
    "            nextX=x+dx[k]\n",
    "            nextY=y+dy[k]\n",
    "            if nextX<n and nextY<n and arr[x][y]!=arr[nextX][nextY]:\n",
    "                arr[x][y], arr[nextX][nextY]=arr[nextX][nextY], arr[x][y]\n",
    "                answer=max(answer, maxCandy(arr,n))\n",
    "                if answer==n:\n",
    "                    break\n",
    "                arr[x][y], arr[nextX][nextY]=arr[nextX][nextY], arr[x][y]\n",
    "            \n",
    "print(answer)"
   ]
  },
  {
   "cell_type": "code",
   "execution_count": null,
   "metadata": {},
   "outputs": [],
   "source": [
    "CCP"
   ]
  },
  {
   "cell_type": "code",
   "execution_count": null,
   "metadata": {},
   "outputs": [],
   "source": []
  }
 ],
 "metadata": {
  "kernelspec": {
   "display_name": "Python 3",
   "language": "python",
   "name": "python3"
  },
  "language_info": {
   "codemirror_mode": {
    "name": "ipython",
    "version": 3
   },
   "file_extension": ".py",
   "mimetype": "text/x-python",
   "name": "python",
   "nbconvert_exporter": "python",
   "pygments_lexer": "ipython3",
   "version": "3.8.5"
  }
 },
 "nbformat": 4,
 "nbformat_minor": 4
}
