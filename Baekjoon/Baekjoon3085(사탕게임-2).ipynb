{
 "cells": [
  {
   "cell_type": "code",
   "execution_count": null,
   "metadata": {},
   "outputs": [],
   "source": [
    "answer=0\n",
    "n=int(input())\n",
    "board=[]\n",
    "dx=[0,1]\n",
    "dy=[1,0]\n",
    "def gaesu(board):\n",
    "    tmp=0\n",
    "    for i in range(n):\n",
    "        cnt=1\n",
    "        for j in range(n-1):\n",
    "            if board[i][j]==board[i][j+1]:\n",
    "                cnt+=1\n",
    "            else:\n",
    "                tmp=max(tmp,cnt)\n",
    "                cnt=1\n",
    "        tmp=max(tmp,cnt)\n",
    "        \n",
    "    for i in range(n):\n",
    "        cnt=1\n",
    "        for j in range(n-1):\n",
    "            if board[j][i]==board[j+1][i]:\n",
    "                cnt+=1\n",
    "            else:\n",
    "                tmp=max(tmp,cnt)\n",
    "                cnt=1\n",
    "        tmp=max(tmp,cnt)\n",
    "    return tmp\n",
    "    \n",
    "    \n",
    "    \n",
    "for _ in range(n):\n",
    "    board.append(list(input()))\n",
    "\n",
    "for i in range(n):\n",
    "    for j in range(n):\n",
    "        for k in range(2):\n",
    "            tmp=0\n",
    "            nx,ny=i+dx[k], j+dy[k]\n",
    "            if 0<=nx<n and 0<=ny<n and board[i][j]!=board[nx][ny]:\n",
    "                board[i][j],board[nx][ny]=board[nx][ny],board[i][j]\n",
    "                tmp=gaesu(board)\n",
    "                answer=max(tmp,answer)\n",
    "                board[i][j],board[nx][ny]=board[nx][ny],board[i][j]\n",
    "                \n",
    "print(answer)"
   ]
  }
 ],
 "metadata": {
  "kernelspec": {
   "display_name": "Python 3",
   "language": "python",
   "name": "python3"
  },
  "language_info": {
   "codemirror_mode": {
    "name": "ipython",
    "version": 3
   },
   "file_extension": ".py",
   "mimetype": "text/x-python",
   "name": "python",
   "nbconvert_exporter": "python",
   "pygments_lexer": "ipython3",
   "version": "3.8.5"
  }
 },
 "nbformat": 4,
 "nbformat_minor": 4
}
