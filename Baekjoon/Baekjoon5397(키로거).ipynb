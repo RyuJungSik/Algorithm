{
 "cells": [
  {
   "cell_type": "code",
   "execution_count": 11,
   "metadata": {},
   "outputs": [
    {
     "name": "stdout",
     "output_type": "stream",
     "text": [
      "2\n",
      "<<BP<A>>Cd-\n",
      "BAPC\n",
      "ThIsIsS3Cr3t\n",
      "ThIsIsS3Cr3t\n"
     ]
    }
   ],
   "source": [
    "test_case=int(input())\n",
    "\n",
    "for j in range(test_case):\n",
    "    l_stack=[]\n",
    "    r_stack=[]\n",
    "    data=input()\n",
    "    for i in data:\n",
    "        if i=='-':\n",
    "            if l_stack:\n",
    "                l_stack.pop()\n",
    "        elif i=='<':\n",
    "            if l_stack:\n",
    "                r_stack.append(l_stack.pop())\n",
    "        elif i=='>':\n",
    "            if r_stack:\n",
    "                l_stack.append(r_stack.pop())\n",
    "        else:\n",
    "            l_stack.append(i)\n",
    "    l_stack.extend(reversed(r_stack))\n",
    "    print(''.join(l_stack))"
   ]
  },
  {
   "cell_type": "code",
   "execution_count": null,
   "metadata": {},
   "outputs": [],
   "source": []
  },
  {
   "cell_type": "code",
   "execution_count": null,
   "metadata": {},
   "outputs": [],
   "source": []
  }
 ],
 "metadata": {
  "kernelspec": {
   "display_name": "Python 3",
   "language": "python",
   "name": "python3"
  },
  "language_info": {
   "codemirror_mode": {
    "name": "ipython",
    "version": 3
   },
   "file_extension": ".py",
   "mimetype": "text/x-python",
   "name": "python",
   "nbconvert_exporter": "python",
   "pygments_lexer": "ipython3",
   "version": "3.8.5"
  }
 },
 "nbformat": 4,
 "nbformat_minor": 4
}
