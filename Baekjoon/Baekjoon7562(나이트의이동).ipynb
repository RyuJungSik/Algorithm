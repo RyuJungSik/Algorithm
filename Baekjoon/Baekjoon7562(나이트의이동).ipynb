{
 "cells": [
  {
   "cell_type": "code",
   "execution_count": null,
   "metadata": {},
   "outputs": [],
   "source": [
    "from collections import deque\n",
    "\n",
    "def bfs():\n",
    "    global answer\n",
    "    q=deque()\n",
    "    q.append((x,y))\n",
    "    visited[x][y]=1\n",
    "    while q:\n",
    "        answer+=1\n",
    "        for i in range(len(q)):\n",
    "            now=q.popleft()\n",
    "            nowX,nowY=now[0],now[1]\n",
    "            if nowX==fx and nowY==fy:\n",
    "                return\n",
    "            for j in range(8):\n",
    "                nextX=nowX+dx[j]\n",
    "                nextY=nowY+dy[j]\n",
    "                if 0<=nextX<n and 0<=nextY<n and visited[nextX][nextY]==0:\n",
    "                    visited[nextX][nextY]=1\n",
    "                    q.append((nextX,nextY))\n",
    "        \n",
    "tc=int(input())\n",
    "dx=[-2,-1,1,2,2,1,-1,-2]\n",
    "dy=[1,2,2,1,-1,-2,-2,-1]\n",
    "\n",
    "for _ in range(tc):\n",
    "    answer=-1\n",
    "    n=int(input())\n",
    "    visited=[[0]*n for _ in range(n)]\n",
    "    x,y=map(int, input().split())\n",
    "    fx,fy=map(int, input().split())\n",
    "    bfs()\n",
    "    print(answer)"
   ]
  }
 ],
 "metadata": {
  "kernelspec": {
   "display_name": "Python 3",
   "language": "python",
   "name": "python3"
  }
 },
 "nbformat": 4,
 "nbformat_minor": 4
}
