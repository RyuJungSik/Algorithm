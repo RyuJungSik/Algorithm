{
 "cells": [
  {
   "cell_type": "code",
   "execution_count": null,
   "metadata": {},
   "outputs": [],
   "source": [
    "from collections import deque\n",
    "\n",
    "def bfs(ones):\n",
    "    global board\n",
    "    q=deque(ones)\n",
    "    time=-1\n",
    "    while q:\n",
    "        time+=1\n",
    "        for _ in range(len(q)):\n",
    "            now=q.popleft()\n",
    "            nowX,nowY=now[0],now[1]\n",
    "            for i in range(4):\n",
    "                nx,ny=nowX+dx[i], nowY+dy[i]\n",
    "                if 0<=nx<n and 0<=ny<m and board[nx][ny]==0:\n",
    "                    board[nx][ny]=1\n",
    "                    q.append((nx,ny))\n",
    "        \n",
    "    return time\n",
    "    \n",
    "m,n=map(int, input().split())\n",
    "board=[]\n",
    "ones=[]\n",
    "dx=[1,-1,0,0]\n",
    "dy=[0,0,1,-1]\n",
    "for _ in range(n):\n",
    "    board.append(list(map(int,input().split())))\n",
    "\n",
    "\n",
    "for i in range(n):\n",
    "    for j in range(m):\n",
    "        if board[i][j]==1:\n",
    "            ones.append((i,j))\n",
    "answer=bfs(ones)\n",
    "flag=True\n",
    "for i in board:\n",
    "    if 0 in i:\n",
    "        flag=False\n",
    "if flag==False:\n",
    "    print(-1)\n",
    "else:\n",
    "    if answer==-1:\n",
    "        print(0)\n",
    "    else:\n",
    "        print(answer)"
   ]
  }
 ],
 "metadata": {
  "kernelspec": {
   "display_name": "Python 3",
   "language": "python",
   "name": "python3"
  },
  "language_info": {
   "codemirror_mode": {
    "name": "ipython",
    "version": 3
   },
   "file_extension": ".py",
   "mimetype": "text/x-python",
   "name": "python",
   "nbconvert_exporter": "python",
   "pygments_lexer": "ipython3",
   "version": "3.8.5"
  }
 },
 "nbformat": 4,
 "nbformat_minor": 4
}
