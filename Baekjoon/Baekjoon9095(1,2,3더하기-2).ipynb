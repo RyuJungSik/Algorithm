{
 "cells": [
  {
   "cell_type": "code",
   "execution_count": null,
   "metadata": {},
   "outputs": [],
   "source": [
    "def go(index,s,i):\n",
    "    global answer\n",
    "    if s==i:\n",
    "        answer+=1\n",
    "    elif s>i:\n",
    "        return\n",
    "    else:\n",
    "        for j in [1,2,3]:\n",
    "            go(index+1,s+j,i)\n",
    "        \n",
    "\n",
    "n=int(input())\n",
    "arr=[]\n",
    "for _ in range(n):\n",
    "    arr.append(int(input()))\n",
    "\n",
    "for i in arr:\n",
    "    answer=0\n",
    "    go(0,0,i)\n",
    "    print(answer)"
   ]
  }
 ],
 "metadata": {
  "kernelspec": {
   "display_name": "Python 3",
   "language": "python",
   "name": "python3"
  },
  "language_info": {
   "codemirror_mode": {
    "name": "ipython",
    "version": 3
   },
   "file_extension": ".py",
   "mimetype": "text/x-python",
   "name": "python",
   "nbconvert_exporter": "python",
   "pygments_lexer": "ipython3",
   "version": "3.8.5"
  }
 },
 "nbformat": 4,
 "nbformat_minor": 4
}
