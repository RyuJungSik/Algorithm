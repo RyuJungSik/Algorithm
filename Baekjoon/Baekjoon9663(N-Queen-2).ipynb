{
 "cells": [
  {
   "cell_type": "code",
   "execution_count": null,
   "metadata": {},
   "outputs": [],
   "source": [
    "from copy import deepcopy\n",
    "\n",
    "n=int(input())\n",
    "visited=[]\n",
    "answer=0\n",
    "def go(index):\n",
    "    global answer, visited\n",
    "    if index==n:\n",
    "        answer+=1\n",
    "    else:\n",
    "        if len(visited)==0:\n",
    "            for i in range(n):\n",
    "                visited.append(i)\n",
    "                go(index+1)\n",
    "                visited.pop()\n",
    "        else:\n",
    "            for i in range(n):\n",
    "                flag=True\n",
    "                if i not in visited:\n",
    "                    for k in range(len(visited)):\n",
    "                        if abs(index-k)==abs(i-visited[k]):\n",
    "                            flag=False\n",
    "                            break\n",
    "                    if flag:\n",
    "                        visited.append(i)\n",
    "                        go(index+1)\n",
    "                        visited.pop()        \n",
    "\n",
    "go(0)\n",
    "print(answer)"
   ]
  }
 ],
 "metadata": {
  "kernelspec": {
   "display_name": "Python 3",
   "language": "python",
   "name": "python3"
  },
  "language_info": {
   "codemirror_mode": {
    "name": "ipython",
    "version": 3
   },
   "file_extension": ".py",
   "mimetype": "text/x-python",
   "name": "python",
   "nbconvert_exporter": "python",
   "pygments_lexer": "ipython3",
   "version": "3.8.5"
  }
 },
 "nbformat": 4,
 "nbformat_minor": 4
}
