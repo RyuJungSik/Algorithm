{
 "cells": [
  {
   "cell_type": "code",
   "execution_count": 29,
   "metadata": {},
   "outputs": [
    {
     "name": "stdout",
     "output_type": "stream",
     "text": [
      "4\n",
      "2\n"
     ]
    }
   ],
   "source": [
    "n=int(input())\n",
    "arr=[0]*n\n",
    "colVisited=[False]*n\n",
    "answer=0\n",
    "\n",
    "def DFS(index):\n",
    "    global answer\n",
    "    if index==n:\n",
    "        answer+=1\n",
    "        return\n",
    "    else:\n",
    "        for i in range(n):\n",
    "            if colVisited[i]==True:\n",
    "                continue\n",
    "            else:\n",
    "                arr[index]=i\n",
    "                if check(index):\n",
    "                    colVisited[i]=True\n",
    "                    DFS(index+1)\n",
    "                    colVisited[i]=False\n",
    "                \n",
    "def check(x):\n",
    "    for i in range(x):\n",
    "        if arr[i]==arr[x]:\n",
    "            return False\n",
    "        if abs(arr[x]-arr[i])==x-i:\n",
    "            return False\n",
    "    return True\n",
    "\n",
    "DFS(0)\n",
    "print(answer)"
   ]
  },
  {
   "cell_type": "code",
   "execution_count": null,
   "metadata": {},
   "outputs": [],
   "source": []
  },
  {
   "cell_type": "code",
   "execution_count": null,
   "metadata": {},
   "outputs": [],
   "source": [
    "8"
   ]
  }
 ],
 "metadata": {
  "kernelspec": {
   "display_name": "Python 3",
   "language": "python",
   "name": "python3"
  },
  "language_info": {
   "codemirror_mode": {
    "name": "ipython",
    "version": 3
   },
   "file_extension": ".py",
   "mimetype": "text/x-python",
   "name": "python",
   "nbconvert_exporter": "python",
   "pygments_lexer": "ipython3",
   "version": "3.8.5"
  }
 },
 "nbformat": 4,
 "nbformat_minor": 4
}
