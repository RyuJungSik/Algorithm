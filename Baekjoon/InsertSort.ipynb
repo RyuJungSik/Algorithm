{
 "cells": [
  {
   "cell_type": "code",
   "execution_count": 11,
   "metadata": {},
   "outputs": [
    {
     "name": "stdout",
     "output_type": "stream",
     "text": [
      "[2, 3, 4, 6, 8, 9]\n"
     ]
    }
   ],
   "source": [
    "def Insert_sort_recursive(A,cur):\n",
    "    if cur==n:\n",
    "        return\n",
    "    else:\n",
    "        key=A[cur]\n",
    "        i=cur-1\n",
    "        while i>=0 and A[i]>key:\n",
    "            A[i+1]=A[i]\n",
    "            i-=1\n",
    "        A[i+1]=key\n",
    "        Insert_sort_recursive(A,cur+1)\n",
    "        \n",
    "A=[4,2,6,8,3,9]\n",
    "n=len(A)\n",
    "Insert_sort_recursive(A,1)   \n",
    "print(A)"
   ]
  },
  {
   "cell_type": "code",
   "execution_count": null,
   "metadata": {},
   "outputs": [],
   "source": []
  }
 ],
 "metadata": {
  "kernelspec": {
   "display_name": "Python 3",
   "language": "python",
   "name": "python3"
  },
  "language_info": {
   "codemirror_mode": {
    "name": "ipython",
    "version": 3
   },
   "file_extension": ".py",
   "mimetype": "text/x-python",
   "name": "python",
   "nbconvert_exporter": "python",
   "pygments_lexer": "ipython3",
   "version": "3.8.5"
  }
 },
 "nbformat": 4,
 "nbformat_minor": 4
}
