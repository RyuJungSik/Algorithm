{
 "cells": [
  {
   "cell_type": "code",
   "execution_count": 11,
   "metadata": {},
   "outputs": [
    {
     "name": "stdout",
     "output_type": "stream",
     "text": [
      "2\n",
      "4\n",
      "40 30 30 50\n",
      "300\n",
      "15\n",
      "1 21 3 4 5 35 5 4 3 5 98 21 14 17 32\n",
      "864\n"
     ]
    }
   ],
   "source": [
    "tc=int(input())\n",
    "\n",
    "for _ in range(tc):\n",
    "    n,a=int(input()), [0]+list(map(int, input().split()))\n",
    "    s=[0 for _ in range(n+1)]\n",
    "    for i in range(1,n+1):\n",
    "        s[i]=s[i-1]+a[i]\n",
    "\n",
    "    dp=[[0 for _ in range(n+1)]for _ in range(n+1)]\n",
    "    for i in range(2, n+1):\n",
    "        for j in range(1, n+2-i):\n",
    "            dp[j][j+i-1]=min([dp[j][j+k]+dp[j+k+1][j+i-1] for k in range(i-1)]) + s[j+i-1]-s[j-1]\n",
    "    print(dp[1][n])   "
   ]
  },
  {
   "cell_type": "code",
   "execution_count": null,
   "metadata": {},
   "outputs": [],
   "source": []
  }
 ],
 "metadata": {
  "kernelspec": {
   "display_name": "Python 3",
   "language": "python",
   "name": "python3"
  },
  "language_info": {
   "codemirror_mode": {
    "name": "ipython",
    "version": 3
   },
   "file_extension": ".py",
   "mimetype": "text/x-python",
   "name": "python",
   "nbconvert_exporter": "python",
   "pygments_lexer": "ipython3",
   "version": "3.8.5"
  }
 },
 "nbformat": 4,
 "nbformat_minor": 4
}
