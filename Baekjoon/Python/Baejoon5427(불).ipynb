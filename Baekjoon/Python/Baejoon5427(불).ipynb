{
 "cells": [
  {
   "cell_type": "code",
   "execution_count": null,
   "metadata": {},
   "outputs": [],
   "source": [
    "from collections import deque\n",
    "\n",
    "dx=[0,0,1,-1]\n",
    "dy=[1,-1,0,0]\n",
    "\n",
    "def bfs():\n",
    "    cnt=0\n",
    "    while q:\n",
    "        cnt+=1\n",
    "        while fire and fire[0][2]<cnt:\n",
    "            x,y,time=fire.popleft()\n",
    "            for i in range(4):\n",
    "                nx=x+dx[i]\n",
    "                ny=y+dy[i]\n",
    "                if 0<=nx<h and 0<=ny<w:\n",
    "                    if board[nx][ny]==\".\" or board[nx][ny]==\"@\":\n",
    "                        board[nx][ny]=\"*\"\n",
    "                        fire.append((nx,ny,time+1))\n",
    "                        \n",
    "        while q and q[0][2]<cnt:\n",
    "            x,y,time=q.popleft()\n",
    "            for i in range(4):\n",
    "                nx=x+dx[i]\n",
    "                ny=y+dy[i]\n",
    "                if 0<=nx<h and 0<=ny<w:\n",
    "                    if board[nx][ny]==\".\" and not visited[nx][ny]:\n",
    "                        visited[nx][ny]=True\n",
    "                        q.append((nx,ny,time+1))\n",
    "                else:\n",
    "                    return cnt\n",
    "    return \"IMPOSSIBLE\"\n",
    "            \n",
    "\n",
    "t=int(input())\n",
    "for _ in range(t):\n",
    "    w,h=map(int,input().split())\n",
    "    \n",
    "    q=deque()\n",
    "    fire=deque()\n",
    "    \n",
    "    board=[]\n",
    "    visited=[[False]*w for _ in range(h)]\n",
    "    for i in range(h):\n",
    "        board.append(list(input().strip()))\n",
    "        for j in range(w):\n",
    "            if board[i][j]==\"@\":\n",
    "                visited[i][j]=True\n",
    "                q.append((i,j,0))\n",
    "            elif board[i][j]==\"*\":\n",
    "                fire.append((i,j,0))\n",
    "    print(bfs())"
   ]
  }
 ],
 "metadata": {
  "kernelspec": {
   "display_name": "Python 3",
   "language": "python",
   "name": "python3"
  },
  "language_info": {
   "codemirror_mode": {
    "name": "ipython",
    "version": 3
   },
   "file_extension": ".py",
   "mimetype": "text/x-python",
   "name": "python",
   "nbconvert_exporter": "python",
   "pygments_lexer": "ipython3",
   "version": "3.8.5"
  }
 },
 "nbformat": 4,
 "nbformat_minor": 4
}
