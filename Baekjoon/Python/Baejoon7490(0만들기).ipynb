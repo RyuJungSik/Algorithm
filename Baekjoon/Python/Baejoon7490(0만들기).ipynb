{
 "cells": [
  {
   "cell_type": "code",
   "execution_count": null,
   "metadata": {},
   "outputs": [],
   "source": [
    "from itertools import product\n",
    "\n",
    "tc=int(input())\n",
    "oper=[' ','+','-']\n",
    "\n",
    "for j in range(tc):\n",
    "    n=int(input())\n",
    "    arr=[str(i) for i in range(1,n+1)]\n",
    "    for case in product(oper,repeat=n-1):\n",
    "        tmp=[]\n",
    "        for i in range(n):\n",
    "            if i==n-1:\n",
    "                tmp.append(arr[i])\n",
    "            else:\n",
    "                tmp.append(arr[i])\n",
    "                tmp.append(case[i])\n",
    "        s=\"\".join(tmp)\n",
    "        sChange=s.replace(\" \",\"\",n)\n",
    "        tmpAns=[]\n",
    "        if eval(sChange)==0:\n",
    "            tmpAns.append(s)\n",
    "        tmpAns.sort()\n",
    "        for k in tmpAns:\n",
    "            print(k)\n",
    "    if j!=tc-1:\n",
    "        print()"
   ]
  }
 ],
 "metadata": {
  "kernelspec": {
   "display_name": "Python 3",
   "language": "python",
   "name": "python3"
  },
  "language_info": {
   "codemirror_mode": {
    "name": "ipython",
    "version": 3
   },
   "file_extension": ".py",
   "mimetype": "text/x-python",
   "name": "python",
   "nbconvert_exporter": "python",
   "pygments_lexer": "ipython3",
   "version": "3.8.5"
  }
 },
 "nbformat": 4,
 "nbformat_minor": 4
}
