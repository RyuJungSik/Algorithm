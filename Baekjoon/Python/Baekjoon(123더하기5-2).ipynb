{
 "cells": [
  {
   "cell_type": "code",
   "execution_count": null,
   "metadata": {},
   "outputs": [],
   "source": [
    "tc=int(input())\n",
    "ans=[]\n",
    "dp=[[0]*100001 for _ in range(4)]\n",
    "\n",
    "dp[1][1]=1\n",
    "dp[2][2]=1\n",
    "dp[1][3]=1\n",
    "dp[2][3]=1\n",
    "dp[3][3]=1\n",
    "\n",
    "\n",
    "for i in range(4,100001):\n",
    "    dp[1][i]=(dp[2][i-1]+dp[3][i-1])%1000000009\n",
    "    dp[2][i]=(dp[1][i-2]+dp[3][i-2])%1000000009\n",
    "    dp[3][i]=(dp[1][i-3]+dp[2][i-3])%1000000009\n",
    "\n",
    "for _ in range(tc):\n",
    "    n=int(input())\n",
    "    ans.append((dp[1][n]+dp[2][n]+dp[3][n])%1000000009)\n",
    "    \n",
    "for c in ans:\n",
    "    print(c)"
   ]
  }
 ],
 "metadata": {
  "kernelspec": {
   "display_name": "Python 3",
   "language": "python",
   "name": "python3"
  },
  "language_info": {
   "codemirror_mode": {
    "name": "ipython",
    "version": 3
   },
   "file_extension": ".py",
   "mimetype": "text/x-python",
   "name": "python",
   "nbconvert_exporter": "python",
   "pygments_lexer": "ipython3",
   "version": "3.8.5"
  }
 },
 "nbformat": 4,
 "nbformat_minor": 4
}
