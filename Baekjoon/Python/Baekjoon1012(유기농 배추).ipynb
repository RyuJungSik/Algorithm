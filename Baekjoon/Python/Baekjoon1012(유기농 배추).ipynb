{
 "cells": [
  {
   "cell_type": "code",
   "execution_count": 12,
   "metadata": {},
   "outputs": [
    {
     "name": "stdout",
     "output_type": "stream",
     "text": [
      "1\n",
      "5 3 6\n",
      "0 2\n",
      "1 2\n",
      "2 2\n",
      "3 2\n",
      "4 2\n",
      "4 0\n",
      "[0, 4]\n",
      "[2, 0]\n",
      "[2, 1]\n",
      "[2, 2]\n",
      "[2, 0]\n",
      "[2, 3]\n",
      "[2, 4]\n",
      "2\n"
     ]
    }
   ],
   "source": [
    "from collections import deque\n",
    "\n",
    "def bfs(y,x):\n",
    "    q=deque()\n",
    "    q.append([y,x])\n",
    "    arr[y][x]=1\n",
    "    while q:\n",
    "        now=q.popleft()\n",
    "        nowY=now[0]\n",
    "        nowX=now[1]\n",
    "        for i in range(4):\n",
    "            nextY=nowY+dy[i]\n",
    "            nextX=nowX+dx[i]\n",
    "            if 0<=nextY<b and 0<=nextX<a and arr[nextY][nextX]==1:\n",
    "                arr[nextY][nextX]=0\n",
    "                q.append([nextY,nextX])\n",
    "    \n",
    "\n",
    "    \n",
    "    \n",
    "    \n",
    "dy=[-1,0,1,0]\n",
    "dx=[0,1,0,-1]\n",
    "n=int(input())\n",
    "for _ in range(n):\n",
    "    answer=0\n",
    "    a,b,c=map(int, input().split())\n",
    "    arr=[[0]*(a) for _ in range(b)]\n",
    "    for _ in range(c):\n",
    "        x,y=map(int, input().split())\n",
    "        arr[y][x]=1\n",
    "    for i in range(0,len(arr)):\n",
    "        for j in range(0,len(arr[i])):\n",
    "            if arr[i][j]==1:\n",
    "                answer+=1\n",
    "                bfs(i, j)\n",
    "    print(answer)"
   ]
  },
  {
   "cell_type": "code",
   "execution_count": null,
   "metadata": {},
   "outputs": [],
   "source": []
  }
 ],
 "metadata": {
  "kernelspec": {
   "display_name": "Python 3",
   "language": "python",
   "name": "python3"
  },
  "language_info": {
   "codemirror_mode": {
    "name": "ipython",
    "version": 3
   },
   "file_extension": ".py",
   "mimetype": "text/x-python",
   "name": "python",
   "nbconvert_exporter": "python",
   "pygments_lexer": "ipython3",
   "version": "3.8.5"
  }
 },
 "nbformat": 4,
 "nbformat_minor": 4
}
