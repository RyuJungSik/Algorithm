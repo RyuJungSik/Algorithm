{
 "cells": [
  {
   "cell_type": "code",
   "execution_count": null,
   "metadata": {},
   "outputs": [],
   "source": [
    "from itertools import product\n",
    "\n",
    "tc=int(input())\n",
    "T=dict()\n",
    "for i in range(1,201):\n",
    "    T[i]=i*(i+1)//2\n",
    "\n",
    "for _ in range(tc):\n",
    "    n=int(input())\n",
    "    flag=False\n",
    "    for pro in product(T.values(),repeat=3):\n",
    "        if pro[0]+pro[1]+pro[2]==n:\n",
    "            flag=True\n",
    "            break\n",
    "    if flag:\n",
    "        print(1)\n",
    "    else:\n",
    "        print(0)"
   ]
  }
 ],
 "metadata": {
  "kernelspec": {
   "display_name": "Python 3",
   "language": "python",
   "name": "python3"
  },
  "language_info": {
   "codemirror_mode": {
    "name": "ipython",
    "version": 3
   },
   "file_extension": ".py",
   "mimetype": "text/x-python",
   "name": "python",
   "nbconvert_exporter": "python",
   "pygments_lexer": "ipython3",
   "version": "3.8.5"
  }
 },
 "nbformat": 4,
 "nbformat_minor": 4
}
