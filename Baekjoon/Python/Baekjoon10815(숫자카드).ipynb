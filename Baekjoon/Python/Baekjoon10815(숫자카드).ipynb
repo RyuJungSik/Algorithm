{
 "cells": [
  {
   "cell_type": "code",
   "execution_count": null,
   "metadata": {},
   "outputs": [],
   "source": [
    "from bisect import bisect_left\n",
    "\n",
    "n=int(input())\n",
    "arr1=list(map(int,input().split()))\n",
    "m=int(input())\n",
    "arr2=list(map(int,input().split()))\n",
    "\n",
    "arr1.sort()\n",
    "# arr2.sort()\n",
    "answer=[]\n",
    "for i in arr2:\n",
    "    res=bisect_left(arr1,i)\n",
    "    if res>=n:\n",
    "        answer.append(0)\n",
    "        continue\n",
    "    if arr1[res]==i:\n",
    "        answer.append(1)\n",
    "    else:\n",
    "        answer.append(0)\n",
    "print(\" \".join(map(str,answer)))"
   ]
  }
 ],
 "metadata": {
  "kernelspec": {
   "display_name": "Python 3",
   "language": "python",
   "name": "python3"
  }
 },
 "nbformat": 4,
 "nbformat_minor": 4
}
