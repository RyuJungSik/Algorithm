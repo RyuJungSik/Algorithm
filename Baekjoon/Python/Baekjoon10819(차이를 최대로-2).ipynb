{
 "cells": [
  {
   "cell_type": "code",
   "execution_count": null,
   "metadata": {},
   "outputs": [],
   "source": [
    "from itertools import permutations\n",
    "\n",
    "n=int(input())\n",
    "a=list(map(int,input().split()))\n",
    "answer=0\n",
    "\n",
    "for per in permutations(a,n):\n",
    "    tmp=0\n",
    "    for i in range(n-1):\n",
    "        tmp+=abs(per[i]-per[i+1])\n",
    "    answer=max(tmp,answer)\n",
    "print(answer)"
   ]
  }
 ],
 "metadata": {
  "kernelspec": {
   "display_name": "Python 3",
   "language": "python",
   "name": "python3"
  },
  "language_info": {
   "codemirror_mode": {
    "name": "ipython",
    "version": 3
   },
   "file_extension": ".py",
   "mimetype": "text/x-python",
   "name": "python",
   "nbconvert_exporter": "python",
   "pygments_lexer": "ipython3",
   "version": "3.8.5"
  }
 },
 "nbformat": 4,
 "nbformat_minor": 4
}
