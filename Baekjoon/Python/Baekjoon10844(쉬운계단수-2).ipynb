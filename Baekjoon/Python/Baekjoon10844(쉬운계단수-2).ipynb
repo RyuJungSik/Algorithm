{
 "cells": [
  {
   "cell_type": "code",
   "execution_count": null,
   "metadata": {},
   "outputs": [],
   "source": [
    "n=int(input())\n",
    "dp=[[0]*101 for _ in range(10)]\n",
    "answer=0\n",
    "\n",
    "for i in range(1,10):\n",
    "    dp[i][1]=1\n",
    "    \n",
    "for i in range(2,101):\n",
    "    dp[0][i]=(dp[1][i-1])%1000000000\n",
    "    for j in range(1,9):\n",
    "        dp[j][i]=(dp[j-1][i-1]+dp[j+1][i-1])%1000000000\n",
    "    dp[9][i]=dp[8][i-1]%1000000000\n",
    "    \n",
    "for i in range(10):\n",
    "    answer+=dp[i][n]\n",
    "print(answer%1000000000)"
   ]
  }
 ],
 "metadata": {
  "kernelspec": {
   "display_name": "Python 3",
   "language": "python",
   "name": "python3"
  },
  "language_info": {
   "codemirror_mode": {
    "name": "ipython",
    "version": 3
   },
   "file_extension": ".py",
   "mimetype": "text/x-python",
   "name": "python",
   "nbconvert_exporter": "python",
   "pygments_lexer": "ipython3",
   "version": "3.8.5"
  }
 },
 "nbformat": 4,
 "nbformat_minor": 4
}
