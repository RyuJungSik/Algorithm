{
 "cells": [
  {
   "cell_type": "code",
   "execution_count": null,
   "metadata": {},
   "outputs": [],
   "source": [
    "from collections import deque\n",
    "import sys\n",
    "\n",
    "input=sys.stdin.readline()\n",
    "n=int(input())\n",
    "q=deque([])\n",
    "for _ in range(n):\n",
    "    i=input()\n",
    "    i=i.split()\n",
    "    if len(i)==2:\n",
    "        oper,num=i[0],i[1]\n",
    "    else:\n",
    "        oper=i[0]\n",
    "    if oper==\"push\":\n",
    "        q.append(num)\n",
    "    elif oper==\"pop\":\n",
    "        if len(q)==0:\n",
    "            print(-1)\n",
    "        else:\n",
    "            print(q.popleft())\n",
    "    elif oper==\"size\":\n",
    "        print(len(q))\n",
    "    elif oper==\"empty\":\n",
    "        if len(q)==0:\n",
    "            print(1)\n",
    "        else:\n",
    "            print(0)\n",
    "    elif oper==\"front\":\n",
    "        if len(q)==0:\n",
    "            print(-1)\n",
    "        else:\n",
    "            print(q[0])\n",
    "    elif oper==\"back\":\n",
    "        if len(q)==0:\n",
    "            print(-1)\n",
    "        else:\n",
    "            print(q[-1])"
   ]
  }
 ],
 "metadata": {
  "kernelspec": {
   "display_name": "Python 3",
   "language": "python",
   "name": "python3"
  },
  "language_info": {
   "codemirror_mode": {
    "name": "ipython",
    "version": 3
   },
   "file_extension": ".py",
   "mimetype": "text/x-python",
   "name": "python",
   "nbconvert_exporter": "python",
   "pygments_lexer": "ipython3",
   "version": "3.8.5"
  }
 },
 "nbformat": 4,
 "nbformat_minor": 4
}
