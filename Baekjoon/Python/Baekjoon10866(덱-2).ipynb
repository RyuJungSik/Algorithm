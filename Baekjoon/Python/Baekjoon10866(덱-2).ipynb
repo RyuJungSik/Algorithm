{
 "cells": [
  {
   "cell_type": "code",
   "execution_count": null,
   "metadata": {},
   "outputs": [],
   "source": [
    "from collections import deque\n",
    "import sys\n",
    "\n",
    "\n",
    "n=int(sys.stdin.readline())\n",
    "q=deque()\n",
    "\n",
    "for _ in range(n):\n",
    "    a=sys.stdin.readline()\n",
    "    s=a.split()\n",
    "    if len(s)==2:\n",
    "        oper,num=s[0],int(s[1])\n",
    "    else:\n",
    "        oper=s[0]\n",
    "        \n",
    "    if oper==\"push_front\":\n",
    "        q.appendleft(num)\n",
    "    elif oper==\"push_back\":\n",
    "        q.append(num)\n",
    "    elif oper==\"pop_front\":\n",
    "        if len(q)==0:\n",
    "            print(-1)\n",
    "        else:\n",
    "            print(q.popleft())\n",
    "    elif oper==\"pop_back\":\n",
    "        if len(q)==0:\n",
    "            print(-1)\n",
    "        else:\n",
    "            print(q.pop())\n",
    "    elif oper==\"size\":\n",
    "        print(len(q))\n",
    "    elif oper==\"empty\":\n",
    "        if len(q)==0:\n",
    "            print(1)\n",
    "        else:\n",
    "            print(0)\n",
    "    elif oper==\"front\":\n",
    "        if len(q)==0:\n",
    "            print(-1)\n",
    "        else:\n",
    "            print(q[0])\n",
    "    elif oper==\"back\":\n",
    "        if len(q)==0:\n",
    "            print(-1)\n",
    "        else:\n",
    "            print(q[-1])\n",
    "    \n",
    "    "
   ]
  }
 ],
 "metadata": {
  "kernelspec": {
   "display_name": "Python 3",
   "language": "python",
   "name": "python3"
  },
  "language_info": {
   "codemirror_mode": {
    "name": "ipython",
    "version": 3
   },
   "file_extension": ".py",
   "mimetype": "text/x-python",
   "name": "python",
   "nbconvert_exporter": "python",
   "pygments_lexer": "ipython3",
   "version": "3.8.5"
  }
 },
 "nbformat": 4,
 "nbformat_minor": 4
}
