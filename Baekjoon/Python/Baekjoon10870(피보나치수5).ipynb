{
 "cells": [
  {
   "cell_type": "code",
   "execution_count": null,
   "metadata": {},
   "outputs": [],
   "source": [
    "n=int(input())\n",
    "a1=0\n",
    "a2=1\n",
    "a3=1\n",
    "arr=[0]*20\n",
    "arr[0]=0\n",
    "arr[1]=1\n",
    "for i in range(2,21):\n",
    "    arr[i]=arr[i-1]+arr[i-2]\n",
    "print(arr)\n",
    "    "
   ]
  }
 ],
 "metadata": {
  "kernelspec": {
   "display_name": "Python 3",
   "language": "python",
   "name": "python3"
  },
  "language_info": {
   "codemirror_mode": {
    "name": "ipython",
    "version": 3
   },
   "file_extension": ".py",
   "mimetype": "text/x-python",
   "name": "python",
   "nbconvert_exporter": "python",
   "pygments_lexer": "ipython3",
   "version": "3.8.5"
  }
 },
 "nbformat": 4,
 "nbformat_minor": 4
}
