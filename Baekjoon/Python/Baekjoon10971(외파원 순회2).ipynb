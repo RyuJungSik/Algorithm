{
 "cells": [
  {
   "cell_type": "code",
   "execution_count": 32,
   "metadata": {},
   "outputs": [
    {
     "name": "stdout",
     "output_type": "stream",
     "text": [
      "2\n",
      "1000000 1000000\n",
      "1000000 1000000\n",
      "2000000\n"
     ]
    }
   ],
   "source": [
    "from itertools import permutations\n",
    "n=int(input())\n",
    "#board=[[0, 10, 15, 20],[5, 0, 9, 10],[6, 13, 0, 12],[8, 8, 9, 0]]\n",
    "board=[]\n",
    "for _ in range(n):\n",
    "    board.append(list(map(int, input().split())))\n",
    "roads=[i for i in range(n)]\n",
    "\n",
    "answer=1000000*n+1\n",
    "for i in (permutations(roads,n)):\n",
    "    tmp=0\n",
    "    flag=True\n",
    "    cur=0\n",
    "    next=i[0]\n",
    "    visited=set()\n",
    "    visited.add(cur)\n",
    "    for j in range(n):\n",
    "        cur=next\n",
    "        next=i[cur]\n",
    "        visited.add(cur)\n",
    "    if len(visited)!=n:\n",
    "        continue\n",
    "    \n",
    "    for j in range(n):\n",
    "        if board[j][i[j]]==0:\n",
    "            flag=False\n",
    "            break\n",
    "        tmp+=board[j][i[j]]\n",
    "    if flag==False:\n",
    "        continue\n",
    "    answer=min(answer,tmp)\n",
    "if answer==1000000:\n",
    "    print(0)\n",
    "else:\n",
    "    print(answer)"
   ]
  }
 ],
 "metadata": {
  "kernelspec": {
   "display_name": "Python 3",
   "language": "python",
   "name": "python3"
  },
  "language_info": {
   "codemirror_mode": {
    "name": "ipython",
    "version": 3
   },
   "file_extension": ".py",
   "mimetype": "text/x-python",
   "name": "python",
   "nbconvert_exporter": "python",
   "pygments_lexer": "ipython3",
   "version": "3.8.5"
  }
 },
 "nbformat": 4,
 "nbformat_minor": 4
}
