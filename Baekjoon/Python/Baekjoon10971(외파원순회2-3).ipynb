{
 "cells": [
  {
   "cell_type": "code",
   "execution_count": null,
   "metadata": {},
   "outputs": [],
   "source": [
    "def dfs(index,start,cur,s):\n",
    "    global board,visited,n,answer\n",
    "    if index==n-1:\n",
    "        if board[cur][start]==0:return\n",
    "        answer=min(answer,s+board[cur][start])\n",
    "        return\n",
    "        \n",
    "    else:\n",
    "        for nx in range(n):\n",
    "            if visited[nx]==True or board[cur][nx]==0:continue\n",
    "            visited[nx]=True\n",
    "            dfs(index+1,start,nx,s+board[cur][nx])\n",
    "            visited[nx]=False\n",
    "        \n",
    "    \n",
    "\n",
    "n=int(input())\n",
    "answer=int(1e9)\n",
    "board=[]\n",
    "for _ in range(n):\n",
    "    board.append(list(map(int,input().split())))\n",
    "\n",
    "for i in range(n):\n",
    "    visited=[False]*n\n",
    "    visited[i]=True\n",
    "    dfs(0,i,i,0)\n",
    "print(answer)"
   ]
  }
 ],
 "metadata": {
  "kernelspec": {
   "display_name": "Python 3",
   "language": "python",
   "name": "python3"
  },
  "language_info": {
   "codemirror_mode": {
    "name": "ipython",
    "version": 3
   },
   "file_extension": ".py",
   "mimetype": "text/x-python",
   "name": "python",
   "nbconvert_exporter": "python",
   "pygments_lexer": "ipython3",
   "version": "3.8.5"
  }
 },
 "nbformat": 4,
 "nbformat_minor": 4
}
