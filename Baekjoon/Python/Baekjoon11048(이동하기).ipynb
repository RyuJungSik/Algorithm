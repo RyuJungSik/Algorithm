{
 "cells": [
  {
   "cell_type": "code",
   "execution_count": null,
   "metadata": {},
   "outputs": [
    {
     "name": "stdout",
     "output_type": "stream",
     "text": [
      "15 13\n",
      ".......x.......\n",
      "...o...x....*..\n",
      ".......x.......\n",
      ".......x.......\n",
      ".......x.......\n",
      "...............\n",
      "xxxxx.....xxxxx\n",
      "...............\n",
      ".......x.......\n",
      ".......x.......\n",
      ".......x.......\n",
      "..*....x....*..\n",
      ".......x.......\n",
      "49\n"
     ]
    }
   ],
   "source": [
    "from collections import deque\n",
    "from itertools import permutations\n",
    "\n",
    "d=[(0,1),(0,-1),(1,0),(-1,0)]\n",
    "\n",
    "def bfs(i, j):\n",
    "    visited = [[0] * w for _ in range(h)]\n",
    "    visited[i][j] = 1\n",
    "    queue = deque([(i, j)])\n",
    "    while queue:\n",
    "        r, c = queue.popleft()\n",
    "        for idx in range(4):\n",
    "            nr = r + d[idx][0]\n",
    "            nc = c + d[idx][1]\n",
    "            if 0 <= nr < h and 0 <= nc < w and not visited[nr][nc]:\n",
    "                if maps[nr][nc] != 'x':\n",
    "                    queue.append((nr, nc))\n",
    "                    visited[nr][nc] = visited[r][c] + 1\n",
    "    return visited\n",
    "\n",
    "while True:\n",
    "    w, h=map(int, input().split())\n",
    "    if w==0 and h==0:\n",
    "        break\n",
    "    maps=[list(''.join(map(str,input().rstrip()))) for _ in range(h)]\n",
    "    dusts=[]\n",
    "    cr,cc=0,0\n",
    "    for r in range(h):\n",
    "        for c in range(w):\n",
    "            if maps[r][c]=='o':\n",
    "                cr,cc=r,c\n",
    "            elif maps[r][c]=='*':\n",
    "                dusts.append((r,c))\n",
    "    cleaner=[0]*len(dusts)\n",
    "    visited=bfs(cr,cc)\n",
    "    is_possible=True\n",
    "    for idx, rc in enumerate(dusts):\n",
    "            temp = visited[rc[0]][rc[1]]\n",
    "            if not temp: # 로봇 청소기가 방문할 수 없는 칸이 나오면 False\n",
    "                print(-1)\n",
    "                is_possible = False\n",
    "                break\n",
    "            cleaner[idx] += temp - 1 \n",
    "    if is_possible:\n",
    "        dists=[[0]*(len(dusts)) for _ in range(len(dusts))]\n",
    "        for i in range(len(dusts)-1):\n",
    "            visited=bfs(dusts[i][0],dusts[i][1])\n",
    "            for j in range(i+1,len(dusts)):\n",
    "                dists[i][j]=visited[dusts[j][0]][dusts[j][1]]-1\n",
    "                dists[j][i]=dists[i][j]\n",
    "        answer=int(1e9)\n",
    "        for li in permutations(range(len(dists))):\n",
    "            temp=cleaner[li[0]]\n",
    "            start=li[0]\n",
    "            for idx in range(1,len(li)):\n",
    "                end=li[idx]\n",
    "                temp+=dists[start][end]\n",
    "                start=end\n",
    "            answer=min(answer,temp)\n",
    "        print(answer)"
   ]
  },
  {
   "cell_type": "code",
   "execution_count": null,
   "metadata": {},
   "outputs": [],
   "source": []
  }
 ],
 "metadata": {
  "kernelspec": {
   "display_name": "Python 3",
   "language": "python",
   "name": "python3"
  },
  "language_info": {
   "codemirror_mode": {
    "name": "ipython",
    "version": 3
   },
   "file_extension": ".py",
   "mimetype": "text/x-python",
   "name": "python",
   "nbconvert_exporter": "python",
   "pygments_lexer": "ipython3",
   "version": "3.8.5"
  }
 },
 "nbformat": 4,
 "nbformat_minor": 4
}
