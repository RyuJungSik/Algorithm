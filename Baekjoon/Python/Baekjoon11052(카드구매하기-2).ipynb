{
 "cells": [
  {
   "cell_type": "code",
   "execution_count": null,
   "metadata": {},
   "outputs": [],
   "source": [
    "n=int(input())\n",
    "arr=list(map(int,input().split()))\n",
    "arr=[0]+arr\n",
    "\n",
    "dp=[0]*10001\n",
    "dp[1]=arr[1]\n",
    "\n",
    "for i in range(2,1001):\n",
    "    for j in range(len(arr)):\n",
    "        if i-j>=0:\n",
    "            dp[i]=max(dp[i],dp[i-j]+arr[j])\n",
    "print(dp[n])"
   ]
  }
 ],
 "metadata": {
  "kernelspec": {
   "display_name": "Python 3",
   "language": "python",
   "name": "python3"
  },
  "language_info": {
   "codemirror_mode": {
    "name": "ipython",
    "version": 3
   },
   "file_extension": ".py",
   "mimetype": "text/x-python",
   "name": "python",
   "nbconvert_exporter": "python",
   "pygments_lexer": "ipython3",
   "version": "3.8.5"
  }
 },
 "nbformat": 4,
 "nbformat_minor": 4
}
