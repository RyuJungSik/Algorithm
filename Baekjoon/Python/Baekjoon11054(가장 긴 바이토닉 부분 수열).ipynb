{
 "cells": [
  {
   "cell_type": "code",
   "execution_count": null,
   "metadata": {},
   "outputs": [],
   "source": [
    "n = int(input())\n",
    "a = list(map(int,input().split()))\n",
    "\n",
    "d1=[0]*n\n",
    "d2=[0]*n\n",
    "\n",
    "for i in range(n):\n",
    "    d1[i]=1\n",
    "    for j in range(i):\n",
    "        if a[j]<a[i] and d1[j]+1>d1[i]:\n",
    "            d1[i]=d1[j]+1\n",
    "for i in range(n-1,-1,-1):\n",
    "    d2[i]=1\n",
    "    for j in range(i+1,n):\n",
    "        if a[i]>a[j] and d2[j]+1>d2[i]:\n",
    "            d2[i]=d2[j]+1\n",
    "d=[d1[i]+d2[i]-1 for i in range(n)]\n",
    "print(max(d))"
   ]
  }
 ],
 "metadata": {
  "kernelspec": {
   "display_name": "Python 3",
   "language": "python",
   "name": "python3"
  },
  "language_info": {
   "codemirror_mode": {
    "name": "ipython",
    "version": 3
   },
   "file_extension": ".py",
   "mimetype": "text/x-python",
   "name": "python",
   "nbconvert_exporter": "python",
   "pygments_lexer": "ipython3",
   "version": "3.8.5"
  }
 },
 "nbformat": 4,
 "nbformat_minor": 4
}
