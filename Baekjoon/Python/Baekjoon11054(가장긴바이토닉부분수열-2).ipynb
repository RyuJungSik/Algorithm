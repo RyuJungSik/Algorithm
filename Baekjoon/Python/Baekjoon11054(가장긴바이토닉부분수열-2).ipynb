{
 "cells": [
  {
   "cell_type": "code",
   "execution_count": null,
   "metadata": {},
   "outputs": [],
   "source": [
    "n=int(input())\n",
    "\n",
    "arr=list(map(int,input().split()))\n",
    "arrReverse=arr[::-1]\n",
    "\n",
    "dp1=[1]*n\n",
    "dp2=[1]*n\n",
    "\n",
    "for i in range(n):\n",
    "    for j in range(i):\n",
    "        if arr[j]<arr[i]:\n",
    "            dp1[i]=max(dp1[i],dp1[j]+1)\n",
    "\n",
    "for i in range(n):\n",
    "    for j in range(i):\n",
    "        if arrReverse[j]<arrReverse[i]:\n",
    "            dp2[i]=max(dp2[i],dp2[j]+1)\n",
    "            \n",
    "answer=1\n",
    "dp2=dp2[::-1]\n",
    "\n",
    "\n",
    "for i in range(n):\n",
    "    answer=max(answer,dp1[i]+dp2[i])\n",
    "print(answer-1)"
   ]
  }
 ],
 "metadata": {
  "kernelspec": {
   "display_name": "Python 3",
   "language": "python",
   "name": "python3"
  },
  "language_info": {
   "codemirror_mode": {
    "name": "ipython",
    "version": 3
   },
   "file_extension": ".py",
   "mimetype": "text/x-python",
   "name": "python",
   "nbconvert_exporter": "python",
   "pygments_lexer": "ipython3",
   "version": "3.8.5"
  }
 },
 "nbformat": 4,
 "nbformat_minor": 4
}
