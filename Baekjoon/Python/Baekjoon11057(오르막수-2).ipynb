{
 "cells": [
  {
   "cell_type": "code",
   "execution_count": null,
   "metadata": {},
   "outputs": [],
   "source": [
    "n=int(input())\n",
    "\n",
    "dp=[[0]*1001 for _ in range(10)]\n",
    "for i in range(10):\n",
    "    dp[i][1]=1\n",
    "for i in range(2,1001):\n",
    "    for j in range(10):\n",
    "        for k in range(j+1):\n",
    "            dp[j][i]+=dp[k][i-1]%10007\n",
    "answer=0\n",
    "for i in range(10):\n",
    "    answer+=dp[i][n]\n",
    "print(answer%10007)"
   ]
  }
 ],
 "metadata": {
  "kernelspec": {
   "display_name": "Python 3",
   "language": "python",
   "name": "python3"
  },
  "language_info": {
   "codemirror_mode": {
    "name": "ipython",
    "version": 3
   },
   "file_extension": ".py",
   "mimetype": "text/x-python",
   "name": "python",
   "nbconvert_exporter": "python",
   "pygments_lexer": "ipython3",
   "version": "3.8.5"
  }
 },
 "nbformat": 4,
 "nbformat_minor": 4
}
