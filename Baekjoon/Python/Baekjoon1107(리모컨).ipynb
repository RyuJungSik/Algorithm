{
 "cells": [
  {
   "cell_type": "code",
   "execution_count": null,
   "metadata": {},
   "outputs": [],
   "source": [
    "n=int(input())\n",
    "m=int(input())\n",
    "if m!=0:\n",
    "    arr=list(map(int,input().split()))\n",
    "    \n",
    "if m==0:\n",
    "    answer=min(abs(n-100),len(str(n)))\n",
    "    print(answer)\n",
    "else:\n",
    "    minValue=1000000\n",
    "    target=0\n",
    "    answer=abs(n-100)\n",
    "    for i in range(1000000):\n",
    "        a=str(i)\n",
    "        flag=True\n",
    "        for c in a:\n",
    "            if int(c) in arr:\n",
    "                flag=False\n",
    "                break\n",
    "        if flag==False:\n",
    "            continue\n",
    "        cha=abs(n-i)\n",
    "        answer=min(answer,(len(str(i))+abs(n-i)))\n",
    "    print(answer)"
   ]
  }
 ],
 "metadata": {
  "kernelspec": {
   "display_name": "Python 3",
   "language": "python",
   "name": "python3"
  },
  "language_info": {
   "codemirror_mode": {
    "name": "ipython",
    "version": 3
   },
   "file_extension": ".py",
   "mimetype": "text/x-python",
   "name": "python",
   "nbconvert_exporter": "python",
   "pygments_lexer": "ipython3",
   "version": "3.8.5"
  }
 },
 "nbformat": 4,
 "nbformat_minor": 4
}
