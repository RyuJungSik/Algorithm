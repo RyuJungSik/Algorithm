{
 "cells": [
  {
   "cell_type": "code",
   "execution_count": null,
   "metadata": {},
   "outputs": [],
   "source": [
    "from itertools import permutations\n",
    "\n",
    "n=int(input())\n",
    "m=int(input())\n",
    "answer=abs(100-n)\n",
    "if m!=0:\n",
    "    arr=list(map(int, input().split()))\n",
    "else:\n",
    "    arr=[]\n",
    "arr2=[]\n",
    "\n",
    "\n",
    "for i in range(10):\n",
    "    if i not in arr:\n",
    "        arr2.append(i)\n",
    "\n",
    "for i in range(0,1000000):\n",
    "    flag=True\n",
    "    btn=0\n",
    "    for j in str(i):\n",
    "        if int(j) not in arr2:\n",
    "            flag=False\n",
    "    if flag==False:\n",
    "        continue\n",
    "    btn=len(str(i))+abs(n-i)\n",
    "    answer=min(btn,answer)\n",
    "    \n",
    "print(answer)"
   ]
  }
 ],
 "metadata": {
  "kernelspec": {
   "display_name": "Python 3",
   "language": "python",
   "name": "python3"
  },
  "language_info": {
   "codemirror_mode": {
    "name": "ipython",
    "version": 3
   },
   "file_extension": ".py",
   "mimetype": "text/x-python",
   "name": "python",
   "nbconvert_exporter": "python",
   "pygments_lexer": "ipython3",
   "version": "3.8.5"
  }
 },
 "nbformat": 4,
 "nbformat_minor": 4
}
