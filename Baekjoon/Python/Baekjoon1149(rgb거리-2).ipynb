{
 "cells": [
  {
   "cell_type": "code",
   "execution_count": null,
   "metadata": {},
   "outputs": [],
   "source": [
    "n=int(input())\n",
    "board=[]\n",
    "for _ in range(n):\n",
    "    board.append(list(map(int,input().split())))\n",
    "dp=[[0]*(n+1) for _ in range(3)]\n",
    "\n",
    "dp[0][1]=board[0][0]\n",
    "dp[1][1]=board[0][1]\n",
    "dp[2][1]=board[0][2]\n",
    "\n",
    "for i in range(2,n+1):\n",
    "    dp[0][i]=min(dp[1][i-1]+board[i-1][0],dp[2][i-1]+board[i-1][0])\n",
    "    dp[1][i]=min(dp[0][i-1]+board[i-1][1],dp[2][i-1]+board[i-1][1])\n",
    "    dp[2][i]=min(dp[0][i-1]+board[i-1][2],dp[1][i-1]+board[i-1][2])\n",
    "print(min(dp[0][n],dp[1][n],dp[2][n]))"
   ]
  }
 ],
 "metadata": {
  "kernelspec": {
   "display_name": "Python 3",
   "language": "python",
   "name": "python3"
  },
  "language_info": {
   "codemirror_mode": {
    "name": "ipython",
    "version": 3
   },
   "file_extension": ".py",
   "mimetype": "text/x-python",
   "name": "python",
   "nbconvert_exporter": "python",
   "pygments_lexer": "ipython3",
   "version": "3.8.5"
  }
 },
 "nbformat": 4,
 "nbformat_minor": 4
}
