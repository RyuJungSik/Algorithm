{
 "cells": [
  {
   "cell_type": "code",
   "execution_count": null,
   "metadata": {},
   "outputs": [],
   "source": [
    "answer=0\n",
    "n,m=map(int,input().split())\n",
    "g=[[] for _ in range(n+1)]\n",
    "for _ in range(m):\n",
    "    u,v=map(int,input().split())\n",
    "    g[u].append(v)\n",
    "    g[v].append(u)\n",
    "    \n",
    "def dfs(cur):\n",
    "    for i in g[cur]:\n",
    "        if visited[i]==False:\n",
    "            visited[i]=True\n",
    "            dfs(i)\n",
    "\n",
    "visited=[False]*(n+1)\n",
    "for i in range(1,n+1):\n",
    "    if visited[i]==False:\n",
    "        visited[i]=True\n",
    "        dfs(i)\n",
    "        answer+=1\n",
    "print(answer)"
   ]
  }
 ],
 "metadata": {
  "kernelspec": {
   "display_name": "Python 3",
   "language": "python",
   "name": "python3"
  },
  "language_info": {
   "codemirror_mode": {
    "name": "ipython",
    "version": 3
   },
   "file_extension": ".py",
   "mimetype": "text/x-python",
   "name": "python",
   "nbconvert_exporter": "python",
   "pygments_lexer": "ipython3",
   "version": "3.8.5"
  }
 },
 "nbformat": 4,
 "nbformat_minor": 4
}
