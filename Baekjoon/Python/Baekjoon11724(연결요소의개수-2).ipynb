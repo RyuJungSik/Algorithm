{
 "cells": [
  {
   "cell_type": "code",
   "execution_count": null,
   "metadata": {},
   "outputs": [],
   "source": [
    "def dfs(cur):\n",
    "    global visited, cnt, graph\n",
    "    for nx in graph[cur]:\n",
    "        if visited[nx]==0:\n",
    "            visited[nx]=cnt\n",
    "            dfs(nx)\n",
    "\n",
    "n,m=map(int,input().split())\n",
    "graph=[[] for _ in range(n+1)]\n",
    "for _ in range(m):\n",
    "    a,b=map(int,input().split())\n",
    "    graph[a].append(b)\n",
    "    graph[b].append(a)\n",
    "    \n",
    "visited=[0]*(n+1)\n",
    "cnt=1\n",
    "for i in range(1,n+1):\n",
    "    if visited[i]==0:\n",
    "        visited[i]=cnt\n",
    "        dfs(i)\n",
    "        cnt+=1\n",
    "        \n",
    "print(max(visited))"
   ]
  }
 ],
 "metadata": {
  "kernelspec": {
   "display_name": "Python 3",
   "language": "python",
   "name": "python3"
  },
  "language_info": {
   "codemirror_mode": {
    "name": "ipython",
    "version": 3
   },
   "file_extension": ".py",
   "mimetype": "text/x-python",
   "name": "python",
   "nbconvert_exporter": "python",
   "pygments_lexer": "ipython3",
   "version": "3.8.5"
  }
 },
 "nbformat": 4,
 "nbformat_minor": 4
}
