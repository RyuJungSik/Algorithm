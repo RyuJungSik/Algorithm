{
 "cells": [
  {
   "cell_type": "code",
   "execution_count": null,
   "metadata": {},
   "outputs": [],
   "source": [
    "import sys\n",
    "sys.setrecursionlimit(100000)\n",
    "\n",
    "n=int(input())\n",
    "graph=[[] for _ in range(n+1)]\n",
    "parent=[1]*(n+1) \n",
    "visited=[False]*(n+1) \n",
    "for _ in range(n-1):\n",
    "    a,b=map(int,input().split(\" \"))\n",
    "    graph[a].append(b)\n",
    "    graph[b].append(a)\n",
    "\n",
    "def dfs(cur):\n",
    "    for nextNode in graph[cur]:\n",
    "        if visited[nextNode]: continue\n",
    "        parent[nextNode]=cur\n",
    "        visited[nextNode]=True\n",
    "        dfs(nextNode)\n",
    "        visited[nextNode]=False\n",
    "visited[1]=True\n",
    "dfs(1)\n",
    "parent=parent[2:]\n",
    "for i in parent:\n",
    "    print(i)"
   ]
  }
 ],
 "metadata": {
  "kernelspec": {
   "display_name": "Python 3",
   "language": "python",
   "name": "python3"
  },
  "language_info": {
   "codemirror_mode": {
    "name": "ipython",
    "version": 3
   },
   "file_extension": ".py",
   "mimetype": "text/x-python",
   "name": "python",
   "nbconvert_exporter": "python",
   "pygments_lexer": "ipython3",
   "version": "3.8.5"
  }
 },
 "nbformat": 4,
 "nbformat_minor": 4
}
