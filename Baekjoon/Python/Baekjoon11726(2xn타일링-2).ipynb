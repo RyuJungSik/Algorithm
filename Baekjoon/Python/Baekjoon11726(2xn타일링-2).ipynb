{
 "cells": [
  {
   "cell_type": "code",
   "execution_count": null,
   "metadata": {},
   "outputs": [],
   "source": [
    "n=int(input())\n",
    "dp=[0]*1001\n",
    "\n",
    "dp[1]=1\n",
    "dp[2]=2\n",
    "\n",
    "for i in range(3,1001):\n",
    "    dp[i]=(dp[i-1]+dp[i-2])%10007\n",
    "print(dp[n]%10007)"
   ]
  }
 ],
 "metadata": {
  "kernelspec": {
   "display_name": "Python 3",
   "language": "python",
   "name": "python3"
  },
  "language_info": {
   "codemirror_mode": {
    "name": "ipython",
    "version": 3
   },
   "file_extension": ".py",
   "mimetype": "text/x-python",
   "name": "python",
   "nbconvert_exporter": "python",
   "pygments_lexer": "ipython3",
   "version": "3.8.5"
  }
 },
 "nbformat": 4,
 "nbformat_minor": 4
}
