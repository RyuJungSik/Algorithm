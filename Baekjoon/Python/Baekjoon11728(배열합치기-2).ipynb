{
 "cells": [
  {
   "cell_type": "code",
   "execution_count": null,
   "metadata": {},
   "outputs": [],
   "source": [
    "n,m=map(int,input().split())\n",
    "a=list(map(int,input().split()))\n",
    "b=list(map(int,input().split()))\n",
    "answer=[]\n",
    "\n",
    "p1=0\n",
    "p2=0\n",
    "\n",
    "while p1<n and p2<m:\n",
    "    if a[p1]<=b[p2]:\n",
    "        answer.append(a[p1])\n",
    "        p1+=1\n",
    "    else:\n",
    "        answer.append(b[p2])\n",
    "        p2+=1\n",
    "if p1<n:\n",
    "    answer+=a[p1:]\n",
    "if p2<m:\n",
    "    answer+=b[p2:]\n",
    "print(\" \".join(map(str,answer)))"
   ]
  }
 ],
 "metadata": {
  "kernelspec": {
   "display_name": "Python 3",
   "language": "python",
   "name": "python3"
  },
  "language_info": {
   "codemirror_mode": {
    "name": "ipython",
    "version": 3
   },
   "file_extension": ".py",
   "mimetype": "text/x-python",
   "name": "python",
   "nbconvert_exporter": "python",
   "pygments_lexer": "ipython3",
   "version": "3.8.5"
  }
 },
 "nbformat": 4,
 "nbformat_minor": 4
}
