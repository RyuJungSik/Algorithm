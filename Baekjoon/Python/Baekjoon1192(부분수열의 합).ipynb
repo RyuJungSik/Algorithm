{
 "cells": [
  {
   "cell_type": "code",
   "execution_count": null,
   "metadata": {},
   "outputs": [],
   "source": [
    "n = int(input())\n",
    "a = list(map(int,input().split()))\n",
    "c = [False]*(n*100000+10)\n",
    "for i in range(1<<n):\n",
    "    s = 0\n",
    "    for j in range(n):\n",
    "        print(i,j,(i&(1<<j)))\n",
    "        if (i&(1<<j)):\n",
    "            s += a[j]\n",
    "    c[s] = True\n",
    "i = 1\n",
    "while True:\n",
    "    if c[i] == False:\n",
    "        break\n",
    "    i += 1\n",
    "print(i)"
   ]
  }
 ],
 "metadata": {
  "kernelspec": {
   "display_name": "Python 3",
   "language": "python",
   "name": "python3"
  },
  "language_info": {
   "codemirror_mode": {
    "name": "ipython",
    "version": 3
   },
   "file_extension": ".py",
   "mimetype": "text/x-python",
   "name": "python",
   "nbconvert_exporter": "python",
   "pygments_lexer": "ipython3",
   "version": "3.8.5"
  }
 },
 "nbformat": 4,
 "nbformat_minor": 4
}
