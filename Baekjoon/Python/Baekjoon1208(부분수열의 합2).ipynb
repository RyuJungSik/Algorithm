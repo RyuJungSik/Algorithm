{
 "cells": [
  {
   "cell_type": "code",
   "execution_count": null,
   "metadata": {},
   "outputs": [],
   "source": [
    "from itertools import combinations\n",
    "n,s=map(int,input().split())\n",
    "a=list(map(int, input().split()))\n",
    "l=a[:n//2]\n",
    "r=a[n//2:]\n",
    "ls=[]\n",
    "rs=[]\n",
    "for i in range(len(l)+1):\n",
    "    for j in (combinations(l,i)):\n",
    "        ls.append(sum(j))\n",
    "for i in range(len(r)+1):\n",
    "    for j in (combinations(r,i)):\n",
    "        rs.append(sum(j))\n",
    "\n",
    "ls.sort()\n",
    "rs.sort(reverse =True)\n",
    "n=len(ls)\n",
    "m=len(rs)\n",
    "\n",
    "answer=0\n",
    "left, right=0,0\n",
    "while left<n and right<m:\n",
    "    if ls[left]+rs[right]==s:\n",
    "        c1=1\n",
    "        c2=1\n",
    "        right+=1\n",
    "        left+=1\n",
    "        while left<n and ls[left]==ls[left-1]:\n",
    "            c1+=1\n",
    "            left+=1\n",
    "        while right<m and rs[right]==rs[right-1]:\n",
    "            c2+=1\n",
    "            right+=1\n",
    "        answer+=c1*c2\n",
    "    elif ls[left]+rs[right]>s:\n",
    "        right+=1\n",
    "    else:\n",
    "        left+=1\n",
    "if s==0:\n",
    "    answer-=1\n",
    "print(answer)"
   ]
  }
 ],
 "metadata": {
  "kernelspec": {
   "display_name": "Python 3",
   "language": "python",
   "name": "python3"
  }
 },
 "nbformat": 4,
 "nbformat_minor": 4
}
