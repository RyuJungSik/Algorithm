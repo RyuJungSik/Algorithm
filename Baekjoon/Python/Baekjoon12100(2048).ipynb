{
 "cells": [
  {
   "cell_type": "code",
   "execution_count": 14,
   "metadata": {},
   "outputs": [
    {
     "name": "stdout",
     "output_type": "stream",
     "text": [
      "3\n",
      "2 2 2\n",
      "4 4 4\n",
      "8 8 8\n",
      "16\n"
     ]
    }
   ],
   "source": [
    "from copy import deepcopy\n",
    "n=int(input())\n",
    "board=[]\n",
    "for _ in range(n):\n",
    "    board.append(list(map(int, input().split())))\n",
    "\n",
    "def convert(b,n):\n",
    "    x=deepcopy(b)\n",
    "    oneList=[]\n",
    "    for i in range(n):\n",
    "        oneList=[j for j in b[i] if j]\n",
    "        for j in range(1,len(oneList)):\n",
    "            if oneList[j-1]==oneList[j]:\n",
    "                oneList[j-1]*=2\n",
    "                oneList[j]=0\n",
    "        oneList=[j for j in oneList if j]\n",
    "        for j in range(n):\n",
    "            if j<len(oneList):\n",
    "                x[i][j]=oneList[j]\n",
    "            else:\n",
    "                x[i][j]=0\n",
    "    return x\n",
    "    \n",
    "def rotate90(b, n):\n",
    "    x=deepcopy(b)\n",
    "    for i in range(n):\n",
    "        for j in range(n):\n",
    "            x[j][n-1-i]=b[i][j]\n",
    "    return x\n",
    "            \n",
    "    \n",
    "def dfs(n, b, index):\n",
    "    ret=max([max(i) for i in b])\n",
    "    if index==5:\n",
    "        return ret\n",
    "    else:\n",
    "        for _ in range(4):\n",
    "            nextB=convert(b,n)\n",
    "            if nextB!=b:\n",
    "                ret=max(ret, dfs(n,nextB,index+1))\n",
    "            b=rotate90(b,n)\n",
    "        return ret\n",
    "\n",
    "print(dfs(n,board,0))\n"
   ]
  }
 ],
 "metadata": {
  "kernelspec": {
   "display_name": "Python 3",
   "language": "python",
   "name": "python3"
  },
  "language_info": {
   "codemirror_mode": {
    "name": "ipython",
    "version": 3
   },
   "file_extension": ".py",
   "mimetype": "text/x-python",
   "name": "python",
   "nbconvert_exporter": "python",
   "pygments_lexer": "ipython3",
   "version": "3.8.5"
  }
 },
 "nbformat": 4,
 "nbformat_minor": 4
}
