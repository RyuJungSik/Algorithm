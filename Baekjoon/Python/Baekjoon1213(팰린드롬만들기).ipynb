{
 "cells": [
  {
   "cell_type": "code",
   "execution_count": null,
   "metadata": {},
   "outputs": [],
   "source": [
    "name=input()\n",
    "name_dict={}\n",
    "\n",
    "for i in range(len(name)):\n",
    "    if name[i] in name_dict:\n",
    "        name_dict[name[i]]+=1\n",
    "    else:\n",
    "        name_dict[name[i]]=1\n",
    "        \n",
    "letters=[]\n",
    "for letter in name_dict:\n",
    "    letters.append((letter,name_dict[letter]))\n",
    "letters.sort()\n",
    "\n",
    "even=\"\"\n",
    "odd=\"\"\n",
    "break_cnt=0\n",
    "for letter in letters:\n",
    "    if letter[1]%2!=0:\n",
    "        break_cnt+=1\n",
    "        odd+=letter[0]\n",
    "    even+=letter[0]*(letter[1]//2)\n",
    "    \n",
    "if break_cnt>1:\n",
    "    print(\"I'm Sorry Hansoo\")\n",
    "else:\n",
    "    print(even+odd+even[::-1])"
   ]
  }
 ],
 "metadata": {
  "kernelspec": {
   "display_name": "Python 3",
   "language": "python",
   "name": "python3"
  },
  "language_info": {
   "codemirror_mode": {
    "name": "ipython",
    "version": 3
   },
   "file_extension": ".py",
   "mimetype": "text/x-python",
   "name": "python",
   "nbconvert_exporter": "python",
   "pygments_lexer": "ipython3",
   "version": "3.8.5"
  }
 },
 "nbformat": 4,
 "nbformat_minor": 4
}
