{
 "cells": [
  {
   "cell_type": "code",
   "execution_count": null,
   "metadata": {},
   "outputs": [],
   "source": [
    "def check(index):\n",
    "    s=0\n",
    "    for i in range(index,-1,-1):\n",
    "        s+=ans[i]\n",
    "        if sign[i][index]==0:\n",
    "            if s!=0:\n",
    "                return False\n",
    "        elif sign[i][index]<0:\n",
    "            if s>=0:\n",
    "                return False\n",
    "        elif sign[i][index]>0:\n",
    "            if s<=0:\n",
    "                return False\n",
    "    return True\n",
    "\n",
    "def go(index):\n",
    "    if index==n:\n",
    "        return True\n",
    "    if sign[index][index]==0:\n",
    "        ans[index]=0\n",
    "        return check(index) and go(index+1)\n",
    "    for i in range(1,11):\n",
    "        ans[index]=i*sign[index][index]\n",
    "        if check(index) and go(index+1):\n",
    "            return True\n",
    "        \n",
    "n=int(input())\n",
    "s=input()\n",
    "sign=[[0]*n for _ in range(n)]\n",
    "ans=[0]*n\n",
    "cnt=0\n",
    "\n",
    "for i in range(n):\n",
    "    for j in range(i,n):\n",
    "        if s[cnt]=='0':\n",
    "            sign[i][j]=0\n",
    "        elif s[cnt]=='+':\n",
    "            sign[i][j]=1\n",
    "        else:\n",
    "            sign[i][j]=-1\n",
    "        cnt+=1\n",
    "go(0)\n",
    "print(' '.join(map(str,ans)))"
   ]
  }
 ],
 "metadata": {
  "kernelspec": {
   "display_name": "Python 3",
   "language": "python",
   "name": "python3"
  },
  "language_info": {
   "codemirror_mode": {
    "name": "ipython",
    "version": 3
   },
   "file_extension": ".py",
   "mimetype": "text/x-python",
   "name": "python",
   "nbconvert_exporter": "python",
   "pygments_lexer": "ipython3",
   "version": "3.8.5"
  }
 },
 "nbformat": 4,
 "nbformat_minor": 4
}
