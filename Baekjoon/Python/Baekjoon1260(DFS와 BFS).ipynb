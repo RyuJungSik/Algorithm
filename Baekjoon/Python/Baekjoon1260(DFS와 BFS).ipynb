{
 "cells": [
  {
   "cell_type": "code",
   "execution_count": null,
   "metadata": {},
   "outputs": [],
   "source": [
    "from collections import deque\n",
    "n,m,v=map(int, input().split())\n",
    "g=[[] for _ in range(n+1)]\n",
    "visited1=[]\n",
    "visited2=[]\n",
    "for _ in range(m):\n",
    "    a,b=map(int,input().split())\n",
    "    g[a].append(b)\n",
    "    g[b].append(a)\n",
    "\n",
    "for e in g:\n",
    "    e.sort()\n",
    "\n",
    "def dfs(cur):\n",
    "    global visited1\n",
    "    for i in g[cur]:\n",
    "        if i not in visited1:\n",
    "            visited1.append(i)\n",
    "            dfs(i)\n",
    "\n",
    "def bfs(cur):\n",
    "    global visited2\n",
    "    q=deque()\n",
    "    q.append(cur)\n",
    "    visited2.append(cur)\n",
    "    while q:\n",
    "        now=q.popleft()\n",
    "        for i in g[now]:\n",
    "            if i not in visited2:\n",
    "                visited2.append(i)\n",
    "                q.append(i)\n",
    "    \n",
    "    \n",
    "    \n",
    "visited1.append(v)    \n",
    "dfs(v)\n",
    "print(\" \".join(map(str,visited1)))\n",
    "bfs(v)\n",
    "print(\" \".join(map(str,visited2)))"
   ]
  }
 ],
 "metadata": {
  "kernelspec": {
   "display_name": "Python 3",
   "language": "python",
   "name": "python3"
  },
  "language_info": {
   "codemirror_mode": {
    "name": "ipython",
    "version": 3
   },
   "file_extension": ".py",
   "mimetype": "text/x-python",
   "name": "python",
   "nbconvert_exporter": "python",
   "pygments_lexer": "ipython3",
   "version": "3.8.5"
  }
 },
 "nbformat": 4,
 "nbformat_minor": 4
}
