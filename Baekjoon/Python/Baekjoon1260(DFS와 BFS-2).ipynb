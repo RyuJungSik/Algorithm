{
 "cells": [
  {
   "cell_type": "code",
   "execution_count": null,
   "metadata": {},
   "outputs": [],
   "source": [
    "from collections import deque\n",
    "\n",
    "def dfs(index,cur):\n",
    "    global n, visited1,graph\n",
    "    if index>=n-1:\n",
    "        return\n",
    "    else:\n",
    "        for nx in graph[cur]:\n",
    "            if nx not in visited1:\n",
    "                visited1.append(nx)\n",
    "                dfs(index+1,nx)\n",
    "\n",
    "\n",
    "def bfs(cur):\n",
    "    global visited2\n",
    "    q=deque([cur])\n",
    "    while q:\n",
    "        now=q.popleft()\n",
    "        for nx in graph[now]:\n",
    "            if nx not in visited2:\n",
    "                visited2.append(nx)\n",
    "                q.append(nx)\n",
    "    \n",
    "\n",
    "n,m,v=map(int,input().split())\n",
    "graph=[[]for _ in range(n+1)]\n",
    "visited1=[v]\n",
    "visited2=[v]\n",
    "\n",
    "for _ in range(m):\n",
    "    x,y=map(int,input().split())\n",
    "    graph[x].append(y)\n",
    "    graph[y].append(x)\n",
    "\n",
    "for i in range(n+1):\n",
    "    graph[i].sort()\n",
    "\n",
    "dfs(0,v)\n",
    "bfs(v)\n",
    "print(\" \".join(list(map(str,visited1))))\n",
    "print(\" \".join(list(map(str,visited2))))"
   ]
  }
 ],
 "metadata": {
  "kernelspec": {
   "display_name": "Python 3",
   "language": "python",
   "name": "python3"
  },
  "language_info": {
   "codemirror_mode": {
    "name": "ipython",
    "version": 3
   },
   "file_extension": ".py",
   "mimetype": "text/x-python",
   "name": "python",
   "nbconvert_exporter": "python",
   "pygments_lexer": "ipython3",
   "version": "3.8.5"
  }
 },
 "nbformat": 4,
 "nbformat_minor": 4
}
