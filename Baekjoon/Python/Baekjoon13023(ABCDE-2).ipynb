{
 "cells": [
  {
   "cell_type": "code",
   "execution_count": null,
   "metadata": {},
   "outputs": [],
   "source": [
    "n,m=map(int, input().split())\n",
    "g=[[] for _ in range(n)]\n",
    "visited=[False]*n\n",
    "answer=0\n",
    "for _ in range(m):\n",
    "    a,b=map(int, input().split())\n",
    "    g[a].append(b)\n",
    "    g[b].append(a)\n",
    "\n",
    "def go(index,cur):\n",
    "    global answer\n",
    "    if index==4:\n",
    "        answer=1\n",
    "        return\n",
    "    else:\n",
    "        for i in g[cur]:\n",
    "            if visited[i]==False:\n",
    "                visited[i]=True\n",
    "                go(index+1,i)\n",
    "                visited[i]=False\n",
    "\n",
    "for i in range(n):\n",
    "    visited[i]=True\n",
    "    go(0,i)\n",
    "    visited[i]=False\n",
    "print(answer)"
   ]
  }
 ],
 "metadata": {
  "kernelspec": {
   "display_name": "Python 3",
   "language": "python",
   "name": "python3"
  },
  "language_info": {
   "codemirror_mode": {
    "name": "ipython",
    "version": 3
   },
   "file_extension": ".py",
   "mimetype": "text/x-python",
   "name": "python",
   "nbconvert_exporter": "python",
   "pygments_lexer": "ipython3",
   "version": "3.8.5"
  }
 },
 "nbformat": 4,
 "nbformat_minor": 4
}
