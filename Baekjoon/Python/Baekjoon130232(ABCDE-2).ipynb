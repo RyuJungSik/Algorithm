{
 "cells": [
  {
   "cell_type": "code",
   "execution_count": null,
   "metadata": {},
   "outputs": [],
   "source": [
    "from collections import deque\n",
    "\n",
    "def dfs(index,cur):\n",
    "    global graph,flag,visited\n",
    "    if index==4:\n",
    "        flag=True\n",
    "        return\n",
    "    else:\n",
    "        for nx in graph[cur]:\n",
    "            if visited[nx]:\n",
    "                continue\n",
    "            visited[nx]=True\n",
    "            dfs(index+1,nx)\n",
    "            visited[nx]=False\n",
    "\n",
    "\n",
    "n,m=map(int,input().split())\n",
    "graph=[[] for _ in range(n)]\n",
    "flag=False\n",
    "\n",
    "for _ in range(m):\n",
    "    a,b=map(int,input().split())\n",
    "    graph[a].append(b)\n",
    "    graph[b].append(a)\n",
    "\n",
    "\n",
    "for i in range(n):\n",
    "    visited=[False]*n\n",
    "    visited[i]=True\n",
    "    dfs(0,i)\n",
    "    if flag:\n",
    "        break\n",
    "\n",
    "if flag:\n",
    "    print(1)\n",
    "else:\n",
    "    print(0)"
   ]
  }
 ],
 "metadata": {
  "kernelspec": {
   "display_name": "Python 3",
   "language": "python",
   "name": "python3"
  },
  "language_info": {
   "codemirror_mode": {
    "name": "ipython",
    "version": 3
   },
   "file_extension": ".py",
   "mimetype": "text/x-python",
   "name": "python",
   "nbconvert_exporter": "python",
   "pygments_lexer": "ipython3",
   "version": "3.8.5"
  }
 },
 "nbformat": 4,
 "nbformat_minor": 4
}
