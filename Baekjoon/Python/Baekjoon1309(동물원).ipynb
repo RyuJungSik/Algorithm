{
 "cells": [
  {
   "cell_type": "code",
   "execution_count": null,
   "metadata": {},
   "outputs": [],
   "source": [
    "n=int(input())\n",
    "dp=[[0 for _ in range(3)] for _ in range(n+1)]\n",
    "dp[1][0]=1\n",
    "dp[1][1]=1\n",
    "dp[1][2]=1\n",
    "\n",
    "for i in range(2,n+1):\n",
    "    dp[i][0]=(dp[i-1][1]+dp[i-1][2])%9901\n",
    "    dp[i][1]=(dp[i-1][0]+dp[i-1][2])%9901\n",
    "    dp[i][2]=(dp[i-1][0]+dp[i-1][1]+dp[i-1][2])%9901\n",
    "print(sum(dp[n])%9901)"
   ]
  }
 ],
 "metadata": {
  "kernelspec": {
   "display_name": "Python 3",
   "language": "python",
   "name": "python3"
  },
  "language_info": {
   "codemirror_mode": {
    "name": "ipython",
    "version": 3
   },
   "file_extension": ".py",
   "mimetype": "text/x-python",
   "name": "python",
   "nbconvert_exporter": "python",
   "pygments_lexer": "ipython3",
   "version": "3.8.5"
  }
 },
 "nbformat": 4,
 "nbformat_minor": 4
}
