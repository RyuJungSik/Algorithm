{
 "cells": [
  {
   "cell_type": "code",
   "execution_count": 23,
   "metadata": {},
   "outputs": [
    {
     "name": "stdout",
     "output_type": "stream",
     "text": [
      "5 4\n",
      "3 1\n",
      "3 2\n",
      "4 3\n",
      "5 3\n",
      "[0, 4, 4, 3, 1, 1]\n",
      "4 4 "
     ]
    }
   ],
   "source": [
    "from collections import deque\n",
    "n,m=map(int, input().split())\n",
    "arr=[[]for _ in range(n+1)]\n",
    "coms=[]\n",
    "coms.append(0)\n",
    "\n",
    "def bfs(v):\n",
    "    nums=1\n",
    "    q=deque([v])\n",
    "    visited[v]=True\n",
    "    while q:\n",
    "        now=q.popleft()\n",
    "        for e in arr[now]:\n",
    "            if visited[e]==False:\n",
    "                visited[e]=True\n",
    "                nums+=1\n",
    "                q.append(e)\n",
    "    return nums\n",
    "    \n",
    "\n",
    "\n",
    "for _ in range(m):\n",
    "    x,y=map(int, input().split())\n",
    "    arr[y].append(x)\n",
    "for i in range(1, n+1):\n",
    "    visited=[False]*(n+1)\n",
    "    coms.append(bfs(i))\n",
    "for j in range(1, n+1):\n",
    "    if coms[j]==max(coms):\n",
    "        print(j, end=' ')\n",
    "    \n"
   ]
  }
 ],
 "metadata": {
  "kernelspec": {
   "display_name": "Python 3",
   "language": "python",
   "name": "python3"
  },
  "language_info": {
   "codemirror_mode": {
    "name": "ipython",
    "version": 3
   },
   "file_extension": ".py",
   "mimetype": "text/x-python",
   "name": "python",
   "nbconvert_exporter": "python",
   "pygments_lexer": "ipython3",
   "version": "3.8.5"
  }
 },
 "nbformat": 4,
 "nbformat_minor": 4
}
