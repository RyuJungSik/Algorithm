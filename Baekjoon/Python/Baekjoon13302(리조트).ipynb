{
 "cells": [
  {
   "cell_type": "code",
   "execution_count": null,
   "metadata": {},
   "outputs": [],
   "source": [
    "n,m=map(int,input().split())\n",
    "if m!=0:\n",
    "    no=list(map(int,input().split()))\n",
    "else:\n",
    "    no=[]\n",
    "inf=int(100000000000)\n",
    "\n",
    "dp=[[inf]*106 for _ in range(106)]\n",
    "dp[0][0]=0\n",
    "\n",
    "for i in range(n+1):\n",
    "    for j in range(40):\n",
    "        if dp[i][j]==inf:\n",
    "            continue\n",
    "        result=dp[i][j]\n",
    "        if i+1 in no:\n",
    "            dp[i+1][j]=min(result,dp[i+1][j])\n",
    "        if j>=3:\n",
    "            dp[i+1][j-3]=min(result,dp[i+1][j-3])\n",
    "            \n",
    "        dp[i+1][j]=min(dp[i+1][j],result+10000)\n",
    "        for k in range(1,4):\n",
    "            dp[i+k][j+1]=min(dp[i+k][j+1],result+25000)\n",
    "        k=0\n",
    "        for k in range(1,6):\n",
    "            dp[i+k][j+2]=min(dp[i+k][j+2],result+37000)\n",
    "print(min(dp[n]))"
   ]
  }
 ],
 "metadata": {
  "kernelspec": {
   "display_name": "Python 3",
   "language": "python",
   "name": "python3"
  },
  "language_info": {
   "codemirror_mode": {
    "name": "ipython",
    "version": 3
   },
   "file_extension": ".py",
   "mimetype": "text/x-python",
   "name": "python",
   "nbconvert_exporter": "python",
   "pygments_lexer": "ipython3",
   "version": "3.8.5"
  }
 },
 "nbformat": 4,
 "nbformat_minor": 4
}
