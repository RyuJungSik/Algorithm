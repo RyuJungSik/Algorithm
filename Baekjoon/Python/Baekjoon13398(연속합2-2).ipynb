{
 "cells": [
  {
   "cell_type": "code",
   "execution_count": null,
   "metadata": {},
   "outputs": [],
   "source": [
    "n=int(input())\n",
    "arr=list(map(int,input().split()))\n",
    "\n",
    "dp=[[0]*n for i in range(2)]\n",
    "\n",
    "\n",
    "dp[0][0]=arr[0]\n",
    "dp[1][0]=arr[0]\n",
    "for i in range(1,n):\n",
    "    dp[0][i]=max(dp[0][i-1]+arr[i],arr[i])\n",
    "    dp[1][i]=max(dp[0][i-1],dp[1][i-1]+arr[i])\n",
    "    \n",
    "answer=int(1e9)*(-1)\n",
    "for c in dp:\n",
    "#     print(c)\n",
    "    t=max(c)\n",
    "    answer=max(answer,t)\n",
    "print(answer)"
   ]
  }
 ],
 "metadata": {
  "kernelspec": {
   "display_name": "Python 3",
   "language": "python",
   "name": "python3"
  },
  "language_info": {
   "codemirror_mode": {
    "name": "ipython",
    "version": 3
   },
   "file_extension": ".py",
   "mimetype": "text/x-python",
   "name": "python",
   "nbconvert_exporter": "python",
   "pygments_lexer": "ipython3",
   "version": "3.8.5"
  }
 },
 "nbformat": 4,
 "nbformat_minor": 4
}
