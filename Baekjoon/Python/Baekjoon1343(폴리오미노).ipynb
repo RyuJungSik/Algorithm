{
 "cells": [
  {
   "cell_type": "code",
   "execution_count": null,
   "metadata": {},
   "outputs": [],
   "source": [
    "board=list(input())\n",
    "flag=True\n",
    "\n",
    "for i in range(len(board)):\n",
    "    print(board)\n",
    "    if board[i]==\"X\":\n",
    "        if i<len(board)-4 and board[i]=='X' and board[i+1]=='X' and board[i+2]=='X' and board[i+3]=='X':\n",
    "            board[i]='A'\n",
    "            board[i+1]='A'\n",
    "            board[i+2]='A'\n",
    "            board[i+3]='A'\n",
    "        elif i<len(board)-2 and board[i]=='X' and board[i+1]=='X':\n",
    "            board[i]='B'\n",
    "            board[i+1]='B'\n",
    "        else:\n",
    "            flag=False\n",
    "            break\n",
    "    else:\n",
    "        continue\n",
    "\n",
    "if flag==False:\n",
    "    print(-1)\n",
    "else:\n",
    "    print(\"\".join(board))"
   ]
  }
 ],
 "metadata": {
  "kernelspec": {
   "display_name": "Python 3",
   "language": "python",
   "name": "python3"
  },
  "language_info": {
   "codemirror_mode": {
    "name": "ipython",
    "version": 3
   },
   "file_extension": ".py",
   "mimetype": "text/x-python",
   "name": "python",
   "nbconvert_exporter": "python",
   "pygments_lexer": "ipython3",
   "version": "3.8.5"
  }
 },
 "nbformat": 4,
 "nbformat_minor": 4
}
