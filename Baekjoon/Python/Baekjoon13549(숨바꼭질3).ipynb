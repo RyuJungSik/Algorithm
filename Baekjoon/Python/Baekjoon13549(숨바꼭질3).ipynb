{
 "cells": [
  {
   "cell_type": "code",
   "execution_count": null,
   "metadata": {},
   "outputs": [],
   "source": [
    "from collections import deque\n",
    "n,m=map(int,input().split())\n",
    "maxV=2000001\n",
    "visited=[-1]*maxV\n",
    "def bfs():\n",
    "    global visited\n",
    "    q=deque()\n",
    "    q.append(n)\n",
    "    visited[n]=0\n",
    "    while q:\n",
    "        now=q.popleft()\n",
    "        nowX=now\n",
    "        nextX=now*2\n",
    "        if 0<=nextX<maxV and visited[nextX]==-1:\n",
    "            visited[nextX]=visited[nowX]\n",
    "            q.appendleft(nextX)\n",
    "        nextX=now+1\n",
    "        if 0<=nextX<maxV and visited[nextX]==-1:\n",
    "            visited[nextX]=visited[nowX]+1\n",
    "            q.append(nextX)\n",
    "        nextX=now-1\n",
    "        if 0<=nextX<maxV and visited[nextX]==-1:\n",
    "            visited[nextX]=visited[nowX]+1\n",
    "            q.append(nextX)\n",
    "            \n",
    "bfs()            \n",
    "print(visited[m])"
   ]
  }
 ],
 "metadata": {
  "kernelspec": {
   "display_name": "Python 3",
   "language": "python",
   "name": "python3"
  },
  "language_info": {
   "codemirror_mode": {
    "name": "ipython",
    "version": 3
   },
   "file_extension": ".py",
   "mimetype": "text/x-python",
   "name": "python",
   "nbconvert_exporter": "python",
   "pygments_lexer": "ipython3",
   "version": "3.8.5"
  }
 },
 "nbformat": 4,
 "nbformat_minor": 4
}
