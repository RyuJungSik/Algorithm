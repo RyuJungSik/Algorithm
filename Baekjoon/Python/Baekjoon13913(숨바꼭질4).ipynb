{
 "cells": [
  {
   "cell_type": "code",
   "execution_count": null,
   "metadata": {},
   "outputs": [],
   "source": [
    "from collections import deque\n",
    "\n",
    "n,m=map(int, input().split())\n",
    "visited=[-1]*200001\n",
    "dx=[-1,1,2]\n",
    "def bfs():\n",
    "    global visited\n",
    "    q=deque()\n",
    "    q.append(n)\n",
    "    visited[n]=n\n",
    "    while q:\n",
    "        now=q.popleft()\n",
    "        if now==m:\n",
    "            return\n",
    "        for i in range(3):\n",
    "            if i==2:\n",
    "                nextX=now*2\n",
    "            else:\n",
    "                nextX=now+dx[i]\n",
    "            if 0<=nextX<100001 and visited[nextX]==-1:\n",
    "                visited[nextX]=now\n",
    "                q.append(nextX)\n",
    "bfs()\n",
    "answer=[]\n",
    "tmp=m\n",
    "\n",
    "while True:\n",
    "    answer.append(tmp)\n",
    "    if tmp==visited[tmp]:\n",
    "        break\n",
    "    tmp=visited[tmp]\n",
    "print(len(answer)-1)\n",
    "for i in range(len(answer)):\n",
    "    print(answer[len(answer)-i-1], end=\" \")"
   ]
  }
 ],
 "metadata": {
  "kernelspec": {
   "display_name": "Python 3",
   "language": "python",
   "name": "python3"
  }
 },
 "nbformat": 4,
 "nbformat_minor": 4
}
