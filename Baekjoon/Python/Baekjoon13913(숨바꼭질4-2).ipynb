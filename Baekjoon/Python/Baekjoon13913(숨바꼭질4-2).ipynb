{
 "cells": [
  {
   "cell_type": "code",
   "execution_count": null,
   "metadata": {},
   "outputs": [],
   "source": [
    "from collections import deque\n",
    "\n",
    "n,m=map(int,input().split())\n",
    "visited=[-1]*200001\n",
    "\n",
    "q=deque()\n",
    "q.append(n)\n",
    "visited[n]=-2\n",
    "while q:\n",
    "    cur=q.popleft()\n",
    "    if cur==m:\n",
    "        break\n",
    "    if 0<=cur-1<100001 and visited[cur-1]==-1:\n",
    "        visited[cur-1]=cur\n",
    "        q.append(cur-1)\n",
    "    if 0<=cur+1<100001 and visited[cur+1]==-1:\n",
    "        visited[cur+1]=cur\n",
    "        q.append(cur+1)\n",
    "    if 0<=cur*2<100001 and visited[cur*2]==-1:\n",
    "        visited[cur*2]=cur\n",
    "        q.append(cur*2)\n",
    "\n",
    "        \n",
    "now=m\n",
    "answer=[]\n",
    "while True:\n",
    "    answer.append(now)\n",
    "    if visited[now]==-2:\n",
    "        break\n",
    "    now=visited[now]\n",
    "    \n",
    "    \n",
    "print(len(answer)-1)\n",
    "for i in range(len(answer)):\n",
    "    print(answer[len(answer)-i-1], end=\" \")"
   ]
  }
 ],
 "metadata": {
  "kernelspec": {
   "display_name": "Python 3",
   "language": "python",
   "name": "python3"
  },
  "language_info": {
   "codemirror_mode": {
    "name": "ipython",
    "version": 3
   },
   "file_extension": ".py",
   "mimetype": "text/x-python",
   "name": "python",
   "nbconvert_exporter": "python",
   "pygments_lexer": "ipython3",
   "version": "3.8.5"
  }
 },
 "nbformat": 4,
 "nbformat_minor": 4
}
