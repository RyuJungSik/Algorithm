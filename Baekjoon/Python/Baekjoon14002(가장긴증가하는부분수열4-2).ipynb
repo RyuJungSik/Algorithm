{
 "cells": [
  {
   "cell_type": "code",
   "execution_count": null,
   "metadata": {},
   "outputs": [],
   "source": [
    "n=int(input())\n",
    "arr=list(map(int,input().split()))\n",
    "\n",
    "dp=[[1]*2 for _ in range(n)]\n",
    "for i in range(n):\n",
    "    dp[i][1]=i\n",
    "    \n",
    "for i in range(n):\n",
    "    for j in range(i):\n",
    "        if arr[j]<arr[i]:\n",
    "            if dp[i][0]<dp[j][0]+1:\n",
    "                dp[i][0]=dp[j][0]+1\n",
    "                dp[i][1]=j\n",
    "\n",
    "            \n",
    "ans=0\n",
    "idx=0\n",
    "ansList=[]\n",
    "for i,a in enumerate(dp):\n",
    "    if ans<a[0]:\n",
    "        ans=a[0]\n",
    "        idx=i\n",
    "\n",
    "\n",
    "ansList.append(arr[idx])\n",
    "\n",
    "while True:\n",
    "    nx=dp[idx][1]\n",
    "    if nx==idx:\n",
    "        break\n",
    "    ansList.append(arr[nx])\n",
    "    idx=nx\n",
    "ansList.sort()\n",
    "print(ans)\n",
    "print(\" \".join(map(str,ansList)))"
   ]
  }
 ],
 "metadata": {
  "kernelspec": {
   "display_name": "Python 3",
   "language": "python",
   "name": "python3"
  },
  "language_info": {
   "codemirror_mode": {
    "name": "ipython",
    "version": 3
   },
   "file_extension": ".py",
   "mimetype": "text/x-python",
   "name": "python",
   "nbconvert_exporter": "python",
   "pygments_lexer": "ipython3",
   "version": "3.8.5"
  }
 },
 "nbformat": 4,
 "nbformat_minor": 4
}
