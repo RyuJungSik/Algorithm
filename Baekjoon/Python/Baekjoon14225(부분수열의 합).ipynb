{
 "cells": [
  {
   "cell_type": "code",
   "execution_count": null,
   "metadata": {},
   "outputs": [],
   "source": [
    "n=int(input())\n",
    "arr=list(map(int, input().split()))\n",
    "nums=[False]*(n*100000+10)\n",
    "\n",
    "\n",
    "\n",
    "def dfs(index, s):\n",
    "    global nums\n",
    "    if index==n:\n",
    "        nums[s]=True\n",
    "        return\n",
    "    else:\n",
    "        dfs(index+1, s)\n",
    "        dfs(index+1, s+arr[index])\n",
    "    \n",
    "dfs(0,0)\n",
    "i=1\n",
    "while True:\n",
    "    if nums[i]==False:\n",
    "        break\n",
    "    i+=1\n",
    "print(i)"
   ]
  }
 ],
 "metadata": {
  "kernelspec": {
   "display_name": "Python 3",
   "language": "python",
   "name": "python3"
  },
  "language_info": {
   "codemirror_mode": {
    "name": "ipython",
    "version": 3
   },
   "file_extension": ".py",
   "mimetype": "text/x-python",
   "name": "python",
   "nbconvert_exporter": "python",
   "pygments_lexer": "ipython3",
   "version": "3.8.5"
  }
 },
 "nbformat": 4,
 "nbformat_minor": 4
}
