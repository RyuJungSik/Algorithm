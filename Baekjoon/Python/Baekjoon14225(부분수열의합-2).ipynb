{
 "cells": [
  {
   "cell_type": "code",
   "execution_count": null,
   "metadata": {},
   "outputs": [],
   "source": [
    "from itertools import combinations\n",
    "\n",
    "n=int(input())\n",
    "arr=list(map(int,input().split()))\n",
    "all=set()\n",
    "total=sum(arr)\n",
    "for i in range(1,n+1):\n",
    "    for com in combinations(arr,i):\n",
    "        s=sum(com)\n",
    "        all.add(s)\n",
    "\n",
    "\n",
    "for i in range(1,2000001):\n",
    "    if i not in all:\n",
    "        print(i)\n",
    "        break"
   ]
  }
 ],
 "metadata": {
  "kernelspec": {
   "display_name": "Python 3",
   "language": "python",
   "name": "python3"
  }
 },
 "nbformat": 4,
 "nbformat_minor": 4
}
