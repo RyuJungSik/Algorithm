{
 "cells": [
  {
   "cell_type": "code",
   "execution_count": null,
   "metadata": {},
   "outputs": [],
   "source": [
    "from collections import deque\n",
    "# x는 화면 y는 클립보드\n",
    "n=int(input())\n",
    "answer=-1\n",
    "visited=[[0]*1001 for _ in range(1001)]\n",
    "\n",
    "def bfs():\n",
    "    global answer\n",
    "    q=deque()\n",
    "    q.append((1,0))\n",
    "    visited[1][0]=1\n",
    "    while q:\n",
    "        answer+=1\n",
    "        for i in range(len(q)):\n",
    "            now=q.popleft()\n",
    "            nowX=now[0]\n",
    "            nowY=now[1]\n",
    "\n",
    "            if nowX==n:\n",
    "                return\n",
    "            \n",
    "            nextX=nowX\n",
    "            nextY=nowX\n",
    "            if 0<=nextX<=1000 and 0<=nextY<=1000 and visited[nextX][nextY]==0:\n",
    "                visited[nextX][nextY]=1\n",
    "                q.append((nextX,nextY))\n",
    "            \n",
    "            nextX=nowX+nowY\n",
    "            nextY=nowY\n",
    "            if nextY!=0 and 0<=nextX<=1000 and 0<=nextY<=1000 and visited[nextX][nextY]==0:\n",
    "                visited[nextX][nextY]=1\n",
    "                q.append((nextX,nextY))\n",
    "            \n",
    "            nextX=nowX-1\n",
    "            nextY=nowY\n",
    "            if 0<=nextX<=1000 and 0<=nextY<=1000 and visited[nextX][nextY]==0:\n",
    "                visited[nextX][nextY]=1\n",
    "                q.append((nextX,nextY))\n",
    "bfs()                \n",
    "print(answer)"
   ]
  }
 ],
 "metadata": {
  "kernelspec": {
   "display_name": "Python 3",
   "language": "python",
   "name": "python3"
  }
 },
 "nbformat": 4,
 "nbformat_minor": 4
}
