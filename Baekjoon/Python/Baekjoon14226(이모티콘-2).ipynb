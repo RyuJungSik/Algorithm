{
 "cells": [
  {
   "cell_type": "code",
   "execution_count": null,
   "metadata": {},
   "outputs": [],
   "source": [
    "from collections import deque\n",
    "\n",
    "s=int(input())\n",
    "visited=[[-1]*10001 for _ in range(10001)]\n",
    "\n",
    "q=deque([(1,0)]) #화면, 클립보드, 시간\n",
    "visited[1][0]=0\n",
    "while q:\n",
    "    screen,board=q.popleft()\n",
    "    if screen==s:\n",
    "        print(visited[screen][board])\n",
    "        break\n",
    "    \n",
    "    if visited[screen][screen]==-1:\n",
    "        visited[screen][screen]=visited[screen][board]+1\n",
    "        q.append((screen,screen))\n",
    "    if board>0 and visited[screen+board][board]==-1:\n",
    "        visited[screen+board][board]=visited[screen][board]+1\n",
    "        q.append((screen+board,board))\n",
    "    if screen>0 and visited[screen-1][board]==-1:\n",
    "        visited[screen-1][board]=visited[screen][board]+1\n",
    "        q.append((screen-1,board))"
   ]
  }
 ],
 "metadata": {
  "kernelspec": {
   "display_name": "Python 3",
   "language": "python",
   "name": "python3"
  },
  "language_info": {
   "codemirror_mode": {
    "name": "ipython",
    "version": 3
   },
   "file_extension": ".py",
   "mimetype": "text/x-python",
   "name": "python",
   "nbconvert_exporter": "python",
   "pygments_lexer": "ipython3",
   "version": "3.8.5"
  }
 },
 "nbformat": 4,
 "nbformat_minor": 4
}
