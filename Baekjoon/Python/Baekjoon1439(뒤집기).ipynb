{
 "cells": [
  {
   "cell_type": "code",
   "execution_count": 6,
   "metadata": {},
   "outputs": [
    {
     "name": "stdout",
     "output_type": "stream",
     "text": [
      "0001100\n",
      "1\n"
     ]
    }
   ],
   "source": [
    "s=input()\n",
    "ans=[0,0]\n",
    "flag=False\n",
    "for i in range(0, len(s)):\n",
    "    if s[i]=='0':\n",
    "        if flag==False:\n",
    "            ans[0]+=1\n",
    "            flag=True\n",
    "        else:\n",
    "            continue\n",
    "    else:\n",
    "        flag=False\n",
    "flag=False       \n",
    "for i in range(0, len(s)):\n",
    "    if s[i]=='1':\n",
    "        if flag==False:\n",
    "            ans[1]+=1\n",
    "            flag=True\n",
    "        else:\n",
    "            continue\n",
    "    else:\n",
    "        flag=False\n",
    "                \n",
    "        \n",
    "print(min(ans))"
   ]
  },
  {
   "cell_type": "code",
   "execution_count": null,
   "metadata": {},
   "outputs": [],
   "source": []
  }
 ],
 "metadata": {
  "kernelspec": {
   "display_name": "Python 3",
   "language": "python",
   "name": "python3"
  },
  "language_info": {
   "codemirror_mode": {
    "name": "ipython",
    "version": 3
   },
   "file_extension": ".py",
   "mimetype": "text/x-python",
   "name": "python",
   "nbconvert_exporter": "python",
   "pygments_lexer": "ipython3",
   "version": "3.8.5"
  }
 },
 "nbformat": 4,
 "nbformat_minor": 4
}
