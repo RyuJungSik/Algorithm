{
 "cells": [
  {
   "cell_type": "code",
   "execution_count": null,
   "metadata": {},
   "outputs": [],
   "source": [
    "from collections import deque\n",
    "\n",
    "def bfs(x,y):\n",
    "    global visited,n,road\n",
    "    dx,dy=[0,0,1,-1],[1,-1,0,0]\n",
    "    q=deque([])\n",
    "    q.append((x,y))\n",
    "    visited[x][y]=True\n",
    "    \n",
    "    while q:\n",
    "        nowX,nowY=q.popleft()\n",
    "        for d in range(4):\n",
    "            nx,ny=nowX+dx[d],nowY+dy[d]\n",
    "            if nx<0 or nx>=n or ny<0 or ny>=n or visited[nx][ny]==True:\n",
    "                continue\n",
    "            if (nowX,nowY) in road and (nx,ny) in road[(nowX,nowY)]:\n",
    "                continue\n",
    "            visited[nx][ny]=True\n",
    "            q.append((nx,ny))\n",
    "    \n",
    "    \n",
    "\n",
    "n,k,r=map(int,input().split())\n",
    "road=dict()\n",
    "cow=[]\n",
    "answer=0\n",
    "for _ in range(r):\n",
    "    x1,y1,x2,y2=map(int,input().split())\n",
    "    x1-=1\n",
    "    y1-=1\n",
    "    x2-=1\n",
    "    y2-=1\n",
    "    if (x1,y1) not in road:\n",
    "        road[(x1,y1)]=[(x2,y2)]\n",
    "    else:\n",
    "        road[(x1,y1)].append((x2,y2))\n",
    "        \n",
    "    if (x2,y2) not in road:\n",
    "        road[(x2,y2)]=[(x1,y1)]\n",
    "    else:\n",
    "        road[(x2,y2)].append((x1,y1))\n",
    "        \n",
    "for _ in range(k):\n",
    "    a,b=map(int,input().split())\n",
    "    cow.append((a-1,b-1))\n",
    "    \n",
    "for i in range(len(cow)-1):\n",
    "    visited=[[False]*n for _ in range(n)]\n",
    "    x,y=cow[i][0],cow[i][1]\n",
    "    bfs(x,y)\n",
    "    for j in range(i+1,len(cow)):\n",
    "        tx,ty=cow[j][0],cow[j][1]\n",
    "        if visited[tx][ty]==False:\n",
    "            answer+=1\n",
    "            \n",
    "print(answer)"
   ]
  }
 ],
 "metadata": {
  "kernelspec": {
   "display_name": "Python 3",
   "language": "python",
   "name": "python3"
  },
  "language_info": {
   "codemirror_mode": {
    "name": "ipython",
    "version": 3
   },
   "file_extension": ".py",
   "mimetype": "text/x-python",
   "name": "python",
   "nbconvert_exporter": "python",
   "pygments_lexer": "ipython3",
   "version": "3.8.5"
  }
 },
 "nbformat": 4,
 "nbformat_minor": 4
}
