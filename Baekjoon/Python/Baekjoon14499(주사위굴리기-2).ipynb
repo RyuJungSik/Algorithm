{
 "cells": [
  {
   "cell_type": "code",
   "execution_count": 1,
   "metadata": {},
   "outputs": [
    {
     "name": "stdout",
     "output_type": "stream",
     "text": [
      "4 2 0 0 8\n",
      "0 2\n",
      "3 4\n",
      "5 6\n",
      "7 8\n",
      "4 4 4 1 3 3 3 2\n",
      "0\n",
      "0\n",
      "0\n",
      "0\n",
      "0\n",
      "0\n",
      "0\n",
      "0\n"
     ]
    }
   ],
   "source": [
    "n,m,x,y,k=map(int,input().split())\n",
    "board=[]\n",
    "for _ in range(n):\n",
    "    board.append(list(map(int,input().split())))\n",
    "orders=list(map(int,input().split()))\n",
    "dice=[0]*6 #0위 ,1 북,  2오른쪽  ,3왼쪽  ,4앞  5  아래\n",
    "\n",
    "nowX=x\n",
    "nowY=y\n",
    "for o in orders:\n",
    "    if o==1:\n",
    "        nx,ny=nowX,nowY+1\n",
    "        if 0<=nx<n and 0<=ny<m:\n",
    "            nowX,nowY=nx,ny\n",
    "            dice[0],dice[2],dice[3],dice[5]=dice[3],dice[0],dice[5],dice[2]\n",
    "            if board[nowX][nowY]==0:\n",
    "                board[nowX][nowY]=dice[5]\n",
    "            else:\n",
    "                dice[5]=board[nowX][nowY]\n",
    "                board[nowX][nowY]\n",
    "            print(dice[0])\n",
    "            \n",
    "    elif o==2:\n",
    "        nx,ny=nowX,nowY-1\n",
    "        if 0<=nx<n and 0<=ny<m:\n",
    "            nowX,nowY=nx,ny\n",
    "            dice[0],dice[2],dice[3],dice[5]=dice[2],dice[5],dice[0],dice[3]\n",
    "            print(dice[0])\n",
    "            \n",
    "    elif o==3:\n",
    "        nx,ny=nowX-1,nowY\n",
    "        if 0<=nx<n and 0<=ny<m:\n",
    "            nowX,nowY=nx,ny\n",
    "            dice[0],dice[1],dice[4],dice[5]=dice[4],dice[0],dice[5],dice[1]\n",
    "            print(dice[0])\n",
    "    elif o==4:\n",
    "        nx,ny=nowX+1,nowY\n",
    "        if 0<=nx<n and 0<=ny<m:\n",
    "            nowX,nowY=nx,ny\n",
    "            dice[0],dice[4],dice[5],dice[1]=dice[1],dice[0],dice[4],dice[5]\n",
    "            print(dice[0])"
   ]
  },
  {
   "cell_type": "code",
   "execution_count": null,
   "metadata": {},
   "outputs": [],
   "source": []
  }
 ],
 "metadata": {
  "kernelspec": {
   "display_name": "Python 3",
   "language": "python",
   "name": "python3"
  },
  "language_info": {
   "codemirror_mode": {
    "name": "ipython",
    "version": 3
   },
   "file_extension": ".py",
   "mimetype": "text/x-python",
   "name": "python",
   "nbconvert_exporter": "python",
   "pygments_lexer": "ipython3",
   "version": "3.8.5"
  }
 },
 "nbformat": 4,
 "nbformat_minor": 4
}
