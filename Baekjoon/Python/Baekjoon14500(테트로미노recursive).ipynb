{
 "cells": [
  {
   "cell_type": "code",
   "execution_count": null,
   "metadata": {},
   "outputs": [],
   "source": [
    "import sys\n",
    "n,m=map(int, input().split())\n",
    "board=[]\n",
    "visited=[[False]*m for _ in range(n)]\n",
    "for _ in range(n):\n",
    "    board.append(list(map(int,input().split())))\n",
    "answer=0\n",
    "dx=[1,-1,0,0]\n",
    "dy=[0,0,1,-1]\n",
    "def recursive(index,x,y,s):\n",
    "    global visited,answer\n",
    "    if index==3:\n",
    "        answer=max(answer,s)\n",
    "        return\n",
    "    else:\n",
    "        for i in range(4):\n",
    "            nx=x+dx[i]\n",
    "            ny=y+dy[i]\n",
    "            if 0<=nx<n and 0<=ny<m and visited[nx][ny]==False:\n",
    "                visited[nx][ny]=True\n",
    "                recursive(index+1,nx,ny,s+board[nx][ny])\n",
    "                visited[nx][ny]=False\n",
    "                \n",
    "\n",
    "for i in range(n):\n",
    "    for j in range(m):\n",
    "        \n",
    "        visited[i][j]=True\n",
    "        recursive(0,i,j,board[i][j])\n",
    "        visited[i][j]=False\n",
    "        if j+2 < m:\n",
    "            temp = board[i][j] + board[i][j+1] + board[i][j+2]\n",
    "            if i-1 >= 0:\n",
    "                temp2 = temp + board[i-1][j+1]\n",
    "                if answer < temp2:\n",
    "                     answer = temp2\n",
    "            if i+1 < n:\n",
    "                temp2 = temp + board[i+1][j+1]\n",
    "                if answer < temp2:\n",
    "                    answer = temp2\n",
    "        if i+2 < n:\n",
    "            temp = board[i][j] + board[i+1][j] + board[i+2][j]\n",
    "            if j+1 < m:\n",
    "                temp2 = temp + board[i+1][j+1]\n",
    "                if answer < temp2:\n",
    "                    answer = temp2\n",
    "            if j-1 >= 0:\n",
    "                temp2 = temp + board[i+1][j-1]\n",
    "                if answer < temp2:\n",
    "                    answer = temp2\n",
    "print(answer)"
   ]
  }
 ],
 "metadata": {
  "kernelspec": {
   "display_name": "Python 3",
   "language": "python",
   "name": "python3"
  },
  "language_info": {
   "codemirror_mode": {
    "name": "ipython",
    "version": 3
   },
   "file_extension": ".py",
   "mimetype": "text/x-python",
   "name": "python",
   "nbconvert_exporter": "python",
   "pygments_lexer": "ipython3",
   "version": "3.8.5"
  }
 },
 "nbformat": 4,
 "nbformat_minor": 4
}
