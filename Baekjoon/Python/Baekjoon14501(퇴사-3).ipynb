{
 "cells": [
  {
   "cell_type": "code",
   "execution_count": null,
   "metadata": {},
   "outputs": [],
   "source": [
    "from itertools import combinations\n",
    "n=int(input())\n",
    "a=[]\n",
    "b=[]\n",
    "answer=0\n",
    "for _ in range(n):\n",
    "    x,y=map(int,input().split())\n",
    "    a.append(x)\n",
    "    b.append(y)\n",
    "    \n",
    "for i in range(1,n+1):\n",
    "    for com in combinations([j for j in range(n)],i):\n",
    "        flag=True\n",
    "        tmp=0\n",
    "        for k in range(len(com)-1):\n",
    "            if com[k]+a[com[k]]>n or com[k]+a[com[k]]>com[k+1]:\n",
    "                flag=False\n",
    "        \n",
    "        if com[-1]+a[com[-1]]>n:\n",
    "            flag=False\n",
    "        if flag==False:\n",
    "            continue\n",
    "        for k in com:\n",
    "            tmp+=b[k]\n",
    "        answer=max(answer,tmp)\n",
    "        \n",
    "print(answer)\n",
    "    "
   ]
  }
 ],
 "metadata": {
  "kernelspec": {
   "display_name": "Python 3",
   "language": "python",
   "name": "python3"
  },
  "language_info": {
   "codemirror_mode": {
    "name": "ipython",
    "version": 3
   },
   "file_extension": ".py",
   "mimetype": "text/x-python",
   "name": "python",
   "nbconvert_exporter": "python",
   "pygments_lexer": "ipython3",
   "version": "3.8.5"
  }
 },
 "nbformat": 4,
 "nbformat_minor": 4
}
