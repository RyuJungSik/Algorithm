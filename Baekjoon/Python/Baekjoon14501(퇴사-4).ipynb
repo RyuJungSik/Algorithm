{
 "cells": [
  {
   "cell_type": "code",
   "execution_count": null,
   "metadata": {},
   "outputs": [],
   "source": [
    "n=int(input())\n",
    "t=[0]\n",
    "p=[0]\n",
    "dp=[0]*(n+2)\n",
    "\n",
    "for _ in range(n):\n",
    "    a,b=map(int,input().split())\n",
    "    t.append(a)\n",
    "    p.append(b)\n",
    "t.append(0)\n",
    "p.append(0)\n",
    "for i in range(1,n+2):\n",
    "    for j in range(i):\n",
    "        if j+t[j]<=i:\n",
    "            dp[i]=max(dp[i],dp[j]+p[j])\n",
    "print(max(dp))"
   ]
  }
 ],
 "metadata": {
  "kernelspec": {
   "display_name": "Python 3",
   "language": "python",
   "name": "python3"
  },
  "language_info": {
   "codemirror_mode": {
    "name": "ipython",
    "version": 3
   },
   "file_extension": ".py",
   "mimetype": "text/x-python",
   "name": "python",
   "nbconvert_exporter": "python",
   "pygments_lexer": "ipython3",
   "version": "3.8.5"
  }
 },
 "nbformat": 4,
 "nbformat_minor": 4
}
