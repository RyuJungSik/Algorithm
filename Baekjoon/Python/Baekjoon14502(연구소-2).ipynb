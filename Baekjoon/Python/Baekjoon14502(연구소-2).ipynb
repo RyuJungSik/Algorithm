{
 "cells": [
  {
   "cell_type": "code",
   "execution_count": null,
   "metadata": {},
   "outputs": [],
   "source": [
    "from collections import deque\n",
    "from itertools import combinations\n",
    "import copy\n",
    "\n",
    "def bfs(g):\n",
    "    global v, board,n,m,gCnt\n",
    "    dx,dy=[0,0,1,-1],[1,-1,0,0]\n",
    "    q=deque(g)\n",
    "    while q:\n",
    "        gCnt+=1\n",
    "        x,y=q.popleft()\n",
    "        for d in range(4):\n",
    "            nx,ny=x+dx[d],y+dy[d]\n",
    "            if nx<0 or nx>=n or ny<0 or ny>=m or v[nx][ny]==True or board[nx][ny]==1:\n",
    "                continue\n",
    "            v[nx][ny]=True\n",
    "            q.append((nx,ny))\n",
    "    \n",
    "    \n",
    "\n",
    "n,m=map(int,input().split())\n",
    "board=[]\n",
    "germ=[]\n",
    "bricks=0\n",
    "\n",
    "visited=[[False]*m for _ in range(n)]\n",
    "answer=0\n",
    "for _ in range(n):\n",
    "    board.append(list(map(int,input().split())))\n",
    "\n",
    "for i in range(n):\n",
    "    for j in range(m):\n",
    "        if board[i][j]==2:\n",
    "            visited[i][j]=True\n",
    "            germ.append((i,j))\n",
    "        if board[i][j]==1:\n",
    "            bricks+=1\n",
    "            \n",
    "for com in combinations([i for i in range(n*m)],3):\n",
    "    x1,y1,x2,y2,x3,y3=com[0]//m,com[0]%m,com[1]//m,com[1]%m,com[2]//m,com[2]%m\n",
    "    gCnt=0\n",
    "    if board[x1][y1]!=0 or board[x2][y2]!=0 or board[x3][y3]!=0:\n",
    "        continue\n",
    "    board[x1][y1]=1\n",
    "    board[x2][y2]=1\n",
    "    board[x3][y3]=1\n",
    "    v=copy.deepcopy(visited)\n",
    "    bfs(germ)\n",
    "    answer=max(answer,n*m-(bricks+3)-(gCnt))\n",
    "    board[x1][y1]=0\n",
    "    board[x2][y2]=0\n",
    "    board[x3][y3]=0\n",
    "print(answer)\n",
    "    "
   ]
  }
 ],
 "metadata": {
  "kernelspec": {
   "display_name": "Python 3",
   "language": "python",
   "name": "python3"
  },
  "language_info": {
   "codemirror_mode": {
    "name": "ipython",
    "version": 3
   },
   "file_extension": ".py",
   "mimetype": "text/x-python",
   "name": "python",
   "nbconvert_exporter": "python",
   "pygments_lexer": "ipython3",
   "version": "3.8.5"
  }
 },
 "nbformat": 4,
 "nbformat_minor": 4
}
