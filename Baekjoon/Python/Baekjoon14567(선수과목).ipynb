{
 "cells": [
  {
   "cell_type": "code",
   "execution_count": null,
   "metadata": {},
   "outputs": [],
   "source": [
    "from collections import deque\n",
    "\n",
    "# v,e=map(int, input().split())\n",
    "# indegree=[0]*(v+1)\n",
    "# graph=[[]for i in range(v+1)]\n",
    "\n",
    "# for _ in range(e):\n",
    "#     a,b=map(int, input().split())\n",
    "#     graph[a].append(b)\n",
    "#     indegree[b]+=1\n",
    "    \n",
    "# def topology_sort():\n",
    "#     result=[]\n",
    "#     q=deque()\n",
    "#     for i in range(1,v+1):\n",
    "#         if indegree[i]==0:\n",
    "#             q.append(i)\n",
    "#     while q:\n",
    "#         now=q.popleft()\n",
    "#         result.append(now)\n",
    "#         for i in graph[now]:\n",
    "#             indegree[i]-=1\n",
    "#             if indegree[i]==0:\n",
    "#                 q.append(i)\n",
    "#     return result\n",
    "#---------------------------------------------------------------\n",
    "\n",
    "n,m=map(int, input().split())\n",
    "graph=[[]for _ in range(n+1)]\n",
    "indegree=[ 0 for i in range(n+1)]\n",
    "ansList=dict()\n",
    "for i in range(1,n+1):\n",
    "    ansList[i]=1\n",
    "\n",
    "for _ in range(m):\n",
    "    a,b=map(int, input().split())\n",
    "    graph[a].append(b)\n",
    "    indegree[b]+=1\n",
    "\n",
    "result=[]\n",
    "q=deque()\n",
    "for i in range(1,n+1):\n",
    "    if indegree[i]==0:\n",
    "        q.append((i,1))\n",
    "while q:\n",
    "    nowNode,nowS=q.popleft()\n",
    "    ansList[nowNode]=nowS\n",
    "    for i in graph[nowNode]:\n",
    "        indegree[i]-=1\n",
    "        if indegree[i]==0:\n",
    "            q.append((i,nowS+1))\n",
    "\n",
    "for i in range(1,n+1):\n",
    "    print(ansList[i], end=\" \")"
   ]
  }
 ],
 "metadata": {
  "kernelspec": {
   "display_name": "Python 3",
   "language": "python",
   "name": "python3"
  },
  "language_info": {
   "codemirror_mode": {
    "name": "ipython",
    "version": 3
   },
   "file_extension": ".py",
   "mimetype": "text/x-python",
   "name": "python",
   "nbconvert_exporter": "python",
   "pygments_lexer": "ipython3",
   "version": "3.8.5"
  }
 },
 "nbformat": 4,
 "nbformat_minor": 4
}
