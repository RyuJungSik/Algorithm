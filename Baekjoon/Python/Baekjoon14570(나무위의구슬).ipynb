{
 "cells": [
  {
   "cell_type": "code",
   "execution_count": null,
   "metadata": {},
   "outputs": [],
   "source": [
    "N=int(input())\n",
    "tree=[[-1 for _ in range(2)] for _ in range(N+1)]\n",
    "for i in range(1,N+1):\n",
    "    left_node,right_node=map(int,input().split())\n",
    "    tree[i][0]=left_node\n",
    "    tree[i][1]=right_node\n",
    "    \n",
    "K=int(input())       \n",
    "cu_node=1\n",
    "while K>=0:\n",
    "    left_or_right=K%2\n",
    "    if tree[cu_node][0]!=-1 and tree[cu_node][1]!=-1:\n",
    "        if left_or_right:\n",
    "            cu_node=tree[cu_node][0]\n",
    "        else:\n",
    "            cu_node=tree[cu_node][1]\n",
    "        K=K//2+left_or_right\n",
    "    else:\n",
    "        if tree[cu_node][0]==-1 and tree[cu_node][1]==-1:\n",
    "            break\n",
    "        elif tree[cu_node][1]==-1:\n",
    "            cu_node=tree[cu_node][0]\n",
    "        else:\n",
    "            cu_node=tree[cu_node][1]\n",
    "print(cu_node)"
   ]
  }
 ],
 "metadata": {
  "kernelspec": {
   "display_name": "Python 3",
   "language": "python",
   "name": "python3"
  },
  "language_info": {
   "codemirror_mode": {
    "name": "ipython",
    "version": 3
   },
   "file_extension": ".py",
   "mimetype": "text/x-python",
   "name": "python",
   "nbconvert_exporter": "python",
   "pygments_lexer": "ipython3",
   "version": "3.8.5"
  }
 },
 "nbformat": 4,
 "nbformat_minor": 4
}
