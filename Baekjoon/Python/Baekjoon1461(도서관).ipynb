{
 "cells": [
  {
   "cell_type": "code",
   "execution_count": 32,
   "metadata": {},
   "outputs": [
    {
     "name": "stdout",
     "output_type": "stream",
     "text": [
      "7 2\n",
      "-37 2 -6 -39 -29 11 -28\n",
      "131\n"
     ]
    }
   ],
   "source": [
    "import heapq\n",
    "\n",
    "n,m=map(int, input().split(' '))\n",
    "array=list(map(int, input().split(' ')))\n",
    "positive=[]\n",
    "negative=[]\n",
    "\n",
    "largest=max(max(array), -min(array))\n",
    "\n",
    "for i in array:\n",
    "    if i>0:\n",
    "        heapq.heappush(positive, -i)\n",
    "    else:\n",
    "        heapq.heappush(negative, i)\n",
    "result=0\n",
    "\n",
    "while positive:\n",
    "    result+=heapq.heappop(positive)\n",
    "    for _ in range(m-1):\n",
    "        if positive:\n",
    "            heapq.heappop(positive)\n",
    "\n",
    "while negative:\n",
    "    result+=heapq.heappop(negative)\n",
    "    for _ in range(m-1):\n",
    "        if negative:\n",
    "            heapq.heappop(negative)\n",
    "            \n",
    "print(-result*2-largest)\n",
    "    "
   ]
  },
  {
   "cell_type": "code",
   "execution_count": null,
   "metadata": {},
   "outputs": [],
   "source": []
  }
 ],
 "metadata": {
  "kernelspec": {
   "display_name": "Python 3",
   "language": "python",
   "name": "python3"
  },
  "language_info": {
   "codemirror_mode": {
    "name": "ipython",
    "version": 3
   },
   "file_extension": ".py",
   "mimetype": "text/x-python",
   "name": "python",
   "nbconvert_exporter": "python",
   "pygments_lexer": "ipython3",
   "version": "3.8.5"
  }
 },
 "nbformat": 4,
 "nbformat_minor": 4
}
