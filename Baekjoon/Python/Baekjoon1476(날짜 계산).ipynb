{
 "cells": [
  {
   "cell_type": "code",
   "execution_count": 3,
   "metadata": {},
   "outputs": [
    {
     "name": "stdout",
     "output_type": "stream",
     "text": [
      "1 2 3\n",
      "5266\n"
     ]
    }
   ],
   "source": [
    "e,s,m=map(int, input().split())\n",
    "a,b,c=1,1,1\n",
    "answer=1\n",
    "#e 15 s 28 m 19\n",
    "while True:\n",
    "    if e==a and b==s and c==m:\n",
    "        break\n",
    "    else:\n",
    "        a,b,c=a+1,b+1,c+1\n",
    "        if a>15:\n",
    "            a=1\n",
    "        if b>28:\n",
    "            b=1\n",
    "        if c>19:\n",
    "            c=1\n",
    "    answer+=1\n",
    "    \n",
    "    \n",
    "print(answer)"
   ]
  }
 ],
 "metadata": {
  "kernelspec": {
   "display_name": "Python 3",
   "language": "python",
   "name": "python3"
  },
  "language_info": {
   "codemirror_mode": {
    "name": "ipython",
    "version": 3
   },
   "file_extension": ".py",
   "mimetype": "text/x-python",
   "name": "python",
   "nbconvert_exporter": "python",
   "pygments_lexer": "ipython3",
   "version": "3.8.5"
  }
 },
 "nbformat": 4,
 "nbformat_minor": 4
}
