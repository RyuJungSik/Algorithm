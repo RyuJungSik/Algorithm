{
 "cells": [
  {
   "cell_type": "code",
   "execution_count": null,
   "metadata": {},
   "outputs": [],
   "source": [
    "e,s,m=map(int,input().split())\n",
    "a,b,c=1,1,1\n",
    "cnt=1\n",
    "while True:\n",
    "    if a==e and b==s and c==m:\n",
    "        break\n",
    "    else:\n",
    "        a+=1\n",
    "        if a==16:\n",
    "            a=1\n",
    "        b+=1\n",
    "        if b==29:\n",
    "            b=1\n",
    "        c+=1\n",
    "        if c==20:\n",
    "            c=1\n",
    "        cnt+=1\n",
    "\n",
    "print(cnt)   "
   ]
  }
 ],
 "metadata": {
  "kernelspec": {
   "display_name": "Python 3",
   "language": "python",
   "name": "python3"
  },
  "language_info": {
   "codemirror_mode": {
    "name": "ipython",
    "version": 3
   },
   "file_extension": ".py",
   "mimetype": "text/x-python",
   "name": "python",
   "nbconvert_exporter": "python",
   "pygments_lexer": "ipython3",
   "version": "3.8.5"
  }
 },
 "nbformat": 4,
 "nbformat_minor": 4
}
