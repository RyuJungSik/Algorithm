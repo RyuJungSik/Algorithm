{
 "cells": [
  {
   "cell_type": "code",
   "execution_count": null,
   "metadata": {},
   "outputs": [],
   "source": [
    "a=list(map(int,input().split()))\n",
    "b=[1,1,1]\n",
    "cnt=1\n",
    "while True:\n",
    "    if a[0]==b[0] and a[1]==b[1] and a[2]==b[2]:\n",
    "        print(cnt)\n",
    "        break\n",
    "    b[0]+=1\n",
    "    b[1]+=1\n",
    "    b[2]+=1\n",
    "    if b[0]>15:\n",
    "        b[0]=1\n",
    "    if b[1]>28:\n",
    "        b[1]=1\n",
    "    if b[2]>19:\n",
    "        b[2]+=1\n",
    "    cnt+=1\n",
    "   \n"
   ]
  }
 ],
 "metadata": {
  "kernelspec": {
   "display_name": "Python 3",
   "language": "python",
   "name": "python3"
  },
  "language_info": {
   "codemirror_mode": {
    "name": "ipython",
    "version": 3
   },
   "file_extension": ".py",
   "mimetype": "text/x-python",
   "name": "python",
   "nbconvert_exporter": "python",
   "pygments_lexer": "ipython3",
   "version": "3.8.5"
  }
 },
 "nbformat": 4,
 "nbformat_minor": 4
}
