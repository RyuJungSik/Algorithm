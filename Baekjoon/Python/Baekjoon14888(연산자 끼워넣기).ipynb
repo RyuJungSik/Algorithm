{
 "cells": [
  {
   "cell_type": "code",
   "execution_count": null,
   "metadata": {},
   "outputs": [],
   "source": [
    "n=int(input())\n",
    "nums=list(map(int, input().split()))\n",
    "opers=list(map(int, input().split()))\n",
    "answer=[]\n",
    "\n",
    "def dfs(index, s):\n",
    "    global opers,answer\n",
    "    if index==n:\n",
    "        answer.append(s)\n",
    "        return\n",
    "    else:\n",
    "        for i in range(4):\n",
    "            if opers[i]>0:\n",
    "                opers[i]-=1\n",
    "                if i==0:\n",
    "                    dfs(index+1,s+nums[index])\n",
    "                elif i==1:\n",
    "                    dfs(index+1,s-nums[index])\n",
    "                elif i==3:\n",
    "                    if s<0:\n",
    "                        dfs(index+1,(((-1)*s)//nums[index])*(-1))\n",
    "                    else:\n",
    "                        dfs(index+1,s//nums[index])\n",
    "                elif i==2:\n",
    "                    dfs(index+1,s*nums[index])\n",
    "                opers[i]+=1\n",
    "\n",
    "dfs(1,nums[0])\n",
    "print(max(answer))\n",
    "print(min(answer))"
   ]
  }
 ],
 "metadata": {
  "kernelspec": {
   "display_name": "Python 3",
   "language": "python",
   "name": "python3"
  },
  "language_info": {
   "codemirror_mode": {
    "name": "ipython",
    "version": 3
   },
   "file_extension": ".py",
   "mimetype": "text/x-python",
   "name": "python",
   "nbconvert_exporter": "python",
   "pygments_lexer": "ipython3",
   "version": "3.8.5"
  }
 },
 "nbformat": 4,
 "nbformat_minor": 4
}
