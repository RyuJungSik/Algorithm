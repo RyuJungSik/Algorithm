{
 "cells": [
  {
   "cell_type": "code",
   "execution_count": null,
   "metadata": {},
   "outputs": [],
   "source": [
    "n=int(input())\n",
    "nums=list(map(int, input().split()))\n",
    "opers=list(map(int, input().split())) # + - * //\n",
    "answer=[]\n",
    "\n",
    "def go(z,cur):\n",
    "    global answer\n",
    "    if z==n-1:\n",
    "        answer.append(cur)\n",
    "        return\n",
    "    else:\n",
    "        for i in range(4):\n",
    "            if opers[i]!=0:\n",
    "                opers[i]-=1\n",
    "                if i==0:\n",
    "                    go(z+1,cur+nums[z+1])\n",
    "                elif i==1:\n",
    "                    go(z+1,cur-nums[z+1])\n",
    "                elif i==2:\n",
    "                    go(z+1,cur*nums[z+1])\n",
    "                elif i==3:\n",
    "                    if cur<0:\n",
    "                         go(z+1,(((-1)*cur)//nums[z+1])*(-1))\n",
    "                    else:\n",
    "                        go(z+1,cur//nums[z+1])\n",
    "                opers[i]+=1\n",
    "\n",
    "go(0,nums[0])\n",
    "print(max(answer))\n",
    "print(min(answer))"
   ]
  }
 ],
 "metadata": {
  "kernelspec": {
   "display_name": "Python 3",
   "language": "python",
   "name": "python3"
  },
  "language_info": {
   "codemirror_mode": {
    "name": "ipython",
    "version": 3
   },
   "file_extension": ".py",
   "mimetype": "text/x-python",
   "name": "python",
   "nbconvert_exporter": "python",
   "pygments_lexer": "ipython3",
   "version": "3.8.5"
  }
 },
 "nbformat": 4,
 "nbformat_minor": 4
}
