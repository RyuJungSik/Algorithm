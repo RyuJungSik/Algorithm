{
 "cells": [
  {
   "cell_type": "code",
   "execution_count": null,
   "metadata": {},
   "outputs": [],
   "source": [
    "from itertools import permutations\n",
    "def operResult(a,b,o):\n",
    "    if o==\"+\":\n",
    "        return a+b\n",
    "    elif o==\"-\":\n",
    "        return a-b\n",
    "    elif o==\"*\":\n",
    "        return a*b\n",
    "    else:\n",
    "        if a<0:\n",
    "            a*=-1\n",
    "            return (-1)*(a//b)\n",
    "        return a//b\n",
    "\n",
    "\n",
    "n=int(input())\n",
    "arr=list(map(int,input().split()))\n",
    "oper=list(map(int,input().split())) #+,-,*,/\n",
    "op=[]\n",
    "minVal=int(1e9)\n",
    "maxVal=int(1e9)*(-1)\n",
    "\n",
    "\n",
    "for idx,val in enumerate(oper):\n",
    "    for j in range(val):\n",
    "        if idx==0:\n",
    "            op.append(\"+\")\n",
    "        elif idx==1:\n",
    "            op.append(\"-\")\n",
    "        elif idx==2:\n",
    "            op.append(\"*\")\n",
    "        else:\n",
    "            op.append(\"/\")\n",
    "for per in permutations(op,n-1):\n",
    "    tmp=arr[0]\n",
    "    for i in range(n-1):\n",
    "        tmp=operResult(tmp,arr[i+1],per[i])\n",
    "    minVal=min(minVal,tmp)\n",
    "    maxVal=max(maxVal,tmp)\n",
    "    \n",
    "print(maxVal)\n",
    "print(minVal)"
   ]
  }
 ],
 "metadata": {
  "kernelspec": {
   "display_name": "Python 3",
   "language": "python",
   "name": "python3"
  }
 },
 "nbformat": 4,
 "nbformat_minor": 4
}
