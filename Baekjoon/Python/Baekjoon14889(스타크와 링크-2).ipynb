{
 "cells": [
  {
   "cell_type": "code",
   "execution_count": null,
   "metadata": {},
   "outputs": [],
   "source": [
    "from itertools import combinations\n",
    "n=int(input())\n",
    "board=[]\n",
    "answer=int(1e19)\n",
    "for _ in range(n):\n",
    "    board.append(list(map(int,input().split())))\n",
    "\n",
    "for com in combinations([i for i in range(n)],n//2):\n",
    "    s1=0\n",
    "    s2=0\n",
    "    com2=[]\n",
    "    for i in range(n):\n",
    "        if i not in com:\n",
    "            com2.append(i)\n",
    "    for i in range(n):\n",
    "        if i in com:\n",
    "            for j in com:\n",
    "                s1+=board[i][j]\n",
    "        else:\n",
    "            for j in com2:\n",
    "                s2+=board[i][j]\n",
    "    answer=min(answer,abs(s1-s2))\n",
    "print(answer)\n",
    "   \n"
   ]
  }
 ],
 "metadata": {
  "kernelspec": {
   "display_name": "Python 3",
   "language": "python",
   "name": "python3"
  },
  "language_info": {
   "codemirror_mode": {
    "name": "ipython",
    "version": 3
   },
   "file_extension": ".py",
   "mimetype": "text/x-python",
   "name": "python",
   "nbconvert_exporter": "python",
   "pygments_lexer": "ipython3",
   "version": "3.8.5"
  }
 },
 "nbformat": 4,
 "nbformat_minor": 4
}
