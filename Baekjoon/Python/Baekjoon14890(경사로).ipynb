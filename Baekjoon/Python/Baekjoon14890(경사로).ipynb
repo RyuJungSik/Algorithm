{
 "cells": [
  {
   "cell_type": "code",
   "execution_count": null,
   "metadata": {},
   "outputs": [],
   "source": [
    "n,l=map(int, input().split())\n",
    "answer=0\n",
    "#a=[[3, 2, 1, 1, 2, 3],[3, 2, 2, 1, 2, 3],[3, 2, 2, 2, 3, 3],[3, 3, 3, 3, 3, 3],[3, 3, 3, 3, 2, 2],[3, 3, 3, 3, 2, 2]]\n",
    "a=[]\n",
    "for _ in range(n):\n",
    "    a.append(list(map(int, input().split())))\n",
    "def go(a,l):\n",
    "    n=len(a)\n",
    "    check=[0]*n\n",
    "    for i in range(1,n):\n",
    "        if a[i-1]!=a[i]:\n",
    "            diff=a[i]-a[i-1]\n",
    "            if diff==1:\n",
    "                for j in range(1,l+1):\n",
    "                    if i-j<0:\n",
    "                        return False\n",
    "                    if a[i-1]!=a[i-j]:\n",
    "                        return False\n",
    "                    if check[i-j]==1:\n",
    "                        return False\n",
    "                    check[i-j]=1\n",
    "            elif diff==-1:\n",
    "                for j in range(l):\n",
    "                    if i+j>=n:\n",
    "                        return False\n",
    "                    if a[i]!=a[i+j]:\n",
    "                        return False\n",
    "                    if check[i+j]==1:\n",
    "                        return False\n",
    "                    check[i+j]=1\n",
    "            else:\n",
    "                return False\n",
    "            \n",
    "    return True\n",
    "    \n",
    "    \n",
    "for i in a:\n",
    "    if go(i,l):\n",
    "        answer+=1\n",
    "\n",
    "for i in range(n):\n",
    "    d=[a[j][i] for j in range(n)]\n",
    "    if go(d,l):\n",
    "        answer+=1\n",
    "        \n",
    "print(answer)"
   ]
  }
 ],
 "metadata": {
  "kernelspec": {
   "display_name": "Python 3",
   "language": "python",
   "name": "python3"
  },
  "language_info": {
   "codemirror_mode": {
    "name": "ipython",
    "version": 3
   },
   "file_extension": ".py",
   "mimetype": "text/x-python",
   "name": "python",
   "nbconvert_exporter": "python",
   "pygments_lexer": "ipython3",
   "version": "3.8.5"
  }
 },
 "nbformat": 4,
 "nbformat_minor": 4
}
