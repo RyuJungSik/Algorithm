{
 "cells": [
  {
   "cell_type": "code",
   "execution_count": null,
   "metadata": {},
   "outputs": [],
   "source": [
    "def isCross(arr,n,l):\n",
    "    cnt=1\n",
    "    step=arr[0]\n",
    "    i=0\n",
    "    while i<(len(arr)-1):\n",
    "        if arr[i]==arr[i+1]:\n",
    "            cnt+=1\n",
    "            step=arr[i]\n",
    "        elif arr[i]+1==arr[i+1]:\n",
    "            if cnt>=l:\n",
    "                cnt=1\n",
    "            else:\n",
    "                return False\n",
    "                break\n",
    "        elif arr[i]-1==arr[i+1]:\n",
    "            c=0\n",
    "            for j in range(l):\n",
    "                if i+1+j>=n:\n",
    "                    return False\n",
    "                if i+1+j<n and arr[i+1+j]!=arr[i]-1:\n",
    "                    return False\n",
    "            i+=(l-1)\n",
    "            cnt=0\n",
    "        else:\n",
    "            return False\n",
    "        i+=1\n",
    "    return True\n",
    "        \n",
    "        \n",
    "    \n",
    "n,l=map(int,input().split())\n",
    "board=[]\n",
    "answer=0\n",
    "for _ in range(n):\n",
    "    board.append(list(map(int,input().split())))\n",
    "\n",
    "for a in board:\n",
    "    f=isCross(a,n,l)\n",
    "    if f==True:\n",
    "        answer+=1\n",
    "        \n",
    "for i in range(n):\n",
    "    tmp=[]\n",
    "    for j in range(n):\n",
    "        tmp.append(board[j][i])\n",
    "    f=isCross(tmp,n,l)\n",
    "    if f==True:\n",
    "        answer+=1\n",
    "print(answer)\n"
   ]
  }
 ],
 "metadata": {
  "kernelspec": {
   "display_name": "Python 3",
   "language": "python",
   "name": "python3"
  },
  "language_info": {
   "codemirror_mode": {
    "name": "ipython",
    "version": 3
   },
   "file_extension": ".py",
   "mimetype": "text/x-python",
   "name": "python",
   "nbconvert_exporter": "python",
   "pygments_lexer": "ipython3",
   "version": "3.8.5"
  }
 },
 "nbformat": 4,
 "nbformat_minor": 4
}
