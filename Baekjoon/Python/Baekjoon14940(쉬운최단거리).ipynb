{
 "cells": [
  {
   "cell_type": "code",
   "execution_count": null,
   "metadata": {},
   "outputs": [],
   "source": [
    "from collections import deque\n",
    "import copy\n",
    "\n",
    "n,m=map(int,input().split())\n",
    "dx,dy=[0,0,1,-1],[1,-1,0,0]\n",
    "board=[]\n",
    "for _ in range(n):\n",
    "    board.append(list(map(int,input().split())))\n",
    "for i in range(n):\n",
    "    for j in range(m):\n",
    "        if board[i][j]==1:\n",
    "            board[i][j]=-1\n",
    "        if board[i][j]==2:\n",
    "            tn,tm=i,j\n",
    "            \n",
    "board[tn][tm]=0\n",
    "\n",
    "q=deque([(tn,tm)])\n",
    "while q:\n",
    "    nowX,nowY=q.popleft()\n",
    "    for d in range(4):\n",
    "        nextX,nextY=nowX+dx[d],nowY+dy[d]\n",
    "        if nextX<0 or nextX>=n or nextY<0 or nextY>=m or board[nextX][nextY]!=-1:\n",
    "            continue\n",
    "        board[nextX][nextY]=board[nowX][nowY]+1\n",
    "        q.append((nextX,nextY))\n",
    "for arr in board:\n",
    "    print(\" \".join(list(map(str,arr))))\n",
    "        "
   ]
  }
 ],
 "metadata": {
  "kernelspec": {
   "display_name": "Python 3",
   "language": "python",
   "name": "python3"
  },
  "language_info": {
   "codemirror_mode": {
    "name": "ipython",
    "version": 3
   },
   "file_extension": ".py",
   "mimetype": "text/x-python",
   "name": "python",
   "nbconvert_exporter": "python",
   "pygments_lexer": "ipython3",
   "version": "3.8.5"
  }
 },
 "nbformat": 4,
 "nbformat_minor": 4
}
