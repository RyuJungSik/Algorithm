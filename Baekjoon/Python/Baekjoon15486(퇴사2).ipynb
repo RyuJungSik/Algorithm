{
 "cells": [
  {
   "cell_type": "code",
   "execution_count": null,
   "metadata": {},
   "outputs": [],
   "source": [
    "n=int(input())\n",
    "\n",
    "day=n\n",
    "t,p=[],[]\n",
    "dp=[0]*(n+1)\n",
    "\n",
    "for i in range(n):\n",
    "    a,b=map(int, input().split(\" \"))\n",
    "    t.append(a)\n",
    "    p.append(b)\n",
    "\n",
    "for i in range(0,n):\n",
    "    if t[i]+i<n+1:\n",
    "        dp[i+t[i]]=max(dp[i+t[i]],dp[i]+p[i])\n",
    "    dp[i+1]=max(dp[i+1],dp[i])\n",
    "\n",
    "print(dp[n])"
   ]
  }
 ],
 "metadata": {
  "kernelspec": {
   "display_name": "Python 3",
   "language": "python",
   "name": "python3"
  },
  "language_info": {
   "codemirror_mode": {
    "name": "ipython",
    "version": 3
   },
   "file_extension": ".py",
   "mimetype": "text/x-python",
   "name": "python",
   "nbconvert_exporter": "python",
   "pygments_lexer": "ipython3",
   "version": "3.8.5"
  }
 },
 "nbformat": 4,
 "nbformat_minor": 4
}
