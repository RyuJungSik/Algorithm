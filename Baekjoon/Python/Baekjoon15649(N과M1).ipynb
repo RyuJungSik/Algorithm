{
 "cells": [
  {
   "cell_type": "code",
   "execution_count": null,
   "metadata": {},
   "outputs": [],
   "source": [
    "n,m=map(int,input().split(\" \"))\n",
    "answer=[]\n",
    "def dfs(index,cur):\n",
    "    if index==m:\n",
    "        answer.append(cur)\n",
    "    else:\n",
    "        for i in range(1,n+1):\n",
    "            if len(cur)==0 or i not in cur:\n",
    "                dfs(index+1,cur+[i])\n",
    "    \n",
    "    \n",
    "dfs(0,[])\n",
    "for i in answer:\n",
    "    print(\" \".join(map(str,i)))\n"
   ]
  }
 ],
 "metadata": {
  "kernelspec": {
   "display_name": "Python 3",
   "language": "python",
   "name": "python3"
  },
  "language_info": {
   "codemirror_mode": {
    "name": "ipython",
    "version": 3
   },
   "file_extension": ".py",
   "mimetype": "text/x-python",
   "name": "python",
   "nbconvert_exporter": "python",
   "pygments_lexer": "ipython3",
   "version": "3.8.5"
  }
 },
 "nbformat": 4,
 "nbformat_minor": 4
}
