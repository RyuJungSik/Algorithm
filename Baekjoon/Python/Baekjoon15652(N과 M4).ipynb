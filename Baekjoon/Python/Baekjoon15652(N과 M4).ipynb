{
 "cells": [
  {
   "cell_type": "code",
   "execution_count": 35,
   "metadata": {},
   "outputs": [
    {
     "name": "stdout",
     "output_type": "stream",
     "text": [
      "4 2\n",
      "1 1 \n",
      "1 2 \n",
      "1 3 \n",
      "1 4 \n",
      "2 2 \n",
      "2 3 \n",
      "2 4 \n",
      "3 3 \n",
      "3 4 \n",
      "4 4 \n"
     ]
    }
   ],
   "source": [
    "n,m=map(int, input().split())\n",
    "arr=[i for i in range(1,n+1)]\n",
    "ansList=[]\n",
    "def dfs(index, ansList):\n",
    "    if index==m:\n",
    "        for j in ansList:\n",
    "            print(j, end=\" \")\n",
    "        print()\n",
    "    else:\n",
    "        for i in arr:\n",
    "            if len(ansList)==0:\n",
    "                ansList.append(i)\n",
    "                dfs(index+1,ansList)\n",
    "                ansList.pop()\n",
    "            elif ansList[-1]<=i:\n",
    "                ansList.append(i)\n",
    "                dfs(index+1,ansList)\n",
    "                ansList.pop()\n",
    "dfs(0,ansList)"
   ]
  }
 ],
 "metadata": {
  "kernelspec": {
   "display_name": "Python 3",
   "language": "python",
   "name": "python3"
  },
  "language_info": {
   "codemirror_mode": {
    "name": "ipython",
    "version": 3
   },
   "file_extension": ".py",
   "mimetype": "text/x-python",
   "name": "python",
   "nbconvert_exporter": "python",
   "pygments_lexer": "ipython3",
   "version": "3.8.5"
  }
 },
 "nbformat": 4,
 "nbformat_minor": 4
}
