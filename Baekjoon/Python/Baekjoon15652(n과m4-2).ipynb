{
 "cells": [
  {
   "cell_type": "code",
   "execution_count": null,
   "metadata": {},
   "outputs": [],
   "source": [
    "def recursive(index,cur):\n",
    "    global n,m\n",
    "    if index==m:\n",
    "        print(\" \".join(map(str,cur)))\n",
    "    else:\n",
    "        for i in range(1,n+1):\n",
    "            if len(cur)==0 or cur[-1]<=i:\n",
    "                recursive(index+1,cur+[i])\n",
    "                \n",
    "n,m=map(int,input().split())\n",
    "recursive(0,[])"
   ]
  }
 ],
 "metadata": {
  "kernelspec": {
   "display_name": "Python 3",
   "language": "python",
   "name": "python3"
  },
  "language_info": {
   "codemirror_mode": {
    "name": "ipython",
    "version": 3
   },
   "file_extension": ".py",
   "mimetype": "text/x-python",
   "name": "python",
   "nbconvert_exporter": "python",
   "pygments_lexer": "ipython3",
   "version": "3.8.5"
  }
 },
 "nbformat": 4,
 "nbformat_minor": 4
}
