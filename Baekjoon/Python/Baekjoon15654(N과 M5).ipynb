{
 "cells": [
  {
   "cell_type": "code",
   "execution_count": 40,
   "metadata": {},
   "outputs": [
    {
     "name": "stdout",
     "output_type": "stream",
     "text": [
      "4 4\n",
      "1231 1232 1233 1234\n",
      "1231 1232 1233 1234 \n",
      "1231 1232 1234 1233 \n",
      "1231 1233 1232 1234 \n",
      "1231 1233 1234 1232 \n",
      "1231 1234 1232 1233 \n",
      "1231 1234 1233 1232 \n",
      "1232 1231 1233 1234 \n",
      "1232 1231 1234 1233 \n",
      "1232 1233 1231 1234 \n",
      "1232 1233 1234 1231 \n",
      "1232 1234 1231 1233 \n",
      "1232 1234 1233 1231 \n",
      "1233 1231 1232 1234 \n",
      "1233 1231 1234 1232 \n",
      "1233 1232 1231 1234 \n",
      "1233 1232 1234 1231 \n",
      "1233 1234 1231 1232 \n",
      "1233 1234 1232 1231 \n",
      "1234 1231 1232 1233 \n",
      "1234 1231 1233 1232 \n",
      "1234 1232 1231 1233 \n",
      "1234 1232 1233 1231 \n",
      "1234 1233 1231 1232 \n",
      "1234 1233 1232 1231 \n"
     ]
    }
   ],
   "source": [
    "n,m=map(int, input().split())\n",
    "arr=list(map(int, input().split()))\n",
    "arr.sort()\n",
    "ansList=[]\n",
    "def dfs(index, ansList):\n",
    "    if index==m:\n",
    "        for j in ansList:\n",
    "            print(j, end=\" \")\n",
    "        print()\n",
    "    else:\n",
    "        for i in arr:\n",
    "            if i not in ansList:\n",
    "                ansList.append(i)\n",
    "                dfs(index+1,ansList)\n",
    "                ansList.pop()\n",
    "dfs(0,ansList)"
   ]
  }
 ],
 "metadata": {
  "kernelspec": {
   "display_name": "Python 3",
   "language": "python",
   "name": "python3"
  },
  "language_info": {
   "codemirror_mode": {
    "name": "ipython",
    "version": 3
   },
   "file_extension": ".py",
   "mimetype": "text/x-python",
   "name": "python",
   "nbconvert_exporter": "python",
   "pygments_lexer": "ipython3",
   "version": "3.8.5"
  }
 },
 "nbformat": 4,
 "nbformat_minor": 4
}
