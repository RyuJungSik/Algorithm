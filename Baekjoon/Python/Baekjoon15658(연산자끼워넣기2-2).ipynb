{
 "cells": [
  {
   "cell_type": "code",
   "execution_count": null,
   "metadata": {},
   "outputs": [],
   "source": [
    "from itertools import permutations\n",
    "def operResult(a,b,o):\n",
    "    if o==\"+\":\n",
    "        return a+b\n",
    "    elif o==\"-\":\n",
    "        return a-b\n",
    "    elif o==\"*\":\n",
    "        return a*b\n",
    "    else:\n",
    "        if a<0:\n",
    "            a*=-1\n",
    "            return (-1)*(a//b)\n",
    "        return a//b\n",
    "\n",
    "\n",
    "n=int(input())\n",
    "arr=list(map(int,input().split()))\n",
    "oper=list(map(int,input().split())) #+,-,*,/\n",
    "op=[]\n",
    "minVal=int(1e9)\n",
    "maxVal=int(1e9)*(-1)\n",
    "visited=[0]*4\n",
    "numToOper={0 : \"+\",1:\"-\",2:\"*\",3:\"/\"}\n",
    "\n",
    "\n",
    "def dfs(index,cur):\n",
    "    global minVal, maxVal,n\n",
    "    if index==n-1:\n",
    "        tmp=arr[0]\n",
    "        for i in range(n-1):\n",
    "            tmp=operResult(tmp,arr[i+1],cur[i])\n",
    "        minVal=min(minVal,tmp)\n",
    "        maxVal=max(maxVal,tmp)\n",
    "        return\n",
    "    else:\n",
    "        for i in range(4):\n",
    "            if visited[i]<oper[i]:\n",
    "                visited[i]+=1\n",
    "                dfs(index+1,cur+[numToOper[i]])\n",
    "                visited[i]-=1\n",
    "dfs(0,[])\n",
    "print(maxVal)\n",
    "print(minVal)"
   ]
  }
 ],
 "metadata": {
  "kernelspec": {
   "display_name": "Python 3",
   "language": "python",
   "name": "python3"
  },
  "language_info": {
   "codemirror_mode": {
    "name": "ipython",
    "version": 3
   },
   "file_extension": ".py",
   "mimetype": "text/x-python",
   "name": "python",
   "nbconvert_exporter": "python",
   "pygments_lexer": "ipython3",
   "version": "3.8.5"
  }
 },
 "nbformat": 4,
 "nbformat_minor": 4
}
