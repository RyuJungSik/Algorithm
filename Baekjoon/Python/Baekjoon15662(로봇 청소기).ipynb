{
 "cells": [
  {
   "cell_type": "code",
   "execution_count": null,
   "metadata": {},
   "outputs": [],
   "source": [
    "n,m=map(int, input().split())\n",
    "\n",
    "#0북 1동 2남 3서\n",
    "x,y,d=map(int, input().split())\n",
    "dx=[-1,0,1,0]\n",
    "dy=[0,1,0,-1]\n",
    "#0빈칸 1벽\n",
    "board=[]\n",
    "for _ in range(n):\n",
    "    board.append(list(map(int, input().split())))\n",
    "\n",
    "# 0 빈공간 1 벽 2청소됨\n",
    "# board=[\n",
    "# [1, 1, 1, 1, 1, 1, 1, 1, 1, 1],\n",
    "# [1, 0, 0, 0, 0, 0, 0, 0, 0, 1],\n",
    "# [1, 0, 0, 0, 1, 1, 1, 1, 0, 1],\n",
    "# [1, 0, 0, 1, 1, 0, 0, 0, 0, 1],\n",
    "# [1, 0, 1, 1, 0, 0, 0, 0, 0, 1],\n",
    "# [1, 0, 0, 0, 0, 0, 0, 0, 0, 1],\n",
    "# [1, 0, 0, 0, 0, 0, 0, 1, 0, 1],\n",
    "# [1, 0, 0, 0, 0, 0, 1, 1, 0, 1],\n",
    "# [1, 0, 0, 0, 0, 0, 1, 1, 0, 1],\n",
    "# [1, 0, 0, 0, 0, 0, 0, 0, 0, 1],\n",
    "# [1, 1, 1, 1, 1, 1, 1, 1, 1, 1],\n",
    "# ]\n",
    "\n",
    "while True:\n",
    "    board[x][y]=2\n",
    "    if board[x-1][y]!=0 and board[x][y+1]!=0 and board[x+1][y]!=0 and board[x][y-1]!=0:\n",
    "        nx, ny=x+dx[(d+6)%4], y+dy[(d+6)%4]\n",
    "        if board[nx][ny]==1:\n",
    "            break\n",
    "        else:\n",
    "            x,y=nx,ny\n",
    "    else:\n",
    "        nx, ny=x+dx[(d+3)%4], y+dy[(d+3)%4]\n",
    "        if board[nx][ny]==0:\n",
    "            x,y=nx,ny\n",
    "        d=(d+3)%4\n",
    "answer=0\n",
    "for i in board:\n",
    "    for j in i:\n",
    "        if j==2:\n",
    "            answer+=1\n",
    "print(answer)"
   ]
  }
 ],
 "metadata": {
  "kernelspec": {
   "display_name": "Python 3",
   "language": "python",
   "name": "python3"
  },
  "language_info": {
   "codemirror_mode": {
    "name": "ipython",
    "version": 3
   },
   "file_extension": ".py",
   "mimetype": "text/x-python",
   "name": "python",
   "nbconvert_exporter": "python",
   "pygments_lexer": "ipython3",
   "version": "3.8.5"
  }
 },
 "nbformat": 4,
 "nbformat_minor": 4
}
