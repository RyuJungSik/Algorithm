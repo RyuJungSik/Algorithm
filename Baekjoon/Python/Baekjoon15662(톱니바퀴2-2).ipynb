{
 "cells": [
  {
   "cell_type": "code",
   "execution_count": null,
   "metadata": {},
   "outputs": [],
   "source": [
    "from collections import deque\n",
    "\n",
    "n=int(input())\n",
    "board=[]\n",
    "for _ in range(n):\n",
    "    board.append(list(map(int,list(input()))))\n",
    "k=int(input())\n",
    "oper=[]\n",
    "for _ in range(k):\n",
    "    oper.append(list(map(int,input().split())))\n",
    "    \n",
    "for i in range(len(oper)):\n",
    "    tmp=[0]*n\n",
    "    s,o=oper[i][0],oper[i][1]\n",
    "    s-=1\n",
    "    tmp[s]=o\n",
    "    for j in range(s+1,n):\n",
    "        if board[j-1][2]!=board[j][6]:\n",
    "            tmp[j]=tmp[j-1]*(-1)\n",
    "        else:\n",
    "            break\n",
    "    for j in range(s-1,-1,-1):\n",
    "        if board[j+1][6]!=board[j][2]:\n",
    "            tmp[j]=tmp[j+1]*(-1)\n",
    "        else:\n",
    "            break\n",
    "    for idx,val in enumerate(tmp):\n",
    "        if val==0:\n",
    "            continue\n",
    "        if val==1:\n",
    "            t=board[idx][:]\n",
    "            t=[t[-1]]+t[0:7]\n",
    "            board[idx]=t\n",
    "        if val==-1:\n",
    "            t=board[idx][:]\n",
    "            t=t[1:8]+[t[0]]\n",
    "            board[idx]=t\n",
    "    \n",
    "\n",
    "answer=0\n",
    "for arr in board:\n",
    "    if arr[0]==1:\n",
    "        answer+=1\n",
    "print(answer)\n",
    "\n"
   ]
  }
 ],
 "metadata": {
  "kernelspec": {
   "display_name": "Python 3",
   "language": "python",
   "name": "python3"
  },
  "language_info": {
   "codemirror_mode": {
    "name": "ipython",
    "version": 3
   },
   "file_extension": ".py",
   "mimetype": "text/x-python",
   "name": "python",
   "nbconvert_exporter": "python",
   "pygments_lexer": "ipython3",
   "version": "3.8.5"
  }
 },
 "nbformat": 4,
 "nbformat_minor": 4
}
