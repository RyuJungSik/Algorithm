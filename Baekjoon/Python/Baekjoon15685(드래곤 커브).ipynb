{
 "cells": [
  {
   "cell_type": "code",
   "execution_count": null,
   "metadata": {},
   "outputs": [],
   "source": [
    "n=int(input())\n",
    "#0동 1북 2서 3남\n",
    "dx=[1,0,-1,0]\n",
    "dy=[0,-1,0,1]\n",
    "answer=0\n",
    "arr=[[0]*101 for _ in range(101)]\n",
    "for _ in range(n):\n",
    "    x,y,d,g=map(int,input().split())\n",
    "    dots=[]\n",
    "    dots.append((x,y))\n",
    "    dots.append((x+dx[d],y+dy[d]))\n",
    "    \n",
    "    for i in range(1,g+1):\n",
    "        start=dots[0]\n",
    "        end=dots[-1]\n",
    "        endX, endY=end[0],end[1]\n",
    "        for j in range(len(dots)-2,-1,-1):\n",
    "            cur=dots[j]\n",
    "            curX,curY=cur[0],cur[1]\n",
    "            diffX, diffY=endX-curX, endY-curY\n",
    "            nextX,nextY=endX+diffY, endY-diffX\n",
    "            dots.append((nextX,nextY))\n",
    "    for i in dots:\n",
    "        arr[i[0]][i[1]]=1\n",
    "for i in range(0,100):\n",
    "    for j in range(0,100):\n",
    "        if arr[i][j]==1 and arr[i+1][j]==1 and arr[i][j+1]==1 and arr[i+1][j+1]==1:\n",
    "            answer+=1\n",
    "\n",
    "print(answer)"
   ]
  }
 ],
 "metadata": {
  "kernelspec": {
   "display_name": "Python 3",
   "language": "python",
   "name": "python3"
  },
  "language_info": {
   "codemirror_mode": {
    "name": "ipython",
    "version": 3
   },
   "file_extension": ".py",
   "mimetype": "text/x-python",
   "name": "python",
   "nbconvert_exporter": "python",
   "pygments_lexer": "ipython3",
   "version": "3.8.5"
  }
 },
 "nbformat": 4,
 "nbformat_minor": 4
}
