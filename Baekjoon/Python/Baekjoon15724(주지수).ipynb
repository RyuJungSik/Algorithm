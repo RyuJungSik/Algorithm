{
 "cells": [
  {
   "cell_type": "code",
   "execution_count": null,
   "metadata": {},
   "outputs": [],
   "source": [
    "n,m=map(int,input().split(\" \"))\n",
    "board=[]\n",
    "boardSum=[[0]*(m+1) for _ in range(n+1)]\n",
    "\n",
    "for _ in range(n):\n",
    "    board.append(list(map(int,input().split(\" \"))))\n",
    "\n",
    "for i in range(n):\n",
    "    tmp=0\n",
    "    for j in range(m):\n",
    "        boardSum[i+1][j+1]=board[i][j]+tmp\n",
    "        tmp=boardSum[i+1][j+1]\n",
    "\n",
    "        \n",
    "for i in range(m):\n",
    "    tmp=0\n",
    "    for j in range(n):\n",
    "        boardSum[j+1][i+1]=boardSum[j+1][i+1]+tmp\n",
    "        tmp=boardSum[j+1][i+1]\n",
    "\n",
    "tc=int(input())\n",
    "for _ in range(tc):\n",
    "    r1,c1,r2,c2=map(int, input().split(\" \"))\n",
    "    r1-=1\n",
    "    c1-=1\n",
    "    r2-=1\n",
    "    c2-=1\n",
    "    tmp=boardSum[r2+1][c2+1]+boardSum[r1][c1]-boardSum[r1][c2+1]-boardSum[r2+1][c1]\n",
    "    print(tmp)"
   ]
  }
 ],
 "metadata": {
  "kernelspec": {
   "display_name": "Python 3",
   "language": "python",
   "name": "python3"
  },
  "language_info": {
   "codemirror_mode": {
    "name": "ipython",
    "version": 3
   },
   "file_extension": ".py",
   "mimetype": "text/x-python",
   "name": "python",
   "nbconvert_exporter": "python",
   "pygments_lexer": "ipython3",
   "version": "3.8.5"
  }
 },
 "nbformat": 4,
 "nbformat_minor": 4
}
