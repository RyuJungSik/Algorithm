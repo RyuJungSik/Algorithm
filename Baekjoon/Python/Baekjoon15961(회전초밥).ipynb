{
 "cells": [
  {
   "cell_type": "code",
   "execution_count": null,
   "metadata": {},
   "outputs": [],
   "source": [
    "from collections import defaultdict\n",
    "\n",
    "n,d,k,c=map(int,input().split())\n",
    "\n",
    "belt=[]\n",
    "for _ in range(n):\n",
    "    x=int(input())\n",
    "    if x==c:coupon=True\n",
    "    belt.append(x)\n",
    "\n",
    "belt+=belt[:k-1]\n",
    "answer=0\n",
    "chobab=defaultdict(int)\n",
    "kind=0\n",
    "\n",
    "for i in range(k):\n",
    "    if chobab[belt[i]]==0:\n",
    "        kind+=1\n",
    "    chobab[belt[i]]+=1\n",
    "    \n",
    "for start in range(k,len(belt)):\n",
    "    \n",
    "    if chobab[belt[start-k]]==1:\n",
    "        chobab[belt[start-k]]-=1\n",
    "        kind-=1\n",
    "    elif chobab[belt[start-k]]>1:\n",
    "        chobab[belt[start-k]]-=1\n",
    "    \n",
    "    if chobab[belt[start]]==0:\n",
    "        chobab[belt[start]]+=1\n",
    "        kind+=1\n",
    "    else:\n",
    "        chobab[belt[start]]+=1\n",
    "    \n",
    "    if chobab[c]==0:\n",
    "        answer=max(answer,kind+1)\n",
    "    else:\n",
    "        answer=max(answer,kind)\n",
    "print(answer)"
   ]
  }
 ],
 "metadata": {
  "kernelspec": {
   "display_name": "Python 3",
   "language": "python",
   "name": "python3"
  },
  "language_info": {
   "codemirror_mode": {
    "name": "ipython",
    "version": 3
   },
   "file_extension": ".py",
   "mimetype": "text/x-python",
   "name": "python",
   "nbconvert_exporter": "python",
   "pygments_lexer": "ipython3",
   "version": "3.8.5"
  }
 },
 "nbformat": 4,
 "nbformat_minor": 4
}
