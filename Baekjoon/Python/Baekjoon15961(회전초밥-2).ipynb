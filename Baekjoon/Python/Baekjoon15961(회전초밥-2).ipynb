{
 "cells": [
  {
   "cell_type": "code",
   "execution_count": null,
   "metadata": {},
   "outputs": [],
   "source": [
    "from collections import defaultdict\n",
    "\n",
    "n,d,k,c=map(int,input().split())\n",
    "arr=[]\n",
    "arr=arr+arr[:k]\n",
    "hash=defaultdict(int)\n",
    "for _ in range(n):\n",
    "    arr.append(int(input()))\n",
    "minValue=0\n",
    "left=0\n",
    "right=k-1\n",
    "for i in range(k):\n",
    "    if arr[i]==c:\n",
    "        hash[arr[i]]+=1\n",
    "        continue\n",
    "    if hash[arr[i]]==0:\n",
    "        hash[arr[i]]+=1\n",
    "        minValue+=1\n",
    "    else:\n",
    "        hash[arr[i]]+=1\n",
    "\n",
    "while right<len(arr)-1:\n",
    "    \n",
    "    right+=1\n",
    "    \n",
    "    if hash[arr[right]]==0 and arr[right]!=c:\n",
    "        hash[arr[right]]+=1\n",
    "        minValue+=1\n",
    "    else:\n",
    "        hash[arr[right]]+=1\n",
    "    \n",
    "    if arr[left]==c or hash[arr[left]]>1:\n",
    "        hash[arr[left]]-=1\n",
    "    else:\n",
    "        minValue-=1\n",
    "        hash[arr[left]]-=1\n",
    "        \n",
    "    left+=1\n",
    "    if hash[c]!=0:\n",
    "        answer=max(answer,minValue+1)\n",
    "    else:\n",
    "        answer=max(answer,minValue)\n",
    "    \n",
    "        \n",
    "print(answer)\n"
   ]
  },
  {
   "cell_type": "code",
   "execution_count": null,
   "metadata": {},
   "outputs": [],
   "source": []
  }
 ],
 "metadata": {
  "kernelspec": {
   "display_name": "Python 3",
   "language": "python",
   "name": "python3"
  },
  "language_info": {
   "codemirror_mode": {
    "name": "ipython",
    "version": 3
   },
   "file_extension": ".py",
   "mimetype": "text/x-python",
   "name": "python",
   "nbconvert_exporter": "python",
   "pygments_lexer": "ipython3",
   "version": "3.8.5"
  }
 },
 "nbformat": 4,
 "nbformat_minor": 4
}
