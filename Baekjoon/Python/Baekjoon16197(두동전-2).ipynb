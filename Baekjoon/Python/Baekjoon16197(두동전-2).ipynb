{
 "cells": [
  {
   "cell_type": "code",
   "execution_count": null,
   "metadata": {},
   "outputs": [],
   "source": [
    "k,n=map(int,input().split())\n",
    "arr=[]\n",
    "for _ in range(k):\n",
    "    arr.append(int(input()))\n",
    "    \n",
    "answer=0\n",
    "\n",
    "left=1\n",
    "right=2**31\n",
    "\n",
    "while left<=right:\n",
    "    mid=(left+right)//2\n",
    "    cnt=0\n",
    "    for i in arr:\n",
    "        cnt+=i//mid\n",
    "    if cnt>=n:\n",
    "        answer=max(answer,mid)\n",
    "        left=mid+1\n",
    "    else:\n",
    "        right=mid-1\n",
    "print(answer)\n",
    "    "
   ]
  }
 ],
 "metadata": {
  "kernelspec": {
   "display_name": "Python 3",
   "language": "python",
   "name": "python3"
  },
  "language_info": {
   "codemirror_mode": {
    "name": "ipython",
    "version": 3
   },
   "file_extension": ".py",
   "mimetype": "text/x-python",
   "name": "python",
   "nbconvert_exporter": "python",
   "pygments_lexer": "ipython3",
   "version": "3.8.5"
  }
 },
 "nbformat": 4,
 "nbformat_minor": 4
}
