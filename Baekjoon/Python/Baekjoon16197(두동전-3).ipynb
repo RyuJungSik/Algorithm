{
 "cells": [
  {
   "cell_type": "code",
   "execution_count": null,
   "metadata": {},
   "outputs": [],
   "source": [
    "def dfs(index,coin):\n",
    "    global answer,n,m\n",
    "    if index>=10:\n",
    "        return\n",
    "    else:\n",
    "        for d in range(4):\n",
    "            tmp=[]\n",
    "            cnt=0\n",
    "            for x,y in coin:\n",
    "                nx,ny=x+dx[d],y+dy[d]\n",
    "                if nx<0 or nx>=n or ny<0 or ny>=m:\n",
    "                    cnt+=1\n",
    "                else:\n",
    "                    if board[nx][ny]!=\"#\":\n",
    "                        tmp.append((nx,ny))\n",
    "                    else:\n",
    "                        tmp.append((x,y))\n",
    "            if cnt==0:\n",
    "                dfs(index+1,tmp)\n",
    "            elif cnt==1:\n",
    "                answer=min(answer,index+1)\n",
    "            else:\n",
    "                continue\n",
    "        \n",
    "\n",
    "n,m=map(int,input().split())\n",
    "board=[]\n",
    "coinPos=[]\n",
    "dx,dy=[0,0,1,-1],[1,-1,0,0]\n",
    "answer=11\n",
    "\n",
    "for i in range(n):\n",
    "    a=list(input())\n",
    "    board.append(a)\n",
    "    for j in range(m):\n",
    "        if a[j]==\"o\":\n",
    "            coinPos.append((i,j))\n",
    "            \n",
    "dfs(0,coinPos)\n",
    "if answer==11:\n",
    "    print(-1)\n",
    "else:\n",
    "    print(answer)"
   ]
  }
 ],
 "metadata": {
  "kernelspec": {
   "display_name": "Python 3",
   "language": "python",
   "name": "python3"
  },
  "language_info": {
   "codemirror_mode": {
    "name": "ipython",
    "version": 3
   },
   "file_extension": ".py",
   "mimetype": "text/x-python",
   "name": "python",
   "nbconvert_exporter": "python",
   "pygments_lexer": "ipython3",
   "version": "3.8.5"
  }
 },
 "nbformat": 4,
 "nbformat_minor": 4
}
