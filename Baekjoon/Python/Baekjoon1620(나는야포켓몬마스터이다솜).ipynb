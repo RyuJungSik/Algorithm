{
 "cells": [
  {
   "cell_type": "code",
   "execution_count": null,
   "metadata": {},
   "outputs": [],
   "source": [
    "N,M=map(int,input().split(\" \"))\n",
    "hash1=dict()\n",
    "hash2=dict()\n",
    "\n",
    "for i in range(N):\n",
    "    s=input()\n",
    "    hash1[s]=i+1\n",
    "    hash2[i+1]=s\n",
    "for _ in range(M):\n",
    "    p=input()\n",
    "    if p.isdigit():\n",
    "        print(hash2[int(p)])\n",
    "    else:\n",
    "        print(hash1[p])\n",
    "    "
   ]
  }
 ],
 "metadata": {
  "kernelspec": {
   "display_name": "Python 3",
   "language": "python",
   "name": "python3"
  },
  "language_info": {
   "codemirror_mode": {
    "name": "ipython",
    "version": 3
   },
   "file_extension": ".py",
   "mimetype": "text/x-python",
   "name": "python",
   "nbconvert_exporter": "python",
   "pygments_lexer": "ipython3",
   "version": "3.8.5"
  }
 },
 "nbformat": 4,
 "nbformat_minor": 4
}
