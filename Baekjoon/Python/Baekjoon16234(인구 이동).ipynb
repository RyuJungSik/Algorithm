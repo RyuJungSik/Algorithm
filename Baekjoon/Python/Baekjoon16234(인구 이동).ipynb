{
 "cells": [
  {
   "cell_type": "code",
   "execution_count": 35,
   "metadata": {},
   "outputs": [
    {
     "name": "stdout",
     "output_type": "stream",
     "text": [
      "4 10 50\n",
      "10 100 20 90\n",
      "80 100 60 70\n",
      "70 20 30 40\n",
      "50 20 100 10\n",
      "0\n"
     ]
    }
   ],
   "source": [
    "from collections import deque\n",
    "dx, dy=[0,0,1,-1],[1,-1,0,0]\n",
    "\n",
    "def bfs(board,visited,i,j):\n",
    "    q=deque([(i,j)])\n",
    "    visited2[i][j]=True\n",
    "    allVisited=[[i,j]]\n",
    "    allS=board[i][j]\n",
    "    while q:\n",
    "        nowX,nowY=q.popleft()\n",
    "        for d in range(4):\n",
    "            nx,ny=nowX+dx[d],nowY+dy[d]\n",
    "            if nx<0 or nx>=n or ny<0 or ny>=n:\n",
    "                    continue\n",
    "            if [nx,ny] in allVisited: continue\n",
    "            if [nowX,nowY,nx,ny] in visited:\n",
    "                allS+=board[nx][ny]\n",
    "                allVisited.append([nx,ny])\n",
    "                visited2[i][j]=True\n",
    "                q.append((nx,ny))\n",
    "    return (allS,allVisited)\n",
    "    \n",
    "\n",
    "\n",
    "n,l,r=map(int,input().split(\" \"))\n",
    "\n",
    "board=[]\n",
    "for _ in range(n):\n",
    "    board.append(list(map(int,input().split(\" \"))))\n",
    "\n",
    "cnt=0\n",
    "while(True):    \n",
    "    visited=[]\n",
    "    for i in range(n):\n",
    "        for j in range(n):\n",
    "            for d in range(4):\n",
    "                nx,ny=i+dx[d],j+dy[d]\n",
    "                if nx<0 or nx>=n or ny<0 or ny>=n:\n",
    "                    continue\n",
    "                    visited.append([i,j,nx,ny])\n",
    "\n",
    "    if len(visited)==0:\n",
    "        break\n",
    "    visited2=[[False]*n for _ in range(n)]\n",
    "    for i in range(n):\n",
    "        for j in range(n):\n",
    "            if visited2[i][j]:continue\n",
    "            (s,arr)=bfs(board,visited,i,j)\n",
    "            sDiv=s//len(arr)\n",
    "            for [a,b] in arr:\n",
    "                board[a][b]=sDiv\n",
    "    cnt+=1\n",
    "print(cnt)"
   ]
  },
  {
   "cell_type": "code",
   "execution_count": null,
   "metadata": {},
   "outputs": [],
   "source": []
  }
 ],
 "metadata": {
  "kernelspec": {
   "display_name": "Python 3",
   "language": "python",
   "name": "python3"
  },
  "language_info": {
   "codemirror_mode": {
    "name": "ipython",
    "version": 3
   },
   "file_extension": ".py",
   "mimetype": "text/x-python",
   "name": "python",
   "nbconvert_exporter": "python",
   "pygments_lexer": "ipython3",
   "version": "3.8.5"
  }
 },
 "nbformat": 4,
 "nbformat_minor": 4
}
