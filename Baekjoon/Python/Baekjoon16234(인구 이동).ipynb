{
 "cells": [
  {
   "cell_type": "code",
   "execution_count": null,
   "metadata": {},
   "outputs": [],
   "source": [
    "from collections import deque\n",
    "\n",
    "def bfs(i,j):\n",
    "    q=deque()\n",
    "    q.append([i,j])\n",
    "    temp=[]\n",
    "    temp.append([i,j])\n",
    "    while q:\n",
    "        x,y=q.popleft()\n",
    "        for i in range(4):\n",
    "            nx=x+dx[i]\n",
    "            ny=y+dy[i]\n",
    "            if 0<=nx<n and 0<=ny<n and visit[nx][ny]==0:\n",
    "                if l<=abs(s[nx][ny]-s[x][y])<=r:\n",
    "                    visit[nx][ny]=1\n",
    "                    q.append([nx,ny])\n",
    "                    temp.append([nx,ny])\n",
    "    return temp\n",
    "\n",
    "\n",
    "dx=[1,-1,0,0]\n",
    "dy=[0,0,-1,1]\n",
    "n,l,r=map(int,input().split())\n",
    "s=[]\n",
    "for i in range(n):\n",
    "    s.append(list(map(int,input().split())))\n",
    "    \n",
    "cnt=0\n",
    "while True:\n",
    "    visit=[[0]*n for i in range(n)]\n",
    "    isTrue=False\n",
    "    for i in range(n):\n",
    "        for j in range(n):\n",
    "            if visit[i][j]==0:\n",
    "                visit[i][j]=1\n",
    "                temp=bfs(i,j)\n",
    "                if len(temp)>1:\n",
    "                    isTrue=True\n",
    "                    num=sum(s[x][y] for x,y in temp) // len(temp)\n",
    "                    for x,y in temp:\n",
    "                        s[x][y]=num\n",
    "    if not isTrue:\n",
    "        break\n",
    "    cnt+=1\n",
    "print(cnt)"
   ]
  }
 ],
 "metadata": {
  "kernelspec": {
   "display_name": "Python 3",
   "language": "python",
   "name": "python3"
  },
  "language_info": {
   "codemirror_mode": {
    "name": "ipython",
    "version": 3
   },
   "file_extension": ".py",
   "mimetype": "text/x-python",
   "name": "python",
   "nbconvert_exporter": "python",
   "pygments_lexer": "ipython3",
   "version": "3.8.5"
  }
 },
 "nbformat": 4,
 "nbformat_minor": 4
}
