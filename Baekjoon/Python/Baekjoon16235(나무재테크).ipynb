{
 "cells": [
  {
   "cell_type": "code",
   "execution_count": null,
   "metadata": {},
   "outputs": [],
   "source": [
    "n,m,k=map(int,input().split())\n",
    "a=[]\n",
    "tree=[[[] for _ in range(n)] for _ in range(n)]\n",
    "soil=[[5]*n for _ in range(n)]\n",
    "dx,dy=[-1,-1,-1,0,0,1,1,1],[-1,0,1,-1,1,-1,0,1]\n",
    "\n",
    "for _ in range(n):\n",
    "    a.append(list(map(int,input().split())))\n",
    "for _ in range(m):\n",
    "    i,j,s=map(int,input().split())\n",
    "    tree[i-1][j-1].append(s)\n",
    "    \n",
    "for _ in range(k):\n",
    "    for i in range(n):\n",
    "        for j in range(n):\n",
    "            oneTrees=tree[i][j]\n",
    "            oneTrees.sort()\n",
    "            newOneTrees=[]\n",
    "            dieAgeHalf=0\n",
    "            for k in range(len(oneTrees)):\n",
    "                oneTreeAge=oneTrees[k]\n",
    "                if soil[i][j]>=oneTreeAge:\n",
    "                    newOneTrees.append(oneTreeAge+1)\n",
    "                    soil[i][j]-=oneTreeAge\n",
    "                else:\n",
    "                    dieAgeHalf+=oneTreeAge//2\n",
    "            tree[i][j]=newOneTrees\n",
    "            soil[i][j]+=dieAgeHalf\n",
    "            \n",
    "    for i in range(n):\n",
    "        for j in range(n):\n",
    "            oneTrees=tree[i][j]\n",
    "            for k in range(len(oneTrees)):\n",
    "                oneTreeAge=oneTrees[k]\n",
    "                if oneTreeAge%5==0:\n",
    "                    for d in range(8):\n",
    "                        nx,ny=i+dx[d],j+dy[d]\n",
    "                        if nx<0 or nx>=n or ny<0 or ny>=n:\n",
    "                            continue\n",
    "                        tree[nx][ny].append(1)\n",
    "    for i in range(n):\n",
    "        for j in range(n):\n",
    "            soil[i][j]+=a[i][j]\n",
    "            \n",
    "answer=0\n",
    "for i in tree:\n",
    "    for j in i:\n",
    "        answer+=len(j)\n",
    "print(answer)\n",
    "                \n",
    "            "
   ]
  }
 ],
 "metadata": {
  "kernelspec": {
   "display_name": "Python 3",
   "language": "python",
   "name": "python3"
  },
  "language_info": {
   "codemirror_mode": {
    "name": "ipython",
    "version": 3
   },
   "file_extension": ".py",
   "mimetype": "text/x-python",
   "name": "python",
   "nbconvert_exporter": "python",
   "pygments_lexer": "ipython3",
   "version": "3.8.5"
  }
 },
 "nbformat": 4,
 "nbformat_minor": 4
}
