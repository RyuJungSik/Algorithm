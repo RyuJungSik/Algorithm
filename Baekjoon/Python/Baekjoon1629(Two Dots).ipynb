{
 "cells": [
  {
   "cell_type": "code",
   "execution_count": null,
   "metadata": {},
   "outputs": [],
   "source": [
    "n,m=map(int, input().split())\n",
    "board=[]\n",
    "answer=False\n",
    "for _ in range(n):\n",
    "    board.append(list(input()))\n",
    "visited=[[0]*m for _ in range(n)]\n",
    "dx=[1,-1,0,0]\n",
    "dy=[0,0,1,-1]\n",
    "\n",
    "def dfs(x,y,cnt,color):\n",
    "    if visited[x][y]!=0:\n",
    "        if cnt-visited[x][y]>=4:\n",
    "            return True\n",
    "        else:\n",
    "            return False\n",
    "    visited[x][y]=cnt\n",
    "    for d in range(4):\n",
    "        nx,ny=x+dx[d],y+dy[d]\n",
    "        if 0<=nx<n and 0<=ny<m and board[nx][ny]==color:\n",
    "            if dfs(nx,ny,cnt+1,color):\n",
    "                return True\n",
    "    return False\n",
    "\n",
    "for i in range(n):\n",
    "    for j in range(m):\n",
    "        if visited[i][j]==0:\n",
    "            answer=dfs(i,j,1,board[i][j])\n",
    "            if answer==True:\n",
    "                break\n",
    "    if answer==True:\n",
    "        break\n",
    "\n",
    "\n",
    "if answer==True:\n",
    "    print(\"Yes\")\n",
    "else:\n",
    "    print('No')"
   ]
  }
 ],
 "metadata": {
  "kernelspec": {
   "display_name": "Python 3",
   "language": "python",
   "name": "python3"
  },
  "language_info": {
   "codemirror_mode": {
    "name": "ipython",
    "version": 3
   },
   "file_extension": ".py",
   "mimetype": "text/x-python",
   "name": "python",
   "nbconvert_exporter": "python",
   "pygments_lexer": "ipython3",
   "version": "3.8.5"
  }
 },
 "nbformat": 4,
 "nbformat_minor": 4
}
