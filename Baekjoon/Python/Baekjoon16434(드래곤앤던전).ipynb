{
 "cells": [
  {
   "cell_type": "code",
   "execution_count": null,
   "metadata": {},
   "outputs": [],
   "source": [
    "def raid(maxHp):\n",
    "    global n,atk,board\n",
    "    nowMaxHp=maxHp\n",
    "    nowCurHp=maxHp\n",
    "    nowAtk=atk\n",
    "    for step in board:\n",
    "        t,a,h=step #타입12, 몬스터공격력(용사공격력), 몬스터생명력(회복생명력)\n",
    "        if t==2:\n",
    "            nowAtk+=a\n",
    "            nowCurHp+=h\n",
    "            if nowCurHp>nowMaxHp:\n",
    "                nowCurHp=nowMaxHp\n",
    "        else:\n",
    "            monsterNeedHit=0\n",
    "            if nowCurHp%a==0:\n",
    "                monsterNeedHit=nowCurHp//a\n",
    "            else:\n",
    "                monsterNeedHit=nowCurHp//a\n",
    "                monsterNeedHit+=1\n",
    "            manNeedHit=0\n",
    "            if h%nowAtk==0:\n",
    "                manNeedHit=h//nowAtk\n",
    "            else:\n",
    "                manNeedHit=h//nowAtk\n",
    "                manNeedHit+=1\n",
    "            if manNeedHit>monsterNeedHit:\n",
    "                return False\n",
    "            else:\n",
    "                nowCurHp-=(manNeedHit-1)*a\n",
    "    return True\n",
    "    \n",
    "\n",
    "n,atk=map(int,input().split())\n",
    "board=[]\n",
    "for _ in range(n):\n",
    "    board.append(list(map(int,input().split())))\n",
    "    \n",
    "left=1\n",
    "right=100000000000*10000000000+1\n",
    "answer=right\n",
    "while left<=right:\n",
    "    mid=(left+right)//2\n",
    "    res=raid(mid)\n",
    "    if res==True:\n",
    "        answer=min(answer,mid)\n",
    "        right=mid-1\n",
    "    else:\n",
    "        left=mid+1\n",
    "print(answer)\n",
    "    "
   ]
  }
 ],
 "metadata": {
  "kernelspec": {
   "display_name": "Python 3",
   "language": "python",
   "name": "python3"
  },
  "language_info": {
   "codemirror_mode": {
    "name": "ipython",
    "version": 3
   },
   "file_extension": ".py",
   "mimetype": "text/x-python",
   "name": "python",
   "nbconvert_exporter": "python",
   "pygments_lexer": "ipython3",
   "version": "3.8.5"
  }
 },
 "nbformat": 4,
 "nbformat_minor": 4
}
