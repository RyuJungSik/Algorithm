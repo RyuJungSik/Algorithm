{
 "cells": [
  {
   "cell_type": "code",
   "execution_count": null,
   "metadata": {},
   "outputs": [],
   "source": [
    "import math\n",
    "def isPrime(n):\n",
    "    if n==1:\n",
    "        return False\n",
    "    for i in range(2,int(math.sqrt(n))+1):\n",
    "        if n%i==0:\n",
    "            return False\n",
    "    return True\n",
    "\n",
    "arr=[]\n",
    "for i in range(2,int((4000000))+1):\n",
    "    if isPrime(i):\n",
    "        arr.append(i)\n",
    "        \n",
    "\n",
    "n=int(input())        \n",
    "left=0\n",
    "right=0\n",
    "s=arr[0]\n",
    "answer=0\n",
    "\n",
    "while left<=right and right<len(arr):\n",
    "    if s<n:\n",
    "        right+=1\n",
    "        if right>=len(arr):\n",
    "            continue\n",
    "        s+=arr[right]\n",
    "    elif s==n:\n",
    "        answer+=1\n",
    "        s-=arr[left]\n",
    "        left+=1\n",
    "    else:\n",
    "        s-=arr[left]\n",
    "        left+=1\n",
    "        \n",
    "print(answer)\n",
    "    "
   ]
  }
 ],
 "metadata": {
  "kernelspec": {
   "display_name": "Python 3",
   "language": "python",
   "name": "python3"
  },
  "language_info": {
   "codemirror_mode": {
    "name": "ipython",
    "version": 3
   },
   "file_extension": ".py",
   "mimetype": "text/x-python",
   "name": "python",
   "nbconvert_exporter": "python",
   "pygments_lexer": "ipython3",
   "version": "3.8.5"
  }
 },
 "nbformat": 4,
 "nbformat_minor": 4
}
