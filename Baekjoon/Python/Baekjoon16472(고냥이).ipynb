{
 "cells": [
  {
   "cell_type": "code",
   "execution_count": null,
   "metadata": {},
   "outputs": [],
   "source": [
    "from collections import defaultdict\n",
    "\n",
    "n=int(input())\n",
    "s=input()\n",
    "hash=defaultdict(int)\n",
    "\n",
    "left=0\n",
    "right=0\n",
    "nowNum=0\n",
    "answer=0\n",
    "\n",
    "while left<=right and right<len(s):\n",
    "    if hash[s[right]]==0:\n",
    "        if nowNum>=n:\n",
    "            if hash[s[left]]>1:\n",
    "                hash[s[left]]-=1\n",
    "            else:\n",
    "                hash[s[left]]-=1\n",
    "                nowNum-=1\n",
    "            left+=1\n",
    "        else:\n",
    "            nowNum+=1\n",
    "            hash[s[right]]+=1\n",
    "            right+=1\n",
    "    else:\n",
    "        hash[s[right]]+=1\n",
    "        right+=1\n",
    "    answer=max(answer,right-left)\n",
    "print(answer)"
   ]
  }
 ],
 "metadata": {
  "kernelspec": {
   "display_name": "Python 3",
   "language": "python",
   "name": "python3"
  },
  "language_info": {
   "codemirror_mode": {
    "name": "ipython",
    "version": 3
   },
   "file_extension": ".py",
   "mimetype": "text/x-python",
   "name": "python",
   "nbconvert_exporter": "python",
   "pygments_lexer": "ipython3",
   "version": "3.8.5"
  }
 },
 "nbformat": 4,
 "nbformat_minor": 4
}
