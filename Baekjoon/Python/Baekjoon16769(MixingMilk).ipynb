{
 "cells": [
  {
   "cell_type": "code",
   "execution_count": 2,
   "metadata": {},
   "outputs": [
    {
     "name": "stdout",
     "output_type": "stream",
     "text": [
      "10 3\n",
      "11 4\n",
      "12 5\n",
      "[0, 10, 2]\n"
     ]
    }
   ],
   "source": [
    "buckets=[]\n",
    "milks=[]\n",
    "\n",
    "for _ in range(3):\n",
    "    a,b=map(int, input().split())\n",
    "    buckets.append(a)\n",
    "    milks.append(b)\n",
    "    \n",
    "    \n",
    "for i in range(100):\n",
    "    if milks[(i+1)%3]+milks[i%3]<=buckets[(i+1)%3]:\n",
    "        milks[(i+1)%3]+=milks[i%3]\n",
    "        milks[i%3]=0\n",
    "    else:\n",
    "        tmp=milks[(i+1)%3]\n",
    "        milks[(i+1)%3]=buckets[(i+1)%3]\n",
    "        milks[i%3]-=(buckets[(i+1)%3]-tmp)\n",
    "for i in range(3):\n",
    "    print(milks[i])"
   ]
  },
  {
   "cell_type": "code",
   "execution_count": null,
   "metadata": {},
   "outputs": [],
   "source": []
  }
 ],
 "metadata": {
  "kernelspec": {
   "display_name": "Python 3",
   "language": "python",
   "name": "python3"
  },
  "language_info": {
   "codemirror_mode": {
    "name": "ipython",
    "version": 3
   },
   "file_extension": ".py",
   "mimetype": "text/x-python",
   "name": "python",
   "nbconvert_exporter": "python",
   "pygments_lexer": "ipython3",
   "version": "3.8.5"
  }
 },
 "nbformat": 4,
 "nbformat_minor": 4
}
