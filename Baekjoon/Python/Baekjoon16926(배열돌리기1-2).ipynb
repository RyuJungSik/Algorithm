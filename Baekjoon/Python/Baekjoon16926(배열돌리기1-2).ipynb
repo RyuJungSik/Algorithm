{
 "cells": [
  {
   "cell_type": "code",
   "execution_count": null,
   "metadata": {},
   "outputs": [],
   "source": [
    "from collections import deque\n",
    "\n",
    "n,m,r=map(int,input().split())\n",
    "board=[]\n",
    "for _ in range(n):\n",
    "    board.append(list(map(int,input().split())))\n",
    "    \n",
    "for k in range(min(n,m)//2):\n",
    "    tmp=deque([])\n",
    "    for i in range(k,m-k):\n",
    "        tmp.append(board[k][i])\n",
    "    for i in range(1+k,n-k):\n",
    "        tmp.append(board[i][m-1-k])\n",
    "    for i in range(m-2-k,k-1,-1):\n",
    "        tmp.append(board[n-1-k][i])\n",
    "    for i in range(n-k-2,k,-1):\n",
    "        tmp.append(board[i][k])\n",
    "    \n",
    "    for i in range(r):\n",
    "        tmp.append(tmp.popleft())\n",
    "        \n",
    "    for i in range(k,m-k):\n",
    "        board[k][i]=tmp.popleft()\n",
    "    for i in range(1+k,n-k):\n",
    "        board[i][m-1-k]=tmp.popleft()\n",
    "    for i in range(m-2-k,k-1,-1):\n",
    "        board[n-1-k][i]=tmp.popleft()\n",
    "    for i in range(n-k-2,k,-1):\n",
    "        board[i][k]=tmp.popleft()\n",
    "\n",
    "for i in board:\n",
    "    print(\" \".join(list(map(str,i))))\n",
    "    "
   ]
  }
 ],
 "metadata": {
  "kernelspec": {
   "display_name": "Python 3",
   "language": "python",
   "name": "python3"
  },
  "language_info": {
   "codemirror_mode": {
    "name": "ipython",
    "version": 3
   },
   "file_extension": ".py",
   "mimetype": "text/x-python",
   "name": "python",
   "nbconvert_exporter": "python",
   "pygments_lexer": "ipython3",
   "version": "3.8.5"
  }
 },
 "nbformat": 4,
 "nbformat_minor": 4
}
