{
 "cells": [
  {
   "cell_type": "code",
   "execution_count": null,
   "metadata": {},
   "outputs": [],
   "source": [
    "from collections import deque\n",
    "n,m=map(int,input().split())\n",
    "go=[-1]*101\n",
    "visited=[-1]*101\n",
    "for _ in range(n+m):\n",
    "    a,b=map(int,input().split())\n",
    "    go[a]=b\n",
    "visited[1]=0\n",
    "q=deque([1])\n",
    "while q:\n",
    "    now=q.popleft()\n",
    "    for i in range(1,7):\n",
    "        nx=now+i\n",
    "        if nx>100:\n",
    "            continue\n",
    "        if go[nx]==-1:\n",
    "            pass\n",
    "        elif go[nx]<nx:\n",
    "            nx=go[nx]\n",
    "        else:\n",
    "            nx=go[nx]\n",
    "        if visited[nx]!=-1 and visited[nx]<visited[now]+1:\n",
    "            continue\n",
    "        visited[nx]=visited[now]+1\n",
    "        q.append(nx)\n",
    "print(visited[100])"
   ]
  }
 ],
 "metadata": {
  "kernelspec": {
   "display_name": "Python 3",
   "language": "python",
   "name": "python3"
  },
  "language_info": {
   "codemirror_mode": {
    "name": "ipython",
    "version": 3
   },
   "file_extension": ".py",
   "mimetype": "text/x-python",
   "name": "python",
   "nbconvert_exporter": "python",
   "pygments_lexer": "ipython3",
   "version": "3.8.5"
  }
 },
 "nbformat": 4,
 "nbformat_minor": 4
}
