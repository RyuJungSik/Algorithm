{
 "cells": [
  {
   "cell_type": "code",
   "execution_count": null,
   "metadata": {},
   "outputs": [],
   "source": [
    "n,m=map(int,input().split())\n",
    "board=[]\n",
    "for _ in range(n):\n",
    "    board.append(list(input()))\n",
    "flag=False\n",
    "\n",
    "dx,dy=[0,0,1,-1],[1,-1,0,0]\n",
    "def dfs(index,sx,sy,curx,cury,color):\n",
    "    global flag, dx, dy, board,n,m\n",
    "    for d in range(4):\n",
    "        nx,ny=curx+dx[d],cury+dy[d]\n",
    "        if nx<0 or nx>=n or ny<0 or ny>=m or board[nx][ny]!=color:\n",
    "            continue\n",
    "        if visited[nx][ny]!=0 and abs(visited[nx][ny]-visited[curx][cury])>=3:\n",
    "            flag=True\n",
    "            return\n",
    "        if visited[nx][ny]!=0:\n",
    "            continue\n",
    "        visited[nx][ny]=visited[curx][cury]+1\n",
    "        dfs(index+1,sx,sy,nx,ny,color)\n",
    "            \n",
    "visited=[[0]*m for _ in range(n)]          \n",
    "for i in range(n):\n",
    "    for j in range(m):\n",
    "        if visited[i][j]==0:\n",
    "            visited[i][j]=1\n",
    "            dfs(0,i,j,i,j,board[i][j])\n",
    "\n",
    "if flag:\n",
    "    print(\"Yes\")\n",
    "else:\n",
    "    print(\"No\")"
   ]
  }
 ],
 "metadata": {
  "kernelspec": {
   "display_name": "Python 3",
   "language": "python",
   "name": "python3"
  },
  "language_info": {
   "codemirror_mode": {
    "name": "ipython",
    "version": 3
   },
   "file_extension": ".py",
   "mimetype": "text/x-python",
   "name": "python",
   "nbconvert_exporter": "python",
   "pygments_lexer": "ipython3",
   "version": "3.8.5"
  }
 },
 "nbformat": 4,
 "nbformat_minor": 4
}
