{
 "cells": [
  {
   "cell_type": "code",
   "execution_count": null,
   "metadata": {},
   "outputs": [],
   "source": [
    "n,m=map(int, input().split())\n",
    "board=[]\n",
    "for i in range(n):\n",
    "    board.append(list(map(int, input().split())))\n",
    "answer=n*m*2\n",
    "\n",
    "def oneLine(arr):\n",
    "    s=arr[0]\n",
    "    for i in range(1,len(arr)):\n",
    "        if arr[i]-arr[i-1]>0:\n",
    "            s+=arr[i]-arr[i-1]\n",
    "    return s\n",
    "\n",
    "for i in board:\n",
    "    answer+=oneLine(i)\n",
    "    answer+=oneLine(i[::-1])\n",
    "\n",
    "for j in range(m):\n",
    "    tmp=[]\n",
    "    for i in range(n):\n",
    "        tmp.append(board[i][j])\n",
    "    answer+=oneLine(tmp)\n",
    "    answer+=oneLine(tmp[::-1])\n",
    "    \n",
    "print(answer)"
   ]
  }
 ],
 "metadata": {
  "kernelspec": {
   "display_name": "Python 3",
   "language": "python",
   "name": "python3"
  },
  "language_info": {
   "codemirror_mode": {
    "name": "ipython",
    "version": 3
   },
   "file_extension": ".py",
   "mimetype": "text/x-python",
   "name": "python",
   "nbconvert_exporter": "python",
   "pygments_lexer": "ipython3",
   "version": "3.8.5"
  }
 },
 "nbformat": 4,
 "nbformat_minor": 4
}
