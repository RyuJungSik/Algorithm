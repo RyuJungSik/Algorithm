{
 "cells": [
  {
   "cell_type": "code",
   "execution_count": null,
   "metadata": {},
   "outputs": [],
   "source": [
    "def makeDimension(arr):\n",
    "    result=0\n",
    "    maxIdx=0\n",
    "    maxValue=arr[0]\n",
    "    for idx,val in enumerate(arr):\n",
    "        if idx==0:\n",
    "            result+=val\n",
    "        else:\n",
    "            prevVal=arr[idx-1]\n",
    "            if prevVal>=val:\n",
    "                continue\n",
    "            else:\n",
    "                result+=(val-prevVal)\n",
    "    return result\n",
    "    \n",
    "    \n",
    "\n",
    "n,m=map(int,input().split())\n",
    "board=[]\n",
    "answer=0\n",
    "for _ in range(n):\n",
    "    board.append(list(map(int,input().split())))\n",
    "    \n",
    "answer+=n*m*2\n",
    "\n",
    "for a in board:\n",
    "    answer+=makeDimension(a)\n",
    "    answer+=makeDimension(a[::-1])\n",
    "    \n",
    "for j in range(m):\n",
    "    tmp=[]\n",
    "    for i in range(n):\n",
    "        tmp.append(board[i][j])\n",
    "    answer+=makeDimension(tmp)\n",
    "    answer+=makeDimension(tmp[::-1])\n",
    "print(answer)"
   ]
  }
 ],
 "metadata": {
  "kernelspec": {
   "display_name": "Python 3",
   "language": "python",
   "name": "python3"
  },
  "language_info": {
   "codemirror_mode": {
    "name": "ipython",
    "version": 3
   },
   "file_extension": ".py",
   "mimetype": "text/x-python",
   "name": "python",
   "nbconvert_exporter": "python",
   "pygments_lexer": "ipython3",
   "version": "3.8.5"
  }
 },
 "nbformat": 4,
 "nbformat_minor": 4
}
