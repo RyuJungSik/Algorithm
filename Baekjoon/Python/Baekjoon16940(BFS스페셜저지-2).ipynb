{
 "cells": [
  {
   "cell_type": "code",
   "execution_count": null,
   "metadata": {},
   "outputs": [],
   "source": [
    "from collections import deque\n",
    "\n",
    "n=int(input())\n",
    "board=[[] for _ in range(n+1)]\n",
    "visited=[-1]*(n+1)\n",
    "\n",
    "for _ in range(n-1):\n",
    "    a,b=map(int,input().split())\n",
    "    board[a].append(b)\n",
    "    board[b].append(a)\n",
    "\n",
    "isAns=list(map(int,input().split()))\n",
    "q=deque([])\n",
    "q.append(1)\n",
    "visited[1]=0\n",
    "answer=1\n",
    "cnt=1\n",
    "while q:\n",
    "    x=q.popleft()\n",
    "    tmp=[]\n",
    "    for nx in board[x]:\n",
    "        if visited[nx]!=-1:\n",
    "            continue\n",
    "        tmp.append(nx)\n",
    "    tmpLen=len(tmp)\n",
    "    for i in range(tmpLen):\n",
    "        if isAns[cnt] in tmp:\n",
    "            visited[isAns[cnt]]=visited[x]+1\n",
    "            q.append(isAns[cnt])\n",
    "            cnt+=1\n",
    "        else:\n",
    "            answer=0\n",
    "            break\n",
    "    if answer==0:\n",
    "        break\n",
    "print(answer)"
   ]
  }
 ],
 "metadata": {
  "kernelspec": {
   "display_name": "Python 3",
   "language": "python",
   "name": "python3"
  },
  "language_info": {
   "codemirror_mode": {
    "name": "ipython",
    "version": 3
   },
   "file_extension": ".py",
   "mimetype": "text/x-python",
   "name": "python",
   "nbconvert_exporter": "python",
   "pygments_lexer": "ipython3",
   "version": "3.8.5"
  }
 },
 "nbformat": 4,
 "nbformat_minor": 4
}
