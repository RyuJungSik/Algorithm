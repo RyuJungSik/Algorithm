{
 "cells": [
  {
   "cell_type": "code",
   "execution_count": null,
   "metadata": {},
   "outputs": [],
   "source": [
    "import sys\n",
    "sys.setrecursionlimit(100000)\n",
    "\n",
    "def dfs(start,prev,cur):\n",
    "    global visited, flag, dis, board\n",
    "    if flag==True or dis>0:\n",
    "        return\n",
    "    for nx in board[cur]:\n",
    "        if nx==prev:\n",
    "            continue\n",
    "        if visited[nx]!=0:\n",
    "            if nx==start:\n",
    "                flag=True\n",
    "                return\n",
    "            else:\n",
    "                dis=visited[nx]-1\n",
    "                return\n",
    "        else:\n",
    "            visited[nx]=visited[cur]+1\n",
    "            dfs(start,cur,nx)\n",
    "            visited[nx]=0\n",
    "            \n",
    "n=int(input())\n",
    "board=[[] for _ in range(n+1)]\n",
    "answer=[]\n",
    "for _ in range(n):\n",
    "    a,b=map(int,input().split())\n",
    "    board[a].append(b)\n",
    "    board[b].append(a)\n",
    "    \n",
    "for i in range(1,n+1):\n",
    "    visited=[0]*(n+1)\n",
    "    flag=False\n",
    "    dis=0\n",
    "    visited[i]=1\n",
    "    dfs(i,i,i)\n",
    "    if flag==True:\n",
    "        answer.append(0)\n",
    "    else:\n",
    "        answer.append(dis)\n",
    "print(\" \".join(map(str,answer)))"
   ]
  }
 ],
 "metadata": {
  "kernelspec": {
   "display_name": "Python 3",
   "language": "python",
   "name": "python3"
  },
  "language_info": {
   "codemirror_mode": {
    "name": "ipython",
    "version": 3
   },
   "file_extension": ".py",
   "mimetype": "text/x-python",
   "name": "python",
   "nbconvert_exporter": "python",
   "pygments_lexer": "ipython3",
   "version": "3.8.5"
  }
 },
 "nbformat": 4,
 "nbformat_minor": 4
}
