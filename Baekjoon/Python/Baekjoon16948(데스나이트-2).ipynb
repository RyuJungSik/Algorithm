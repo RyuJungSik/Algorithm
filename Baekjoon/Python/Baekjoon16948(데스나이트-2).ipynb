{
 "cells": [
  {
   "cell_type": "code",
   "execution_count": null,
   "metadata": {},
   "outputs": [],
   "source": [
    "from collections import deque\n",
    "\n",
    "n=int(input())\n",
    "pos=list(map(int,input().split()))\n",
    "visited=[[-1]*n for _ in range(n)]\n",
    "dx,dy=[-2,-2,0,0,2,2],[-1,1,-2,2,-1,1]\n",
    "\n",
    "\n",
    "q=deque([])\n",
    "q.append((pos[0],pos[1]))\n",
    "visited[pos[0]][pos[1]]=0\n",
    "\n",
    "while q:\n",
    "    x,y=q.popleft()\n",
    "    if x==pos[2] and y==pos[3]:\n",
    "        break\n",
    "    \n",
    "    for d in range(6):\n",
    "        nx,ny=x+dx[d],y+dy[d]\n",
    "        if nx<0 or nx>=n or ny<0 or ny>=n or visited[nx][ny]!=-1:\n",
    "            continue\n",
    "        visited[nx][ny]=visited[x][y]+1\n",
    "        q.append((nx,ny))\n",
    "\n",
    "print(visited[pos[2]][pos[3]])"
   ]
  }
 ],
 "metadata": {
  "kernelspec": {
   "display_name": "Python 3",
   "language": "python",
   "name": "python3"
  },
  "language_info": {
   "codemirror_mode": {
    "name": "ipython",
    "version": 3
   },
   "file_extension": ".py",
   "mimetype": "text/x-python",
   "name": "python",
   "nbconvert_exporter": "python",
   "pygments_lexer": "ipython3",
   "version": "3.8.5"
  }
 },
 "nbformat": 4,
 "nbformat_minor": 4
}
