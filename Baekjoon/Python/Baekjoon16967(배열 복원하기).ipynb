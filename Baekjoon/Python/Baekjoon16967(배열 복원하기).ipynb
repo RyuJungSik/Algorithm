{
 "cells": [
  {
   "cell_type": "code",
   "execution_count": null,
   "metadata": {},
   "outputs": [],
   "source": [
    "h,w,x,y=map(int,input().split())\n",
    "\n",
    "a=[]\n",
    "for _ in range(h+x):\n",
    "    a.append(list(map(int, input().split())))\n",
    "for i in range(h):\n",
    "    for j in range(w):\n",
    "        a[i+x][j+y]-=a[i][j]\n",
    "for i in range(h):\n",
    "    for j in range(w):\n",
    "        print(a[i][j], end=\" \")\n",
    "    print()"
   ]
  }
 ],
 "metadata": {
  "kernelspec": {
   "display_name": "Python 3",
   "language": "python",
   "name": "python3"
  },
  "language_info": {
   "codemirror_mode": {
    "name": "ipython",
    "version": 3
   },
   "file_extension": ".py",
   "mimetype": "text/x-python",
   "name": "python",
   "nbconvert_exporter": "python",
   "pygments_lexer": "ipython3",
   "version": "3.8.5"
  }
 },
 "nbformat": 4,
 "nbformat_minor": 4
}
