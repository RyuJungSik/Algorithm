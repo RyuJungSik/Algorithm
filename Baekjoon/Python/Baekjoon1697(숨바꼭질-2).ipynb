{
 "cells": [
  {
   "cell_type": "code",
   "execution_count": null,
   "metadata": {},
   "outputs": [],
   "source": [
    "from collections import deque\n",
    "\n",
    "n,m=map(int,input().split())\n",
    "\n",
    "visited=[-1]*100001\n",
    "visited[n]=0\n",
    "q=deque([n])\n",
    "\n",
    "while q:\n",
    "    nowPos=q.popleft()\n",
    "    if nowPos==m:\n",
    "        print(visited[nowPos])\n",
    "        break\n",
    "    a=nowPos+1\n",
    "    b=nowPos-1\n",
    "    c=nowPos*2\n",
    "    for nextPos in [a,b,c]:\n",
    "        if nextPos<0 or nextPos>=100001:\n",
    "            continue\n",
    "        if visited[nextPos]!=-1:\n",
    "            continue\n",
    "        visited[nextPos]=visited[nowPos]+1\n",
    "        q.append(nextPos)"
   ]
  }
 ],
 "metadata": {
  "kernelspec": {
   "display_name": "Python 3",
   "language": "python",
   "name": "python3"
  },
  "language_info": {
   "codemirror_mode": {
    "name": "ipython",
    "version": 3
   },
   "file_extension": ".py",
   "mimetype": "text/x-python",
   "name": "python",
   "nbconvert_exporter": "python",
   "pygments_lexer": "ipython3",
   "version": "3.8.5"
  }
 },
 "nbformat": 4,
 "nbformat_minor": 4
}
