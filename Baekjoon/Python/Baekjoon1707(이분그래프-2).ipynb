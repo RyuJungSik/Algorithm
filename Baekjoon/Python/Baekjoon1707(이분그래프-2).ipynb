{
 "cells": [
  {
   "cell_type": "code",
   "execution_count": null,
   "metadata": {},
   "outputs": [],
   "source": [
    "import sys\n",
    "sys.setrecursionlimit(100000)\n",
    "\n",
    "def dfs(cur):\n",
    "    global flag, visited, graph\n",
    "    if flag==False:\n",
    "        return\n",
    "    for nx in graph[cur]:\n",
    "        if visited[nx]==-1:\n",
    "            visited[nx]=1-visited[cur]\n",
    "            dfs(nx)\n",
    "        else:\n",
    "            if visited[nx]==visited[cur]:\n",
    "                flag=False\n",
    "                return\n",
    "\n",
    "\n",
    "tc=int(sys.stdin.readline())\n",
    "for _ in range(tc):\n",
    "    v,e=map(int,sys.stdin.readline().split())\n",
    "    graph=[[] for i in range(v+1)]\n",
    "    for _ in range(e):\n",
    "        a,b=map(int,sys.stdin.readline().split())\n",
    "        graph[a].append(b)\n",
    "        graph[b].append(a)\n",
    "    visited=[-1]*(v+1)\n",
    "    flag=True\n",
    "    \n",
    "    for i in range(1,v+1):\n",
    "        if visited[i]==-1:\n",
    "            visited[i]=0\n",
    "            dfs(i)\n",
    "            \n",
    "    if flag:\n",
    "        print(\"YES\")\n",
    "    else:\n",
    "        print(\"NO\")\n",
    "    "
   ]
  }
 ],
 "metadata": {
  "kernelspec": {
   "display_name": "Python 3",
   "language": "python",
   "name": "python3"
  },
  "language_info": {
   "codemirror_mode": {
    "name": "ipython",
    "version": 3
   },
   "file_extension": ".py",
   "mimetype": "text/x-python",
   "name": "python",
   "nbconvert_exporter": "python",
   "pygments_lexer": "ipython3",
   "version": "3.8.5"
  }
 },
 "nbformat": 4,
 "nbformat_minor": 4
}
