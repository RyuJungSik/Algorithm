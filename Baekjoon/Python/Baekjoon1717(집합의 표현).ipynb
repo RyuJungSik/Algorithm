{
 "cells": [
  {
   "cell_type": "code",
   "execution_count": null,
   "metadata": {},
   "outputs": [],
   "source": [
    "import sys\n",
    "limit_number = 150000\n",
    "sys.setrecursionlimit(limit_number)\n",
    "\n",
    "def find_parent(parent,x):\n",
    "    if parent[x]!=x:\n",
    "        parent[x]=find_parent(parent,parent[x])\n",
    "    return parent[x]\n",
    "\n",
    "def union_parent(parent,a,b):\n",
    "    a=find_parent(parent,a)\n",
    "    b=find_parent(parent,b)\n",
    "    if a<b:\n",
    "        parent[b]=a\n",
    "    else:\n",
    "        parent[a]=b\n",
    "        \n",
    "n,m=map(int,input().split())\n",
    "parent=[0]*(n+1)\n",
    "for i in range(n+1):\n",
    "    parent[i]=i\n",
    "    \n",
    "for _ in range(m):\n",
    "    t,a,b=map(int,input().split())\n",
    "    if t==0:\n",
    "        union_parent(parent,a,b)\n",
    "    else:\n",
    "        if find_parent(parent,a)==find_parent(parent,b):\n",
    "            print(\"YES\")\n",
    "        else:\n",
    "            print(\"NO\")\n"
   ]
  }
 ],
 "metadata": {
  "kernelspec": {
   "display_name": "Python 3",
   "language": "python",
   "name": "python3"
  },
  "language_info": {
   "codemirror_mode": {
    "name": "ipython",
    "version": 3
   },
   "file_extension": ".py",
   "mimetype": "text/x-python",
   "name": "python",
   "nbconvert_exporter": "python",
   "pygments_lexer": "ipython3",
   "version": "3.8.5"
  }
 },
 "nbformat": 4,
 "nbformat_minor": 4
}
