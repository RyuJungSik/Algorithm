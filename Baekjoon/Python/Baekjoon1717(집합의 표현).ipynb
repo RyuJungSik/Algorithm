{
 "cells": [
  {
   "cell_type": "code",
   "execution_count": null,
   "metadata": {},
   "outputs": [],
   "source": [
    "def find_parent(parent,x):\n",
    "    if parent[x]!=x:\n",
    "        parent[x]=fint_parent(parent,parent[x])\n",
    "    return parent[x]\n",
    "\n",
    "def union_parent(parent,a,b):\n",
    "    a=find_parent(parent,a)\n",
    "    b=find_parent(parent,b)\n",
    "    if a<b:\n",
    "        parent[b]=a\n",
    "    else:\n",
    "        parent[b]=a\n",
    "        \n",
    "        \n",
    "v, e=map(int, input().split())\n",
    "parent=[0]*(v+1)\n",
    "\n",
    "for i in range(1,v+1):\n",
    "    parent[i]=i\n",
    "    \n",
    "for i in range(e):\n",
    "    a,b=map(int,input(),split())\n",
    "    union_parent(parent,a,b)\n",
    "\n",
    "\n",
    "\n",
    "for i in range(1,v+1):\n",
    "    print(find_parent(parent,i), end=' ')\n",
    "    \n",
    "for i in range(1,v+1):\n",
    "    print(parent[i], end=' ')"
   ]
  }
 ],
 "metadata": {
  "kernelspec": {
   "display_name": "Python 3",
   "language": "python",
   "name": "python3"
  },
  "language_info": {
   "codemirror_mode": {
    "name": "ipython",
    "version": 3
   },
   "file_extension": ".py",
   "mimetype": "text/x-python",
   "name": "python",
   "nbconvert_exporter": "python",
   "pygments_lexer": "ipython3",
   "version": "3.8.5"
  }
 },
 "nbformat": 4,
 "nbformat_minor": 4
}
