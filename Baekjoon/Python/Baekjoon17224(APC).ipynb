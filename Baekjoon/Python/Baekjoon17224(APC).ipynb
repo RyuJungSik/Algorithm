{
 "cells": [
  {
   "cell_type": "code",
   "execution_count": 84,
   "metadata": {
    "scrolled": true
   },
   "outputs": [
    {
     "name": "stdout",
     "output_type": "stream",
     "text": [
      "8 7 5\n",
      "1 3\n",
      "2 5\n",
      "3 5\n",
      "4 8\n",
      "5 8\n",
      "6 9\n",
      "6 7\n",
      "7 10\n",
      "[(1, 1), (1, 1), (1, 1), (1, 1), (1, 0), (1, 0), (1, 0), (1, 0)]\n",
      "660\n"
     ]
    }
   ],
   "source": [
    "n,l,k=map(int, input().split())\n",
    "canSolve=[]\n",
    "answer=0\n",
    "for _ in range(n):\n",
    "    a,b=map(int, input().split())\n",
    "    if a<=l: \n",
    "        a=1 \n",
    "    else: \n",
    "        a=0\n",
    "    if b<=l:\n",
    "        b=1 \n",
    "    else: \n",
    "        b=0\n",
    "    canSolve.append((a,b))\n",
    "canSolve.sort(key=lambda data:(data[0], -data[1]))\n",
    "\n",
    "for i in range(k):\n",
    "    answer+=canSolve[i][0]*100+canSolve[i][1]*40\n",
    "print(answer)"
   ]
  },
  {
   "cell_type": "code",
   "execution_count": null,
   "metadata": {},
   "outputs": [],
   "source": []
  },
  {
   "cell_type": "code",
   "execution_count": null,
   "metadata": {},
   "outputs": [],
   "source": []
  }
 ],
 "metadata": {
  "kernelspec": {
   "display_name": "Python 3",
   "language": "python",
   "name": "python3"
  },
  "language_info": {
   "codemirror_mode": {
    "name": "ipython",
    "version": 3
   },
   "file_extension": ".py",
   "mimetype": "text/x-python",
   "name": "python",
   "nbconvert_exporter": "python",
   "pygments_lexer": "ipython3",
   "version": "3.8.5"
  }
 },
 "nbformat": 4,
 "nbformat_minor": 4
}
