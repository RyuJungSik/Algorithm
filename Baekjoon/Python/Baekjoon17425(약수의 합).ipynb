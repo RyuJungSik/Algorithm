{
 "cells": [
  {
   "cell_type": "code",
   "execution_count": null,
   "metadata": {},
   "outputs": [
    {
     "name": "stdout",
     "output_type": "stream",
     "text": [
      "5\n",
      "1\n"
     ]
    }
   ],
   "source": [
    "tc=int(input())\n",
    "max=1000000\n",
    "d=[1]*(max+1)\n",
    "s=[0]*(max+1)\n",
    "arr=[]\n",
    "\n",
    "for i in range(2, max+1):\n",
    "    j=1\n",
    "    while i*j<=max:\n",
    "        d[i*j]+=i\n",
    "        j+=1\n",
    "for i in range(1, max+1):\n",
    "    s[i]=s[i-1]+d[i]\n",
    "t= int(input())\n",
    "ans=[]\n",
    "for _ in range(t):\n",
    "    n= int(input())\n",
    "    ans.append(s[n])\n",
    "print('\\n'.join(map(str,ans))+'\\n')"
   ]
  },
  {
   "cell_type": "markdown",
   "metadata": {},
   "source": [
    "# "
   ]
  }
 ],
 "metadata": {
  "kernelspec": {
   "display_name": "Python 3",
   "language": "python",
   "name": "python3"
  },
  "language_info": {
   "codemirror_mode": {
    "name": "ipython",
    "version": 3
   },
   "file_extension": ".py",
   "mimetype": "text/x-python",
   "name": "python",
   "nbconvert_exporter": "python",
   "pygments_lexer": "ipython3",
   "version": "3.8.5"
  }
 },
 "nbformat": 4,
 "nbformat_minor": 4
}
