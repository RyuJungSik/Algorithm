{
 "cells": [
  {
   "cell_type": "code",
   "execution_count": null,
   "metadata": {},
   "outputs": [],
   "source": [
    "MAX=1000000\n",
    "\n",
    "dp=[1]*(MAX+1)\n",
    "\n",
    "s=[0]*(MAX+1)\n",
    "for i in range(2,MAX+1):\n",
    "    j=1\n",
    "    while i*j<=MAX:\n",
    "        dp[i*j]+=i\n",
    "        j+=1\n",
    "for i in range(1,MAX+1):\n",
    "    s[i]=s[i-1]+dp[i]\n",
    "\n",
    "n=int(input())\n",
    "ans=[]\n",
    "for _ in range(n):\n",
    "    a=int(input())\n",
    "    ans.append((s[a]))\n",
    "    \n",
    "print('\\n'.join(map(str, ans))+'\\n')"
   ]
  }
 ],
 "metadata": {
  "kernelspec": {
   "display_name": "Python 3",
   "language": "python",
   "name": "python3"
  },
  "language_info": {
   "codemirror_mode": {
    "name": "ipython",
    "version": 3
   },
   "file_extension": ".py",
   "mimetype": "text/x-python",
   "name": "python",
   "nbconvert_exporter": "python",
   "pygments_lexer": "ipython3",
   "version": "3.8.5"
  }
 },
 "nbformat": 4,
 "nbformat_minor": 4
}
