{
 "cells": [
  {
   "cell_type": "code",
   "execution_count": 1,
   "metadata": {},
   "outputs": [
    {
     "name": "stdout",
     "output_type": "stream",
     "text": [
      "5\n",
      "1\n",
      "1\n",
      "2\n",
      "4\n",
      "10\n",
      "87\n",
      "70\n",
      "4065\n",
      "10000\n",
      "82256014\n"
     ]
    }
   ],
   "source": [
    "tc=int(input())\n",
    "for _ in range(tc):\n",
    "    n=int(input())\n",
    "    answer=0\n",
    "    for i in range(1,n+1):\n",
    "        tmp=0\n",
    "        tmp+=n//i\n",
    "        answer+=tmp*i\n",
    "    print(answer)"
   ]
  },
  {
   "cell_type": "code",
   "execution_count": null,
   "metadata": {},
   "outputs": [],
   "source": []
  }
 ],
 "metadata": {
  "kernelspec": {
   "display_name": "Python 3",
   "language": "python",
   "name": "python3"
  },
  "language_info": {
   "codemirror_mode": {
    "name": "ipython",
    "version": 3
   },
   "file_extension": ".py",
   "mimetype": "text/x-python",
   "name": "python",
   "nbconvert_exporter": "python",
   "pygments_lexer": "ipython3",
   "version": "3.8.5"
  }
 },
 "nbformat": 4,
 "nbformat_minor": 4
}
