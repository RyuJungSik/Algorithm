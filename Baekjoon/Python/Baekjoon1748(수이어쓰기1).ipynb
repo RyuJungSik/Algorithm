{
 "cells": [
  {
   "cell_type": "code",
   "execution_count": 39,
   "metadata": {},
   "outputs": [
    {
     "name": "stdout",
     "output_type": "stream",
     "text": [
      "120\n",
      "9\n",
      "189\n",
      "252\n"
     ]
    }
   ],
   "source": [
    "a=input()\n",
    "answer=0\n",
    "num=1\n",
    "for i in range(1,len(a)+1):\n",
    "    if i==len(a):\n",
    "        answer+=(int(a)-num+1)*len(str(num))\n",
    "        break\n",
    "    answer+=(9*num)*len(str(num))\n",
    "    num*=10\n",
    "print(answer)"
   ]
  }
 ],
 "metadata": {
  "kernelspec": {
   "display_name": "Python 3",
   "language": "python",
   "name": "python3"
  },
  "language_info": {
   "codemirror_mode": {
    "name": "ipython",
    "version": 3
   },
   "file_extension": ".py",
   "mimetype": "text/x-python",
   "name": "python",
   "nbconvert_exporter": "python",
   "pygments_lexer": "ipython3",
   "version": "3.8.5"
  }
 },
 "nbformat": 4,
 "nbformat_minor": 4
}
