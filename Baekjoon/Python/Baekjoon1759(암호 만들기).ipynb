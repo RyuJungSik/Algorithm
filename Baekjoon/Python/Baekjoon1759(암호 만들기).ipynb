{
 "cells": [
  {
   "cell_type": "code",
   "execution_count": null,
   "metadata": {},
   "outputs": [],
   "source": [
    "from itertools import combinations\n",
    "#최소 한개 모음 최소 두개 자음\n",
    "L,C=map(int, input().split())\n",
    "arr=list(input().split())\n",
    "mother=['a','e','i','o','u']\n",
    "arr.sort()\n",
    "for i in combinations(arr,L):\n",
    "    flag=False\n",
    "    child=0\n",
    "    for j in i:\n",
    "        if j in mother:\n",
    "            flag=True\n",
    "        else:\n",
    "            child+=1\n",
    "    if flag==True and child>=2:\n",
    "        print(\"\".join(i))"
   ]
  }
 ],
 "metadata": {
  "kernelspec": {
   "display_name": "Python 3",
   "language": "python",
   "name": "python3"
  },
  "language_info": {
   "codemirror_mode": {
    "name": "ipython",
    "version": 3
   },
   "file_extension": ".py",
   "mimetype": "text/x-python",
   "name": "python",
   "nbconvert_exporter": "python",
   "pygments_lexer": "ipython3",
   "version": "3.8.5"
  }
 },
 "nbformat": 4,
 "nbformat_minor": 4
}
