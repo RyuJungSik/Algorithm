{
 "cells": [
  {
   "cell_type": "code",
   "execution_count": null,
   "metadata": {},
   "outputs": [],
   "source": [
    "from itertools import combinations\n",
    "\n",
    "l,c=map(int,input().split())\n",
    "words=input().split()\n",
    "a=[]\n",
    "b=[]\n",
    "\n",
    "words.sort()\n",
    "for per in combinations(words, l):\n",
    "    a=0\n",
    "    if 'a' in per:\n",
    "        a+=1\n",
    "    if 'e' in per:\n",
    "        a+=1\n",
    "    if 'i' in per:\n",
    "        a+=1\n",
    "    if 'o' in per:\n",
    "        a+=1\n",
    "    if 'u' in per:\n",
    "        a+=1\n",
    "    b=l-a\n",
    "    if a>=1 and b>=2:\n",
    "        print(\"\".join(list(per)))\n",
    "    "
   ]
  }
 ],
 "metadata": {
  "kernelspec": {
   "display_name": "Python 3",
   "language": "python",
   "name": "python3"
  },
  "language_info": {
   "codemirror_mode": {
    "name": "ipython",
    "version": 3
   },
   "file_extension": ".py",
   "mimetype": "text/x-python",
   "name": "python",
   "nbconvert_exporter": "python",
   "pygments_lexer": "ipython3",
   "version": "3.8.5"
  }
 },
 "nbformat": 4,
 "nbformat_minor": 4
}
