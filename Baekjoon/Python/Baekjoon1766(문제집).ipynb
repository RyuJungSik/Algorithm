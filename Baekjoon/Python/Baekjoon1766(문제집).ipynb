{
 "cells": [
  {
   "cell_type": "code",
   "execution_count": 30,
   "metadata": {},
   "outputs": [
    {
     "name": "stdout",
     "output_type": "stream",
     "text": [
      "4 2\n",
      "4 2\n",
      "3 1\n",
      "3 1 4 2 "
     ]
    }
   ],
   "source": [
    "import heapq\n",
    "n,m=map(int, input().split())\n",
    "array=[[] for i in range(n+1)]\n",
    "indegree=[0]*(n+1)\n",
    "\n",
    "heap=[]\n",
    "result=[]\n",
    "\n",
    "for _ in range(m):\n",
    "    x,y=map(int, input().split())\n",
    "    array[x].append(y)\n",
    "    indegree[y]+=1\n",
    "    \n",
    "for i in range(1, n+1):\n",
    "    if indegree[i]==0:\n",
    "        heapq.heappush(heap, i)\n",
    "result=[]\n",
    "\n",
    "while heap:\n",
    "    data=heapq.heappop(heap)\n",
    "    result.append(data)\n",
    "    for y in array[data]:\n",
    "        indegree[y]-=1\n",
    "        if indegree[y]==0:\n",
    "            heapq.heappush(heap, y)\n",
    "for i in result:\n",
    "    print(i, end=' ')"
   ]
  },
  {
   "cell_type": "code",
   "execution_count": null,
   "metadata": {},
   "outputs": [],
   "source": []
  }
 ],
 "metadata": {
  "kernelspec": {
   "display_name": "Python 3",
   "language": "python",
   "name": "python3"
  },
  "language_info": {
   "codemirror_mode": {
    "name": "ipython",
    "version": 3
   },
   "file_extension": ".py",
   "mimetype": "text/x-python",
   "name": "python",
   "nbconvert_exporter": "python",
   "pygments_lexer": "ipython3",
   "version": "3.8.5"
  }
 },
 "nbformat": 4,
 "nbformat_minor": 4
}
