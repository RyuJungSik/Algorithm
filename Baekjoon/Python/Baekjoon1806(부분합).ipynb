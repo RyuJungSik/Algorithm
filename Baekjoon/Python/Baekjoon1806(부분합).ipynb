{
 "cells": [
  {
   "cell_type": "code",
   "execution_count": null,
   "metadata": {},
   "outputs": [],
   "source": [
    "n,s=map(int,input().split())\n",
    "a=list(map(int,input().split()))\n",
    "\n",
    "left,right,sumV=0,0,a[0]\n",
    "answer=100001\n",
    "while right<n and left<=right:\n",
    "    if sumV<s:\n",
    "        right+=1\n",
    "        if right<n:\n",
    "            sumV+=a[right]\n",
    "    else:\n",
    "        if right-left+1<answer:\n",
    "            answer=right-left+1\n",
    "        sumV-=a[left]\n",
    "        left+=1\n",
    "        if left>=n:\n",
    "            break\n",
    "        if right<left:\n",
    "            right=left\n",
    "            sumV=a[left]\n",
    "\n",
    "        \n",
    "if answer==100001:\n",
    "    print(0)\n",
    "else:\n",
    "    print(answer)"
   ]
  }
 ],
 "metadata": {
  "kernelspec": {
   "display_name": "Python 3",
   "language": "python",
   "name": "python3"
  },
  "language_info": {
   "codemirror_mode": {
    "name": "ipython",
    "version": 3
   },
   "file_extension": ".py",
   "mimetype": "text/x-python",
   "name": "python",
   "nbconvert_exporter": "python",
   "pygments_lexer": "ipython3",
   "version": "3.8.5"
  }
 },
 "nbformat": 4,
 "nbformat_minor": 4
}
