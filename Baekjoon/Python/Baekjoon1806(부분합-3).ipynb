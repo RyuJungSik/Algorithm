{
 "cells": [
  {
   "cell_type": "code",
   "execution_count": null,
   "metadata": {},
   "outputs": [],
   "source": [
    "n,s=map(int,input().split())\n",
    "arr=list(map(int,input().split()))\n",
    "\n",
    "left=0\n",
    "right=0\n",
    "sumValue=arr[0]\n",
    "answer=n+1\n",
    "\n",
    "while right<n:                             \n",
    "    if sumValue<s:\n",
    "        right+=1\n",
    "        if right>=n:\n",
    "            continue\n",
    "        sumValue+=arr[right]\n",
    "    else:\n",
    "        answer=min(answer,right-left+1)\n",
    "        sumValue-=arr[left]\n",
    "        left+=1\n",
    "        \n",
    "    \n",
    "if answer==n+1:\n",
    "    print(0)\n",
    "else:\n",
    "    print(answer)"
   ]
  }
 ],
 "metadata": {
  "kernelspec": {
   "display_name": "Python 3",
   "language": "python",
   "name": "python3"
  },
  "language_info": {
   "codemirror_mode": {
    "name": "ipython",
    "version": 3
   },
   "file_extension": ".py",
   "mimetype": "text/x-python",
   "name": "python",
   "nbconvert_exporter": "python",
   "pygments_lexer": "ipython3",
   "version": "3.8.5"
  }
 },
 "nbformat": 4,
 "nbformat_minor": 4
}
