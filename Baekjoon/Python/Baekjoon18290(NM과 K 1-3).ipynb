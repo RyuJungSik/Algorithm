{
 "cells": [
  {
   "cell_type": "code",
   "execution_count": null,
   "metadata": {},
   "outputs": [],
   "source": [
    "n,m,k=map(int,input().split())\n",
    "board=[]\n",
    "for _ in range(n):\n",
    "    board.append(list(map(int,input().split())))\n",
    "answer=-10000000\n",
    "dx=[1,-1,0,0]\n",
    "dy=[0,0,1,-1]\n",
    "def go(index,s,x,y):\n",
    "    global answer, visited\n",
    "    if index==k-1:\n",
    "        answer=max(answer,s)\n",
    "    else:\n",
    "        for i in range(n):\n",
    "            for j in range(m):\n",
    "                flag=True\n",
    "                if visited[i][j]==True:\n",
    "                    continue\n",
    "                for d in range(4):\n",
    "                    nx=i+dx[d]\n",
    "                    ny=j+dy[d]\n",
    "                    if nx<0 or nx>=n or ny<0 or ny>=m:\n",
    "                        continue\n",
    "                    if visited[nx][ny]==True:\n",
    "                        flag=False\n",
    "                if flag:\n",
    "                    visited[i][j]=True\n",
    "                    go(index+1,s+board[i][j],i,j)\n",
    "                    visited[i][j]=False\n",
    "                    \n",
    "\n",
    "for i in range(n):\n",
    "    for j in range(m):\n",
    "        visited=[[False]*m for _ in range(n)]\n",
    "        visited[i][j]=True\n",
    "        go(0,board[i][j],i,j)\n",
    "print(answer)"
   ]
  }
 ],
 "metadata": {
  "kernelspec": {
   "display_name": "Python 3",
   "language": "python",
   "name": "python3"
  },
  "language_info": {
   "codemirror_mode": {
    "name": "ipython",
    "version": 3
   },
   "file_extension": ".py",
   "mimetype": "text/x-python",
   "name": "python",
   "nbconvert_exporter": "python",
   "pygments_lexer": "ipython3",
   "version": "3.8.5"
  }
 },
 "nbformat": 4,
 "nbformat_minor": 4
}
