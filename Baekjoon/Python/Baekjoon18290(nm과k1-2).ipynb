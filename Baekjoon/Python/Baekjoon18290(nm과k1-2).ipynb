{
 "cells": [
  {
   "cell_type": "code",
   "execution_count": null,
   "metadata": {},
   "outputs": [],
   "source": [
    "def dfs(index,s):\n",
    "    global n,m,k,board,visited,answer,dx,dy\n",
    "    if index==k:\n",
    "        answer=max(answer,s)\n",
    "        return\n",
    "    else:\n",
    "        for i in range(n):\n",
    "            for j in range(m):\n",
    "                if visited[i][j]==True:\n",
    "                    continue\n",
    "                flag=True\n",
    "                for d in range(4):\n",
    "                    nx,ny=i+dx[d],j+dy[d]\n",
    "                    if 0<=nx<n and 0<=ny<m:\n",
    "                        if visited[nx][ny]==True:\n",
    "                            flag=False\n",
    "                if flag==False:\n",
    "                    continue\n",
    "                visited[i][j]=True\n",
    "                dfs(index+1,s+board[i][j])\n",
    "                visited[i][j]=False\n",
    "                    \n",
    "\n",
    "n,m,k=map(int,input().split())\n",
    "board=[]\n",
    "visited=[[False]*m for _ in range(n)]\n",
    "dx,dy=[0,0,1,-1],[1,-1,0,0]\n",
    "answer=int(1e9)*(-1)\n",
    "for _ in range(n):\n",
    "    board.append(list(map(int,input().split())))\n",
    "dfs(0,0)\n",
    "print(answer)"
   ]
  }
 ],
 "metadata": {
  "kernelspec": {
   "display_name": "Python 3",
   "language": "python",
   "name": "python3"
  },
  "language_info": {
   "codemirror_mode": {
    "name": "ipython",
    "version": 3
   },
   "file_extension": ".py",
   "mimetype": "text/x-python",
   "name": "python",
   "nbconvert_exporter": "python",
   "pygments_lexer": "ipython3",
   "version": "3.8.5"
  }
 },
 "nbformat": 4,
 "nbformat_minor": 4
}
