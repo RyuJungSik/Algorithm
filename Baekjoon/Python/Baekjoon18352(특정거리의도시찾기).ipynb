{
 "cells": [
  {
   "cell_type": "code",
   "execution_count": null,
   "metadata": {},
   "outputs": [],
   "source": [
    "from collections import deque\n",
    "\n",
    "n,m,k,x=map(int,input().split(\" \"))\n",
    "graph=[[] for _ in range(n+1)]\n",
    "visited=[False for i in range(n+1)]\n",
    "answer=[]\n",
    "\n",
    "for _ in range(m):\n",
    "    a,b=map(int,input().split(\" \"))\n",
    "    graph[a].append(b)\n",
    "    \n",
    "q=deque([(x,0)])\n",
    "visited[x]=True\n",
    "while q:\n",
    "    cur,s=q.popleft()\n",
    "    if s==k:\n",
    "        answer.append(cur)\n",
    "        continue\n",
    "    for nextNode in graph[cur]:\n",
    "        if visited[nextNode]:continue\n",
    "        visited[nextNode]=True\n",
    "        q.append((nextNode,s+1))\n",
    "\n",
    "answer.sort()        \n",
    "if len(answer)==0:\n",
    "    print(-1)\n",
    "else:\n",
    "    for n in answer:\n",
    "        print(n)"
   ]
  }
 ],
 "metadata": {
  "kernelspec": {
   "display_name": "Python 3",
   "language": "python",
   "name": "python3"
  },
  "language_info": {
   "codemirror_mode": {
    "name": "ipython",
    "version": 3
   },
   "file_extension": ".py",
   "mimetype": "text/x-python",
   "name": "python",
   "nbconvert_exporter": "python",
   "pygments_lexer": "ipython3",
   "version": "3.8.5"
  }
 },
 "nbformat": 4,
 "nbformat_minor": 4
}
