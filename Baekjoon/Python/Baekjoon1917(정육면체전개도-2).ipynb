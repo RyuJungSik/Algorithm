{
 "cells": [
  {
   "cell_type": "code",
   "execution_count": null,
   "metadata": {},
   "outputs": [],
   "source": []
  },
  {
   "cell_type": "code",
   "execution_count": 51,
   "metadata": {
    "scrolled": true
   },
   "outputs": [
    {
     "name": "stdout",
     "output_type": "stream",
     "text": [
      "3 3 2 1\n",
      "1 2 3 0\n",
      "4 5 6 0\n",
      "7 9 11 3\n",
      "0 4 5 6\n",
      "0 7 8 9\n",
      "0 0 3 3\n",
      "2 1 5 4\n",
      "1 2 3\n",
      "4 5 6\n",
      "7 8 9\n"
     ]
    }
   ],
   "source": [
    "def isWhere(i,j):\n",
    "    global sx1,sy1,ex1,ey2,sx2,sy2,ex2,ey2\n",
    "    # 0 :원배열에만 속함\n",
    "    # 1 : 이동에만 속함\n",
    "    # 2 : 둘다에 속함\n",
    "    # 3 : 둘다에 안속함\n",
    "    if sx1<=i<ex1 and sy1<=j<ey1 and not (sx2<=i<ex2 and sy2<=j<ey2) :\n",
    "        return 0\n",
    "    elif sx2<=i<ex2 and sy2<=j<ey2 and not(sx1<=i<ex1 and sy1<=j<ey1):\n",
    "        return 1\n",
    "    elif  sx1<=i<ex1 and sy1<=j<ey1 and sx2<=i<ex2 and sy2<=j<ey2:\n",
    "        return 3\n",
    "    else:\n",
    "        return 4\n",
    "    \n",
    "    \n",
    "\n",
    "h,w,x,y=map(int,input().split())\n",
    "b=[]\n",
    "for _ in range(h+x):\n",
    "    b.append(list(map(int,input().split())))\n",
    "    \n",
    "a=[[0]*w for _ in range(h)]\n",
    "    \n",
    "sx1,sy1=0,0\n",
    "ex1,ey1=h,w\n",
    "\n",
    "sx2,sy2=x,y\n",
    "ex2,ey2=h+x,w+y\n",
    "\n",
    "print(sx1,sy1,ex1,ey1)\n",
    "print(sx2,sy2,ex2,ey2)\n",
    "for i in range(h+x):\n",
    "    for j in range(w+y):\n",
    "        where=isWhere(i,j)\n",
    "        if where==0:\n",
    "            a[i][j]=b[i][j]\n",
    "        elif where==1:\n",
    "            a[i-x][j-y]=b[i][j]\n",
    "        else:\n",
    "            continue\n",
    "            \n",
    "for p in a:\n",
    "    print(\" \".join(map(str,p)))"
   ]
  },
  {
   "cell_type": "code",
   "execution_count": null,
   "metadata": {},
   "outputs": [],
   "source": []
  }
 ],
 "metadata": {
  "kernelspec": {
   "display_name": "Python 3",
   "language": "python",
   "name": "python3"
  },
  "language_info": {
   "codemirror_mode": {
    "name": "ipython",
    "version": 3
   },
   "file_extension": ".py",
   "mimetype": "text/x-python",
   "name": "python",
   "nbconvert_exporter": "python",
   "pygments_lexer": "ipython3",
   "version": "3.8.5"
  }
 },
 "nbformat": 4,
 "nbformat_minor": 4
}
