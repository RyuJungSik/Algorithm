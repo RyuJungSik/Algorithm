{
 "cells": [
  {
   "cell_type": "code",
   "execution_count": 58,
   "metadata": {},
   "outputs": [
    {
     "name": "stdout",
     "output_type": "stream",
     "text": [
      "5\n",
      "7\n",
      "3 8\n",
      "8 1 0\n",
      "2 7 4 4\n",
      "4 5 2 6 5\n",
      "[[7], [10, 15], [18, 16, 15], [20, 25, 20, 19], [24, 30, 27, 26, 24]]\n"
     ]
    }
   ],
   "source": [
    "from copy import deepcopy\n",
    "n=int(input())\n",
    "arr=[]\n",
    "for _ in range(n):\n",
    "    arr.append(list(map(int, input().split())))\n",
    "cur=arr[0][0]\n",
    "newArr=deepcopy(arr)\n",
    "\n",
    "for i in range(0, n-1):\n",
    "    for j in range(0,len(arr[i])):\n",
    "        next1=j\n",
    "        next2=j+1\n",
    "        if next1==0:\n",
    "            newArr[i+1][next1]+=newArr[i][j]\n",
    "            newArr[i+1][next2]+=newArr[i][j]\n",
    "        else:\n",
    "            newArr[i+1][next1]=max(newArr[i+1][next1],arr[i+1][next1]+newArr[i][j])\n",
    "            newArr[i+1][next2]=arr[i+1][next2]+newArr[i][j]\n",
    "        \n",
    "        \n",
    "print(max(newArr[-1]))"
   ]
  },
  {
   "cell_type": "code",
   "execution_count": null,
   "metadata": {},
   "outputs": [],
   "source": [
    "7 8 8 7 6"
   ]
  },
  {
   "cell_type": "code",
   "execution_count": null,
   "metadata": {},
   "outputs": [],
   "source": []
  }
 ],
 "metadata": {
  "kernelspec": {
   "display_name": "Python 3",
   "language": "python",
   "name": "python3"
  },
  "language_info": {
   "codemirror_mode": {
    "name": "ipython",
    "version": 3
   },
   "file_extension": ".py",
   "mimetype": "text/x-python",
   "name": "python",
   "nbconvert_exporter": "python",
   "pygments_lexer": "ipython3",
   "version": "3.8.5"
  }
 },
 "nbformat": 4,
 "nbformat_minor": 4
}
