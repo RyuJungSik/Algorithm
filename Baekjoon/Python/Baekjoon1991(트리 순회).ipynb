{
 "cells": [
  {
   "cell_type": "code",
   "execution_count": null,
   "metadata": {},
   "outputs": [],
   "source": [
    "n=int(input())\n",
    "\n",
    "graph=dict()\n",
    "for _ in range(n):\n",
    "    a,b,c=input().split()\n",
    "    graph[a]=[b,c]\n",
    "\n",
    "ans1=[]\n",
    "ans2=[]\n",
    "ans3=[]\n",
    "def preorder(cur):\n",
    "    global ans1,graph\n",
    "    ans1.append(cur)\n",
    "    left,right=graph[cur]\n",
    "    if left!='.':\n",
    "        preorder(left)\n",
    "    if right!='.':\n",
    "        preorder(right)\n",
    "        \n",
    "def midorder(cur):\n",
    "    global ans2,graph\n",
    "    left,right=graph[cur]\n",
    "    if left!='.':\n",
    "        midorder(left)\n",
    "    ans2.append(cur)\n",
    "    if right!='.':\n",
    "        midorder(right)\n",
    "        \n",
    "def lastorder(cur):\n",
    "    global ans3,graph\n",
    "    left,right=graph[cur]\n",
    "    if left!='.':\n",
    "        lastorder(left)\n",
    "    if right!='.':\n",
    "        lastorder(right)\n",
    "    ans3.append(cur)\n",
    "    \n",
    "    \n",
    "preorder('A')\n",
    "midorder('A')\n",
    "lastorder('A')\n",
    "print(\"\".join(ans1))\n",
    "print(\"\".join(ans2))\n",
    "print(\"\".join(ans3))"
   ]
  }
 ],
 "metadata": {
  "kernelspec": {
   "display_name": "Python 3",
   "language": "python",
   "name": "python3"
  },
  "language_info": {
   "codemirror_mode": {
    "name": "ipython",
    "version": 3
   },
   "file_extension": ".py",
   "mimetype": "text/x-python",
   "name": "python",
   "nbconvert_exporter": "python",
   "pygments_lexer": "ipython3",
   "version": "3.8.5"
  }
 },
 "nbformat": 4,
 "nbformat_minor": 4
}
