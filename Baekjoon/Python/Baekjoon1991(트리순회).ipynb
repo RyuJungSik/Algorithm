{
 "cells": [
  {
   "cell_type": "code",
   "execution_count": 23,
   "metadata": {},
   "outputs": [
    {
     "name": "stdout",
     "output_type": "stream",
     "text": [
      "7\n",
      "A B C\n",
      "B D .\n",
      "C E F\n",
      "E . .\n",
      "F . G\n",
      "D . .\n",
      "G . .\n",
      "ABDCEFG\n",
      "DBAECFG\n",
      "DBEGFCA"
     ]
    }
   ],
   "source": [
    "class Node:\n",
    "    def __init__(self, d, l, r):\n",
    "        self.d=d\n",
    "        self.l=l\n",
    "        self.r=r\n",
    "\n",
    "def preOrder(node):\n",
    "    print(node.d, end='')\n",
    "    if node.l !='.':\n",
    "        preOrder(tree[node.l])\n",
    "    if node.r !='.':\n",
    "        preOrder(tree[node.r])\n",
    "def inOrder(node):\n",
    "    if node.l !='.':\n",
    "        inOrder(tree[node.l])\n",
    "    print(node.d, end='')\n",
    "    if node.r !='.':\n",
    "        inOrder(tree[node.r])\n",
    "def postOrder(node):\n",
    "    if node.l !='.':\n",
    "        postOrder(tree[node.l])\n",
    "    if node.r !='.':\n",
    "        postOrder(tree[node.r])\n",
    "    print(node.d, end='')\n",
    "        \n",
    "n=int(input())\n",
    "tree={}\n",
    "for i in range(n):\n",
    "    d, l, r=input().split()\n",
    "    tree[d]=Node(d,l,r)\n",
    "preOrder(tree['A'])\n",
    "print()\n",
    "inOrder(tree['A'])\n",
    "print()\n",
    "postOrder(tree['A'])"
   ]
  },
  {
   "cell_type": "code",
   "execution_count": null,
   "metadata": {},
   "outputs": [],
   "source": []
  }
 ],
 "metadata": {
  "kernelspec": {
   "display_name": "Python 3",
   "language": "python",
   "name": "python3"
  },
  "language_info": {
   "codemirror_mode": {
    "name": "ipython",
    "version": 3
   },
   "file_extension": ".py",
   "mimetype": "text/x-python",
   "name": "python",
   "nbconvert_exporter": "python",
   "pygments_lexer": "ipython3",
   "version": "3.8.5"
  }
 },
 "nbformat": 4,
 "nbformat_minor": 4
}
