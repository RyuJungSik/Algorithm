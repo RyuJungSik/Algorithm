{
 "cells": [
  {
   "cell_type": "code",
   "execution_count": 16,
   "metadata": {},
   "outputs": [
    {
     "name": "stdout",
     "output_type": "stream",
     "text": [
      "6 100 70 90 10 30 55 10 8 100 60 10 10 2 70 10 80 50 0 50 40 30 30 8 60 60 10 70 2 120 20 70 50 4 4\n"
     ]
    },
    {
     "ename": "ValueError",
     "evalue": "invalid literal for int() with base 10: '6 100 70 90 10 30 55 10 8 100 60 10 10 2 70 10 80 50 0 50 40 30 30 8 60 60 10 70 2 120 20 70 50 4 4'",
     "output_type": "error",
     "traceback": [
      "\u001b[1;31m---------------------------------------------------------------------------\u001b[0m",
      "\u001b[1;31mValueError\u001b[0m                                Traceback (most recent call last)",
      "\u001b[1;32m<ipython-input-16-cdf4209542cb>\u001b[0m in \u001b[0;36m<module>\u001b[1;34m\u001b[0m\n\u001b[0;32m      2\u001b[0m \u001b[1;33m\u001b[0m\u001b[0m\n\u001b[0;32m      3\u001b[0m \u001b[1;33m\u001b[0m\u001b[0m\n\u001b[1;32m----> 4\u001b[1;33m \u001b[0mn\u001b[0m\u001b[1;33m=\u001b[0m\u001b[0mint\u001b[0m\u001b[1;33m(\u001b[0m\u001b[0minput\u001b[0m\u001b[1;33m(\u001b[0m\u001b[1;33m)\u001b[0m\u001b[1;33m)\u001b[0m\u001b[1;33m\u001b[0m\u001b[1;33m\u001b[0m\u001b[0m\n\u001b[0m\u001b[0;32m      5\u001b[0m \u001b[0mminValue\u001b[0m\u001b[1;33m=\u001b[0m\u001b[0mlist\u001b[0m\u001b[1;33m(\u001b[0m\u001b[0mmap\u001b[0m\u001b[1;33m(\u001b[0m\u001b[0mint\u001b[0m\u001b[1;33m,\u001b[0m\u001b[0minput\u001b[0m\u001b[1;33m(\u001b[0m\u001b[1;33m)\u001b[0m\u001b[1;33m.\u001b[0m\u001b[0msplit\u001b[0m\u001b[1;33m(\u001b[0m\u001b[1;33m)\u001b[0m\u001b[1;33m)\u001b[0m\u001b[1;33m)\u001b[0m\u001b[1;33m\u001b[0m\u001b[1;33m\u001b[0m\u001b[0m\n\u001b[0;32m      6\u001b[0m \u001b[0mboard\u001b[0m\u001b[1;33m=\u001b[0m\u001b[1;33m[\u001b[0m\u001b[1;33m]\u001b[0m\u001b[1;33m\u001b[0m\u001b[1;33m\u001b[0m\u001b[0m\n",
      "\u001b[1;31mValueError\u001b[0m: invalid literal for int() with base 10: '6 100 70 90 10 30 55 10 8 100 60 10 10 2 70 10 80 50 0 50 40 30 30 8 60 60 10 70 2 120 20 70 50 4 4'"
     ]
    }
   ],
   "source": [
    "from itertools import combinations\n",
    "\n",
    "\n",
    "n=int(input())\n",
    "minValue=list(map(int,input().split()))\n",
    "board=[]\n",
    "minPrice=int(1e9)\n",
    "answerList=[]\n",
    "\n",
    "for _ in range(n):\n",
    "    board.append(list(map(int,input().split())))\n",
    "\n",
    "for i in range(1,n+1):\n",
    "    for per in combinations([j for j in range(n)],i):\n",
    "        nowNutrigen=[0,0,0,0]\n",
    "        nowPrice=0\n",
    "        for k in list(per):\n",
    "            nowNutrigen[0]+=board[k][0]\n",
    "            nowNutrigen[1]+=board[k][1]\n",
    "            nowNutrigen[2]+=board[k][2]\n",
    "            nowNutrigen[3]+=board[k][3]\n",
    "            nowPrice+=board[k][4]\n",
    "        \n",
    "        if nowNutrigen[0]>=minValue[0] and nowNutrigen[1]>=minValue[1] and nowNutrigen[2]>=minValue[2] and nowNutrigen[3]>=minValue[3]: \n",
    "            if nowPrice<minPrice:\n",
    "                answerList=[list(per)]\n",
    "                minPrice=nowPrice\n",
    "            elif nowPrice==minPrice:\n",
    "                answerList.append(list(per))\n",
    "            else:\n",
    "                continue\n",
    "\n",
    "if len(answerList)==0:\n",
    "    print(-1)\n",
    "elif len(answerList)==1:\n",
    "    print(minPrice)\n",
    "    for k in answerList[0]:\n",
    "        print(k+1,end=\" \")\n",
    "else:\n",
    "    print(minPrice)\n",
    "    answerList.sort()\n",
    "    for k in answerList[0]:\n",
    "        print(k+1,end=\" \")"
   ]
  },
  {
   "cell_type": "code",
   "execution_count": null,
   "metadata": {},
   "outputs": [],
   "source": []
  }
 ],
 "metadata": {
  "kernelspec": {
   "display_name": "Python 3",
   "language": "python",
   "name": "python3"
  },
  "language_info": {
   "codemirror_mode": {
    "name": "ipython",
    "version": 3
   },
   "file_extension": ".py",
   "mimetype": "text/x-python",
   "name": "python",
   "nbconvert_exporter": "python",
   "pygments_lexer": "ipython3",
   "version": "3.8.5"
  }
 },
 "nbformat": 4,
 "nbformat_minor": 4
}
