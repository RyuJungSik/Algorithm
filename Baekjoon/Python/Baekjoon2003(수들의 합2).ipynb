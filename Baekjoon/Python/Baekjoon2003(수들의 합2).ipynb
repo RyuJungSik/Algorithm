{
 "cells": [
  {
   "cell_type": "code",
   "execution_count": null,
   "metadata": {},
   "outputs": [],
   "source": [
    "n,m=map(int, input().split())\n",
    "a=list(map(int, input().split()))\n",
    "left=0\n",
    "right=0\n",
    "s=a[0]\n",
    "answer=0\n",
    "while left<=right and right<n:\n",
    "    if s<m:\n",
    "        right+=1\n",
    "        if right < n:\n",
    "            s += a[right]\n",
    "    elif s==m:\n",
    "        answer+=1\n",
    "        right+=1\n",
    "        if right < n:\n",
    "            s += a[right]\n",
    "    else:\n",
    "        s-=a[left]\n",
    "        left+=1\n",
    "        if left>right and left<n:\n",
    "            right=left\n",
    "            s=a[left]\n",
    "            \n",
    "print(answer)"
   ]
  }
 ],
 "metadata": {
  "kernelspec": {
   "display_name": "Python 3",
   "language": "python",
   "name": "python3"
  },
  "language_info": {
   "codemirror_mode": {
    "name": "ipython",
    "version": 3
   },
   "file_extension": ".py",
   "mimetype": "text/x-python",
   "name": "python",
   "nbconvert_exporter": "python",
   "pygments_lexer": "ipython3",
   "version": "3.8.5"
  }
 },
 "nbformat": 4,
 "nbformat_minor": 4
}
