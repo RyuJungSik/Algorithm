{
 "cells": [
  {
   "cell_type": "code",
   "execution_count": null,
   "metadata": {},
   "outputs": [],
   "source": [
    "n,k=map(int,input().split())\n",
    "arr=list(map(int,input().split()))\n",
    "\n",
    "left=0\n",
    "right=0\n",
    "s=arr[0]\n",
    "answer=0\n",
    "while right<n:\n",
    "    if s<k:\n",
    "        right+=1\n",
    "        if right>=n:\n",
    "            break\n",
    "        s+=arr[right]\n",
    "    elif s==k:\n",
    "        answer+=1\n",
    "        s-=arr[left]\n",
    "        left+=1\n",
    "    else:\n",
    "        s-=arr[left]\n",
    "        left+=1\n",
    "        \n",
    "print(answer)"
   ]
  }
 ],
 "metadata": {
  "kernelspec": {
   "display_name": "Python 3",
   "language": "python",
   "name": "python3"
  },
  "language_info": {
   "codemirror_mode": {
    "name": "ipython",
    "version": 3
   },
   "file_extension": ".py",
   "mimetype": "text/x-python",
   "name": "python",
   "nbconvert_exporter": "python",
   "pygments_lexer": "ipython3",
   "version": "3.8.5"
  }
 },
 "nbformat": 4,
 "nbformat_minor": 4
}
