{
 "cells": [
  {
   "cell_type": "code",
   "execution_count": null,
   "metadata": {},
   "outputs": [],
   "source": [
    "from collections import deque\n",
    "\n",
    "n,k=map(int,input().split())\n",
    "answer=0\n",
    "arr=list(map(int,input().split()))\n",
    "isOn=deque([False]*(2*n))\n",
    "q=deque(arr)\n",
    "startPos=0\n",
    "endPos=n-1\n",
    "cnt=0\n",
    "zeroPoint=0\n",
    "flag=False\n",
    "\n",
    "while True:\n",
    "    answer+=1\n",
    "    q.appendleft(q.pop())\n",
    "    isOn.appendleft(isOn.pop())\n",
    "    if isOn[endPos]==True:\n",
    "        isOn[endPos]=False\n",
    "    \n",
    "    for i in range(n-1,-1,-1):\n",
    "        if isOn[i]==True and isOn[i+1]==False and q[i+1]>0:\n",
    "            q[i+1]-=1\n",
    "            if q[i+1]==0:\n",
    "                cnt+=1\n",
    "            isOn[i]=False\n",
    "            isOn[i+1]=True\n",
    "    if isOn[endPos]==True:\n",
    "        isOn[endPos]=False\n",
    "    if q[startPos]>0 and isOn[startPos]==False:\n",
    "        q[startPos]-=1\n",
    "        if q[startPos]==0:\n",
    "            cnt+=1\n",
    "        isOn[startPos]=True\n",
    "    \n",
    "    if cnt>=k:\n",
    "        break\n",
    "print(answer)"
   ]
  }
 ],
 "metadata": {
  "kernelspec": {
   "display_name": "Python 3",
   "language": "python",
   "name": "python3"
  },
  "language_info": {
   "codemirror_mode": {
    "name": "ipython",
    "version": 3
   },
   "file_extension": ".py",
   "mimetype": "text/x-python",
   "name": "python",
   "nbconvert_exporter": "python",
   "pygments_lexer": "ipython3",
   "version": "3.8.5"
  }
 },
 "nbformat": 4,
 "nbformat_minor": 4
}
