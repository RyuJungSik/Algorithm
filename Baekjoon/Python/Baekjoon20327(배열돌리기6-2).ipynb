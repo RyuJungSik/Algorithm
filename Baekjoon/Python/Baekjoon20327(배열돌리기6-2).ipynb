{
 "cells": [
  {
   "cell_type": "code",
   "execution_count": null,
   "metadata": {},
   "outputs": [],
   "source": [
    "import math\n",
    "\n",
    "n=int(input())\n",
    "dp=[100000]*100001\n",
    "\n",
    "dp[0]=0\n",
    "dp[1]=1\n",
    "\n",
    "for i in range(1,n+1):\n",
    "    if i**2<n+1:\n",
    "        dp[i**2]=1\n",
    "    for j in range(1,i//2+1):\n",
    "        dp[i]=min(dp[i],dp[j]+dp[i-j])\n",
    "print(dp[n])"
   ]
  }
 ],
 "metadata": {
  "kernelspec": {
   "display_name": "Python 3",
   "language": "python",
   "name": "python3"
  },
  "language_info": {
   "codemirror_mode": {
    "name": "ipython",
    "version": 3
   },
   "file_extension": ".py",
   "mimetype": "text/x-python",
   "name": "python",
   "nbconvert_exporter": "python",
   "pygments_lexer": "ipython3",
   "version": "3.8.5"
  }
 },
 "nbformat": 4,
 "nbformat_minor": 4
}
