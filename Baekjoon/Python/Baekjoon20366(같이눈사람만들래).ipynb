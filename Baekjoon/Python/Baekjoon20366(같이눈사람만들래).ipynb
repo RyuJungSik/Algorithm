{
 "cells": [
  {
   "cell_type": "code",
   "execution_count": null,
   "metadata": {},
   "outputs": [],
   "source": [
    "from itertools import permutations\n",
    "n=int(input())\n",
    "arr=list(map(int,input().split()))\n",
    "arr.sort()\n",
    "answer=int(1e9)\n",
    "\n",
    "\n",
    "\n",
    "for i in range(n):\n",
    "    for j in range(i+3,n):\n",
    "        left,right=i+1,j-1\n",
    "        while left<right:\n",
    "            tmp=(arr[i]+arr[j])-(arr[left]+arr[right])\n",
    "            answer=min(answer,abs(tmp))\n",
    "            \n",
    "            if tmp<0:\n",
    "                right-=1\n",
    "            else:\n",
    "                left+=1\n",
    "                \n",
    "print(answer)"
   ]
  }
 ],
 "metadata": {
  "kernelspec": {
   "display_name": "Python 3",
   "language": "python",
   "name": "python3"
  },
  "language_info": {
   "codemirror_mode": {
    "name": "ipython",
    "version": 3
   },
   "file_extension": ".py",
   "mimetype": "text/x-python",
   "name": "python",
   "nbconvert_exporter": "python",
   "pygments_lexer": "ipython3",
   "version": "3.8.5"
  }
 },
 "nbformat": 4,
 "nbformat_minor": 4
}
