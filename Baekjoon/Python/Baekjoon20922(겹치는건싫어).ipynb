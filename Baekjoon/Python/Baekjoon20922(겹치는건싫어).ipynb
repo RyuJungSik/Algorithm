{
 "cells": [
  {
   "cell_type": "code",
   "execution_count": null,
   "metadata": {},
   "outputs": [],
   "source": [
    "N,K=map(int, input().split())\n",
    "numbers=list(map(int,input().split()))\n",
    "left=0\n",
    "right=0\n",
    "answer=0\n",
    "counter=[0]*(max(numbers)+1)\n",
    "\n",
    "while right<N:\n",
    "    if counter[numbers[right]]<K:\n",
    "        counter[numbers[right]]+=1\n",
    "        right+=1\n",
    "    else:\n",
    "        counter[numbers[left]]-=1\n",
    "        left+=1\n",
    "    answer=max(answer,right-left)\n",
    "print(answer)"
   ]
  }
 ],
 "metadata": {
  "kernelspec": {
   "display_name": "Python 3",
   "language": "python",
   "name": "python3"
  },
  "language_info": {
   "codemirror_mode": {
    "name": "ipython",
    "version": 3
   },
   "file_extension": ".py",
   "mimetype": "text/x-python",
   "name": "python",
   "nbconvert_exporter": "python",
   "pygments_lexer": "ipython3",
   "version": "3.8.5"
  }
 },
 "nbformat": 4,
 "nbformat_minor": 4
}
