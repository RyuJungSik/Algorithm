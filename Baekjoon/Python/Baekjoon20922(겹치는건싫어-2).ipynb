{
 "cells": [
  {
   "cell_type": "code",
   "execution_count": null,
   "metadata": {},
   "outputs": [],
   "source": [
    "from collections import defaultdict\n",
    "\n",
    "n,k=map(int,input().split())\n",
    "arr=list(map(int,input().split()))\n",
    "hash=defaultdict(int)\n",
    "\n",
    "left=0\n",
    "right=0\n",
    "answer=0\n",
    "while left<=right and right<n:\n",
    "    if hash[arr[right]]<k:\n",
    "        hash[arr[right]]+=1\n",
    "        right+=1\n",
    "    else:\n",
    "        hash[arr[left]]-=1\n",
    "        left+=1\n",
    "    answer=max(answer,right-left)\n",
    "print(answer)"
   ]
  }
 ],
 "metadata": {
  "kernelspec": {
   "display_name": "Python 3",
   "language": "python",
   "name": "python3"
  },
  "language_info": {
   "codemirror_mode": {
    "name": "ipython",
    "version": 3
   },
   "file_extension": ".py",
   "mimetype": "text/x-python",
   "name": "python",
   "nbconvert_exporter": "python",
   "pygments_lexer": "ipython3",
   "version": "3.8.5"
  }
 },
 "nbformat": 4,
 "nbformat_minor": 4
}
