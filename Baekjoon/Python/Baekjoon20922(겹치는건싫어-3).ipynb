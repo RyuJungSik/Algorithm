{
 "cells": [
  {
   "cell_type": "code",
   "execution_count": null,
   "metadata": {},
   "outputs": [],
   "source": [
    "from collections import defaultdict\n",
    "\n",
    "n,k=map(int,input().split())\n",
    "arr=list(map(int,input().split()))\n",
    "\n",
    "hash=defaultdict(int)\n",
    "left=0\n",
    "right=0\n",
    "hash[arr[0]]+=1\n",
    "answer=1\n",
    "\n",
    "while left<n and right<n:\n",
    "    if right<n-1 and hash[arr[right+1]]<k:\n",
    "        right+=1\n",
    "        if right>=n:\n",
    "            continue\n",
    "        hash[arr[right]]+=1\n",
    "    else:\n",
    "        hash[arr[left]]-=1\n",
    "        left+=1\n",
    "        \n",
    "    answer=max(answer,right-left+1)\n",
    "print(answer)"
   ]
  }
 ],
 "metadata": {
  "kernelspec": {
   "display_name": "Python 3",
   "language": "python",
   "name": "python3"
  },
  "language_info": {
   "codemirror_mode": {
    "name": "ipython",
    "version": 3
   },
   "file_extension": ".py",
   "mimetype": "text/x-python",
   "name": "python",
   "nbconvert_exporter": "python",
   "pygments_lexer": "ipython3",
   "version": "3.8.5"
  }
 },
 "nbformat": 4,
 "nbformat_minor": 4
}
