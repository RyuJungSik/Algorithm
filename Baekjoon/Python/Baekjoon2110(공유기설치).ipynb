{
 "cells": [
  {
   "cell_type": "code",
   "execution_count": 11,
   "metadata": {},
   "outputs": [
    {
     "name": "stdout",
     "output_type": "stream",
     "text": [
      "5 3\n",
      "1\n",
      "2\n",
      "8\n",
      "4\n",
      "9\n",
      "1 4 8 2\n",
      "1 2 3 3\n",
      "3 3 3 3\n",
      "3 3 3 3\n",
      "4 3 3 3\n",
      "3\n"
     ]
    }
   ],
   "source": [
    "n, c=map(int, input().split())\n",
    "homes=[]\n",
    "for _ in range(n):\n",
    "    homes.append(int(input()))\n",
    "homes=sorted(homes)\n",
    "\n",
    "max=homes[-1]-homes[0]\n",
    "min=1\n",
    "mid=(max+min)//2\n",
    "\n",
    "answer=0\n",
    "while min<=max:\n",
    "    cur=homes[0]\n",
    "    count=1\n",
    "    for i in homes:\n",
    "        if i!=cur and i-cur>=mid:\n",
    "            count+=1\n",
    "            cur=i\n",
    "    if count<c:\n",
    "        max=mid-1\n",
    "        mid=(max+min)//2\n",
    "    else:\n",
    "        answer=mid\n",
    "        min=mid+1\n",
    "        mid=(max+min)//2\n",
    "\n",
    "print(answer)"
   ]
  },
  {
   "cell_type": "code",
   "execution_count": null,
   "metadata": {},
   "outputs": [],
   "source": []
  },
  {
   "cell_type": "code",
   "execution_count": null,
   "metadata": {},
   "outputs": [],
   "source": []
  }
 ],
 "metadata": {
  "kernelspec": {
   "display_name": "Python 3",
   "language": "python",
   "name": "python3"
  },
  "language_info": {
   "codemirror_mode": {
    "name": "ipython",
    "version": 3
   },
   "file_extension": ".py",
   "mimetype": "text/x-python",
   "name": "python",
   "nbconvert_exporter": "python",
   "pygments_lexer": "ipython3",
   "version": "3.8.5"
  }
 },
 "nbformat": 4,
 "nbformat_minor": 4
}
