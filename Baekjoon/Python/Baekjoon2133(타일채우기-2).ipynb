{
 "cells": [
  {
   "cell_type": "code",
   "execution_count": null,
   "metadata": {},
   "outputs": [],
   "source": [
    "n=int(input())\n",
    "\n",
    "dp=[0]*31\n",
    "dp[0]=1\n",
    "dp[2]=3\n",
    "\n",
    "for i in range(4,31,2):\n",
    "    for j in range(0,i+1,2):\n",
    "        if j==2:\n",
    "            dp[i]+=dp[i-2]*3\n",
    "        if j>2:\n",
    "            dp[i]+=dp[i-j]*2\n",
    "            \n",
    "print(dp[n])"
   ]
  }
 ],
 "metadata": {
  "kernelspec": {
   "display_name": "Python 3",
   "language": "python",
   "name": "python3"
  },
  "language_info": {
   "codemirror_mode": {
    "name": "ipython",
    "version": 3
   },
   "file_extension": ".py",
   "mimetype": "text/x-python",
   "name": "python",
   "nbconvert_exporter": "python",
   "pygments_lexer": "ipython3",
   "version": "3.8.5"
  }
 },
 "nbformat": 4,
 "nbformat_minor": 4
}
