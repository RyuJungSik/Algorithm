{
 "cells": [
  {
   "cell_type": "code",
   "execution_count": null,
   "metadata": {},
   "outputs": [],
   "source": [
    "n=int(input())\n",
    "arr=[]\n",
    "for _ in range(n):\n",
    "    arr.append(int(input()))\n",
    "    \n",
    "dp=[[0]*10001 for _ in range(3)]\n",
    "dp[1][0]=arr[0]\n",
    "answer=0\n",
    "for i in range(1,n):\n",
    "    dp[0][i]=max(dp[0][i-1],dp[1][i-1],dp[2][i-1])\n",
    "    dp[1][i]=dp[0][i-1]+arr[i]\n",
    "    dp[2][i]=dp[1][i-1]+arr[i]\n",
    "print(max(answer,dp[0][n-1],dp[1][n-1],dp[2][n-1]))"
   ]
  }
 ],
 "metadata": {
  "kernelspec": {
   "display_name": "Python 3",
   "language": "python",
   "name": "python3"
  },
  "language_info": {
   "codemirror_mode": {
    "name": "ipython",
    "version": 3
   },
   "file_extension": ".py",
   "mimetype": "text/x-python",
   "name": "python",
   "nbconvert_exporter": "python",
   "pygments_lexer": "ipython3",
   "version": "3.8.5"
  }
 },
 "nbformat": 4,
 "nbformat_minor": 4
}
