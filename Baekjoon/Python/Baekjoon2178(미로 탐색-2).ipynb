{
 "cells": [
  {
   "cell_type": "code",
   "execution_count": null,
   "metadata": {},
   "outputs": [],
   "source": [
    "from collections import deque\n",
    "dx=[1,-1,0,0]\n",
    "dy=[0,0,1,-1]\n",
    "n,m=map(int,input().split())\n",
    "board=[]\n",
    "visited=[[False]*m for _ in range(n)]\n",
    "for _ in range(n):\n",
    "    board.append(list(map(int,input())))\n",
    "\n",
    "    \n",
    "def bfs():\n",
    "    global visited\n",
    "    q=deque()\n",
    "    q.append((0,0))\n",
    "    visited[0][0]=True\n",
    "    answer=0\n",
    "    while q:\n",
    "        answer+=1\n",
    "        for _ in range(len(q)):\n",
    "            now=q.popleft()\n",
    "            nowX,nowY=now[0],now[1]\n",
    "            if nowX==n-1 and nowY==m-1:\n",
    "                return answer\n",
    "            \n",
    "            for j in range(4):\n",
    "                nx=nowX+dx[j]\n",
    "                ny=nowY+dy[j]\n",
    "                if 0<=nx<n and 0<=ny<m and board[nx][ny]==1 and visited[nx][ny]==False:\n",
    "                    visited[nx][ny]=True\n",
    "                    q.append((nx,ny))\n",
    "                \n",
    "        \n",
    "print(bfs())    "
   ]
  }
 ],
 "metadata": {
  "kernelspec": {
   "display_name": "Python 3",
   "language": "python",
   "name": "python3"
  },
  "language_info": {
   "codemirror_mode": {
    "name": "ipython",
    "version": 3
   },
   "file_extension": ".py",
   "mimetype": "text/x-python",
   "name": "python",
   "nbconvert_exporter": "python",
   "pygments_lexer": "ipython3",
   "version": "3.8.5"
  }
 },
 "nbformat": 4,
 "nbformat_minor": 4
}
