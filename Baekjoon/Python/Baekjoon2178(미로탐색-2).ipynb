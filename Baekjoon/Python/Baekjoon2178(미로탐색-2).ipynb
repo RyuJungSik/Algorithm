{
 "cells": [
  {
   "cell_type": "code",
   "execution_count": null,
   "metadata": {},
   "outputs": [],
   "source": [
    "from collections import deque\n",
    "\n",
    "n,m=map(int,input().split())\n",
    "dx,dy=[0,0,1,-1],[1,-1,0,0]\n",
    "board=[]\n",
    "for _ in range(n):\n",
    "    board.append(list(map(int,list(input()))))\n",
    "visited=[[0]*m for _ in range(n)]\n",
    "\n",
    "q=deque([(0,0)])\n",
    "visited[0][0]=1\n",
    "\n",
    "while q:\n",
    "    x,y=q.popleft()\n",
    "    for d in range(4):\n",
    "        nx,ny=x+dx[d],y+dy[d]\n",
    "        if nx<0 or nx>=n or ny<0 or ny>=m or board[nx][ny]==0 or visited[nx][ny]!=0:\n",
    "            continue\n",
    "        visited[nx][ny]=visited[x][y]+1\n",
    "        q.append((nx,ny))\n",
    "print(visited[n-1][m-1])\n",
    "        \n"
   ]
  }
 ],
 "metadata": {
  "kernelspec": {
   "display_name": "Python 3",
   "language": "python",
   "name": "python3"
  },
  "language_info": {
   "codemirror_mode": {
    "name": "ipython",
    "version": 3
   },
   "file_extension": ".py",
   "mimetype": "text/x-python",
   "name": "python",
   "nbconvert_exporter": "python",
   "pygments_lexer": "ipython3",
   "version": "3.8.5"
  }
 },
 "nbformat": 4,
 "nbformat_minor": 4
}
