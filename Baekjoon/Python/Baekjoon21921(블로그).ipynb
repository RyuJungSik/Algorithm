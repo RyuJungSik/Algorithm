{
 "cells": [
  {
   "cell_type": "code",
   "execution_count": null,
   "metadata": {},
   "outputs": [],
   "source": [
    "n,x=map(int,input().split())\n",
    "arr=list(map(int,input().split()))\n",
    "gae=1\n",
    "maxValue=sum(arr[0:x])\n",
    "nowS=sum(arr[0:x])\n",
    "\n",
    "p1=0\n",
    "p2=x\n",
    "\n",
    "while p2<n:\n",
    "    nextS=nowS-arr[p1]+arr[p2]\n",
    "    if nextS>maxValue:\n",
    "        gae=1\n",
    "        maxValue=nextS\n",
    "    elif nextS<maxValue:\n",
    "        pass\n",
    "    else:\n",
    "        gae+=1\n",
    "    nowS=nextS\n",
    "    p1+=1\n",
    "    p2+=1\n",
    "    \n",
    "if maxValue==0:\n",
    "    print(\"SAD\")\n",
    "else:\n",
    "    print(maxValue)\n",
    "    print(gae)"
   ]
  }
 ],
 "metadata": {
  "kernelspec": {
   "display_name": "Python 3",
   "language": "python",
   "name": "python3"
  },
  "language_info": {
   "codemirror_mode": {
    "name": "ipython",
    "version": 3
   },
   "file_extension": ".py",
   "mimetype": "text/x-python",
   "name": "python",
   "nbconvert_exporter": "python",
   "pygments_lexer": "ipython3",
   "version": "3.8.5"
  }
 },
 "nbformat": 4,
 "nbformat_minor": 4
}
