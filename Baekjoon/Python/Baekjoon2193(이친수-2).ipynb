{
 "cells": [
  {
   "cell_type": "code",
   "execution_count": null,
   "metadata": {},
   "outputs": [],
   "source": [
    "n=int(input())\n",
    "\n",
    "dp=[[0]*91 for _ in range(2)]\n",
    "\n",
    "dp[0][1]=1\n",
    "dp[0][2]=1\n",
    "dp[1][2]=0\n",
    "\n",
    "for i in range(3,n+1):\n",
    "    dp[0][i]=dp[0][i-1]+dp[1][i-1]\n",
    "    dp[1][i]=dp[0][i-1]\n",
    "print(dp[0][n]+dp[1][n])"
   ]
  }
 ],
 "metadata": {
  "kernelspec": {
   "display_name": "Python 3",
   "language": "python",
   "name": "python3"
  },
  "language_info": {
   "codemirror_mode": {
    "name": "ipython",
    "version": 3
   },
   "file_extension": ".py",
   "mimetype": "text/x-python",
   "name": "python",
   "nbconvert_exporter": "python",
   "pygments_lexer": "ipython3",
   "version": "3.8.5"
  }
 },
 "nbformat": 4,
 "nbformat_minor": 4
}
