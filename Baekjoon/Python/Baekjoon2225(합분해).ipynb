{
 "cells": [
  {
   "cell_type": "code",
   "execution_count": 1,
   "metadata": {},
   "outputs": [
    {
     "name": "stdout",
     "output_type": "stream",
     "text": [
      "20 2\n",
      "21\n"
     ]
    }
   ],
   "source": [
    "mod=1000000000\n",
    "n,k=map(int, input().split())\n",
    "d=[[0]*(n+1) for _ in range(k+1)]\n",
    "d[0][0]=1\n",
    "\n",
    "for i in range(1,k+1):\n",
    "    for j in range(0,n+1):\n",
    "        for l in range(0, j+1):\n",
    "            d[i][j]+=d[i-1][j-l]\n",
    "        d[i][j]%=mod\n",
    "print(d[k][n])"
   ]
  }
 ],
 "metadata": {
  "kernelspec": {
   "display_name": "Python 3",
   "language": "python",
   "name": "python3"
  },
  "language_info": {
   "codemirror_mode": {
    "name": "ipython",
    "version": 3
   },
   "file_extension": ".py",
   "mimetype": "text/x-python",
   "name": "python",
   "nbconvert_exporter": "python",
   "pygments_lexer": "ipython3",
   "version": "3.8.5"
  }
 },
 "nbformat": 4,
 "nbformat_minor": 4
}
