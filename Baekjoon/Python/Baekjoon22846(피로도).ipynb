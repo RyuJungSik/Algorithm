{
 "cells": [
  {
   "cell_type": "code",
   "execution_count": null,
   "metadata": {},
   "outputs": [],
   "source": [
    "a,b,c,m=map(int,input().split(\" \"))\n",
    "p,l=0,0\n",
    "\n",
    "if a>m:\n",
    "    print(0)\n",
    "else:\n",
    "    for i in range(24):\n",
    "        if a+p>m:\n",
    "            p-=c\n",
    "            if p<0:p=0\n",
    "        else:\n",
    "            p+=a\n",
    "            l+=b\n",
    "    print(l)"
   ]
  }
 ],
 "metadata": {
  "kernelspec": {
   "display_name": "Python 3",
   "language": "python",
   "name": "python3"
  },
  "language_info": {
   "codemirror_mode": {
    "name": "ipython",
    "version": 3
   },
   "file_extension": ".py",
   "mimetype": "text/x-python",
   "name": "python",
   "nbconvert_exporter": "python",
   "pygments_lexer": "ipython3",
   "version": "3.8.5"
  }
 },
 "nbformat": 4,
 "nbformat_minor": 4
}
