{
 "cells": [
  {
   "cell_type": "code",
   "execution_count": null,
   "metadata": {},
   "outputs": [],
   "source": [
    "N,K=map(int, input().split())\n",
    "s=list(map(int,input().split()))\n",
    "\n",
    "end=0 #끝 포인터\n",
    "result=0 #짝수로 이루어져 있는 연속한 부분 수열주 ㅇ가장 긴 길이 answer값\n",
    "tmp=0 # 현재 짝수 부분 수열의 길이\n",
    "count=0 #지우려는 홀수 카운트\n",
    "\n",
    "for start in range(N):\n",
    "    while(count<=K and end<N):\n",
    "        if S[end]%2==1:\n",
    "            count+=1\n",
    "        else:\n",
    "            tmp+=1\n",
    "        end+=1\n",
    "        \n",
    "        if start==0 and end==N:\n",
    "            result=tmp\n",
    "            break\n",
    "    if count==K+1:\n",
    "        result=max(tmp,result)"
   ]
  }
 ],
 "metadata": {
  "kernelspec": {
   "display_name": "Python 3",
   "language": "python",
   "name": "python3"
  },
  "language_info": {
   "codemirror_mode": {
    "name": "ipython",
    "version": 3
   },
   "file_extension": ".py",
   "mimetype": "text/x-python",
   "name": "python",
   "nbconvert_exporter": "python",
   "pygments_lexer": "ipython3",
   "version": "3.8.5"
  }
 },
 "nbformat": 4,
 "nbformat_minor": 4
}
