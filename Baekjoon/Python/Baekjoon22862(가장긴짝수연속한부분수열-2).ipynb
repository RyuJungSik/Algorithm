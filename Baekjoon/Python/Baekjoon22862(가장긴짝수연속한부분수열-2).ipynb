{
 "cells": [
  {
   "cell_type": "code",
   "execution_count": null,
   "metadata": {},
   "outputs": [],
   "source": [
    "n,k=map(int,input().split())\n",
    "arr=list(map(int,input().split()))\n",
    "\n",
    "left=0\n",
    "right=0\n",
    "deleteCnt=0\n",
    "tmp=0\n",
    "answer=0\n",
    "\n",
    "while left<=right and right<n:\n",
    "    if deleteCnt<=k:\n",
    "        if arr[right]%2==0:\n",
    "            right+=1\n",
    "            tmp+=1\n",
    "        else:\n",
    "            right+=1\n",
    "            deleteCnt+=1\n",
    "    else:\n",
    "        if arr[left]%2==0:\n",
    "            left+=1\n",
    "            tmp-=1\n",
    "        else:\n",
    "            left+=1\n",
    "            deleteCnt-=1\n",
    "    answer=max(answer,tmp)\n",
    "print(answer)"
   ]
  }
 ],
 "metadata": {
  "kernelspec": {
   "display_name": "Python 3",
   "language": "python",
   "name": "python3"
  },
  "language_info": {
   "codemirror_mode": {
    "name": "ipython",
    "version": 3
   },
   "file_extension": ".py",
   "mimetype": "text/x-python",
   "name": "python",
   "nbconvert_exporter": "python",
   "pygments_lexer": "ipython3",
   "version": "3.8.5"
  }
 },
 "nbformat": 4,
 "nbformat_minor": 4
}
