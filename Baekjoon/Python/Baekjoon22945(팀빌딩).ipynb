{
 "cells": [
  {
   "cell_type": "code",
   "execution_count": null,
   "metadata": {},
   "outputs": [],
   "source": [
    "n=int(input())\n",
    "arr=list(map(int,input().split()))\n",
    "\n",
    "left=0\n",
    "right=n-1\n",
    "s=(right-left-1)*min(arr[left],arr[right])\n",
    "answer=(right-left-1)*min(arr[left],arr[right])\n",
    "while left+1<=right:\n",
    "    if arr[left]<arr[right]:\n",
    "        left+=1\n",
    "    else:\n",
    "        right-=1\n",
    "    answer=max(answer,(right-left-1)*min(arr[left],arr[right]))\n",
    "print(answer)"
   ]
  }
 ],
 "metadata": {
  "kernelspec": {
   "display_name": "Python 3",
   "language": "python",
   "name": "python3"
  },
  "language_info": {
   "codemirror_mode": {
    "name": "ipython",
    "version": 3
   },
   "file_extension": ".py",
   "mimetype": "text/x-python",
   "name": "python",
   "nbconvert_exporter": "python",
   "pygments_lexer": "ipython3",
   "version": "3.8.5"
  }
 },
 "nbformat": 4,
 "nbformat_minor": 4
}
