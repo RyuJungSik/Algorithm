{
 "cells": [
  {
   "cell_type": "code",
   "execution_count": null,
   "metadata": {},
   "outputs": [],
   "source": [
    "from collections import deque,defaultdict\n",
    "\n",
    "n,t=map(int,input().split())\n",
    "\n",
    "board=defaultdict(list)\n",
    "visited=[False]*n\n",
    "\n",
    "for _ in range(n):\n",
    "    a,b=map(int,input().split())\n",
    "    board[a].append(b)\n",
    "    \n",
    "q=deque([(0,0,0)])\n",
    "\n",
    "while q:\n",
    "    nowX,nowY,nowS=q.popleft()\n",
    "    if nowY>=t:\n",
    "        print(nowS)\n",
    "        break\n",
    "    for nx in range(nowX-2,nowX+3,1):\n",
    "        for ny in range(nowY-2,nowY+3,1):\n",
    "            if nx<0 or ny<0:\n",
    "                continue\n",
    "            if ny in board[nx]:\n",
    "                board[nx].remove(ny)\n",
    "                q.append((nx,ny,nowS+1))\n",
    "else:\n",
    "    print(-1)\n",
    "    \n",
    "    "
   ]
  }
 ],
 "metadata": {
  "kernelspec": {
   "display_name": "Python 3",
   "language": "python",
   "name": "python3"
  }
 },
 "nbformat": 4,
 "nbformat_minor": 4
}
