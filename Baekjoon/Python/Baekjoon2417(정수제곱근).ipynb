{
 "cells": [
  {
   "cell_type": "code",
   "execution_count": null,
   "metadata": {},
   "outputs": [],
   "source": [
    "import math\n",
    "n=int(input())\n",
    "left=1\n",
    "right=2**63+1\n",
    "answer=2**63+1\n",
    "if n==0:\n",
    "    print(0)\n",
    "else:\n",
    "    while left<=right:\n",
    "        mid=(left+right)//2\n",
    "        if mid**2>=n:\n",
    "            answer=min(answer,mid)\n",
    "            right=mid-1\n",
    "        else:\n",
    "            left=mid+1\n",
    "\n",
    "    print(answer)\n"
   ]
  }
 ],
 "metadata": {
  "kernelspec": {
   "display_name": "Python 3",
   "language": "python",
   "name": "python3"
  },
  "language_info": {
   "codemirror_mode": {
    "name": "ipython",
    "version": 3
   },
   "file_extension": ".py",
   "mimetype": "text/x-python",
   "name": "python",
   "nbconvert_exporter": "python",
   "pygments_lexer": "ipython3",
   "version": "3.8.5"
  }
 },
 "nbformat": 4,
 "nbformat_minor": 4
}
