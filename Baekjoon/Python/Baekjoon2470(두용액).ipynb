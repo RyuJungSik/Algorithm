{
 "cells": [
  {
   "cell_type": "code",
   "execution_count": null,
   "metadata": {},
   "outputs": [],
   "source": [
    "n=int(input())\n",
    "arr=list(map(int,input().split()))\n",
    "\n",
    "left=0\n",
    "right=n-1\n",
    "\n",
    "minValue=int(1e15)\n",
    "answer=[]\n",
    "arr.sort()\n",
    "\n",
    "while left<right and left<n and right>=0:\n",
    "    now=arr[left]+arr[right]\n",
    "    if abs(now)<minValue:\n",
    "        minValue=abs(now)\n",
    "        answer=[arr[left],arr[right]]\n",
    "    if now>0:\n",
    "        right-=1\n",
    "    else:\n",
    "        left+=1\n",
    "answer.sort()\n",
    "print(answer[0],answer[1])"
   ]
  }
 ],
 "metadata": {
  "kernelspec": {
   "display_name": "Python 3",
   "language": "python",
   "name": "python3"
  },
  "language_info": {
   "codemirror_mode": {
    "name": "ipython",
    "version": 3
   },
   "file_extension": ".py",
   "mimetype": "text/x-python",
   "name": "python",
   "nbconvert_exporter": "python",
   "pygments_lexer": "ipython3",
   "version": "3.8.5"
  }
 },
 "nbformat": 4,
 "nbformat_minor": 4
}
