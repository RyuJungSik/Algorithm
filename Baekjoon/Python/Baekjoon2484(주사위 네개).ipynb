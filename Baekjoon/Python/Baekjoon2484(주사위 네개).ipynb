{
 "cells": [
  {
   "cell_type": "code",
   "execution_count": 49,
   "metadata": {},
   "outputs": [
    {
     "name": "stdout",
     "output_type": "stream",
     "text": [
      "1\n",
      "2 2 3 4\n",
      "1200\n"
     ]
    }
   ],
   "source": [
    "tc=int(input())\n",
    "answer=[]\n",
    "\n",
    "for _ in range(tc):\n",
    "    dices=list(map(int, input().split()))\n",
    "    dices.sort()\n",
    "    if len(set(dices))==1:\n",
    "        answer.append(50000+dices[0]*5000)\n",
    "    elif len(set(dices))==2:\n",
    "        if dices[1]!=dices[2]:\n",
    "            answer.append(2000+(dices[1]+dices[2])*500)\n",
    "        else:\n",
    "            answer.append(10000+(dices[1])*1000)\n",
    "    elif len(set(dices))==3:\n",
    "        for i in range(3):\n",
    "            if dices[i]==dices[i+1]:\n",
    "                tmp=i\n",
    "        answer.append(1000+dices[tmp]*100)\n",
    "    else:\n",
    "        answer.append(max(dices)*100)\n",
    "\n",
    "print(max(answer))"
   ]
  },
  {
   "cell_type": "markdown",
   "metadata": {},
   "source": [
    "#### "
   ]
  },
  {
   "cell_type": "markdown",
   "metadata": {},
   "source": [
    "### 1"
   ]
  }
 ],
 "metadata": {
  "kernelspec": {
   "display_name": "Python 3",
   "language": "python",
   "name": "python3"
  },
  "language_info": {
   "codemirror_mode": {
    "name": "ipython",
    "version": 3
   },
   "file_extension": ".py",
   "mimetype": "text/x-python",
   "name": "python",
   "nbconvert_exporter": "python",
   "pygments_lexer": "ipython3",
   "version": "3.8.5"
  }
 },
 "nbformat": 4,
 "nbformat_minor": 4
}
