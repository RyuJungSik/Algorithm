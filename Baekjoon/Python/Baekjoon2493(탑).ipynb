{
 "cells": [
  {
   "cell_type": "code",
   "execution_count": null,
   "metadata": {},
   "outputs": [],
   "source": [
    "n=int(input())\n",
    "arr=list(map(int,input().split()))\n",
    "stack=[]\n",
    "answer=[0]*n\n",
    "for i in range(n-1,-1,-1):\n",
    "    if len(stack)==0:\n",
    "        stack.append([i,arr[i]])\n",
    "    else:\n",
    "        while arr[i]>stack[-1][1]:\n",
    "            p=stack.pop()\n",
    "            answer[p[0]]=i+1\n",
    "            if len(stack)==0:\n",
    "                break\n",
    "    stack.append([i,arr[i]])\n",
    "for i in answer:\n",
    "    print(i, end=\" \")"
   ]
  }
 ],
 "metadata": {
  "kernelspec": {
   "display_name": "Python 3",
   "language": "python",
   "name": "python3"
  },
  "language_info": {
   "codemirror_mode": {
    "name": "ipython",
    "version": 3
   },
   "file_extension": ".py",
   "mimetype": "text/x-python",
   "name": "python",
   "nbconvert_exporter": "python",
   "pygments_lexer": "ipython3",
   "version": "3.8.5"
  }
 },
 "nbformat": 4,
 "nbformat_minor": 4
}
