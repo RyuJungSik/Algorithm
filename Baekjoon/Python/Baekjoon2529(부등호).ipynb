{
 "cells": [
  {
   "cell_type": "code",
   "execution_count": null,
   "metadata": {},
   "outputs": [],
   "source": [
    "n=int(input())\n",
    "indis=list(input().split())\n",
    "arr=[]\n",
    "ansMax=0\n",
    "ansMin=9999999999\n",
    "def makeInt(nums):\n",
    "    numsS=\"\"\n",
    "    for i in nums:\n",
    "        numsS+=str(i)\n",
    "    return int(numsS)\n",
    "\n",
    "def dfs(index,arr):\n",
    "    global ansMax, ansMin\n",
    "    if index==n+1:\n",
    "        ansMax=max(ansMax, makeInt(arr))\n",
    "        ansMin=min(ansMin, makeInt(arr))\n",
    "        return\n",
    "    else:\n",
    "        for i in range(10):\n",
    "            if index==0:\n",
    "                dfs(index+1,arr+[i])\n",
    "            else:\n",
    "                if i not in arr:\n",
    "                    indi=indis[index-1]\n",
    "                    if len(arr)<n+2 and indi=='>' and arr[-1]>i :\n",
    "                        dfs(index+1,arr+[i])\n",
    "                    elif len(arr)<n+2 and  indi=='<' and arr[-1]<i:\n",
    "                        dfs(index+1,arr+[i])\n",
    "        \n",
    "        \n",
    "        \n",
    "dfs(0,arr)\n",
    "print(ansMax)\n",
    "if len(str(ansMin))==n:\n",
    "    print(\"0\"+str(ansMin))\n",
    "else:\n",
    "    print(ansMin)"
   ]
  }
 ],
 "metadata": {
  "kernelspec": {
   "display_name": "Python 3",
   "language": "python",
   "name": "python3"
  },
  "language_info": {
   "codemirror_mode": {
    "name": "ipython",
    "version": 3
   },
   "file_extension": ".py",
   "mimetype": "text/x-python",
   "name": "python",
   "nbconvert_exporter": "python",
   "pygments_lexer": "ipython3",
   "version": "3.8.5"
  }
 },
 "nbformat": 4,
 "nbformat_minor": 4
}
