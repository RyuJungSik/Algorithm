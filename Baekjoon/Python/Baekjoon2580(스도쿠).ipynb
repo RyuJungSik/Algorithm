{
 "cells": [
  {
   "cell_type": "code",
   "execution_count": 10,
   "metadata": {},
   "outputs": [
    {
     "name": "stdout",
     "output_type": "stream",
     "text": [
      "0 0 0 0 0 0 0 0 0\n",
      "0 0 0 0 0 0 0 0 0\n",
      "0 0 0 0 0 0 0 0 0\n",
      "0 0 0 0 0 0 0 0 0\n",
      "0 0 0 0 0 0 0 0 0\n",
      "0 0 0 0 0 0 0 0 0\n",
      "0 0 0 0 0 0 0 0 0\n",
      "0 0 0 0 0 0 0 0 0\n",
      "0 0 0 0 0 0 0 0 0\n",
      "1 2 3 4 5 6 7 8 9 \n",
      "4 5 6 7 8 9 1 2 3 \n",
      "7 8 9 1 2 3 4 5 6 \n",
      "2 1 4 3 6 5 8 9 7 \n",
      "3 6 5 8 9 7 2 1 4 \n",
      "8 9 7 2 1 4 3 6 5 \n",
      "5 3 1 6 4 2 9 7 8 \n",
      "6 4 2 9 7 8 5 3 1 \n",
      "9 7 8 5 3 1 6 4 2 \n"
     ]
    },
    {
     "data": {
      "text/plain": [
       "True"
      ]
     },
     "execution_count": 10,
     "metadata": {},
     "output_type": "execute_result"
    }
   ],
   "source": [
    "def square(x,y):\n",
    "    return (x//3)*3+(y//3)\n",
    "\n",
    "def go(z):\n",
    "    if z==81:\n",
    "        for i in a:\n",
    "            for j in i:\n",
    "                print(j, end=\" \")\n",
    "            print()\n",
    "        return True\n",
    "    else:\n",
    "        x=z//n\n",
    "        y=z%n\n",
    "        if a[x][y]!=0:\n",
    "            return go(z+1)\n",
    "        else:\n",
    "            for i in range(1,10):\n",
    "                if c[x][i]==False and c2[y][i]==False and c3[square(x,y)][i]==False:\n",
    "                    c[x][i]=c2[y][i]=c3[square(x,y)][i]=True\n",
    "                    a[x][y]=i\n",
    "                    if go(z+1):\n",
    "                        return True\n",
    "                    a[x][y]=0\n",
    "                    c[x][i]=c2[y][i]=c3[square(x,y)][i]=False\n",
    "\n",
    "n=9\n",
    "\n",
    "a=[list(map(int, input().split())) for _ in range(n)]\n",
    "c=[[False]*10 for _ in range(n)]\n",
    "c2=[[False]*10 for _ in range(n)]\n",
    "c3=[[False]*10 for _ in range(n)]\n",
    "\n",
    "for i in range(n):\n",
    "    for j in range(n):\n",
    "        if a[i][j] != 0:\n",
    "            c[i][a[i][j]] = True\n",
    "            c2[j][a[i][j]] = True\n",
    "            c3[square(i,j)][a[i][j]] = True\n",
    "go(0)"
   ]
  },
  {
   "cell_type": "code",
   "execution_count": null,
   "metadata": {},
   "outputs": [],
   "source": []
  }
 ],
 "metadata": {
  "kernelspec": {
   "display_name": "Python 3",
   "language": "python",
   "name": "python3"
  },
  "language_info": {
   "codemirror_mode": {
    "name": "ipython",
    "version": 3
   },
   "file_extension": ".py",
   "mimetype": "text/x-python",
   "name": "python",
   "nbconvert_exporter": "python",
   "pygments_lexer": "ipython3",
   "version": "3.8.5"
  }
 },
 "nbformat": 4,
 "nbformat_minor": 4
}
