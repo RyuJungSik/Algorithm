{
 "cells": [
  {
   "cell_type": "code",
   "execution_count": null,
   "metadata": {},
   "outputs": [],
   "source": [
    "from collections import deque\n",
    "\n",
    "n=int(input())\n",
    "e=int(input())\n",
    "graph=[[] for _ in range(n+1)]\n",
    "visited=[False]*(n+1)\n",
    "\n",
    "for _ in range(e):\n",
    "    x,y=map(int,input().split(\" \"))\n",
    "    graph[x].append(y)\n",
    "    graph[y].append(x)\n",
    "\n",
    "q=deque([1])\n",
    "visited[1]=True\n",
    "while q:\n",
    "    cur=q.popleft()\n",
    "    for n in graph[cur]:\n",
    "        if visited[n]:continue\n",
    "        visited[n]=True\n",
    "        q.append(n)\n",
    "print(visited.count(True)-1)"
   ]
  }
 ],
 "metadata": {
  "kernelspec": {
   "display_name": "Python 3",
   "language": "python",
   "name": "python3"
  },
  "language_info": {
   "codemirror_mode": {
    "name": "ipython",
    "version": 3
   },
   "file_extension": ".py",
   "mimetype": "text/x-python",
   "name": "python",
   "nbconvert_exporter": "python",
   "pygments_lexer": "ipython3",
   "version": "3.8.5"
  }
 },
 "nbformat": 4,
 "nbformat_minor": 4
}
