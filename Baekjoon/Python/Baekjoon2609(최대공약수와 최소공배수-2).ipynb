{
 "cells": [
  {
   "cell_type": "code",
   "execution_count": null,
   "metadata": {},
   "outputs": [],
   "source": [
    "n,m=map(int,input().split())\n",
    "\n",
    "a,b=max(n,m),min(n,m)\n",
    "\n",
    "\n",
    "for i in range(b+1,0,-1):\n",
    "    if a%i==0 and b%i==0:\n",
    "        ans1=i\n",
    "        break\n",
    "print(ans1)\n",
    "ans2=(a//ans1)*(b//ans1)*ans1\n",
    "print(ans2)"
   ]
  }
 ],
 "metadata": {
  "kernelspec": {
   "display_name": "Python 3",
   "language": "python",
   "name": "python3"
  },
  "language_info": {
   "codemirror_mode": {
    "name": "ipython",
    "version": 3
   },
   "file_extension": ".py",
   "mimetype": "text/x-python",
   "name": "python",
   "nbconvert_exporter": "python",
   "pygments_lexer": "ipython3",
   "version": "3.8.5"
  }
 },
 "nbformat": 4,
 "nbformat_minor": 4
}
