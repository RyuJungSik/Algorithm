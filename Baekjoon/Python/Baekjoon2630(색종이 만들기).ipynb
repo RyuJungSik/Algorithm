{
 "cells": [
  {
   "cell_type": "code",
   "execution_count": null,
   "metadata": {},
   "outputs": [],
   "source": [
    "def isAllSame(b):\n",
    "    l=len(b)\n",
    "    startColor=b[0][0]\n",
    "    for i in range(l):\n",
    "        for j in range(l):\n",
    "            if b[i][j]!=startColor:\n",
    "                return -1\n",
    "    return startColor\n",
    "\n",
    "n=int(input())\n",
    "g=[]\n",
    "zeroNumber=0\n",
    "oneNumber=0\n",
    "\n",
    "for _ in range(n):\n",
    "    g.append(list(map(int,input().split())))\n",
    "    \n",
    "def dfs(board):\n",
    "    global zeroNumber, oneNumber\n",
    "    l=len(board)\n",
    "    if l==1:\n",
    "        return\n",
    "    else:\n",
    "        a,b,c,d=[[] for _ in range(l//2)],[[]for _ in range(l//2)],[[]for _ in range(l//2)],[[]for _ in range(l//2)]\n",
    "        for i in range(l//2):\n",
    "            for j in range(l):\n",
    "                if j<(l//2):\n",
    "                    a[i].append(board[i][j])\n",
    "                else:\n",
    "                    b[i].append(board[i][j])\n",
    "        for i in range(l//2,l):\n",
    "            for j in range(l):\n",
    "                if j<(l//2):\n",
    "                    c[i-l//2].append(board[i][j])\n",
    "                else:\n",
    "                    d[i-l//2].append(board[i][j])\n",
    "        for chr in  [a,b,c,d]:\n",
    "            result=isAllSame(chr)\n",
    "            if result==0:\n",
    "                zeroNumber+=1\n",
    "            elif result==1:\n",
    "                oneNumber+=1\n",
    "            else:\n",
    "                dfs(chr)\n",
    "\n",
    "r=isAllSame(g)\n",
    "if r==0:\n",
    "    zeroNumber+=1\n",
    "elif r==1:\n",
    "    oneNumber+=1\n",
    "else:\n",
    "    dfs(g)\n",
    "print(zeroNumber)\n",
    "print(oneNumber)"
   ]
  }
 ],
 "metadata": {
  "kernelspec": {
   "display_name": "Python 3",
   "language": "python",
   "name": "python3"
  },
  "language_info": {
   "codemirror_mode": {
    "name": "ipython",
    "version": 3
   },
   "file_extension": ".py",
   "mimetype": "text/x-python",
   "name": "python",
   "nbconvert_exporter": "python",
   "pygments_lexer": "ipython3",
   "version": "3.8.5"
  }
 },
 "nbformat": 4,
 "nbformat_minor": 4
}
