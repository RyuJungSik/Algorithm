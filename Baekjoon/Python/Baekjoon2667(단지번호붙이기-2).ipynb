{
 "cells": [
  {
   "cell_type": "code",
   "execution_count": null,
   "metadata": {},
   "outputs": [],
   "source": [
    "from collections import deque\n",
    "\n",
    "def bfs(i,j):\n",
    "    global visited, n, ans, board\n",
    "    dx,dy=[0,0,1,-1],[1,-1,0,0]\n",
    "    cnt=0\n",
    "    q=deque([(i,j)])\n",
    "    visited[i][j]=True\n",
    "    while q:\n",
    "        cnt+=1\n",
    "        x,y=q.popleft()\n",
    "        for d in range(4):\n",
    "            nx,ny=x+dx[d],y+dy[d]\n",
    "            if nx<0 or nx>=n or ny<0 or ny>=n or visited[nx][ny] or board[nx][ny]==0:\n",
    "                continue\n",
    "            visited[nx][ny]=True\n",
    "            q.append((nx,ny))\n",
    "    return cnt\n",
    "        \n",
    "        \n",
    "        \n",
    "        \n",
    "n=int(input())\n",
    "board=[]\n",
    "for _ in range(n):\n",
    "    board.append(list(map(int,list(input()))))\n",
    "visited=[[False]*n for _ in range(n)]\n",
    "\n",
    "gae=0\n",
    "ans=[]\n",
    "for i in range(n):\n",
    "    for j in range(n):\n",
    "        if board[i][j]==0 or visited[i][j]==True:\n",
    "            continue\n",
    "        tmp=bfs(i,j)\n",
    "        gae+=1\n",
    "        ans.append(tmp)\n",
    "print(gae)\n",
    "ans.sort()\n",
    "for c in ans:\n",
    "    print(c)"
   ]
  }
 ],
 "metadata": {
  "kernelspec": {
   "display_name": "Python 3",
   "language": "python",
   "name": "python3"
  },
  "language_info": {
   "codemirror_mode": {
    "name": "ipython",
    "version": 3
   },
   "file_extension": ".py",
   "mimetype": "text/x-python",
   "name": "python",
   "nbconvert_exporter": "python",
   "pygments_lexer": "ipython3",
   "version": "3.8.5"
  }
 },
 "nbformat": 4,
 "nbformat_minor": 4
}
