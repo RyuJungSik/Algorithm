{
 "cells": [
  {
   "cell_type": "code",
   "execution_count": null,
   "metadata": {},
   "outputs": [],
   "source": [
    "n,b=input().split()\n",
    "StoN=dict()\n",
    "ans=0\n",
    "for i in range(0,10):\n",
    "    StoN[str(i)]=i\n",
    "for i in range(ord('A'),ord('Z')+1):\n",
    "    StoN[chr(i)]=i-55\n",
    "\n",
    "    \n",
    "for i in range(len(n)):\n",
    "    ans+=int(b)**(i)* StoN[n[len(n)-i-1]]\n",
    "\n",
    "print(ans)"
   ]
  }
 ],
 "metadata": {
  "kernelspec": {
   "display_name": "Python 3",
   "language": "python",
   "name": "python3"
  },
  "language_info": {
   "codemirror_mode": {
    "name": "ipython",
    "version": 3
   },
   "file_extension": ".py",
   "mimetype": "text/x-python",
   "name": "python",
   "nbconvert_exporter": "python",
   "pygments_lexer": "ipython3",
   "version": "3.8.5"
  }
 },
 "nbformat": 4,
 "nbformat_minor": 4
}
