{
 "cells": [
  {
   "cell_type": "code",
   "execution_count": 22,
   "metadata": {},
   "outputs": [
    {
     "name": "stdout",
     "output_type": "stream",
     "text": [
      "5\n",
      "5\n",
      "4\n",
      "3\n",
      "2\n",
      "1\n",
      "1\n",
      "2\n",
      "3\n",
      "4\n",
      "5\n"
     ]
    }
   ],
   "source": [
    "def merge_sort(array):\n",
    "    if len(array) <=1:\n",
    "        return array\n",
    "    mid=len(array)//2\n",
    "    left=merge_sort(array[:mid])\n",
    "    right=merge_sort(array[mid:])\n",
    "    i,j,k=0,0,0\n",
    "    while i<len(left) and j<len(right):\n",
    "        if left[i]<right[j]:\n",
    "            array[k]=left[i]\n",
    "            i+=1\n",
    "        else:\n",
    "            array[k]=right[j]\n",
    "            j+=1\n",
    "        k+=1\n",
    "    if i==len(left):\n",
    "        while j<len(right):\n",
    "            array[k]=right[j]\n",
    "            j+=1\n",
    "            k+=1\n",
    "    elif j==len(right):\n",
    "        while i<len(left):\n",
    "            array[k]=left[i]\n",
    "            i+=1\n",
    "            k+=1\n",
    "    return array\n",
    "\n",
    "n=int(input())\n",
    "array=[]\n",
    "\n",
    "for _ in range(n):\n",
    "    array.append(int(input()))\n",
    "array=merge_sort(array)\n",
    "for data in array:\n",
    "    print(data)\n",
    "                           "
   ]
  },
  {
   "cell_type": "code",
   "execution_count": null,
   "metadata": {},
   "outputs": [],
   "source": []
  },
  {
   "cell_type": "code",
   "execution_count": null,
   "metadata": {},
   "outputs": [],
   "source": []
  }
 ],
 "metadata": {
  "kernelspec": {
   "display_name": "Python 3",
   "language": "python",
   "name": "python3"
  },
  "language_info": {
   "codemirror_mode": {
    "name": "ipython",
    "version": 3
   },
   "file_extension": ".py",
   "mimetype": "text/x-python",
   "name": "python",
   "nbconvert_exporter": "python",
   "pygments_lexer": "ipython3",
   "version": "3.8.5"
  }
 },
 "nbformat": 4,
 "nbformat_minor": 4
}
