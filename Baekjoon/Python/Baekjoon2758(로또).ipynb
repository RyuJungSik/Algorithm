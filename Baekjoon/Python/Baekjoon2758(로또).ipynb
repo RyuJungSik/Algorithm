{
 "cells": [
  {
   "cell_type": "code",
   "execution_count": 7,
   "metadata": {},
   "outputs": [
    {
     "name": "stdout",
     "output_type": "stream",
     "text": [
      "1\n",
      "4 10\n",
      "[[1, 2, 4, 8], [1, 2, 4, 9], [1, 2, 4, 10], [1, 2, 5, 10]]\n",
      "4\n"
     ]
    }
   ],
   "source": [
    "def dfs(index,cur):\n",
    "    global n,m,answer,visited,all\n",
    "    if index==n:\n",
    "        if cur not in all:\n",
    "            all.append(cur)\n",
    "        return\n",
    "    else:\n",
    "        if len(cur)==0:\n",
    "            for i in range(1,m+1):\n",
    "                if visited[i]==True:\n",
    "                    continue\n",
    "                visited[i]=True\n",
    "                dfs(index+1,cur+[i])\n",
    "                visited[i]=False\n",
    "        else:\n",
    "            last=cur[-1]\n",
    "            for i in range(last*2,m+1):\n",
    "                if visited[i]==True:\n",
    "                    continue\n",
    "                visited[i]=True\n",
    "                dfs(index+1,cur+[i])\n",
    "                visited[i]=False\n",
    "                \n",
    "tc=int(input()) \n",
    "for _ in range(tc):\n",
    "    n,m=map(int,input().split())\n",
    "    answer=0\n",
    "    visited=[False]*(m+1)\n",
    "    all=[]\n",
    "    dfs(0,[])\n",
    "    print(len(all))"
   ]
  },
  {
   "cell_type": "code",
   "execution_count": null,
   "metadata": {},
   "outputs": [],
   "source": [
    "dp=[[0]*(2001) for _ in range(11)]\n",
    "for i in range(1,2002):\n",
    "    dp[1][i]=1\n",
    "    \n",
    "for i in range(1,12):\n",
    "    \n",
    "\n",
    "\n",
    "tc=int(input()) "
   ]
  },
  {
   "cell_type": "code",
   "execution_count": null,
   "metadata": {},
   "outputs": [],
   "source": [
    "1"
   ]
  }
 ],
 "metadata": {
  "kernelspec": {
   "display_name": "Python 3",
   "language": "python",
   "name": "python3"
  },
  "language_info": {
   "codemirror_mode": {
    "name": "ipython",
    "version": 3
   },
   "file_extension": ".py",
   "mimetype": "text/x-python",
   "name": "python",
   "nbconvert_exporter": "python",
   "pygments_lexer": "ipython3",
   "version": "3.8.5"
  }
 },
 "nbformat": 4,
 "nbformat_minor": 4
}
