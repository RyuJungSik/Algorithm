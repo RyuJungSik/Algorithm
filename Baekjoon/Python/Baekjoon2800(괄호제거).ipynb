{
 "cells": [
  {
   "cell_type": "code",
   "execution_count": 23,
   "metadata": {},
   "outputs": [
    {
     "name": "stdout",
     "output_type": "stream",
     "text": [
      "(2+(2*2)+2)\n",
      "[[3, 7], [0, 10]]\n",
      "(2+2*2+2)\n",
      "2+(2*2)+2\n",
      "2+2*2+2\n"
     ]
    }
   ],
   "source": [
    "from itertools import combinations\n",
    "\n",
    "s=list(input())\n",
    "stack=[]\n",
    "gaho=[]\n",
    "answer=[]\n",
    "for idx,c in enumerate(s):\n",
    "    if c==')':\n",
    "        gaho.append([stack.pop()[0],idx])\n",
    "    elif c=='(':\n",
    "        stack.append((idx,c))\n",
    "print(gaho)\n",
    "for i in range(1,len(gaho)+1):\n",
    "    for com in combinations(gaho,i):\n",
    "        tmp=s[:]\n",
    "        for n1,n2 in com:\n",
    "            tmp[n1]=\"\"\n",
    "            tmp[n2]=\"\"\n",
    "        answer.append(\"\".join(tmp))\n",
    "answer=list(set(answer))\n",
    "answer.sort()\n",
    "for c in answer:\n",
    "    print(c)"
   ]
  },
  {
   "cell_type": "code",
   "execution_count": null,
   "metadata": {},
   "outputs": [],
   "source": []
  }
 ],
 "metadata": {
  "kernelspec": {
   "display_name": "Python 3",
   "language": "python",
   "name": "python3"
  },
  "language_info": {
   "codemirror_mode": {
    "name": "ipython",
    "version": 3
   },
   "file_extension": ".py",
   "mimetype": "text/x-python",
   "name": "python",
   "nbconvert_exporter": "python",
   "pygments_lexer": "ipython3",
   "version": "3.8.5"
  }
 },
 "nbformat": 4,
 "nbformat_minor": 4
}
