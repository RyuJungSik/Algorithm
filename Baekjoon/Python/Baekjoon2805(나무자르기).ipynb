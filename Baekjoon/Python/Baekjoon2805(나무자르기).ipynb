{
 "cells": [
  {
   "cell_type": "code",
   "execution_count": null,
   "metadata": {},
   "outputs": [],
   "source": [
    "n,m=map(int,input().split())\n",
    "arr=list(map(int,input().split()))\n",
    "\n",
    "left=0\n",
    "right=2000000001\n",
    "answer=0\n",
    "\n",
    "\n",
    "while left<=right:\n",
    "    mid=(left+right)//2\n",
    "    getHome=0\n",
    "    for i in arr:\n",
    "        if i>=mid:\n",
    "            getHome+=i-mid\n",
    "    if getHome>=m:\n",
    "        answer=max(answer,mid)\n",
    "        left=mid+1\n",
    "        \n",
    "    else:\n",
    "        right=mid-1\n",
    "        \n",
    "print(answer)"
   ]
  }
 ],
 "metadata": {
  "kernelspec": {
   "display_name": "Python 3",
   "language": "python",
   "name": "python3"
  },
  "language_info": {
   "codemirror_mode": {
    "name": "ipython",
    "version": 3
   },
   "file_extension": ".py",
   "mimetype": "text/x-python",
   "name": "python",
   "nbconvert_exporter": "python",
   "pygments_lexer": "ipython3",
   "version": "3.8.5"
  }
 },
 "nbformat": 4,
 "nbformat_minor": 4
}
