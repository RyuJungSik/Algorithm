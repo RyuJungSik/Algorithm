{
 "cells": [
  {
   "cell_type": "code",
   "execution_count": null,
   "metadata": {},
   "outputs": [],
   "source": [
    "n=int(input())\n",
    "\n",
    "dp=[0]*5001\n",
    "dp[3],dp[5]=1,1\n",
    "\n",
    "for i in range(6,5001):\n",
    "    a=dp[i-3]\n",
    "    b=dp[i-5]\n",
    "    if a==0 and b==0:\n",
    "        dp[i]=0\n",
    "    elif a==0 and b!=0:\n",
    "        dp[i]=b+1\n",
    "    elif a!=0 and b==0:\n",
    "        dp[i]=a+1\n",
    "    else:\n",
    "        dp[i]=min(a+1,b+1)\n",
    "\n",
    "if dp[n]==0:\n",
    "    print(-1)\n",
    "else:\n",
    "    print(dp[n])"
   ]
  }
 ],
 "metadata": {
  "kernelspec": {
   "display_name": "Python 3",
   "language": "python",
   "name": "python3"
  },
  "language_info": {
   "codemirror_mode": {
    "name": "ipython",
    "version": 3
   },
   "file_extension": ".py",
   "mimetype": "text/x-python",
   "name": "python",
   "nbconvert_exporter": "python",
   "pygments_lexer": "ipython3",
   "version": "3.8.5"
  }
 },
 "nbformat": 4,
 "nbformat_minor": 4
}
