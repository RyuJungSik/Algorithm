{
 "cells": [
  {
   "cell_type": "code",
   "execution_count": null,
   "metadata": {},
   "outputs": [],
   "source": [
    "time1=input()\n",
    "time2=input()\n",
    "\n",
    "h1,m1,s1=map(int,time1.split(\":\"))\n",
    "h2,m2,s2=map(int,time2.split(\":\"))\n",
    "\n",
    "sumTime1=h1*3600+m1*60+s1\n",
    "sumTime2=h2*3600+m2*60+s2\n",
    "\n",
    "if sumTime1>=sumTime2:\n",
    "    ansSum=24*3600+sumTime2-sumTime1\n",
    "else:\n",
    "    ansSum=sumTime2-sumTime1\n",
    "ansH,ansM,ansS=str(ansSum//3600),str((ansSum%3600)//60),str((ansSum%3600)%60)\n",
    "\n",
    "if len(ansH)==1:ansH=\"0\"+ansH\n",
    "if len(ansM)==1:ansM=\"0\"+ansM\n",
    "if len(ansS)==1:ansS=\"0\"+ansS\n",
    "print(\":\".join([ansH,ansM,ansS]))"
   ]
  }
 ],
 "metadata": {
  "kernelspec": {
   "display_name": "Python 3",
   "language": "python",
   "name": "python3"
  },
  "language_info": {
   "codemirror_mode": {
    "name": "ipython",
    "version": 3
   },
   "file_extension": ".py",
   "mimetype": "text/x-python",
   "name": "python",
   "nbconvert_exporter": "python",
   "pygments_lexer": "ipython3",
   "version": "3.8.5"
  }
 },
 "nbformat": 4,
 "nbformat_minor": 4
}
