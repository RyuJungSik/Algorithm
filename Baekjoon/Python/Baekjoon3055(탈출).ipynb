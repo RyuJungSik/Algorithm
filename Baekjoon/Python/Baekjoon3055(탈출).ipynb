{
 "cells": [
  {
   "cell_type": "code",
   "execution_count": null,
   "metadata": {},
   "outputs": [],
   "source": [
    "from collections import deque\n",
    "#돌 X\n",
    "n,m=map(int,input().split())\n",
    "board=[]\n",
    "water=[]\n",
    "waterVisited=[[-1]*m for _ in range(n)]\n",
    "catVisited=[[-1]*m for _ in range(n)]\n",
    "dx,dy=[0,0,1,-1],[1,-1,0,0]\n",
    "\n",
    "for _ in range(n):\n",
    "    board.append(list(input()))\n",
    "    \n",
    "\n",
    "for i in range(n):\n",
    "    for j in range(m):\n",
    "        if board[i][j]=='S':\n",
    "            board[i][j]=\".\"\n",
    "            sx,sy=i,j\n",
    "        if board[i][j]=='D':\n",
    "            board[i][j]=\".\"\n",
    "            tx,ty=i,j\n",
    "        if board[i][j]==\"*\":\n",
    "            waterVisited[i][j]=0\n",
    "            water.append((i,j))\n",
    "\n",
    "            \n",
    "waterQ=deque(water)\n",
    "while waterQ:\n",
    "    x,y=waterQ.popleft()\n",
    "    for d in range(4):\n",
    "        nx,ny=x+dx[d],y+dy[d]\n",
    "        if nx<0 or nx>=n or ny<0 or ny>=m or waterVisited[nx][ny]!=-1 or board[nx][ny]==\"X\":\n",
    "            continue\n",
    "        if nx==tx and ny==ty:\n",
    "            continue\n",
    "        waterVisited[nx][ny]=waterVisited[x][y]+1\n",
    "        waterQ.append((nx,ny))\n",
    "\n",
    "catQ=deque([(sx,sy)])\n",
    "catVisited[sx][sy]=0\n",
    "while catQ:\n",
    "    x,y=catQ.popleft()\n",
    "    for d in range(4):\n",
    "        nx,ny=x+dx[d],y+dy[d]\n",
    "        if nx<0 or nx>=n or ny<0 or ny>=m or catVisited[nx][ny]!=-1 or board[nx][ny]==\"X\":\n",
    "            continue\n",
    "        if catVisited[x][y]+2<=waterVisited[nx][ny] or waterVisited[nx][ny]==-1:\n",
    "            catVisited[nx][ny]=catVisited[x][y]+1\n",
    "            catQ.append((nx,ny))\n",
    "\n",
    "            \n",
    "\n",
    "if catVisited[tx][ty]==-1:\n",
    "    print(\"KAKTUS\")\n",
    "else:\n",
    "    print(catVisited[tx][ty])"
   ]
  }
 ],
 "metadata": {
  "kernelspec": {
   "display_name": "Python 3",
   "language": "python",
   "name": "python3"
  },
  "language_info": {
   "codemirror_mode": {
    "name": "ipython",
    "version": 3
   },
   "file_extension": ".py",
   "mimetype": "text/x-python",
   "name": "python",
   "nbconvert_exporter": "python",
   "pygments_lexer": "ipython3",
   "version": "3.8.5"
  }
 },
 "nbformat": 4,
 "nbformat_minor": 4
}
