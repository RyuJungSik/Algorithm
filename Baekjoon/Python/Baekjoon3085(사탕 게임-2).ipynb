{
 "cells": [
  {
   "cell_type": "code",
   "execution_count": 24,
   "metadata": {},
   "outputs": [
    {
     "name": "stdout",
     "output_type": "stream",
     "text": [
      "3\n",
      "CCP\n",
      "CCP\n",
      "PPC\n",
      "3\n"
     ]
    }
   ],
   "source": [
    "def maxLen(board):\n",
    "    maxValue=0\n",
    "    for arr in board:\n",
    "        tmp=1\n",
    "        for j in range(len(arr)-1):\n",
    "            if arr[j]==arr[j+1]:\n",
    "                tmp+=1\n",
    "                maxValue=max(maxValue,tmp)\n",
    "            else:\n",
    "                maxValue=max(maxValue,tmp)\n",
    "                tmp=1\n",
    "                \n",
    "    for j in range(n):\n",
    "        tmp=1\n",
    "        for i in range(n-1):\n",
    "            if board[i][j]==board[i+1][j]:\n",
    "                tmp+=1\n",
    "                maxValue=max(maxValue,tmp)\n",
    "            else:\n",
    "                maxValue=max(maxValue,tmp)\n",
    "                tmp=1\n",
    "    return maxValue\n",
    "                \n",
    "    \n",
    "\n",
    "n=int(input())\n",
    "board=[]\n",
    "answer=0\n",
    "for _ in range(n):\n",
    "    board.append(list(input()))\n",
    "\n",
    "for i in range(n):\n",
    "    for j in range(n):\n",
    "        nx1,ny1=i+1,j\n",
    "        nx2,ny2=i,j+1\n",
    "        \n",
    "        if 0<=nx1<n and 0<=ny1<n:\n",
    "            board[i][j],board[nx1][ny1]=board[nx1][ny1],board[i][j]\n",
    "            answer=max(answer,maxLen(board))\n",
    "            board[i][j],board[nx1][ny1]=board[nx1][ny1],board[i][j]\n",
    "        if 0<=nx2<n and 0<=ny2<n:\n",
    "            board[i][j],board[nx2][ny2]=board[nx2][ny2],board[i][j]\n",
    "            answer=max(answer,maxLen(board))\n",
    "            board[i][j],board[nx2][ny2]=board[nx2][ny2],board[i][j]\n",
    "    if answer==n:\n",
    "        break\n",
    "print(answer)"
   ]
  },
  {
   "cell_type": "code",
   "execution_count": null,
   "metadata": {},
   "outputs": [],
   "source": []
  }
 ],
 "metadata": {
  "kernelspec": {
   "display_name": "Python 3",
   "language": "python",
   "name": "python3"
  },
  "language_info": {
   "codemirror_mode": {
    "name": "ipython",
    "version": 3
   },
   "file_extension": ".py",
   "mimetype": "text/x-python",
   "name": "python",
   "nbconvert_exporter": "python",
   "pygments_lexer": "ipython3",
   "version": "3.8.5"
  }
 },
 "nbformat": 4,
 "nbformat_minor": 4
}
