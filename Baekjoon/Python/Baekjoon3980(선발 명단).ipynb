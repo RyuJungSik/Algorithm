{
 "cells": [
  {
   "cell_type": "code",
   "execution_count": null,
   "metadata": {},
   "outputs": [],
   "source": [
    "def dfs(board,index,cur,s):\n",
    "    global maxValue\n",
    "    if index==11:\n",
    "        maxValue=max(maxValue,s)\n",
    "        return\n",
    "    else:\n",
    "        for pos,score in enumerate(board[index]):\n",
    "            if score==0 or pos in cur:\n",
    "                continue\n",
    "            dfs(board,index+1,cur+[pos],s+score)\n",
    "    \n",
    "tc=int(input())\n",
    "for _ in range(tc):\n",
    "    board=[]\n",
    "    for _ in range(11):\n",
    "        board.append(list(map(int,input().split())))\n",
    "    maxValue=0\n",
    "    dfs(board,0,[],0)\n",
    "    print(maxValue)"
   ]
  }
 ],
 "metadata": {
  "kernelspec": {
   "display_name": "Python 3",
   "language": "python",
   "name": "python3"
  },
  "language_info": {
   "codemirror_mode": {
    "name": "ipython",
    "version": 3
   },
   "file_extension": ".py",
   "mimetype": "text/x-python",
   "name": "python",
   "nbconvert_exporter": "python",
   "pygments_lexer": "ipython3",
   "version": "3.8.5"
  }
 },
 "nbformat": 4,
 "nbformat_minor": 4
}
