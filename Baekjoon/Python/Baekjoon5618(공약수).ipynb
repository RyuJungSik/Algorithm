{
 "cells": [
  {
   "cell_type": "code",
   "execution_count": null,
   "metadata": {},
   "outputs": [],
   "source": [
    "n=int(input())\n",
    "a=list(map(int,input().split(\" \")))\n",
    "\n",
    "for i in range(1,min(a)+1):\n",
    "    if n==2:\n",
    "        if a[0]%i==0 and a[1]%i==0:\n",
    "            print(i)\n",
    "    else:\n",
    "        if a[0]%i==0 and a[1]%i==0 and a[2]%i==0:\n",
    "            print(i)"
   ]
  }
 ],
 "metadata": {
  "kernelspec": {
   "display_name": "Python 3",
   "language": "python",
   "name": "python3"
  },
  "language_info": {
   "codemirror_mode": {
    "name": "ipython",
    "version": 3
   },
   "file_extension": ".py",
   "mimetype": "text/x-python",
   "name": "python",
   "nbconvert_exporter": "python",
   "pygments_lexer": "ipython3",
   "version": "3.8.5"
  }
 },
 "nbformat": 4,
 "nbformat_minor": 4
}
