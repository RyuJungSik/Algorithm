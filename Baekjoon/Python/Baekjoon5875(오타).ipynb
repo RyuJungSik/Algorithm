{
 "cells": [
  {
   "cell_type": "code",
   "execution_count": 18,
   "metadata": {},
   "outputs": [
    {
     "name": "stdout",
     "output_type": "stream",
     "text": [
      "()(())))\n",
      "4\n"
     ]
    }
   ],
   "source": [
    "s=input()\n",
    "answer=0\n",
    "if len(s)%2!=0:\n",
    "    print(0)\n",
    "else:\n",
    "    for i in range(len(s)):\n",
    "        sArr=list(s)\n",
    "        stack=[]\n",
    "        if sArr[i]=='(':\n",
    "            sArr[i]=')'\n",
    "        else:\n",
    "            sArr[i]='('\n",
    "        for c in sArr:\n",
    "            if len(stack)==0 or c=='(':\n",
    "                stack.append(c)\n",
    "            else:\n",
    "                if stack[-1]=='(':\n",
    "                    stack.pop()\n",
    "                else:\n",
    "                    stack.append(c)\n",
    "        if len(stack)==0:\n",
    "            answer+=1\n",
    "print(answer)"
   ]
  }
 ],
 "metadata": {
  "kernelspec": {
   "display_name": "Python 3",
   "language": "python",
   "name": "python3"
  },
  "language_info": {
   "codemirror_mode": {
    "name": "ipython",
    "version": 3
   },
   "file_extension": ".py",
   "mimetype": "text/x-python",
   "name": "python",
   "nbconvert_exporter": "python",
   "pygments_lexer": "ipython3",
   "version": "3.8.5"
  }
 },
 "nbformat": 4,
 "nbformat_minor": 4
}
