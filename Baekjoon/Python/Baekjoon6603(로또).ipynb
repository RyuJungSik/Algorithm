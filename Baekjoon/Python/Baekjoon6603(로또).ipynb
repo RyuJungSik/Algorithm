{
 "cells": [
  {
   "cell_type": "code",
   "execution_count": null,
   "metadata": {},
   "outputs": [],
   "source": [
    "from itertools import permutations\n",
    "\n",
    "def dfs(index):\n",
    "    global arr, answer\n",
    "    if index==6:\n",
    "        print(\" \".join(map(str,answer)))\n",
    "        return\n",
    "    else:\n",
    "        for i in arr:\n",
    "            if i not in answer and answer[index-1]<i:\n",
    "                answer[index]=i\n",
    "                dfs(index+1)\n",
    "                answer[index]=0\n",
    "\n",
    "while True:\n",
    "    arr=list(map(int, input().split()))\n",
    "    if arr[0]==0:\n",
    "        break\n",
    "    n=arr[0]\n",
    "    arr=arr[1:]\n",
    "    answer=[0]*6\n",
    "    dfs(0)\n",
    "    print()"
   ]
  }
 ],
 "metadata": {
  "kernelspec": {
   "display_name": "Python 3",
   "language": "python",
   "name": "python3"
  },
  "language_info": {
   "codemirror_mode": {
    "name": "ipython",
    "version": 3
   },
   "file_extension": ".py",
   "mimetype": "text/x-python",
   "name": "python",
   "nbconvert_exporter": "python",
   "pygments_lexer": "ipython3",
   "version": "3.8.5"
  }
 },
 "nbformat": 4,
 "nbformat_minor": 4
}
