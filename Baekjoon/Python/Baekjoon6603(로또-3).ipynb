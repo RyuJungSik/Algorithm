{
 "cells": [
  {
   "cell_type": "code",
   "execution_count": null,
   "metadata": {},
   "outputs": [],
   "source": [
    "from itertools import permutations\n",
    "\n",
    "n=int(input())\n",
    "arr=input().split()\n",
    "ansList=[]\n",
    "for per in permutations([i for i in range(10)],n+1):\n",
    "    flag=True\n",
    "    for i in range(len(per)-1):\n",
    "        buding=arr[i]\n",
    "        left=per[i]\n",
    "        right=per[i+1]\n",
    "        if buding==\"<\":\n",
    "            if left>right:\n",
    "                flag=False\n",
    "                break\n",
    "        else:\n",
    "            if left<right:\n",
    "                flag=False\n",
    "                break\n",
    "    if flag:\n",
    "        ansList.append(\"\".join(list(map(str,list(per)))))\n",
    "\n",
    "print(ansList[-1])\n",
    "print(ansList[0])\n",
    "\n",
    "                \n"
   ]
  }
 ],
 "metadata": {
  "kernelspec": {
   "display_name": "Python 3",
   "language": "python",
   "name": "python3"
  },
  "language_info": {
   "codemirror_mode": {
    "name": "ipython",
    "version": 3
   },
   "file_extension": ".py",
   "mimetype": "text/x-python",
   "name": "python",
   "nbconvert_exporter": "python",
   "pygments_lexer": "ipython3",
   "version": "3.8.5"
  }
 },
 "nbformat": 4,
 "nbformat_minor": 4
}
