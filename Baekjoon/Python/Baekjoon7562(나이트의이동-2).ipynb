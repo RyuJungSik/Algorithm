{
 "cells": [
  {
   "cell_type": "code",
   "execution_count": null,
   "metadata": {},
   "outputs": [],
   "source": [
    "from collections import deque\n",
    "\n",
    "tc=int(input())\n",
    "dx,dy=[-2,-1,1,2,2,1,-1,-2],[1,2,2,1,-1,-2,-2,-1]\n",
    "for _ in range(tc):\n",
    "    n=int(input())\n",
    "    x,y=map(int,input().split())\n",
    "    tx,ty=map(int,input().split())\n",
    "    visited=[[-1]*n for _ in range(n)]\n",
    "    q=deque([(x,y)])\n",
    "    visited[x][y]=0\n",
    "    while q:\n",
    "        nowX,nowY=q.popleft()\n",
    "        if nowX==tx and nowY==ty:\n",
    "            break\n",
    "        for d in range(8):\n",
    "            nx,ny=nowX+dx[d],nowY+dy[d]\n",
    "            if nx<0 or nx>=n or ny<0 or ny>=n or visited[nx][ny]!=-1:\n",
    "                continue\n",
    "            visited[nx][ny]=visited[nowX][nowY]+1\n",
    "            q.append((nx,ny))\n",
    "    print(visited[tx][ty])"
   ]
  }
 ],
 "metadata": {
  "kernelspec": {
   "display_name": "Python 3",
   "language": "python",
   "name": "python3"
  },
  "language_info": {
   "codemirror_mode": {
    "name": "ipython",
    "version": 3
   },
   "file_extension": ".py",
   "mimetype": "text/x-python",
   "name": "python",
   "nbconvert_exporter": "python",
   "pygments_lexer": "ipython3",
   "version": "3.8.5"
  }
 },
 "nbformat": 4,
 "nbformat_minor": 4
}
