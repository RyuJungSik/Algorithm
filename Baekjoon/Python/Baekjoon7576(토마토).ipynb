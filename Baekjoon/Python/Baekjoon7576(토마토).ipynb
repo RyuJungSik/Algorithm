{
 "cells": [
  {
   "cell_type": "code",
   "execution_count": null,
   "metadata": {},
   "outputs": [],
   "source": [
    "from collections import deque\n",
    "\n",
    "def bfs():\n",
    "    global answer,q\n",
    "    while q:\n",
    "        answer+=1\n",
    "        for i in range(len(q)):\n",
    "            now=q.popleft()\n",
    "            nowX,nowY=now[0],now[1]\n",
    "            for j in range(4):\n",
    "                nextX,nextY=nowX+dx[j], nowY+dy[j]\n",
    "                if 0<=nextX<n and 0<=nextY<m and board[nextX][nextY]==0:\n",
    "                    board[nextX][nextY]=1\n",
    "                    q.append((nextX,nextY))\n",
    "                \n",
    "\n",
    "m,n=map(int, input().split())\n",
    "board=[]\n",
    "answer=-1\n",
    "q=deque()\n",
    "dx=[1,-1,0,0]\n",
    "dy=[0,0,1,-1]\n",
    "for _ in range(n):\n",
    "    board.append(list(map(int, input().split())))\n",
    "for i in range(n):\n",
    "    for j in range(m):\n",
    "        if board[i][j]==1:\n",
    "            q.append((i,j))\n",
    "bfs()\n",
    "flag=False\n",
    "for i in board:\n",
    "    if 0 in i:\n",
    "        flag=True\n",
    "if flag:\n",
    "    print(-1)\n",
    "else:\n",
    "    print(answer)"
   ]
  }
 ],
 "metadata": {
  "kernelspec": {
   "display_name": "Python 3",
   "language": "python",
   "name": "python3"
  }
 },
 "nbformat": 4,
 "nbformat_minor": 4
}
