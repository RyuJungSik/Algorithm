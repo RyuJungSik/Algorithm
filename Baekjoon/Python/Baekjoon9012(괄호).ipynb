{
 "cells": [
  {
   "cell_type": "code",
   "execution_count": null,
   "metadata": {},
   "outputs": [],
   "source": [
    "n=int(input())\n",
    "\n",
    "for _ in range(n):\n",
    "    p=input()\n",
    "    stack=[]\n",
    "    flag=True\n",
    "    for c in p:\n",
    "        if c=='(':\n",
    "            stack.append('(')\n",
    "        else:\n",
    "            if len(stack)>=1 and stack[-1]=='(':\n",
    "                stack.pop()\n",
    "            else:\n",
    "                stack.append(')')\n",
    "    if len(stack)==0:\n",
    "        print(\"YES\")\n",
    "    else:\n",
    "        print(\"NO\")"
   ]
  }
 ],
 "metadata": {
  "kernelspec": {
   "display_name": "Python 3",
   "language": "python",
   "name": "python3"
  },
  "language_info": {
   "codemirror_mode": {
    "name": "ipython",
    "version": 3
   },
   "file_extension": ".py",
   "mimetype": "text/x-python",
   "name": "python",
   "nbconvert_exporter": "python",
   "pygments_lexer": "ipython3",
   "version": "3.8.5"
  }
 },
 "nbformat": 4,
 "nbformat_minor": 4
}
