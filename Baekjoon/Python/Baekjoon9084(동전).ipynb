{
 "cells": [
  {
   "cell_type": "code",
   "execution_count": null,
   "metadata": {},
   "outputs": [],
   "source": [
    "t=int(input())\n",
    "for i in range(t):\n",
    "    n=int(input())\n",
    "    c=list(map(int,input().split()))\n",
    "    m=int(input())\n",
    "    dp=[0 for i in range(m+1)]\n",
    "    dp[0]=1\n",
    "    for i in c:\n",
    "        for j in range(1,m+1):\n",
    "            if j-i>=0:\n",
    "                dp[j]+=dp[j-i]\n",
    "    print(dp[m])"
   ]
  }
 ],
 "metadata": {
  "kernelspec": {
   "display_name": "Python 3",
   "language": "python",
   "name": "python3"
  },
  "language_info": {
   "codemirror_mode": {
    "name": "ipython",
    "version": 3
   },
   "file_extension": ".py",
   "mimetype": "text/x-python",
   "name": "python",
   "nbconvert_exporter": "python",
   "pygments_lexer": "ipython3",
   "version": "3.8.5"
  }
 },
 "nbformat": 4,
 "nbformat_minor": 4
}
