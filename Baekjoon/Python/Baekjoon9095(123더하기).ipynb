{
 "cells": [
  {
   "cell_type": "code",
   "execution_count": 55,
   "metadata": {},
   "outputs": [
    {
     "name": "stdout",
     "output_type": "stream",
     "text": [
      "3\n",
      "4\n",
      "7\n",
      "7\n",
      "44\n",
      "10\n",
      "274\n"
     ]
    }
   ],
   "source": [
    "import math\n",
    "\n",
    "def dfs(a,b,c):\n",
    "    global nums\n",
    "    nums.add((a,b,c))\n",
    "    if a==1 or a==0:\n",
    "        return\n",
    "    else:\n",
    "        dfs(a-2,b+1,c)\n",
    "        if a>=3:\n",
    "            dfs(a-3,b,c+1)\n",
    "\n",
    "tc=int(input())\n",
    "\n",
    "for _ in range(tc):\n",
    "    n=int(input())\n",
    "    nums=set()\n",
    "    dfs(n,0,0)\n",
    "    answer=0\n",
    "    for i in nums:\n",
    "        a,b,c=i[0], i[1], i[2]\n",
    "        answer+=(math.factorial(a+b+c))//(math.factorial(a)*math.factorial(b)*math.factorial(c))\n",
    "    print(answer)"
   ]
  },
  {
   "cell_type": "code",
   "execution_count": null,
   "metadata": {},
   "outputs": [],
   "source": []
  }
 ],
 "metadata": {
  "kernelspec": {
   "display_name": "Python 3",
   "language": "python",
   "name": "python3"
  },
  "language_info": {
   "codemirror_mode": {
    "name": "ipython",
    "version": 3
   },
   "file_extension": ".py",
   "mimetype": "text/x-python",
   "name": "python",
   "nbconvert_exporter": "python",
   "pygments_lexer": "ipython3",
   "version": "3.8.5"
  }
 },
 "nbformat": 4,
 "nbformat_minor": 4
}
