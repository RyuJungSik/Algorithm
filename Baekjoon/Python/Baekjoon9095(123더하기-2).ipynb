{
 "cells": [
  {
   "cell_type": "code",
   "execution_count": null,
   "metadata": {},
   "outputs": [],
   "source": [
    "def dfs(s):\n",
    "    global n, answer\n",
    "    if s>n:\n",
    "        return\n",
    "    elif s==n:\n",
    "        answer+=1\n",
    "    else:\n",
    "        dfs(s+1)\n",
    "        dfs(s+2)\n",
    "        dfs(s+3)\n",
    "\n",
    "tc=int(input())\n",
    "for _ in range(tc):\n",
    "    n=int(input())\n",
    "    answer=0\n",
    "    dfs(0)\n",
    "    print(answer)"
   ]
  }
 ],
 "metadata": {
  "kernelspec": {
   "display_name": "Python 3",
   "language": "python",
   "name": "python3"
  },
  "language_info": {
   "codemirror_mode": {
    "name": "ipython",
    "version": 3
   },
   "file_extension": ".py",
   "mimetype": "text/x-python",
   "name": "python",
   "nbconvert_exporter": "python",
   "pygments_lexer": "ipython3",
   "version": "3.8.5"
  }
 },
 "nbformat": 4,
 "nbformat_minor": 4
}
