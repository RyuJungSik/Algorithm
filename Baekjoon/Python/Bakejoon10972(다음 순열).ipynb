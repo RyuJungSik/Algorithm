{
 "cells": [
  {
   "cell_type": "code",
   "execution_count": 49,
   "metadata": {},
   "outputs": [
    {
     "name": "stdout",
     "output_type": "stream",
     "text": [
      "3\n",
      "1 2 3\n",
      "1 3 2\n"
     ]
    }
   ],
   "source": [
    "def nextPer(a):\n",
    "    i=len(a)-1\n",
    "    while i>0 and a[i-1]>=a[i]:\n",
    "        i-=1\n",
    "    if i<=0:\n",
    "        return False\n",
    "    j=len(a)-1\n",
    "    while a[j]<=a[i-1]:\n",
    "        j-=1\n",
    "    a[i-1],a[j]=a[j],a[i-1]\n",
    "    \n",
    "    j=len(a)-1\n",
    "    while i<j:\n",
    "        a[i],a[j]=a[j],a[i]\n",
    "        i+=1\n",
    "        j-=1\n",
    "    return True\n",
    "    \n",
    "n=int(input())\n",
    "a=list(map(int,input().split()))\n",
    "if nextPer(a):\n",
    "    print(' '.join(map(str,a)))\n",
    "else:\n",
    "    print(-1)"
   ]
  }
 ],
 "metadata": {
  "kernelspec": {
   "display_name": "Python 3",
   "language": "python",
   "name": "python3"
  },
  "language_info": {
   "codemirror_mode": {
    "name": "ipython",
    "version": 3
   },
   "file_extension": ".py",
   "mimetype": "text/x-python",
   "name": "python",
   "nbconvert_exporter": "python",
   "pygments_lexer": "ipython3",
   "version": "3.8.5"
  }
 },
 "nbformat": 4,
 "nbformat_minor": 4
}
