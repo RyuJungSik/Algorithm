{
 "cells": [
  {
   "cell_type": "code",
   "execution_count": 58,
   "metadata": {},
   "outputs": [
    {
     "name": "stdout",
     "output_type": "stream",
     "text": [
      "4\n",
      "1 2 3 4\n",
      "1 2 4 3\n",
      "1 3 2 4\n",
      "1 3 4 2\n",
      "1 4 2 3\n",
      "1 4 3 2\n",
      "2 1 3 4\n",
      "2 1 4 3\n",
      "2 3 1 4\n",
      "2 3 4 1\n",
      "2 4 1 3\n",
      "2 4 3 1\n",
      "3 1 2 4\n",
      "3 1 4 2\n",
      "3 2 1 4\n",
      "3 2 4 1\n",
      "3 4 1 2\n",
      "3 4 2 1\n",
      "4 1 2 3\n",
      "4 1 3 2\n",
      "4 2 1 3\n",
      "4 2 3 1\n",
      "4 3 1 2\n",
      "4 3 2 1\n"
     ]
    }
   ],
   "source": [
    "n=int(input())\n",
    "a=[i for i in range(1,n+1)]\n",
    "\n",
    "\n",
    "def nextPer(a):\n",
    "    i=len(a)-1\n",
    "    while i>0 and a[i-1]>=a[i]:\n",
    "        i-=1\n",
    "    if i<=0:\n",
    "        return False\n",
    "    j=len(a)-1\n",
    "    while a[j]<=a[i-1]:\n",
    "        j-=1\n",
    "    a[i-1],a[j]=a[j],a[i-1]\n",
    "    j=len(a)-1\n",
    "    \n",
    "    while i<j:\n",
    "        a[i],a[j]=a[j],a[i]\n",
    "        i+=1\n",
    "        j-=1\n",
    "    return True\n",
    "\n",
    "while True:\n",
    "    print(' '.join(map(str,a)))\n",
    "    if not nextPer(a):\n",
    "        break"
   ]
  },
  {
   "cell_type": "markdown",
   "metadata": {},
   "source": [
    "## "
   ]
  }
 ],
 "metadata": {
  "kernelspec": {
   "display_name": "Python 3",
   "language": "python",
   "name": "python3"
  },
  "language_info": {
   "codemirror_mode": {
    "name": "ipython",
    "version": 3
   },
   "file_extension": ".py",
   "mimetype": "text/x-python",
   "name": "python",
   "nbconvert_exporter": "python",
   "pygments_lexer": "ipython3",
   "version": "3.8.5"
  }
 },
 "nbformat": 4,
 "nbformat_minor": 4
}
