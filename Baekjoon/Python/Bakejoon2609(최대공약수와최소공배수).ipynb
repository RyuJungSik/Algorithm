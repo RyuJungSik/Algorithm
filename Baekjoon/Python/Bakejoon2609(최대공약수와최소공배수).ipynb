{
 "cells": [
  {
   "cell_type": "code",
   "execution_count": 5,
   "metadata": {},
   "outputs": [
    {
     "name": "stdout",
     "output_type": "stream",
     "text": [
      "6 24\n",
      "6\n",
      "24\n"
     ]
    }
   ],
   "source": [
    "a,b=map(int, input().split())\n",
    "arr=[]\n",
    "i=2\n",
    "lcm=1\n",
    "while i<=min(a,b):\n",
    "    if a%i==0 and b%i==0:\n",
    "        lcm=lcm*i\n",
    "        a=a//i\n",
    "        b=b//i\n",
    "        i=2\n",
    "    else:\n",
    "        i+=1\n",
    "print(lcm)\n",
    "print(lcm*a*b)"
   ]
  }
 ],
 "metadata": {
  "kernelspec": {
   "display_name": "Python 3",
   "language": "python",
   "name": "python3"
  },
  "language_info": {
   "codemirror_mode": {
    "name": "ipython",
    "version": 3
   },
   "file_extension": ".py",
   "mimetype": "text/x-python",
   "name": "python",
   "nbconvert_exporter": "python",
   "pygments_lexer": "ipython3",
   "version": "3.8.5"
  }
 },
 "nbformat": 4,
 "nbformat_minor": 4
}
