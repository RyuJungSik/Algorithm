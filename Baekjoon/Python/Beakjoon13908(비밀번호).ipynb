{
 "cells": [
  {
   "cell_type": "code",
   "execution_count": 12,
   "metadata": {},
   "outputs": [
    {
     "name": "stdout",
     "output_type": "stream",
     "text": [
      "2 2\n",
      "3 4\n",
      "2\n"
     ]
    }
   ],
   "source": [
    "n,m=map(int,input().split(\" \"))\n",
    "a=list(map(int,input().split(\" \")))\n",
    "answer=0\n",
    "\n",
    "def dfs(index,cur):\n",
    "    global answer, a\n",
    "    if index==n:\n",
    "        flag=True\n",
    "        for i in a:\n",
    "            if i not in cur:\n",
    "                flag=False\n",
    "                break\n",
    "        if flag:\n",
    "            answer+=1\n",
    "        return\n",
    "    else:\n",
    "        for i in range(10):\n",
    "            dfs(index+1,cur+[i])\n",
    "\n",
    "if m==0:\n",
    "    print(10**n)\n",
    "else:\n",
    "    dfs(0,[])\n",
    "    print(answer)"
   ]
  },
  {
   "cell_type": "code",
   "execution_count": 17,
   "metadata": {},
   "outputs": [
    {
     "name": "stdout",
     "output_type": "stream",
     "text": [
      "2 2\n",
      "3 4\n",
      "2\n"
     ]
    }
   ],
   "source": [
    "from itertools import product\n",
    "n,m=map(int,input().split(\" \"))\n",
    "if m!=0:\n",
    "    a=list(map(int,input().split(\" \")))\n",
    "answer=0\n",
    "if m==0:\n",
    "    print(10**n)\n",
    "else:\n",
    "\n",
    "    for p in product([i for i in range(10)],repeat=n):\n",
    "        flag=True\n",
    "        for i in a:\n",
    "            if i not in list(p):\n",
    "                flag=False\n",
    "                break\n",
    "        if flag:\n",
    "            answer+=1\n",
    "\n",
    "    print(answer)"
   ]
  },
  {
   "cell_type": "code",
   "execution_count": null,
   "metadata": {},
   "outputs": [],
   "source": []
  }
 ],
 "metadata": {
  "kernelspec": {
   "display_name": "Python 3",
   "language": "python",
   "name": "python3"
  },
  "language_info": {
   "codemirror_mode": {
    "name": "ipython",
    "version": 3
   },
   "file_extension": ".py",
   "mimetype": "text/x-python",
   "name": "python",
   "nbconvert_exporter": "python",
   "pygments_lexer": "ipython3",
   "version": "3.8.5"
  }
 },
 "nbformat": 4,
 "nbformat_minor": 4
}
