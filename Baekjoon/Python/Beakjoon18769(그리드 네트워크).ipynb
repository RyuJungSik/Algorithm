{
 "cells": [
  {
   "cell_type": "code",
   "execution_count": null,
   "metadata": {},
   "outputs": [],
   "source": [
    "def dfs(index,cur,s):\n",
    "    global answer, board\n",
    "    if index==(r*c-1):\n",
    "        answer=min(answer,s)\n",
    "        return\n",
    "    else:\n",
    "        for i,v in enumerate(board[cur]):\n",
    "            if v==0:continue\n",
    "            if visited[i]:continue\n",
    "            visited[i]=True\n",
    "            dfs(index+1,i,s+v)\n",
    "            visited[i]=False\n",
    "\n",
    "\n",
    "tc=int(input())\n",
    "for _ in range(tc):\n",
    "    r,c=map(int,input().split())\n",
    "    board=[[0]*(r*c) for _ in range(r*c)]\n",
    "    for i in range(r):\n",
    "        a=list(map(int,input().split()))\n",
    "        for j in range(len(a)):\n",
    "            board[i*c+j][i*c+j+1]=a[j]\n",
    "            board[i*c+j+1][i*c+j]=a[j]\n",
    "    for i in range(r-1):\n",
    "        a=list(map(int,input().split()))\n",
    "        for j in range(len(a)):\n",
    "            board[i*c+j][i*(c)+j+c]=a[j]\n",
    "            board[i*(c)+j+c][i*c+j]=a[j]\n",
    "    answer=100000\n",
    "    for i in range(r*c):\n",
    "        visited=[False]*(r*c)\n",
    "        visited[i]=True\n",
    "        dfs(0,i,0)\n",
    "    print(answer)\n",
    "   "
   ]
  },
  {
   "cell_type": "markdown",
   "metadata": {},
   "source": [
    "## "
   ]
  }
 ],
 "metadata": {
  "kernelspec": {
   "display_name": "Python 3",
   "language": "python",
   "name": "python3"
  },
  "language_info": {
   "codemirror_mode": {
    "name": "ipython",
    "version": 3
   },
   "file_extension": ".py",
   "mimetype": "text/x-python",
   "name": "python",
   "nbconvert_exporter": "python",
   "pygments_lexer": "ipython3",
   "version": "3.8.5"
  }
 },
 "nbformat": 4,
 "nbformat_minor": 4
}
