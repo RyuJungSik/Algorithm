{
 "cells": [
  {
   "cell_type": "code",
   "execution_count": 7,
   "metadata": {},
   "outputs": [
    {
     "name": "stdout",
     "output_type": "stream",
     "text": [
      "6 7\n",
      "3 6\n",
      "4 3\n",
      "3 2\n",
      "1 3\n",
      "1 2\n",
      "2 4\n",
      "5 2\n",
      "4 2 3\n"
     ]
    }
   ],
   "source": [
    "from collections import deque\n",
    "\n",
    "n,m=map(int,input().split())\n",
    "graph=[[] for i in range(n)]\n",
    "visited=[False]*n\n",
    "for _ in range(m):\n",
    "    a,b=map(int,input().split())\n",
    "    graph[a-1].append(b-1)\n",
    "    graph[b-1].append(a-1)\n",
    "\n",
    "q=deque([(0,0)])\n",
    "visited[0]=True\n",
    "maxS=0\n",
    "maxNodes=[]\n",
    "\n",
    "while q:\n",
    "    nowNode,nowS=q.popleft()\n",
    "    if nowS==maxS:\n",
    "        maxNodes.append(nowNode)\n",
    "    elif nowS>maxS:\n",
    "        maxS=nowS\n",
    "        maxNodes=[nowNode]\n",
    "    for n in graph[nowNode]:\n",
    "        if visited[n]:continue\n",
    "        visited[n]=True\n",
    "        q.append((n,nowS+1))\n",
    "\n",
    "print(min(maxNodes)+1,maxS,len(maxNodes))        "
   ]
  },
  {
   "cell_type": "code",
   "execution_count": null,
   "metadata": {},
   "outputs": [],
   "source": []
  }
 ],
 "metadata": {
  "kernelspec": {
   "display_name": "Python 3",
   "language": "python",
   "name": "python3"
  },
  "language_info": {
   "codemirror_mode": {
    "name": "ipython",
    "version": 3
   },
   "file_extension": ".py",
   "mimetype": "text/x-python",
   "name": "python",
   "nbconvert_exporter": "python",
   "pygments_lexer": "ipython3",
   "version": "3.8.5"
  }
 },
 "nbformat": 4,
 "nbformat_minor": 4
}
