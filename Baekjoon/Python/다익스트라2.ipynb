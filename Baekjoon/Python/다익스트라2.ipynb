{
 "cells": [
  {
   "cell_type": "code",
   "execution_count": null,
   "metadata": {},
   "outputs": [],
   "source": [
    "import heapq\n",
    "import sys\n",
    "input=sys.stdin.readline\n",
    "INF=int(1e9)\n",
    "\n",
    "n,m=map(int, input().split())\n",
    "start=int(input())\n",
    "graph=[[]for i in range(n+1)]\n",
    "distance=[INF]*(n+1)\n",
    "\n",
    "for _ in range(m):\n",
    "    a,b,c=map(int, input().split())\n",
    "    graph[a].append((b,c))\n",
    "    \n",
    "def dijkstra(start):\n",
    "    q=[]\n",
    "    heapq.heappush(q,(0,start))\n",
    "    distance[start]=0\n",
    "    while q:\n",
    "        dist,now=heapq.heappop(q)\n",
    "        if distance[now]<dist:\n",
    "            continue\n",
    "        for i in graph[now]:\n",
    "            cost=dist+i[0]\n",
    "            if cost<distance[i[1]]:\n",
    "                distance[[i[0]]]=cost\n",
    "                heapq.heappush(q,(cost,i[0 ]))"
   ]
  }
 ],
 "metadata": {
  "kernelspec": {
   "display_name": "Python 3",
   "language": "python",
   "name": "python3"
  },
  "language_info": {
   "codemirror_mode": {
    "name": "ipython",
    "version": 3
   },
   "file_extension": ".py",
   "mimetype": "text/x-python",
   "name": "python",
   "nbconvert_exporter": "python",
   "pygments_lexer": "ipython3",
   "version": "3.8.5"
  }
 },
 "nbformat": 4,
 "nbformat_minor": 4
}
