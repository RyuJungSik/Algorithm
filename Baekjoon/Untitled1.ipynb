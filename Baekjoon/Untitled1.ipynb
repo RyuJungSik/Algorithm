{
 "cells": [
  {
   "cell_type": "code",
   "execution_count": 4,
   "metadata": {},
   "outputs": [
    {
     "name": "stdout",
     "output_type": "stream",
     "text": [
      "4 1\n",
      "1 1\n",
      "3 1\n",
      "2 3\n",
      "4 3\n",
      "1 4\n",
      "4.00\n"
     ]
    }
   ],
   "source": [
    "import math\n",
    "\n",
    "def get_distance(p1, p2):\n",
    "    a=p1[0]-p2[0]\n",
    "    b=p1[1]-p2[1]\n",
    "    return math.sqrt((a*a)+(b*b))\n",
    "\n",
    "def get_parent(parent, n):\n",
    "    if parent[n]==n:\n",
    "        return n\n",
    "    return get_parent(parent, parent[n])\n",
    "\n",
    "def union_parent(parent, a, b):\n",
    "    a=get_parent(parent, a)\n",
    "    b=get_parent(parent, b)\n",
    "    if a<b:\n",
    "        parent[b]=a\n",
    "    else:\n",
    "        parent[a]=b\n",
    "def find_parent(parent, a, b):\n",
    "    a=get_parent(parent, a)\n",
    "    b=get_parent(parent, b)\n",
    "    \n",
    "    if a==b:\n",
    "        return True\n",
    "    else:\n",
    "        return False\n",
    "edges=[]\n",
    "parent={}\n",
    "locations=[]\n",
    "n, m=map(int, input().split())\n",
    "\n",
    "for _ in range(n):\n",
    "    x, y=map(int, input().split())\n",
    "    locations.append((x,y))\n",
    "length=len(locations)\n",
    "\n",
    "for i in range(length-1):\n",
    "    for j in range(i+1, length):\n",
    "        edges.append((i+1, j+1, get_distance(locations[i], locations[j])))\n",
    "for i in range(1, n+1):\n",
    "    parent[i]=i\n",
    "for i in range(m):\n",
    "    a, b=map(int, input().split())\n",
    "    union_parent(parent,a,b)\n",
    "edges.sort(key=lambda data:data[2])\n",
    "\n",
    "result =0\n",
    "\n",
    "for a, b, cost in edges:\n",
    "    if not find_parent(parent, a, b):\n",
    "        union_parent(parent, a, b)\n",
    "        result+=cost\n",
    "print(\"%0.2f\" %result)\n",
    "    "
   ]
  },
  {
   "cell_type": "code",
   "execution_count": null,
   "metadata": {},
   "outputs": [],
   "source": []
  }
 ],
 "metadata": {
  "kernelspec": {
   "display_name": "Python 3",
   "language": "python",
   "name": "python3"
  },
  "language_info": {
   "codemirror_mode": {
    "name": "ipython",
    "version": 3
   },
   "file_extension": ".py",
   "mimetype": "text/x-python",
   "name": "python",
   "nbconvert_exporter": "python",
   "pygments_lexer": "ipython3",
   "version": "3.8.5"
  }
 },
 "nbformat": 4,
 "nbformat_minor": 4
}
