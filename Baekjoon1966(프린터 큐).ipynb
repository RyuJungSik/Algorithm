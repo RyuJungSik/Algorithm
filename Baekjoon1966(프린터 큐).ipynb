{
 "cells": [
  {
   "cell_type": "code",
   "execution_count": null,
   "metadata": {
    "scrolled": true
   },
   "outputs": [
    {
     "name": "stdout",
     "output_type": "stream",
     "text": [
      "3\n",
      "6 0\n",
      "1 1 9 1 1\n",
      "1\n"
     ]
    }
   ],
   "source": [
    "tc=int(input())\n",
    "\n",
    "\n",
    "for i in range(tc):\n",
    "    n, m=map(int, input().split())\n",
    "    que=list(map(int, input().split()))\n",
    "    que=[(i, idx) for idx, i in enumerate(que)]\n",
    "    \n",
    "    count=0\n",
    "    \n",
    "    while True:\n",
    "        if que[0][0]==max(que, key=lambda x: x[0])[0]:\n",
    "            count+=1\n",
    "            if que[0][1]==m:\n",
    "                print(count)\n",
    "                break\n",
    "            else:\n",
    "                que.pop(0)\n",
    "        else:\n",
    "            que.append(que.pop(0))"
   ]
  },
  {
   "cell_type": "code",
   "execution_count": null,
   "metadata": {},
   "outputs": [],
   "source": []
  },
  {
   "cell_type": "code",
   "execution_count": null,
   "metadata": {},
   "outputs": [],
   "source": []
  }
 ],
 "metadata": {
  "kernelspec": {
   "display_name": "Python 3",
   "language": "python",
   "name": "python3"
  },
  "language_info": {
   "codemirror_mode": {
    "name": "ipython",
    "version": 3
   },
   "file_extension": ".py",
   "mimetype": "text/x-python",
   "name": "python",
   "nbconvert_exporter": "python",
   "pygments_lexer": "ipython3",
   "version": "3.8.5"
  }
 },
 "nbformat": 4,
 "nbformat_minor": 4
}
