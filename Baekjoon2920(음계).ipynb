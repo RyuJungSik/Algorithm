{
 "cells": [
  {
   "cell_type": "code",
   "execution_count": 1,
   "metadata": {},
   "outputs": [
    {
     "name": "stdout",
     "output_type": "stream",
     "text": [
      "1 2 3 4 5 6 7 8\n",
      "ascending\n"
     ]
    }
   ],
   "source": [
    "a=[]\n",
    "a=input().split()\n",
    "flag=0\n",
    "\n",
    "if a[0]<a[1]:\n",
    "\n",
    "    for i in range(7):\n",
    "        if int(a[i])+1==int(a[i+1]):\n",
    "            flag=1\n",
    "        else:\n",
    "            flag=0\n",
    "            break;\n",
    "else :        \n",
    "    for i in range(7):\n",
    "        if int(a[i])-1==int(a[i+1]):\n",
    "            flag=2\n",
    "        else:\n",
    "            flag=0\n",
    "            break\n",
    "        \n",
    "if flag==0:\n",
    "    print(\"mixed\")\n",
    "elif flag==1:\n",
    "    print(\"ascending\")\n",
    "else:\n",
    "    print(\"descending\")\n",
    "        \n"
   ]
  },
  {
   "cell_type": "code",
   "execution_count": null,
   "metadata": {},
   "outputs": [],
   "source": []
  },
  {
   "cell_type": "code",
   "execution_count": null,
   "metadata": {},
   "outputs": [],
   "source": []
  }
 ],
 "metadata": {
  "kernelspec": {
   "display_name": "Python 3",
   "language": "python",
   "name": "python3"
  },
  "language_info": {
   "codemirror_mode": {
    "name": "ipython",
    "version": 3
   },
   "file_extension": ".py",
   "mimetype": "text/x-python",
   "name": "python",
   "nbconvert_exporter": "python",
   "pygments_lexer": "ipython3",
   "version": "3.8.5"
  }
 },
 "nbformat": 4,
 "nbformat_minor": 4
}
