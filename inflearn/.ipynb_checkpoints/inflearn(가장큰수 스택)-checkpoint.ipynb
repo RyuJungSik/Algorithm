{
 "cells": [
  {
   "cell_type": "code",
   "execution_count": 24,
   "metadata": {},
   "outputs": [
    {
     "name": "stdout",
     "output_type": "stream",
     "text": [
      "9977252641 5\n",
      "2\n",
      "99776\n"
     ]
    }
   ],
   "source": [
    "n, m=input().split()\n",
    "n=list(n)\n",
    "m=int(m)\n",
    "stack=[]\n",
    "\n",
    "for i in n:\n",
    "    while stack and m>0  and stack[-1]<i:\n",
    "        stack.pop()\n",
    "        m-=1\n",
    "    stack.append(i)\n",
    "print(m)\n",
    "if m>0:\n",
    "    stack=stack[:-m]\n",
    "print(''.join(stack))        \n"
   ]
  }
 ],
 "metadata": {
  "kernelspec": {
   "display_name": "Python 3",
   "language": "python",
   "name": "python3"
  },
  "language_info": {
   "codemirror_mode": {
    "name": "ipython",
    "version": 3
   },
   "file_extension": ".py",
   "mimetype": "text/x-python",
   "name": "python",
   "nbconvert_exporter": "python",
   "pygments_lexer": "ipython3",
   "version": "3.8.5"
  }
 },
 "nbformat": 4,
 "nbformat_minor": 4
}
