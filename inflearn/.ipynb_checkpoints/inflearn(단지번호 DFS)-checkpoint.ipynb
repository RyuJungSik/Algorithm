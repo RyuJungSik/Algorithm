{
 "cells": [
  {
   "cell_type": "code",
   "execution_count": 36,
   "metadata": {},
   "outputs": [
    {
     "name": "stdout",
     "output_type": "stream",
     "text": [
      "3\n",
      "[7, 8, 9]\n"
     ]
    }
   ],
   "source": [
    "def DFS(y, x):\n",
    "    global res, resSum\n",
    "    for i in range(4):\n",
    "        yy=y+dy[i]\n",
    "        xx=x+dx[i]\n",
    "        if(0<=xx<=6 and 0<=yy<=6 and mList[yy][xx]==1):\n",
    "            mList[yy][xx]=0\n",
    "            resSum+=1\n",
    "            DFS(yy, xx)\n",
    "\n",
    "\n",
    "\n",
    "dy=[-1,0,1,0]\n",
    "dx=[0,1,0,-1]\n",
    "mList=[[0,1,1,0,1,0,0],[0,1,1,0,1,0,1],[1,1,1,0,1,0,1],[0,0,0,0,1,1,1],[0,1,0,0,0,0,0],[0,1,1,1,1,1,0],[0,1,1,1,0,0,0]]\n",
    "res=[]\n",
    "\n",
    "for i in range(7):\n",
    "    for j in range(7):\n",
    "        if(mList[i][j]==1):\n",
    "            resSum=1\n",
    "            mList[i][j]=0\n",
    "            DFS(i, j)\n",
    "            res.append(resSum)\n",
    "print(len(res))\n",
    "print(res)"
   ]
  },
  {
   "cell_type": "code",
   "execution_count": null,
   "metadata": {},
   "outputs": [],
   "source": []
  }
 ],
 "metadata": {
  "kernelspec": {
   "display_name": "Python 3",
   "language": "python",
   "name": "python3"
  }
 },
 "nbformat": 4,
 "nbformat_minor": 4
}
