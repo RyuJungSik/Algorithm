{
 "cells": [
  {
   "cell_type": "code",
   "execution_count": 15,
   "metadata": {},
   "outputs": [
    {
     "name": "stdout",
     "output_type": "stream",
     "text": [
      "20\n",
      "3\n",
      "5 3\n",
      "10 2\n",
      "1 5\n",
      "4\n"
     ]
    }
   ],
   "source": [
    "import sys      \n",
    "sys.setrecursionlimit(10000)\n",
    "\n",
    "def DFS(index, sum):\n",
    "    global res\n",
    "    if index==n:\n",
    "        if(sum==price):\n",
    "            res+=1\n",
    "        return\n",
    "    else:\n",
    "        for i in range(nArr[index]+1):\n",
    "            DFS(index+1, sum+pArr[index]*i)\n",
    "\n",
    "price=int(input())\n",
    "n=int(input())\n",
    "pArr=[]\n",
    "nArr=[]\n",
    "res=0\n",
    "for i in range(0, n):\n",
    "    a, b=map(int, input().split())\n",
    "    pArr.append(a)\n",
    "    nArr.append(b)\n",
    "\n",
    "DFS(0,0)\n",
    "print(res)"
   ]
  },
  {
   "cell_type": "code",
   "execution_count": null,
   "metadata": {},
   "outputs": [],
   "source": []
  }
 ],
 "metadata": {
  "kernelspec": {
   "display_name": "Python 3",
   "language": "python",
   "name": "python3"
  },
  "language_info": {
   "codemirror_mode": {
    "name": "ipython",
    "version": 3
   },
   "file_extension": ".py",
   "mimetype": "text/x-python",
   "name": "python",
   "nbconvert_exporter": "python",
   "pygments_lexer": "ipython3",
   "version": "3.8.5"
  }
 },
 "nbformat": 4,
 "nbformat_minor": 4
}
