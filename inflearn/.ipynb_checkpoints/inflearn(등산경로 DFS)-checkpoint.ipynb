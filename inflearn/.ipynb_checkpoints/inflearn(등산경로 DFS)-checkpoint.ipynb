{
 "cells": [
  {
   "cell_type": "code",
   "execution_count": 29,
   "metadata": {},
   "outputs": [
    {
     "name": "stdout",
     "output_type": "stream",
     "text": [
      "5\n"
     ]
    }
   ],
   "source": [
    "def DFS(index, y, x):\n",
    "    global res, dx, dy\n",
    "    if y==4 and x==4:\n",
    "        res+=1\n",
    "        chList[4][4]=0\n",
    "        return\n",
    "    else:\n",
    "        for i in range(4):\n",
    "            ny=y+dy[i]\n",
    "            nx=x+dx[i]\n",
    "            if(0<=nx<=4 and 0<=ny<=4 and mList[ny][nx]>mList[y][x] and chList[ny][nx]==0):\n",
    "                chList[ny][nx]=1\n",
    "                DFS(index+1, ny, nx)\n",
    "                chList[ny][nx]=0\n",
    "\n",
    "\n",
    "\n",
    "dy=[-1, 0, 1, 0]\n",
    "dx=[0, 1, 0, -1]\n",
    "mList=[[2,23 ,92, 78, 93],[59, 50, 48, 90, 80], [30, 53, 70, 75, 96], [94, 91, 82, 89, 93], [97, 98, 95, 96, 100]]\n",
    "chList=[[0]*5 for _ in range(5)]\n",
    "chList[0][0]=1\n",
    "res=0\n",
    "DFS(0, 0, 0)\n",
    "print(res)"
   ]
  },
  {
   "cell_type": "code",
   "execution_count": null,
   "metadata": {},
   "outputs": [],
   "source": []
  }
 ],
 "metadata": {
  "kernelspec": {
   "display_name": "Python 3",
   "language": "python",
   "name": "python3"
  }
 },
 "nbformat": 4,
 "nbformat_minor": 4
}
