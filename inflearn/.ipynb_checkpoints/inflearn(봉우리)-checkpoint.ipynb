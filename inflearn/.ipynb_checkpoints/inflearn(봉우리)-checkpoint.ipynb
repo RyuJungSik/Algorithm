{
 "cells": [
  {
   "cell_type": "code",
   "execution_count": 35,
   "metadata": {},
   "outputs": [
    {
     "name": "stdout",
     "output_type": "stream",
     "text": [
      "3\n",
      "2 0 3\n",
      "5 1 2\n",
      "[19, 13, 30] [13, 19]\n",
      "3 1 4\n",
      "[11] [25, 50, 53, 15]\n",
      "[[10, 13, 10, 12, 15], [23, 11, 12, 39, 30], [25, 50, 53, 15, 11], [19, 27, 29, 37, 27], [13, 19, 19, 13, 30]]\n",
      "362\n"
     ]
    }
   ],
   "source": [
    "n=5\n",
    "arr=[[10, 13, 10, 12, 15],[12,39,30,23,11],[11,25,50,53,15],[19,27,29,37,27],[19,13,30,13,19]]\n",
    "\n",
    "m=int(input())\n",
    "for _ in range(m):\n",
    "    a,b,c=map(int, input().split())\n",
    "    c=c%n\n",
    "    tmp1=[]\n",
    "    tmp2=[]\n",
    "    if b==0:\n",
    "        for i in range(n):\n",
    "            if i<c:\n",
    "                tmp1.append(arr[a-1][i])\n",
    "            else:\n",
    "                tmp2.append(arr[a-1][i])\n",
    "        arr[a-1]=tmp2+tmp1\n",
    "    else:\n",
    "        for k in range(n):\n",
    "            if k<(n-c):\n",
    "                tmp1.append(arr[a-1][k])\n",
    "            else:\n",
    "                tmp2.append(arr[a-1][k])\n",
    "        arr[a-1]=tmp2+tmp1\n",
    "        \n",
    "print(arr)\n",
    "mid=n//2\n",
    "left=0\n",
    "right=n\n",
    "answer=0\n",
    "for j in range(n):\n",
    "    if j<mid:\n",
    "        answer+=sum(arr[j][left:right])\n",
    "        left+=1\n",
    "        right-=1\n",
    "    else:\n",
    "        answer+=sum(arr[j][left:right])\n",
    "        left-=1\n",
    "        right+=1\n",
    "print(answer)"
   ]
  },
  {
   "cell_type": "markdown",
   "metadata": {},
   "source": [
    "# "
   ]
  },
  {
   "cell_type": "code",
   "execution_count": null,
   "metadata": {},
   "outputs": [],
   "source": []
  }
 ],
 "metadata": {
  "kernelspec": {
   "display_name": "Python 3",
   "language": "python",
   "name": "python3"
  },
  "language_info": {
   "codemirror_mode": {
    "name": "ipython",
    "version": 3
   },
   "file_extension": ".py",
   "mimetype": "text/x-python",
   "name": "python",
   "nbconvert_exporter": "python",
   "pygments_lexer": "ipython3",
   "version": "3.8.5"
  }
 },
 "nbformat": 4,
 "nbformat_minor": 4
}
