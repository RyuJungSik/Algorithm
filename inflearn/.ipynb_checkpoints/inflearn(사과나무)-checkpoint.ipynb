{
 "cells": [
  {
   "cell_type": "code",
   "execution_count": 69,
   "metadata": {},
   "outputs": [
    {
     "name": "stdout",
     "output_type": "stream",
     "text": [
      "5\n",
      "379\n"
     ]
    }
   ],
   "source": [
    "n=int(input())\n",
    "a=[[10, 13, 10, 12, 15],[12,39,30,23,11],[11,25,50,53,15],[19,27,29,37,27],[19,13,30,13,19]]\n",
    "mid=n//2\n",
    "answer=0\n",
    "\n",
    "for i in range(n//2+1):\n",
    "    answer+=sum(a[i][mid-i:mid+i+1])\n",
    "\n",
    "\n",
    "for j in range(n//2):\n",
    "    answer+=sum(a[mid+j+1][j+1:-1-j])\n",
    "    \n",
    "print(answer)"
   ]
  }
 ],
 "metadata": {
  "kernelspec": {
   "display_name": "Python 3",
   "language": "python",
   "name": "python3"
  },
  "language_info": {
   "codemirror_mode": {
    "name": "ipython",
    "version": 3
   },
   "file_extension": ".py",
   "mimetype": "text/x-python",
   "name": "python",
   "nbconvert_exporter": "python",
   "pygments_lexer": "ipython3",
   "version": "3.8.5"
  }
 },
 "nbformat": 4,
 "nbformat_minor": 4
}
