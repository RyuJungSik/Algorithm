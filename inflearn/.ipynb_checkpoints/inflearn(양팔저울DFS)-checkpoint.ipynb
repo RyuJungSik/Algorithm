{
 "cells": [
  {
   "cell_type": "code",
   "execution_count": 19,
   "metadata": {},
   "outputs": [
    {
     "name": "stdout",
     "output_type": "stream",
     "text": [
      "9\n",
      "8 13 21 34 55 89 144 233 377\n",
      "699\n"
     ]
    }
   ],
   "source": [
    "def DFS(index, sum):\n",
    "    global res, sumSet\n",
    "    if(index==n):\n",
    "        if(sum>0):\n",
    "            sumSet.add(sum)\n",
    "        return\n",
    "    else:\n",
    "        DFS(index+1,sum-kArr[index])\n",
    "        DFS(index+1,sum)\n",
    "        DFS(index+1,sum+kArr[index])\n",
    "        \n",
    "sumSet=set()\n",
    "res=0\n",
    "n=int(input())\n",
    "kArr=list(map(int, input().split()))\n",
    "DFS(0,0)\n",
    "print(sum(kArr)-len(sumSet))"
   ]
  }
 ],
 "metadata": {
  "kernelspec": {
   "display_name": "Python 3",
   "language": "python",
   "name": "python3"
  },
  "language_info": {
   "codemirror_mode": {
    "name": "ipython",
    "version": 3
   },
   "file_extension": ".py",
   "mimetype": "text/x-python",
   "name": "python",
   "nbconvert_exporter": "python",
   "pygments_lexer": "ipython3",
   "version": "3.8.5"
  }
 },
 "nbformat": 4,
 "nbformat_minor": 4
}
