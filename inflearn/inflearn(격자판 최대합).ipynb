{
 "cells": [
  {
   "cell_type": "code",
   "execution_count": 59,
   "metadata": {},
   "outputs": [
    {
     "name": "stdout",
     "output_type": "stream",
     "text": [
      "5\n",
      "155\n"
     ]
    }
   ],
   "source": [
    "n=int(input())\n",
    "a=[[10, 13, 10, 12, 15],[12,39,30,23,11],[11,25,50,53,15],[19,27,29,37,27],[19,13,30,13,19]]\n",
    "\n",
    "answer=0\n",
    "\n",
    "for i in range(n):\n",
    "    answer=max(answer, sum(a[i]))\n",
    "    \n",
    "for j in range(n):\n",
    "    s=0\n",
    "    for k in range(n):\n",
    "        s+=a[k][j]\n",
    "    answer=max(answer,s)\n",
    "    \n",
    "\n",
    "s=0\n",
    "for k in range(n):\n",
    "    s+=a[k][k]\n",
    "answer=max(answer,s)\n",
    "\n",
    "s=0\n",
    "for m in range(n):\n",
    "    s+=a[m][n-m-1]\n",
    "answer=max(answer,s)\n",
    "\n",
    "print(answer)"
   ]
  },
  {
   "cell_type": "code",
   "execution_count": null,
   "metadata": {},
   "outputs": [],
   "source": []
  }
 ],
 "metadata": {
  "kernelspec": {
   "display_name": "Python 3",
   "language": "python",
   "name": "python3"
  },
  "language_info": {
   "codemirror_mode": {
    "name": "ipython",
    "version": 3
   },
   "file_extension": ".py",
   "mimetype": "text/x-python",
   "name": "python",
   "nbconvert_exporter": "python",
   "pygments_lexer": "ipython3",
   "version": "3.8.5"
  }
 },
 "nbformat": 4,
 "nbformat_minor": 4
}
