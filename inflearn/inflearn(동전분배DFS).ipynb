{
 "cells": [
  {
   "cell_type": "code",
   "execution_count": 27,
   "metadata": {},
   "outputs": [
    {
     "name": "stdout",
     "output_type": "stream",
     "text": [
      "7\n",
      "1 2 3 4 5 6 7\n",
      "3\n"
     ]
    }
   ],
   "source": [
    "def DFS(index, a, b, c):\n",
    "    global res\n",
    "    if index==len(coins):\n",
    "        if res>(max(a,b,c)-min(a,b,c)) and a!=b and a!=c and b!=c:\n",
    "            res=max(a,b,c)-min(a,b,c)\n",
    "        return\n",
    "    else:\n",
    "        DFS(index+1, a+coins[index], b, c)\n",
    "        DFS(index+1, a, b+coins[index], c)\n",
    "        DFS(index+1, a, b, c+coins[index])\n",
    "\n",
    "n=int(input())\n",
    "coins=list(map(int, input().split()))\n",
    "res=sum(coins)\n",
    "DFS(0, 0, 0, 0)\n",
    "print(res)"
   ]
  },
  {
   "cell_type": "code",
   "execution_count": null,
   "metadata": {},
   "outputs": [],
   "source": []
  },
  {
   "cell_type": "code",
   "execution_count": null,
   "metadata": {},
   "outputs": [],
   "source": []
  }
 ],
 "metadata": {
  "kernelspec": {
   "display_name": "Python 3",
   "language": "python",
   "name": "python3"
  },
  "language_info": {
   "codemirror_mode": {
    "name": "ipython",
    "version": 3
   },
   "file_extension": ".py",
   "mimetype": "text/x-python",
   "name": "python",
   "nbconvert_exporter": "python",
   "pygments_lexer": "ipython3",
   "version": "3.8.5"
  }
 },
 "nbformat": 4,
 "nbformat_minor": 4
}
