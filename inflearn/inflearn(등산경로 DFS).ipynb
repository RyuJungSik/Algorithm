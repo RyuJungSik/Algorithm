{
 "cells": [
  {
   "cell_type": "code",
   "execution_count": 26,
   "metadata": {},
   "outputs": [
    {
     "ename": "SyntaxError",
     "evalue": "invalid syntax (<ipython-input-26-88ea3406080b>, line 20)",
     "output_type": "error",
     "traceback": [
      "\u001b[1;36m  File \u001b[1;32m\"<ipython-input-26-88ea3406080b>\"\u001b[1;36m, line \u001b[1;32m20\u001b[0m\n\u001b[1;33m    chList=[[0]*5] for in range(5)\u001b[0m\n\u001b[1;37m                   ^\u001b[0m\n\u001b[1;31mSyntaxError\u001b[0m\u001b[1;31m:\u001b[0m invalid syntax\n"
     ]
    }
   ],
   "source": [
    "def DFS(index, y, x):\n",
    "    global res, dx, dy\n",
    "    if y==4 and x==4:\n",
    "        res+=1\n",
    "        mList[4][4]=0\n",
    "        return\n",
    "    else:\n",
    "        for i in range(4):\n",
    "            ny=y+dy[i]\n",
    "            nx=x+dx[i]\n",
    "            if(0<=nx<=4 and 0<=ny<=4 and mList[ny][nx]>mList[y][x]):\n",
    "                DFS(index+1, ny, nx)\n",
    "\n",
    "\n",
    "\n",
    "\n",
    "dy=[-1, 0, 1, 0]\n",
    "dx=[0, 1, 0, -1]\n",
    "mList=[[2,23 ,92, 78, 93],[59, 50, 48, 90, 80], [30, 53, 70, 75, 96], [94, 91, 82, 89, 93], [97, 98, 95, 96, 100]]\n",
    "chList=[[0]*6 for _ in range(7)]\n",
    "res=0\n",
    "# DFS(0, 0, 0)\n",
    "print(chList)"
   ]
  },
  {
   "cell_type": "code",
   "execution_count": null,
   "metadata": {},
   "outputs": [],
   "source": []
  }
 ],
 "metadata": {
  "kernelspec": {
   "display_name": "Python 3",
   "language": "python",
   "name": "python3"
  }
 },
 "nbformat": 4,
 "nbformat_minor": 4
}
