{
 "cells": [
  {
   "cell_type": "code",
   "execution_count": 92,
   "metadata": {},
   "outputs": [
    {
     "name": "stdout",
     "output_type": "stream",
     "text": [
      "1 0\n",
      "0 1\n",
      "2 0\n",
      "0 2\n",
      "2 1\n",
      "0 3\n",
      "2 2\n",
      "0 4\n",
      "3 2\n",
      "0 5\n",
      "4 2\n",
      "0 6\n",
      "5 2\n",
      "1 6\n",
      "5 1\n",
      "5 3\n",
      "2 6\n",
      "6 1\n",
      "6 3\n",
      "2 5\n",
      "6 4\n",
      "2 4\n",
      "6 5\n",
      "3 4\n",
      "6 6\n",
      "5 5\n",
      "4 4\n",
      "25\n"
     ]
    }
   ],
   "source": [
    "from collections import deque\n",
    "\n",
    "dx=[-1, 0, 1, 0]\n",
    "dy=[0, 1, 0, -1]\n",
    "mList=[[0, 0, 0, 0, 0, 0, 0],[0, 1, 1, 1, 1, 1, 0],\n",
    "       [0, 0, 0, 1, 0, 0, 0],[1, 1, 0, 1, 0, 1, 1],\n",
    "       [1, 1, 0, 1, 0, 0, 0],[1, 0, 0, 0, 1, 0, 0],\n",
    "       [1, 0, 1, 0, 0, 0, 0]]\n",
    "chList=[[0]*7 for _ in range(7)]\n",
    "\n",
    "sum=0\n",
    "chList[0][0]=1\n",
    "dQ=deque()\n",
    "dQ.append([0, 0])\n",
    "\n",
    "while True:\n",
    "    now=dQ.popleft()\n",
    "    if(now==[6,6]):\n",
    "        break\n",
    "    for i in range(4):\n",
    "        y=now[0]+dy[i]\n",
    "        x=now[1]+dx[i]\n",
    "       \n",
    "        if(0<=x and x<7 and 0<=y and y<7):\n",
    "            if(chList[y][x]==0):\n",
    "                if(mList[y][x]==0):\n",
    "                    print(y, x)\n",
    "                    dQ.append([y,x])\n",
    "                    chList[y][x]=1\n",
    "\n",
    "\n",
    "print(sum)\n",
    "                "
   ]
  },
  {
   "cell_type": "code",
   "execution_count": null,
   "metadata": {},
   "outputs": [],
   "source": []
  }
 ],
 "metadata": {
  "kernelspec": {
   "display_name": "Python 3",
   "language": "python",
   "name": "python3"
  },
  "language_info": {
   "codemirror_mode": {
    "name": "ipython",
    "version": 3
   },
   "file_extension": ".py",
   "mimetype": "text/x-python",
   "name": "python",
   "nbconvert_exporter": "python",
   "pygments_lexer": "ipython3",
   "version": "3.8.5"
  }
 },
 "nbformat": 4,
 "nbformat_minor": 4
}
