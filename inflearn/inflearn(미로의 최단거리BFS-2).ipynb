{
 "cells": [
  {
   "cell_type": "code",
   "execution_count": 10,
   "metadata": {},
   "outputs": [
    {
     "name": "stdout",
     "output_type": "stream",
     "text": [
      "12\n"
     ]
    }
   ],
   "source": [
    "from collections import deque\n",
    "\n",
    "dx=[-1, 0, 1, 0]\n",
    "dy=[0, 1, 0, -1]\n",
    "mList=[[0, 0, 0, 0, 0, 0, 0],[0, 1, 1, 1, 1, 1, 0],\n",
    "       [0, 0, 0, 1, 0, 0, 0],[1, 1, 0, 1, 0, 1, 1],\n",
    "       [1, 1, 0, 1, 0, 0, 0],[1, 0, 0, 0, 1, 0, 0],\n",
    "       [1, 0, 1, 0, 0, 0, 0]]\n",
    "chList=[[0]*7 for _ in range(7)]\n",
    "\n",
    "sum=0\n",
    "chList[0][0]=1\n",
    "dQ=deque()\n",
    "dQ.append([0, 0])\n",
    "\n",
    "while dQ:\n",
    "    tmp=dQ.popleft()\n",
    "    for i in range(4):\n",
    "        y=tmp[0]+dy[i]\n",
    "        x=tmp[1]+dx[i]\n",
    "        if 0<=x<=6 and 0<=y<=6 and mList[y][x]==0:\n",
    "            mList[y][x]=1\n",
    "            chList[y][x]=chList[tmp[0]][tmp[1]]+1\n",
    "            dQ.append([y,x])\n",
    "\n",
    "if chList[6][6]==0:\n",
    "    print(-1)\n",
    "else:\n",
    "    print()\n",
    "                "
   ]
  },
  {
   "cell_type": "code",
   "execution_count": null,
   "metadata": {},
   "outputs": [],
   "source": []
  },
  {
   "cell_type": "code",
   "execution_count": null,
   "metadata": {},
   "outputs": [],
   "source": []
  }
 ],
 "metadata": {
  "kernelspec": {
   "display_name": "Python 3",
   "language": "python",
   "name": "python3"
  },
  "language_info": {
   "codemirror_mode": {
    "name": "ipython",
    "version": 3
   },
   "file_extension": ".py",
   "mimetype": "text/x-python",
   "name": "python",
   "nbconvert_exporter": "python",
   "pygments_lexer": "ipython3",
   "version": "3.8.5"
  }
 },
 "nbformat": 4,
 "nbformat_minor": 4
}
