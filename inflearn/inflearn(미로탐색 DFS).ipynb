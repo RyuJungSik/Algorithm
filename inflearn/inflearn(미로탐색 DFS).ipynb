{
 "cells": [
  {
   "cell_type": "code",
   "execution_count": 13,
   "metadata": {},
   "outputs": [
    {
     "name": "stdout",
     "output_type": "stream",
     "text": [
      "8\n"
     ]
    }
   ],
   "source": [
    "def DFS(index, y, x):\n",
    "    global res, dx, dy\n",
    "    if y==6 and x==6:\n",
    "        res+=1\n",
    "        mList[6][6]=0\n",
    "        return\n",
    "    else:\n",
    "        for i in range(4):\n",
    "            ny=y+dy[i]\n",
    "            nx=x+dx[i]\n",
    "            if(0<=nx<=6 and 0<=ny<=6 and mList[ny][nx]==0):\n",
    "                mList[ny][nx]=1\n",
    "                DFS(index+1, ny, nx)\n",
    "                mList[ny][nx]=0\n",
    "\n",
    "\n",
    "\n",
    "dy=[-1, 0, 1, 0]\n",
    "dx=[0, 1, 0, -1]\n",
    "mList=[[0, 0, 0, 0, 0, 0, 0],[0, 1, 1, 1, 1, 1, 0],\n",
    "       [0, 0, 0, 1, 0, 0, 0],[1, 1, 0, 1, 0, 1, 1],\n",
    "       [1, 1, 0, 0, 0, 0, 1],[1, 1, 0, 1, 1, 0, 0],\n",
    "       [1, 0, 0, 0, 0, 0, 0]]\n",
    "mList[0][0]=1\n",
    "res=0\n",
    "DFS(0, 0, 0)\n",
    "print(res)"
   ]
  },
  {
   "cell_type": "code",
   "execution_count": null,
   "metadata": {},
   "outputs": [],
   "source": []
  }
 ],
 "metadata": {
  "kernelspec": {
   "display_name": "Python 3",
   "language": "python",
   "name": "python3"
  },
  "language_info": {
   "codemirror_mode": {
    "name": "ipython",
    "version": 3
   },
   "file_extension": ".py",
   "mimetype": "text/x-python",
   "name": "python",
   "nbconvert_exporter": "python",
   "pygments_lexer": "ipython3",
   "version": "3.8.5"
  }
 },
 "nbformat": 4,
 "nbformat_minor": 4
}
