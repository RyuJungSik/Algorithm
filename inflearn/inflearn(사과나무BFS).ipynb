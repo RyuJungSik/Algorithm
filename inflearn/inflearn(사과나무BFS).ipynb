{
 "cells": [
  {
   "cell_type": "code",
   "execution_count": 70,
   "metadata": {},
   "outputs": [
    {
     "name": "stdout",
     "output_type": "stream",
     "text": [
      "5\n",
      "30\n",
      "53\n",
      "29\n",
      "25\n",
      "10\n",
      "23\n",
      "39\n",
      "15\n",
      "37\n",
      "30\n",
      "27\n",
      "11\n",
      "379\n"
     ]
    }
   ],
   "source": [
    "from collections import deque\n",
    "\n",
    "dx=[-1, 0, 1, 0]\n",
    "dy=[0, 1, 0, -1]\n",
    "n=int(input())\n",
    "a=[list(map(int, input().split())) for _ in range(n)]\n",
    "ch=[[0]*n for _ in range(n)]\n",
    "sum=0\n",
    "\n",
    "Q=deque()\n",
    "Q.append((n//2, n//2))\n",
    "L=0\n",
    "\n",
    "while Q:\n",
    "    if L==n//2:\n",
    "        break\n",
    "    size=len(Q)\n",
    "    for i in range(size):\n",
    "        tmp=Q.popleft()\n",
    "        for j in range(4):\n",
    "            x=tmp[0]+dx[j]\n",
    "            y=tmp[1]+dy[j]\n",
    "            if ch[x][y]==0:\n",
    "                sum+=a[x][y]\n",
    "                ch[x][y]=1\n",
    "                Q.append((x, y))\n",
    "    L+=1\n",
    "print(sum)"
   ]
  },
  {
   "cell_type": "code",
   "execution_count": null,
   "metadata": {},
   "outputs": [],
   "source": []
  }
 ],
 "metadata": {
  "kernelspec": {
   "display_name": "Python 3",
   "language": "python",
   "name": "python3"
  },
  "language_info": {
   "codemirror_mode": {
    "name": "ipython",
    "version": 3
   },
   "file_extension": ".py",
   "mimetype": "text/x-python",
   "name": "python",
   "nbconvert_exporter": "python",
   "pygments_lexer": "ipython3",
   "version": "3.8.5"
  }
 },
 "nbformat": 4,
 "nbformat_minor": 4
}
