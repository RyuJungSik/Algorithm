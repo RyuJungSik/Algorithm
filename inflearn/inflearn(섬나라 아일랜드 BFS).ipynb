{
 "cells": [
  {
   "cell_type": "code",
   "execution_count": 43,
   "metadata": {},
   "outputs": [
    {
     "name": "stdout",
     "output_type": "stream",
     "text": [
      "5\n"
     ]
    }
   ],
   "source": [
    "from collections import deque\n",
    "\n",
    "res=0\n",
    "dy=[-1,-1,0,1,1,1,0,-1]\n",
    "dx=[0,1,1,1,0,-1,-1,-1]\n",
    "mList=[[1,1,0,0,0,1,0],[0,1,1,0,1,1,0],[0,1,0,0,0,0,0],[0,0,0,1,0,1,1],[1,1,0,1,1,0,0],[1,0,0,0,1,0,0],[1,0,1,0,1,0,0]]\n",
    "dQ=deque()\n",
    "\n",
    "\n",
    "for i in range(7):\n",
    "    for j in range(7):\n",
    "        if mList[i][j]==1:\n",
    "            res+=1\n",
    "            mList[i][j]=0\n",
    "            dQ.append([i,j])\n",
    "            while dQ:\n",
    "                now=dQ.popleft()\n",
    "                for k in range(8):\n",
    "                    yy=now[0]+dy[k]\n",
    "                    xx=now[1]+dx[k]\n",
    "                    if(0<=yy<=6 and 0<=xx<=6 and mList[yy][xx]==1):\n",
    "                        mList[yy][xx]=0\n",
    "                        dQ.append([yy,xx])\n",
    "                         \n",
    "print(res)"
   ]
  },
  {
   "cell_type": "code",
   "execution_count": null,
   "metadata": {},
   "outputs": [],
   "source": []
  }
 ],
 "metadata": {
  "kernelspec": {
   "display_name": "Python 3",
   "language": "python",
   "name": "python3"
  }
 },
 "nbformat": 4,
 "nbformat_minor": 4
}
