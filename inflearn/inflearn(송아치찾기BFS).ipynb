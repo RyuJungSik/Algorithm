{
 "cells": [
  {
   "cell_type": "code",
   "execution_count": 51,
   "metadata": {},
   "outputs": [
    {
     "name": "stdout",
     "output_type": "stream",
     "text": [
      "5 14\n",
      "3\n"
     ]
    }
   ],
   "source": [
    "from collections import deque\n",
    "\n",
    "max=10000\n",
    "dis=[0]*(max+1)\n",
    "ch=[0]*(max+1)\n",
    "s, e=map(int, input().split())\n",
    "dis[s]=0\n",
    "ch[s]=1\n",
    "q=deque()\n",
    "q.append(s)\n",
    "\n",
    "while q:\n",
    "    now=q.popleft()\n",
    "    if(now==e):\n",
    "        break\n",
    "    for next in(now-1, now+1, now+5):\n",
    "        if ch[next]!=1:\n",
    "            q.append(next)\n",
    "            dis[next]=dis[now]+1\n",
    "            ch[next]=1\n",
    "\n",
    "print(dis[e])"
   ]
  },
  {
   "cell_type": "code",
   "execution_count": null,
   "metadata": {},
   "outputs": [],
   "source": []
  }
 ],
 "metadata": {
  "kernelspec": {
   "display_name": "Python 3",
   "language": "python",
   "name": "python3"
  },
  "language_info": {
   "codemirror_mode": {
    "name": "ipython",
    "version": 3
   },
   "file_extension": ".py",
   "mimetype": "text/x-python",
   "name": "python",
   "nbconvert_exporter": "python",
   "pygments_lexer": "ipython3",
   "version": "3.8.5"
  }
 },
 "nbformat": 4,
 "nbformat_minor": 4
}
