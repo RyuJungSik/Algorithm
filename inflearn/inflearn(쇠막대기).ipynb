{
 "cells": [
  {
   "cell_type": "code",
   "execution_count": 38,
   "metadata": {},
   "outputs": [
    {
     "name": "stdout",
     "output_type": "stream",
     "text": [
      "()(((()())(())()))(())\n",
      "[]\n",
      "17\n"
     ]
    }
   ],
   "source": [
    "n=input()\n",
    "res=0\n",
    "s=[]\n",
    "\n",
    "for i in n:\n",
    "    if(i=='('):\n",
    "        s.append('(')\n",
    "    elif s[-1]=='(' and i==')':\n",
    "        s.pop()\n",
    "        res+=len(s)\n",
    "    else:\n",
    "        s.pop()\n",
    "print(res)"
   ]
  },
  {
   "cell_type": "code",
   "execution_count": null,
   "metadata": {},
   "outputs": [],
   "source": []
  }
 ],
 "metadata": {
  "kernelspec": {
   "display_name": "Python 3",
   "language": "python",
   "name": "python3"
  },
  "language_info": {
   "codemirror_mode": {
    "name": "ipython",
    "version": 3
   },
   "file_extension": ".py",
   "mimetype": "text/x-python",
   "name": "python",
   "nbconvert_exporter": "python",
   "pygments_lexer": "ipython3",
   "version": "3.8.5"
  }
 },
 "nbformat": 4,
 "nbformat_minor": 4
}
