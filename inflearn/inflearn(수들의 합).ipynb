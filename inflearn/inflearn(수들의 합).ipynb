{
 "cells": [
  {
   "cell_type": "code",
   "execution_count": 54,
   "metadata": {},
   "outputs": [
    {
     "name": "stdout",
     "output_type": "stream",
     "text": [
      "100 100\n",
      "3 3 1 4 5 2 2 5 2 1 2 2 1 1 4 1 4 3 3 5 1 5 1 3 4 5 4 5 2 4 2 1 1 4 2 1 5 3 1 3 1 1 1 2 4 4 5 5 5 5 3 2 5 5 3 2 3 4 1 3 3 4 5 1 3 1 3 2 3 1 2 3 2 5 5 4 2 3 1 2 3 2 4 5 2 4 4 4 4 3 1 5 2 2 1 3 2 5 4 1 \n",
      "23\n"
     ]
    }
   ],
   "source": [
    "n, m=map(int, input().split())\n",
    "a=list(map(int, input().split()))\n",
    "p1=0\n",
    "p2=1\n",
    "answer=0\n",
    "\n",
    "while p1<n and p2<n+1:\n",
    "    if sum(a[p1:p2])==m:\n",
    "        answer+=1\n",
    "        p2+=1\n",
    "    elif sum(a[p1:p2])<m:\n",
    "        p2+=1\n",
    "    elif sum(a[p1:p2])>m:\n",
    "        p1+=1\n",
    "print(answer)\n"
   ]
  },
  {
   "cell_type": "code",
   "execution_count": null,
   "metadata": {},
   "outputs": [],
   "source": []
  }
 ],
 "metadata": {
  "kernelspec": {
   "display_name": "Python 3",
   "language": "python",
   "name": "python3"
  },
  "language_info": {
   "codemirror_mode": {
    "name": "ipython",
    "version": 3
   },
   "file_extension": ".py",
   "mimetype": "text/x-python",
   "name": "python",
   "nbconvert_exporter": "python",
   "pygments_lexer": "ipython3",
   "version": "3.8.5"
  }
 },
 "nbformat": 4,
 "nbformat_minor": 4
}
