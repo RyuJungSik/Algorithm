{
 "cells": [
  {
   "cell_type": "code",
   "execution_count": 10,
   "metadata": {},
   "outputs": [
    {
     "name": "stdout",
     "output_type": "stream",
     "text": [
      "Akdj0Gk1dgdgdAGSGAG3DGGA45GAGADGDGdjADG2SDGkdj0f\n",
      "134520\n",
      "64\n"
     ]
    }
   ],
   "source": [
    "s=input()\n",
    "t=\"\"\n",
    "for i in s:\n",
    "    if i.isdigit():\n",
    "        t+=i\n",
    "t=int(t)\n",
    "y=0\n",
    "for i in range(1,t+1):\n",
    "    if t%i==0:\n",
    "        y+=1\n",
    "print(t)\n",
    "print(y)"
   ]
  }
 ],
 "metadata": {
  "kernelspec": {
   "display_name": "Python 3",
   "language": "python",
   "name": "python3"
  },
  "language_info": {
   "codemirror_mode": {
    "name": "ipython",
    "version": 3
   },
   "file_extension": ".py",
   "mimetype": "text/x-python",
   "name": "python",
   "nbconvert_exporter": "python",
   "pygments_lexer": "ipython3",
   "version": "3.8.5"
  }
 },
 "nbformat": 4,
 "nbformat_minor": 4
}
