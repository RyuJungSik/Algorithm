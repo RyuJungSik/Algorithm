{
 "cells": [
  {
   "cell_type": "code",
   "execution_count": 9,
   "metadata": {},
   "outputs": [
    {
     "name": "stdout",
     "output_type": "stream",
     "text": [
      "5 20\n",
      "10 5\n",
      "25 12\n",
      "15 8\n",
      "6 3\n",
      "7 4\n",
      "41\n"
     ]
    }
   ],
   "source": [
    "def DFS(index, sum, time):\n",
    "    global res\n",
    "    if(time>m):\n",
    "        return\n",
    "    elif(index==n):\n",
    "        if sum>res:\n",
    "            res=sum\n",
    "    else:\n",
    "        DFS(index+1, sum+scoreArr[index], time+timeArr[index])\n",
    "        DFS(index+1, sum, time)\n",
    "\n",
    "\n",
    "scoreArr=[]\n",
    "timeArr=[]\n",
    "n, m=map(int, input().split())\n",
    "\n",
    "for i in range(0, n):\n",
    "    s, t=map(int, input().split())\n",
    "    scoreArr.append(s)\n",
    "    timeArr.append(t)\n",
    "    \n",
    "res=0\n",
    "DFS(0, 0, 0)\n",
    "print(res)"
   ]
  },
  {
   "cell_type": "code",
   "execution_count": null,
   "metadata": {},
   "outputs": [],
   "source": []
  },
  {
   "cell_type": "code",
   "execution_count": null,
   "metadata": {},
   "outputs": [],
   "source": []
  }
 ],
 "metadata": {
  "kernelspec": {
   "display_name": "Python 3",
   "language": "python",
   "name": "python3"
  },
  "language_info": {
   "codemirror_mode": {
    "name": "ipython",
    "version": 3
   },
   "file_extension": ".py",
   "mimetype": "text/x-python",
   "name": "python",
   "nbconvert_exporter": "python",
   "pygments_lexer": "ipython3",
   "version": "3.8.5"
  }
 },
 "nbformat": 4,
 "nbformat_minor": 4
}
