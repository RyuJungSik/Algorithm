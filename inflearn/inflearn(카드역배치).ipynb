{
 "cells": [
  {
   "cell_type": "code",
   "execution_count": 25,
   "metadata": {},
   "outputs": [
    {
     "name": "stdout",
     "output_type": "stream",
     "text": [
      "[0, 1, 2, 3, 4, 5, 6, 7, 8, 9, 10, 11, 12, 13, 14, 15, 16, 17, 18, 19, 20]\n",
      "5 10\n",
      "1 2 3 4 10 9 8 7 6 5 11 12 13 14 15 16 17 18 19 20 "
     ]
    }
   ],
   "source": [
    "cards=[]\n",
    "for i in range(21):\n",
    "    cards.append(i)\n",
    "print(cards)\n",
    "for _ in range(10):\n",
    "    a,b=map(int, input().split())\n",
    "    for j in range((b-a+1)//2):\n",
    "        tmp=cards[a]\n",
    "        cards[a]=cards[b]\n",
    "        cards[b]=tmp\n",
    "        a+=1\n",
    "        b-=1\n",
    "cards.pop(0)\n",
    "for x in cards:\n",
    "    print(x, end=\" \")\n",
    "\n",
    "\n"
   ]
  },
  {
   "cell_type": "code",
   "execution_count": null,
   "metadata": {},
   "outputs": [],
   "source": []
  }
 ],
 "metadata": {
  "kernelspec": {
   "display_name": "Python 3",
   "language": "python",
   "name": "python3"
  },
  "language_info": {
   "codemirror_mode": {
    "name": "ipython",
    "version": 3
   },
   "file_extension": ".py",
   "mimetype": "text/x-python",
   "name": "python",
   "nbconvert_exporter": "python",
   "pygments_lexer": "ipython3",
   "version": "3.8.5"
  }
 },
 "nbformat": 4,
 "nbformat_minor": 4
}
