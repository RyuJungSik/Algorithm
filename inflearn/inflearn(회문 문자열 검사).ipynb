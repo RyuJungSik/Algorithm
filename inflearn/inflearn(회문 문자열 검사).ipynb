{
 "cells": [
  {
   "cell_type": "code",
   "execution_count": 5,
   "metadata": {},
   "outputs": [
    {
     "name": "stdout",
     "output_type": "stream",
     "text": [
      "1\n",
      "gooG\n",
      "YES\n"
     ]
    }
   ],
   "source": [
    "n=int(input())\n",
    "\n",
    "for i in range(n):\n",
    "    flag=True\n",
    "    s=input()\n",
    "    s=s.upper()\n",
    "    a=0\n",
    "    b=len(s)-1\n",
    "    for _ in range(0,len(s)//2):\n",
    "        if(s[a]!=s[b]): flag=False\n",
    "        a+=1\n",
    "        b-=1\n",
    "    if flag: print(\"YES\")\n",
    "    else : print(\"NO\")"
   ]
  },
  {
   "cell_type": "code",
   "execution_count": null,
   "metadata": {},
   "outputs": [],
   "source": []
  }
 ],
 "metadata": {
  "kernelspec": {
   "display_name": "Python 3",
   "language": "python",
   "name": "python3"
  },
  "language_info": {
   "codemirror_mode": {
    "name": "ipython",
    "version": 3
   },
   "file_extension": ".py",
   "mimetype": "text/x-python",
   "name": "python",
   "nbconvert_exporter": "python",
   "pygments_lexer": "ipython3",
   "version": "3.8.5"
  }
 },
 "nbformat": 4,
 "nbformat_minor": 4
}
