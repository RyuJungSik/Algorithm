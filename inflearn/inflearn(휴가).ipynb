{
 "cells": [
  {
   "cell_type": "code",
   "execution_count": 17,
   "metadata": {},
   "outputs": [
    {
     "name": "stdout",
     "output_type": "stream",
     "text": [
      "7\n",
      "4 20\n",
      "2 10\n",
      "3 15\n",
      "3 20\n",
      "2 30\n",
      "2 20\n",
      "1 10\n",
      "60\n",
      "50\n",
      "40\n",
      "30\n",
      "20\n",
      "40\n",
      "30\n",
      "50\n",
      "40\n",
      "30\n",
      "20\n",
      "10\n",
      "35\n",
      "25\n",
      "15\n",
      "30\n",
      "20\n",
      "40\n",
      "30\n",
      "20\n",
      "10\n",
      "0\n",
      "60\n"
     ]
    }
   ],
   "source": [
    "def DFS(index, sum):\n",
    "    global res\n",
    "    if(index==n+1):\n",
    "        if(res<=sum):\n",
    "            res=sum\n",
    "        return\n",
    "    else:\n",
    "        if(index+tArr[index]<=n+1):\n",
    "            DFS(index+tArr[index], sum+pArr[index])\n",
    "        DFS(index+1, sum)\n",
    "\n",
    "\n",
    "n=int(input())\n",
    "tArr=[]\n",
    "pArr=[]\n",
    "for i in range(0, n):\n",
    "    a, b=map(int, input().split())\n",
    "    tArr.append(a)\n",
    "    pArr.append(b)\n",
    "res=0\n",
    "tArr.insert(0,0)\n",
    "pArr.insert(0,0)\n",
    "DFS(1,0)\n",
    "print(res)"
   ]
  },
  {
   "cell_type": "code",
   "execution_count": null,
   "metadata": {},
   "outputs": [],
   "source": []
  },
  {
   "cell_type": "code",
   "execution_count": null,
   "metadata": {},
   "outputs": [],
   "source": []
  }
 ],
 "metadata": {
  "kernelspec": {
   "display_name": "Python 3",
   "language": "python",
   "name": "python3"
  },
  "language_info": {
   "codemirror_mode": {
    "name": "ipython",
    "version": 3
   },
   "file_extension": ".py",
   "mimetype": "text/x-python",
   "name": "python",
   "nbconvert_exporter": "python",
   "pygments_lexer": "ipython3",
   "version": "3.8.5"
  }
 },
 "nbformat": 4,
 "nbformat_minor": 4
}
