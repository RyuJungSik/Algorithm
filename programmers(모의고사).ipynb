{
 "cells": [
  {
   "cell_type": "code",
   "execution_count": null,
   "metadata": {},
   "outputs": [],
   "source": [
    "def solution(answers):\n",
    "    answer = []\n",
    "    man=[[1,2,3,4,5], [2,1,2,3,2,4,2,5], [3,3,1,1,2,2,4,4,5,5]]\n",
    "    score=[0, 0, 0]\n",
    "    for i in range(0, 3):\n",
    "        man_len=len(man[i])\n",
    "        for j in range(0, len(answers)):\n",
    "            if answers[j]==man[i][j%man_len]:\n",
    "                score[i]+=1\n",
    "    \n",
    "    for k in range(0,3):\n",
    "        if score[k]==max(score):\n",
    "            answer.append(k+1)\n",
    "            \n",
    "    \n",
    "    return answer"
   ]
  }
 ],
 "metadata": {
  "kernelspec": {
   "display_name": "Python 3",
   "language": "python",
   "name": "python3"
  },
  "language_info": {
   "codemirror_mode": {
    "name": "ipython",
    "version": 3
   },
   "file_extension": ".py",
   "mimetype": "text/x-python",
   "name": "python",
   "nbconvert_exporter": "python",
   "pygments_lexer": "ipython3",
   "version": "3.8.5"
  }
 },
 "nbformat": 4,
 "nbformat_minor": 4
}
