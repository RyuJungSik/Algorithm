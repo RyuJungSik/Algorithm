{
 "cells": [
  {
   "cell_type": "code",
   "execution_count": null,
   "metadata": {},
   "outputs": [],
   "source": [
    "def solution(record):\n",
    "    answer = []\n",
    "    tmp=[]\n",
    "    msgDic={1: \"님이 들어왔습니다.\", 2: \"님이 나갔습니다.\"}\n",
    "    idDic={}\n",
    "    \n",
    "    for i in record:\n",
    "        inList=list(i.split(' '))\n",
    "        if inList[0]==\"Enter\":\n",
    "            idDic[inList[1]]=inList[2]\n",
    "            tmp.append([inList[1], 1])\n",
    "        elif inList[0]==\"Leave\":\n",
    "            tmp.append([inList[1], 2])\n",
    "        elif inList[0]==\"Change\":\n",
    "            idDic[inList[1]]=inList[2]\n",
    "    \n",
    "    for j in tmp:\n",
    "        answer.append(idDic[j[0]]+msgDic[j[1]])\n",
    "        \n",
    "    return answer"
   ]
  }
 ],
 "metadata": {
  "kernelspec": {
   "display_name": "Python 3",
   "language": "python",
   "name": "python3"
  },
  "language_info": {
   "codemirror_mode": {
    "name": "ipython",
    "version": 3
   },
   "file_extension": ".py",
   "mimetype": "text/x-python",
   "name": "python",
   "nbconvert_exporter": "python",
   "pygments_lexer": "ipython3",
   "version": "3.8.5"
  }
 },
 "nbformat": 4,
 "nbformat_minor": 4
}
