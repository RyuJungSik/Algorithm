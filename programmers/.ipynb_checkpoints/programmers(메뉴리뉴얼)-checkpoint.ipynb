{
 "cells": [
  {
   "cell_type": "code",
   "execution_count": null,
   "metadata": {},
   "outputs": [],
   "source": [
    "from itertools import combinations\n",
    "from collections import Counter\n",
    "\n",
    "def solution(orders, course):\n",
    "    answer = []\n",
    "    for c in course:\n",
    "        temp=[]\n",
    "        for order in orders:\n",
    "            combi=combinations(sorted(order), c)\n",
    "            temp+=combi\n",
    "        counter=Counter(temp)\n",
    "        if len(counter)!=0 and max(counter.values())!=1:\n",
    "            answer+=[''.join(f) for f in counter if counter[f]==max(counter.values())]\n",
    "\n",
    "    \n",
    "    return sorted(answer)"
   ]
  }
 ],
 "metadata": {
  "kernelspec": {
   "display_name": "Python 3",
   "language": "python",
   "name": "python3"
  },
  "language_info": {
   "codemirror_mode": {
    "name": "ipython",
    "version": 3
   },
   "file_extension": ".py",
   "mimetype": "text/x-python",
   "name": "python",
   "nbconvert_exporter": "python",
   "pygments_lexer": "ipython3",
   "version": "3.8.5"
  }
 },
 "nbformat": 4,
 "nbformat_minor": 4
}
