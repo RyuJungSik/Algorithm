{
 "cells": [
  {
   "cell_type": "code",
   "execution_count": null,
   "metadata": {},
   "outputs": [],
   "source": [
    "def solution(n, computers):\n",
    "    answer = 0\n",
    "    visited=[0]*n\n",
    "    def go(cur):\n",
    "        visited[cur]=1\n",
    "        for i in range(n):\n",
    "            if i==cur:\n",
    "                continue\n",
    "            if computers[cur][i]==1 and visited[i]==0:\n",
    "                go(i)\n",
    "            \n",
    "    for i in range(n):\n",
    "        if visited[i]==0:\n",
    "            go(i)\n",
    "            answer+=1\n",
    "    \n",
    "    \n",
    "    return answer"
   ]
  }
 ],
 "metadata": {
  "kernelspec": {
   "display_name": "Python 3",
   "language": "python",
   "name": "python3"
  },
  "language_info": {
   "codemirror_mode": {
    "name": "ipython",
    "version": 3
   },
   "file_extension": ".py",
   "mimetype": "text/x-python",
   "name": "python",
   "nbconvert_exporter": "python",
   "pygments_lexer": "ipython3",
   "version": "3.8.5"
  }
 },
 "nbformat": 4,
 "nbformat_minor": 4
}
