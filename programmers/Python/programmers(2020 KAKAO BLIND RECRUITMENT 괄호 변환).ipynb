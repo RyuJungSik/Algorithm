{
 "cells": [
  {
   "cell_type": "code",
   "execution_count": null,
   "metadata": {},
   "outputs": [],
   "source": [
    "def isBalance(str):\n",
    "    gae=[0, 0]\n",
    "    for i in str:\n",
    "        if i=='(':\n",
    "            gae[0]+=1\n",
    "        else:\n",
    "            gae[1]+=1\n",
    "    if gae[0]==gae[1]:\n",
    "        return True\n",
    "    else:\n",
    "        return False\n",
    "    \n",
    "def isCollect(str):\n",
    "    s=[]\n",
    "    if isBalance(str)==False:\n",
    "        return False\n",
    "    for i in str:\n",
    "        if i=='(':\n",
    "            s.append(i)\n",
    "        else:\n",
    "            if s and s[-1]=='(':\n",
    "                s.pop()\n",
    "            else:\n",
    "                return False\n",
    "    return True\n",
    "    \n",
    "    \n",
    "def solution(p):\n",
    "    answer = ''\n",
    "    if isCollect(p)==True:\n",
    "        answer=p\n",
    "    else:\n",
    "        m=0\n",
    "        for i in range(1, len(p)+1):\n",
    "            if(isBalance(p[0:i])):\n",
    "                m=i\n",
    "                break\n",
    "        u=p[0:m]\n",
    "        v=p[m:len(p)+1]\n",
    "        if isCollect(u):\n",
    "            return u+solution(v)\n",
    "        else:\n",
    "            answer='('+solution(v)+')'\n",
    "            for k in range(1,len(u)-1):\n",
    "                if u[k]=='(':\n",
    "                    answer+=')'\n",
    "                else:\n",
    "                    answer+='('\n",
    "        \n",
    "    return answer"
   ]
  }
 ],
 "metadata": {
  "kernelspec": {
   "display_name": "Python 3",
   "language": "python",
   "name": "python3"
  },
  "language_info": {
   "codemirror_mode": {
    "name": "ipython",
    "version": 3
   },
   "file_extension": ".py",
   "mimetype": "text/x-python",
   "name": "python",
   "nbconvert_exporter": "python",
   "pygments_lexer": "ipython3",
   "version": "3.8.5"
  }
 },
 "nbformat": 4,
 "nbformat_minor": 4
}
