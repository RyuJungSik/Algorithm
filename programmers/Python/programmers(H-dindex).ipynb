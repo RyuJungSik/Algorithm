{
 "cells": [
  {
   "cell_type": "code",
   "execution_count": null,
   "metadata": {},
   "outputs": [],
   "source": [
    "def solution(citations):\n",
    "    answer = 0\n",
    "    for i in range(max(citations)+1):\n",
    "        mid=i\n",
    "        l=0\n",
    "        r=0\n",
    "        s=0\n",
    "        for j in citations:\n",
    "            if j<=mid:\n",
    "                l+=1\n",
    "            if j>=mid:\n",
    "                r+=1\n",
    "        if mid<=r and mid>=l:\n",
    "            answer=max(mid,answer)\n",
    "    return answer"
   ]
  }
 ],
 "metadata": {
  "kernelspec": {
   "display_name": "Python 3",
   "language": "python",
   "name": "python3"
  },
  "language_info": {
   "codemirror_mode": {
    "name": "ipython",
    "version": 3
   },
   "file_extension": ".py",
   "mimetype": "text/x-python",
   "name": "python",
   "nbconvert_exporter": "python",
   "pygments_lexer": "ipython3",
   "version": "3.8.5"
  }
 },
 "nbformat": 4,
 "nbformat_minor": 4
}
