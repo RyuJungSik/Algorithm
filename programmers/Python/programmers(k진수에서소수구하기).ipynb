{
 "cells": [
  {
   "cell_type": "code",
   "execution_count": null,
   "metadata": {},
   "outputs": [],
   "source": [
    "import math\n",
    "\n",
    "def makeN(n, q):\n",
    "    rev_base = ''\n",
    "\n",
    "    while n > 0:\n",
    "        n, mod = divmod(n, q)\n",
    "        rev_base += str(mod)\n",
    "\n",
    "    return rev_base[::-1] \n",
    "\n",
    "def isPrime(n):\n",
    "    if n==1: return False\n",
    "    for i in range(2,int(math.sqrt(n))+1):\n",
    "        if(n%i==0): return False\n",
    "    return True\n",
    "\n",
    "def solution(n, k):\n",
    "    answer = 0\n",
    "    nNumber=makeN(n,k)\n",
    "    arr=nNumber.split('0')\n",
    "    for numStr in arr:\n",
    "        if numStr=='' or numStr=='1': continue\n",
    "        if(isPrime(int(numStr))): answer+=1\n",
    "        \n",
    "    return answer"
   ]
  }
 ],
 "metadata": {
  "language_info": {
   "name": "python"
  },
  "orig_nbformat": 4
 },
 "nbformat": 4,
 "nbformat_minor": 2
}
