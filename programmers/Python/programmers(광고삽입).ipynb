{
 "cells": [
  {
   "cell_type": "code",
   "execution_count": null,
   "metadata": {},
   "outputs": [],
   "source": [
    "def solution(play_time, adv_time, logs):\n",
    "    answer = 0\n",
    "    play_time_arr=list(map(int,play_time.split(\":\")))\n",
    "    adv_time_arr=list(map(int,adv_time.split(\":\")))\n",
    "    allTime=play_time_arr[0]*3600+play_time_arr[1]*60+play_time_arr[2]\n",
    "    advTime=adv_time_arr[0]*3600+adv_time_arr[1]*60+adv_time_arr[2]\n",
    "    hash={}\n",
    "    timePerson=[0]*(allTime+1)\n",
    "    for i in range(allTime):\n",
    "        hash[i]=0\n",
    "        \n",
    "    for idx,log in enumerate(logs):\n",
    "        s,e=log.split(\"-\")\n",
    "        s_arr,e_arr=list(map(int,s.split(\":\"))),list(map(int,e.split(\":\")))\n",
    "        s_seconds,e_seconds=s_arr[0]*3600+s_arr[1]*60+s_arr[2],e_arr[0]*3600+e_arr[1]*60+e_arr[2]\n",
    "        timePerson[s_seconds]+=1\n",
    "        timePerson[e_seconds]-=1\n",
    "            \n",
    "    for i in range(1,allTime):\n",
    "        timePerson[i]=timePerson[i]+timePerson[i-1]\n",
    "    \n",
    "    maxTime=sum(timePerson[0:advTime])\n",
    "    see_people=sum(timePerson[0:advTime])\n",
    "    startTime=0\n",
    "    for i in range(0,allTime-advTime):\n",
    "        see_people=see_people-timePerson[i]+timePerson[i+advTime]\n",
    "        if maxTime<see_people:\n",
    "            maxTime=see_people\n",
    "            startTime=i+1\n",
    "            \n",
    "    h=startTime//3600\n",
    "    startTime%=3600\n",
    "    m,s=startTime//60,startTime%60\n",
    "    \n",
    "    h=str(h)\n",
    "    m=str(m)\n",
    "    s=str(s)\n",
    "    if(len(h)==1): h=\"0\"+h\n",
    "    if(len(m)==1): m=\"0\"+m\n",
    "    if(len(s)==1): s=\"0\"+s\n",
    "    answer=h+\":\"+m+\":\"+s\n",
    "    \n",
    "    return answer"
   ]
  }
 ],
 "metadata": {
  "language_info": {
   "name": "python"
  },
  "orig_nbformat": 4
 },
 "nbformat": 4,
 "nbformat_minor": 2
}
