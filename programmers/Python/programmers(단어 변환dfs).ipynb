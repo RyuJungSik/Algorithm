{
 "cells": [
  {
   "cell_type": "code",
   "execution_count": null,
   "metadata": {},
   "outputs": [],
   "source": [
    "from collections import deque\n",
    "answer = 100\n",
    "\n",
    "def check(s,e):\n",
    "    tmp=0\n",
    "    for i in range(len(s)):\n",
    "        if s[i]!=e[i]:\n",
    "            tmp+=1\n",
    "    if tmp==1 or tmp==0:\n",
    "        return True\n",
    "    else:\n",
    "        return False\n",
    "\n",
    "\n",
    "def solution(begin, target, words):\n",
    "    global answer\n",
    "    n=len(words)\n",
    "    visited=[False]*n\n",
    "    \n",
    "    def dfs(index,cur):\n",
    "        global answer\n",
    "        if cur==target:\n",
    "            answer=min(answer,index)\n",
    "            return\n",
    "        elif index==n:\n",
    "            return\n",
    "        else:\n",
    "            for i in range(n):\n",
    "                if visited[i]==False and check(cur,words[i])==True:\n",
    "                    visited[i]=True\n",
    "                    dfs(index+1,words[i])\n",
    "                    visited[i]=False\n",
    "        \n",
    "        \n",
    "        \n",
    "    dfs(0,begin)\n",
    "    if answer==100:\n",
    "        answer=0\n",
    "    return answer"
   ]
  }
 ],
 "metadata": {
  "kernelspec": {
   "display_name": "Python 3",
   "language": "python",
   "name": "python3"
  },
  "language_info": {
   "codemirror_mode": {
    "name": "ipython",
    "version": 3
   },
   "file_extension": ".py",
   "mimetype": "text/x-python",
   "name": "python",
   "nbconvert_exporter": "python",
   "pygments_lexer": "ipython3",
   "version": "3.8.5"
  }
 },
 "nbformat": 4,
 "nbformat_minor": 4
}
