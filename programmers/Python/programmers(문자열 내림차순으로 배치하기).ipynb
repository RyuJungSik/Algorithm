{
 "cells": [
  {
   "cell_type": "code",
   "execution_count": null,
   "metadata": {},
   "outputs": [],
   "source": [
    "def solution(s):\n",
    "    answer = ''\n",
    "    up=''\n",
    "    for i in s:\n",
    "        if i.isupper():\n",
    "            up+=i\n",
    "            s=s.replace(i, \"\", 1)\n",
    "            \n",
    "    \n",
    "    answer=sorted(s, reverse=True)\n",
    "    up=sorted(up, reverse=True)\n",
    "    \n",
    "    answer=''.join(answer)\n",
    "    up=''.join(up)\n",
    "    \n",
    "    return answer+up"
   ]
  }
 ],
 "metadata": {
  "kernelspec": {
   "display_name": "Python 3",
   "language": "python",
   "name": "python3"
  },
  "language_info": {
   "codemirror_mode": {
    "name": "ipython",
    "version": 3
   },
   "file_extension": ".py",
   "mimetype": "text/x-python",
   "name": "python",
   "nbconvert_exporter": "python",
   "pygments_lexer": "ipython3",
   "version": "3.8.5"
  }
 },
 "nbformat": 4,
 "nbformat_minor": 4
}
