{
 "cells": [
  {
   "cell_type": "code",
   "execution_count": null,
   "metadata": {},
   "outputs": [],
   "source": [
    "import math\n",
    "from itertools import permutations\n",
    "def isPrime(n):\n",
    "    flag=True\n",
    "    for i in range(2,n):\n",
    "        if n%i==0:\n",
    "            return False\n",
    "            break\n",
    "    return flag\n",
    "        \n",
    "\n",
    "def solution(numbers):\n",
    "    answer=0\n",
    "    a=set()\n",
    "\n",
    "    for i in range(1,len(numbers)+1):\n",
    "        for j in permutations(numbers,i):\n",
    "            num=\"\"\n",
    "            for k in j:\n",
    "                num+=k\n",
    "            numint=int(num)\n",
    "            if numint>1 and isPrime(numint)==True:\n",
    "                a.add(numint)\n",
    "                \n",
    "    answer=len(a)\n",
    "\n",
    "    return answer"
   ]
  }
 ],
 "metadata": {
  "kernelspec": {
   "display_name": "Python 3",
   "language": "python",
   "name": "python3"
  },
  "language_info": {
   "codemirror_mode": {
    "name": "ipython",
    "version": 3
   },
   "file_extension": ".py",
   "mimetype": "text/x-python",
   "name": "python",
   "nbconvert_exporter": "python",
   "pygments_lexer": "ipython3",
   "version": "3.8.5"
  }
 },
 "nbformat": 4,
 "nbformat_minor": 4
}
