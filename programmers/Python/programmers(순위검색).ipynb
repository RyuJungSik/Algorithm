{
 "cells": [
  {
   "cell_type": "code",
   "execution_count": null,
   "metadata": {},
   "outputs": [],
   "source": [
    "from itertools import combinations\n",
    "from bisect import bisect_left\n",
    "\n",
    "def solution(info, query):\n",
    "    answer = []\n",
    "    info_dict={}\n",
    "    \n",
    "    for i in range(len(info)):\n",
    "        infol=info[i].split()\n",
    "        mykey=infol[:-1]\n",
    "        myval=infol[-1]\n",
    "        \n",
    "        for j in range(5):\n",
    "            for c in combinations(mykey,j):\n",
    "                tmp=\"\".join(c)\n",
    "                if tmp in info_dict:\n",
    "                    info_dict[tmp].append(int(myval))\n",
    "                else:\n",
    "                    info_dict[tmp]=[int(myval)]\n",
    "                    \n",
    "    for k in info_dict:\n",
    "        info_dict[k].sort()\n",
    "        \n",
    "    for qu in query:\n",
    "        myqu=qu.split(' ')\n",
    "        qu_key=myqu[:-1]\n",
    "        qu_val=myqu[-1]\n",
    "        while 'and' in qu_key:\n",
    "            qu_key.remove('and')\n",
    "        while '-' in qu_key:\n",
    "            qu_key.remove('-')\n",
    "        qu_key=\"\".join(qu_key)\n",
    "        \n",
    "        if qu_key in info_dict:\n",
    "            scores=info_dict[qu_key]\n",
    "            \n",
    "            if scores:\n",
    "                enter=bisect_left(scores,int(qu_val))\n",
    "                answer.append(len(scores)-enter)\n",
    "        else:\n",
    "            answer.append(0)\n",
    "                \n",
    "    return answer"
   ]
  }
 ],
 "metadata": {
  "language_info": {
   "name": "python"
  },
  "orig_nbformat": 4
 },
 "nbformat": 4,
 "nbformat_minor": 2
}
