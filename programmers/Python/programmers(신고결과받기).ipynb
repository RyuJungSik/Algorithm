{
 "cells": [
  {
   "cell_type": "code",
   "execution_count": null,
   "metadata": {},
   "outputs": [],
   "source": [
    "def solution(id_list, report, k):\n",
    "    answer = []\n",
    "    hash1={}#신고 당한 숫자 해시\n",
    "    hash2={}#신고 한새키가 누군지 들어있는 해시\n",
    "    hash3={}#내가 누구 신고했는지 들어있는 해쉬\n",
    "    \n",
    "    for man in id_list:\n",
    "        hash1[man]=0\n",
    "        hash2[man]=[]\n",
    "        hash3[man]=[]\n",
    "\n",
    "    for s in report:\n",
    "        me,target=s.split(\" \")\n",
    "        if target not in hash3[me]:\n",
    "            hash3[me].append(target)\n",
    "            \n",
    "        if me not in hash2[target]:\n",
    "            hash1[target]+=1\n",
    "            hash2[target].append(me)\n",
    "    \n",
    "    finalBan=[]\n",
    "    for name,count in hash1.items():\n",
    "        if count>=k:\n",
    "            finalBan.append(name)\n",
    "    \n",
    "    for me,arr in hash3.items():\n",
    "        tmp=0\n",
    "        for target in arr:\n",
    "            if target in finalBan:\n",
    "                tmp+=1\n",
    "        answer.append(tmp)\n",
    "        \n",
    "    return answer"
   ]
  }
 ],
 "metadata": {
  "language_info": {
   "name": "python"
  },
  "orig_nbformat": 4
 },
 "nbformat": 4,
 "nbformat_minor": 2
}
