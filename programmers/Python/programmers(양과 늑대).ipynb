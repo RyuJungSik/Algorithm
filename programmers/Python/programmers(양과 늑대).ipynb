{
 "cells": [
  {
   "cell_type": "code",
   "execution_count": null,
   "metadata": {},
   "outputs": [],
   "source": [
    "answer = 0\n",
    "def solution(info, edges):\n",
    "    global answer\n",
    "    tree=[[] for _ in range(len(info))] \n",
    "    for [s,e] in edges:\n",
    "        tree[s].append(e)\n",
    "    \n",
    "    def dfs(sheep,wolf,curNode,path):\n",
    "        global answer\n",
    "        if info[curNode]==0:\n",
    "            sheep+=1\n",
    "        else:\n",
    "            wolf+=1\n",
    "        if wolf>=sheep:\n",
    "            return\n",
    "        answer=max(answer,sheep)\n",
    "        for p in path:\n",
    "            for nextNode in tree[p]:\n",
    "                if nextNode not in path:\n",
    "                    dfs(sheep,wolf,nextNode,path+[nextNode])\n",
    "    \n",
    "    dfs(0,0,0,[0])\n",
    "    return answer"
   ]
  }
 ],
 "metadata": {
  "language_info": {
   "name": "python"
  },
  "orig_nbformat": 4
 },
 "nbformat": 4,
 "nbformat_minor": 2
}
