{
 "cells": [
  {
   "cell_type": "code",
   "execution_count": null,
   "metadata": {},
   "outputs": [],
   "source": [
    "from itertools import combinations_with_replacement\n",
    "\n",
    "def solution(n, info):\n",
    "    answer = []\n",
    "    result=[]\n",
    "    recordedGap=0\n",
    "    \n",
    "    for oneCase in combinations_with_replacement([i for i in range(11)],n):\n",
    "        rayonInfo=[0,0,0,0,0,0,0,0,0,0,0]\n",
    "        apeachScore=0\n",
    "        rayonScore=0\n",
    "        for i in oneCase:\n",
    "            rayonInfo[i]+=1\n",
    "        for i in range(11):\n",
    "            if(info[i]==0 and rayonInfo[i]==0): continue\n",
    "            if(info[i]>=rayonInfo[i]): apeachScore+=10-i\n",
    "            else : rayonScore+=10-i\n",
    "        if(apeachScore<rayonScore):\n",
    "            gap=rayonScore-apeachScore\n",
    "            if gap>recordedGap:\n",
    "                result=[]\n",
    "                result.append(rayonInfo)\n",
    "                recordedGap=gap\n",
    "            elif gap==recordedGap:\n",
    "                result.append(rayonInfo)\n",
    "            else:\n",
    "                continue\n",
    "    if len(result)==0:\n",
    "        return [-1]\n",
    "    if len(result)==1:\n",
    "        return result.pop()\n",
    "    for i in range(10,-1,-1):\n",
    "        maxV=0\n",
    "        hubo=[]\n",
    "        for oneArr in result:\n",
    "            maxV=max(oneArr[i],maxV)\n",
    "        if(maxV==0): continue\n",
    "        for oneArr in result:\n",
    "            if(maxV==oneArr[i]): hubo.append(oneArr)\n",
    "        result=hubo\n",
    "    \n",
    "    \n",
    "    answer=hubo.pop()\n",
    "    return answer"
   ]
  }
 ],
 "metadata": {
  "language_info": {
   "name": "python"
  },
  "orig_nbformat": 4
 },
 "nbformat": 4,
 "nbformat_minor": 2
}
