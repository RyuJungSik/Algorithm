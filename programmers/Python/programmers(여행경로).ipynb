{
 "cells": [
  {
   "cell_type": "code",
   "execution_count": null,
   "metadata": {},
   "outputs": [],
   "source": [
    "from copy import deepcopy\n",
    "answer = []\n",
    "flag=False\n",
    "def solution(tickets):\n",
    "    global answer,flag\n",
    "    con=dict()\n",
    "    cnt=0\n",
    "    \n",
    "    for i in range(len(tickets)):\n",
    "        a,b=tickets[i][0],tickets[i][1]\n",
    "        if a not in con:\n",
    "            con[a]=cnt\n",
    "            cnt+=1\n",
    "        if b not in con:\n",
    "            con[b]=cnt\n",
    "            cnt+=1\n",
    "    \n",
    "    n=len(con)\n",
    "    g=[[] for _ in range(n)]\n",
    "    \n",
    "    for i in tickets:\n",
    "        g[con[i[0]]].append(i[1])\n",
    "\n",
    "    for i in g:\n",
    "        i.sort()\n",
    "\n",
    "    def dfs(index,arr,cur,g):\n",
    "        global answer,flag\n",
    "        if flag==True:\n",
    "            return\n",
    "        if index==len(tickets):\n",
    "            answer=deepcopy(arr)\n",
    "            flag=True\n",
    "            return\n",
    "        else:\n",
    "            for i in range(len(g[con[cur]])):\n",
    "                tmp=g[con[cur]][i]\n",
    "                if tmp!='X':\n",
    "                    arr.append(tmp)\n",
    "                    g[con[cur]][i]='X'\n",
    "                    dfs(index+1,arr, tmp,g)\n",
    "                    arr.pop()\n",
    "                    g[con[cur]][i]=tmp\n",
    "\n",
    "    dfs(0,[\"ICN\"],\"ICN\",g)\n",
    "    return answer"
   ]
  }
 ],
 "metadata": {
  "kernelspec": {
   "display_name": "Python 3",
   "language": "python",
   "name": "python3"
  },
  "language_info": {
   "codemirror_mode": {
    "name": "ipython",
    "version": 3
   },
   "file_extension": ".py",
   "mimetype": "text/x-python",
   "name": "python",
   "nbconvert_exporter": "python",
   "pygments_lexer": "ipython3",
   "version": "3.8.5"
  }
 },
 "nbformat": 4,
 "nbformat_minor": 4
}
