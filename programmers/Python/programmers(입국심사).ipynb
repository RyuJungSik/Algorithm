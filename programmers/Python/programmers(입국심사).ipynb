{
 "cells": [
  {
   "cell_type": "code",
   "execution_count": null,
   "metadata": {},
   "outputs": [],
   "source": [
    "def solution(n, times):\n",
    "    answer = 1000000000*1000000000\n",
    "    left=1\n",
    "    right=max(times)*n\n",
    "    mid=(left+right)//2\n",
    "    \n",
    "    while left<=right:\n",
    "        tmp=0 #검사가능 최대수\n",
    "    \n",
    "        for i in range(len(times)):\n",
    "            tmp+=mid//times[i]\n",
    "        \n",
    "        if tmp<n:\n",
    "            left=mid+1\n",
    "            mid=(left+right)//2\n",
    "        else:\n",
    "            answer=min(answer,mid)\n",
    "            right=mid-1\n",
    "            mid=(left+right)//2\n",
    "    return answer"
   ]
  }
 ],
 "metadata": {
  "kernelspec": {
   "display_name": "Python 3",
   "language": "python",
   "name": "python3"
  },
  "language_info": {
   "codemirror_mode": {
    "name": "ipython",
    "version": 3
   },
   "file_extension": ".py",
   "mimetype": "text/x-python",
   "name": "python",
   "nbconvert_exporter": "python",
   "pygments_lexer": "ipython3",
   "version": "3.8.5"
  }
 },
 "nbformat": 4,
 "nbformat_minor": 4
}
