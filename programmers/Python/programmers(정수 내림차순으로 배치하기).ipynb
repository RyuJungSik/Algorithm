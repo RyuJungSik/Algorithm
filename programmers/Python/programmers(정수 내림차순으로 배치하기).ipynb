{
 "cells": [
  {
   "cell_type": "code",
   "execution_count": null,
   "metadata": {},
   "outputs": [],
   "source": [
    "import math\n",
    "def solution(n):\n",
    "    answer = 0\n",
    "    a=(int(math.sqrt(n)))\n",
    "    \n",
    "    if a*a==n:\n",
    "        answer=(a+1)*(a+1)\n",
    "    else:\n",
    "        answer=-1\n",
    "    return answer"
   ]
  }
 ],
 "metadata": {
  "kernelspec": {
   "display_name": "Python 3",
   "language": "python",
   "name": "python3"
  },
  "language_info": {
   "codemirror_mode": {
    "name": "ipython",
    "version": 3
   },
   "file_extension": ".py",
   "mimetype": "text/x-python",
   "name": "python",
   "nbconvert_exporter": "python",
   "pygments_lexer": "ipython3",
   "version": "3.8.5"
  }
 },
 "nbformat": 4,
 "nbformat_minor": 4
}
