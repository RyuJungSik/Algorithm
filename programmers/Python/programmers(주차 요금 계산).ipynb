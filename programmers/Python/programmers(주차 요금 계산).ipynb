{
 "cells": [
  {
   "cell_type": "code",
   "execution_count": null,
   "metadata": {},
   "outputs": [],
   "source": [
    "import math\n",
    "\n",
    "def solution(fees, records):\n",
    "    answer = []\n",
    "    answerList=[]\n",
    "    hash={}\n",
    "    \n",
    "    for oneRecord in records:\n",
    "        time,carNumber,IOType=oneRecord.split(\" \")\n",
    "        \n",
    "        if carNumber not in hash.keys():\n",
    "            hash[carNumber]=[time]\n",
    "        else:\n",
    "            hash.get(carNumber).append(time)\n",
    "    \n",
    "    for timeArr in hash.values():\n",
    "        if(len(timeArr)%2==1): timeArr.append(\"23:59\")\n",
    "    \n",
    "    for carNumber,timeArr in hash.items():\n",
    "        tmpTime=0\n",
    "        \n",
    "        for i in range(0,len(timeArr),2):\n",
    "            inT,outT=timeArr[i].split(\":\"),timeArr[i+1].split(\":\")\n",
    "            tmpTime+=(int(outT[0])*60+int(outT[1]))-(int(inT[0])*60+int(inT[1]))\n",
    "        \n",
    "        \n",
    "        if tmpTime<fees[0]:\n",
    "            answerList.append([carNumber,fees[1]])\n",
    "        else:\n",
    "            answerList.append([carNumber,fees[1]+math.ceil((tmpTime-fees[0])/fees[2])*fees[3]])\n",
    "    \n",
    "    answerList.sort(key=lambda x: x[0])\n",
    "    for carNumber,fee in answerList:\n",
    "        answer.append(fee)\n",
    "    \n",
    "    return answer"
   ]
  }
 ],
 "metadata": {
  "language_info": {
   "name": "python"
  },
  "orig_nbformat": 4
 },
 "nbformat": 4,
 "nbformat_minor": 2
}
