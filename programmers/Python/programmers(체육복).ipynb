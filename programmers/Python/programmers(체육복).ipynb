{
 "cells": [
  {
   "cell_type": "code",
   "execution_count": null,
   "metadata": {},
   "outputs": [],
   "source": [
    "def solution(n, lost, reserve):\n",
    "    answer = n-len(lost)\n",
    "    before=len(reserve)\n",
    "    lost_copy=[]\n",
    "    \n",
    "    for i in lost:\n",
    "        lost_copy.append(i)\n",
    "    \n",
    "    for i in lost_copy:\n",
    "        if i in reserve:\n",
    "            reserve.remove(i)\n",
    "            lost.remove(i)\n",
    "            \n",
    "    for i in lost:\n",
    "        if i-1 in reserve:\n",
    "            reserve.remove(i-1)\n",
    "        elif i+1 in reserve:\n",
    "            reserve.remove(i+1)\n",
    "    \n",
    "    \n",
    "    after=len(reserve)\n",
    "    answer+=before-after\n",
    "    \n",
    "    return answer"
   ]
  }
 ],
 "metadata": {
  "kernelspec": {
   "display_name": "Python 3",
   "language": "python",
   "name": "python3"
  },
  "language_info": {
   "codemirror_mode": {
    "name": "ipython",
    "version": 3
   },
   "file_extension": ".py",
   "mimetype": "text/x-python",
   "name": "python",
   "nbconvert_exporter": "python",
   "pygments_lexer": "ipython3",
   "version": "3.8.5"
  }
 },
 "nbformat": 4,
 "nbformat_minor": 4
}
