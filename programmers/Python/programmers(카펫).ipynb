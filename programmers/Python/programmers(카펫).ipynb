{
 "cells": [
  {
   "cell_type": "code",
   "execution_count": null,
   "metadata": {},
   "outputs": [],
   "source": [
    "import math\n",
    "\n",
    "def solution(brown, yellow):\n",
    "    answer = []\n",
    "    gop=brown+yellow\n",
    "    \n",
    "    for garo in range(1,int(math.sqrt(gop))+1):\n",
    "        if gop%garo==0:\n",
    "            sero=gop//garo\n",
    "        else:\n",
    "            continue\n",
    "        if (garo-2)*(sero-2)==yellow:\n",
    "            answer.append(sero)\n",
    "            answer.append(garo)\n",
    "            break\n",
    "            \n",
    "    return answer"
   ]
  }
 ],
 "metadata": {
  "kernelspec": {
   "display_name": "Python 3",
   "language": "python",
   "name": "python3"
  },
  "language_info": {
   "codemirror_mode": {
    "name": "ipython",
    "version": 3
   },
   "file_extension": ".py",
   "mimetype": "text/x-python",
   "name": "python",
   "nbconvert_exporter": "python",
   "pygments_lexer": "ipython3",
   "version": "3.8.5"
  }
 },
 "nbformat": 4,
 "nbformat_minor": 4
}
