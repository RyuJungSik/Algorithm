{
 "cells": [
  {
   "cell_type": "code",
   "execution_count": null,
   "metadata": {},
   "outputs": [],
   "source": [
    "def solution(board, moves):\n",
    "    answer = 0\n",
    "    \n",
    "    bucket=[]\n",
    "    length=len(board[0])\n",
    "\n",
    "    for i in moves:\n",
    "        for k in range(0, length):\n",
    "            pick=0\n",
    "            if board[k][i-1]!=0:\n",
    "                pick=board[k][i-1]\n",
    "                board[k][i-1]=0\n",
    "                break\n",
    "        if pick!=0:\n",
    "            bucket.append(pick)\n",
    "        if len(bucket)>=2:\n",
    "            if bucket[-1]==bucket[-2]:\n",
    "                bucket.pop()\n",
    "                bucket.pop()\n",
    "                answer+=2\n",
    "    return answer"
   ]
  }
 ],
 "metadata": {
  "kernelspec": {
   "display_name": "Python 3",
   "language": "python",
   "name": "python3"
  },
  "language_info": {
   "codemirror_mode": {
    "name": "ipython",
    "version": 3
   },
   "file_extension": ".py",
   "mimetype": "text/x-python",
   "name": "python",
   "nbconvert_exporter": "python",
   "pygments_lexer": "ipython3",
   "version": "3.8.5"
  }
 },
 "nbformat": 4,
 "nbformat_minor": 4
}
