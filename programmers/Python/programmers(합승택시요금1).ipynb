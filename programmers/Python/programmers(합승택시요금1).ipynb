{
 "cells": [
  {
   "cell_type": "code",
   "execution_count": null,
   "metadata": {},
   "outputs": [],
   "source": [
    "def solution(n, s, a, b, fares):\n",
    "    INF=int(1e9)\n",
    "    answer = INF\n",
    "    graph=[[INF]*(n+1) for _ in range(n+1)]\n",
    "    \n",
    "    for x in range(1,n+1):\n",
    "        for y in range(1,n+1):\n",
    "            if x==y:\n",
    "                graph[x][y]=0\n",
    "    \n",
    "    for fare in fares:\n",
    "        x,y,z=fare\n",
    "        graph[x][y]=z\n",
    "        graph[y][x]=z\n",
    "    \n",
    "    for k in range(1,n+1):\n",
    "        for x in range(1,n+1):\n",
    "            for y in range(1,n+1):\n",
    "                graph[x][y]=min(graph[x][y],graph[x][k]+graph[k][y])\n",
    "                \n",
    "    answer=graph[s][a]+graph[s][b]\n",
    "    for k in range(1,n+1):\n",
    "        answer=min(answer,graph[s][k]+graph[k][a]+graph[k][b])\n",
    "    \n",
    "    \n",
    "    return answer"
   ]
  }
 ],
 "metadata": {
  "language_info": {
   "name": "python"
  },
  "orig_nbformat": 4
 },
 "nbformat": 4,
 "nbformat_minor": 2
}
