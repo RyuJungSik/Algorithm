{
 "cells": [
  {
   "cell_type": "code",
   "execution_count": null,
   "metadata": {},
   "outputs": [],
   "source": [
    "import heapq\n",
    "\n",
    "def solution(n, s, a, b, fares):\n",
    "    INF=int(1e9)\n",
    "    answer = INF\n",
    "    graph=[[] for _ in range(n+1)]\n",
    "    \n",
    "    \n",
    "    for fare in fares:\n",
    "        x,y,z=fare\n",
    "        graph[x].append((y,z))\n",
    "        graph[y].append((x,z))\n",
    "        \n",
    "    def dijkstra(start):\n",
    "        distance=[INF]*(n+1)\n",
    "        q=[]\n",
    "        heapq.heappush(q,(0,start))\n",
    "        distance[start]=0\n",
    "        while q:\n",
    "            dist,now=heapq.heappop(q)\n",
    "            if distance[now]<dist:\n",
    "                continue\n",
    "            for i in graph[now]:\n",
    "                cost=dist+i[1]\n",
    "                if cost<distance[i[0]]:\n",
    "                    distance[i[0]]=cost\n",
    "                    heapq.heappush(q,(cost,i[0]))\n",
    "        return distance\n",
    "    \n",
    "    answer=INF\n",
    "    for k in range(1,n+1):\n",
    "        sTok,kToa,kTob=dijkstra(s),dijkstra(k),dijkstra(k)\n",
    "        answer=min(answer,sTok[k]+kToa[a]+kTob[b])\n",
    "        \n",
    "    return answer"
   ]
  }
 ],
 "metadata": {
  "language_info": {
   "name": "python"
  },
  "orig_nbformat": 4
 },
 "nbformat": 4,
 "nbformat_minor": 2
}
