{
 "cells": [
  {
   "cell_type": "code",
   "execution_count": null,
   "metadata": {},
   "outputs": [],
   "source": [
    "import collections\n",
    "def solution(progresses, speeds):\n",
    "    answer = []\n",
    "    days=collections.deque()\n",
    "    \n",
    "\n",
    "    \n",
    "    for i in range(0, len(speeds)):\n",
    "        if ((100-progresses[i])%speeds[i]==0):\n",
    "            tmp=(100-progresses[i])//speeds[i]\n",
    "        else:\n",
    "            tmp=(100-progresses[i])//speeds[i]+1\n",
    "        days.append(tmp)\n",
    "    \n",
    "    while days:\n",
    "        sum=1\n",
    "        now=days.popleft()\n",
    "        if len(days)==0:\n",
    "            answer.append(sum)\n",
    "        elif(now<days[0]):\n",
    "            answer.append(sum)\n",
    "        else:\n",
    "            while len(days)>0 and now>=days[0]:\n",
    "                sum+=1\n",
    "                days.popleft()\n",
    "            answer.append(sum)\n",
    "\n",
    "        \n",
    "    return answer"
   ]
  }
 ],
 "metadata": {
  "kernelspec": {
   "display_name": "Python 3",
   "language": "python",
   "name": "python3"
  },
  "language_info": {
   "codemirror_mode": {
    "name": "ipython",
    "version": 3
   },
   "file_extension": ".py",
   "mimetype": "text/x-python",
   "name": "python",
   "nbconvert_exporter": "python",
   "pygments_lexer": "ipython3",
   "version": "3.8.5"
  }
 },
 "nbformat": 4,
 "nbformat_minor": 4
}
