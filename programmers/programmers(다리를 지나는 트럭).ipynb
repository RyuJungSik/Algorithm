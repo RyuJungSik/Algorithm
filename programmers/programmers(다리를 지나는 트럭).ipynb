{
 "cells": [
  {
   "cell_type": "code",
   "execution_count": null,
   "metadata": {},
   "outputs": [],
   "source": [
    "from collections import deque\n",
    "\n",
    "def solution(bridge_length, weight, truck_weights):\n",
    "    answer = 0\n",
    "    bw=0\n",
    "    tq=deque(truck_weights)\n",
    "    bq=deque([0]*bridge_length)\n",
    "    time=0\n",
    "    cnt=0\n",
    "    while True:\n",
    "        time+=1\n",
    "        flag=False\n",
    "        if tq:\n",
    "            now=tq.popleft()\n",
    "            \n",
    "        out=bq.popleft()\n",
    "        bq.append(0)\n",
    "\n",
    "        if out!=0:\n",
    "            bw-=out\n",
    "            cnt+=1\n",
    "        if cnt==len(truck_weights):\n",
    "            break\n",
    "\n",
    "        bs=len(bq)\n",
    "        if bw+now<=weight:\n",
    "            bw+=now\n",
    "            bq[-1]=now\n",
    "        else:\n",
    "            tq.appendleft(now)\n",
    "            \n",
    "    answer=time\n",
    "    return answer"
   ]
  }
 ],
 "metadata": {
  "kernelspec": {
   "display_name": "Python 3",
   "language": "python",
   "name": "python3"
  },
  "language_info": {
   "codemirror_mode": {
    "name": "ipython",
    "version": 3
   },
   "file_extension": ".py",
   "mimetype": "text/x-python",
   "name": "python",
   "nbconvert_exporter": "python",
   "pygments_lexer": "ipython3",
   "version": "3.8.5"
  }
 },
 "nbformat": 4,
 "nbformat_minor": 4
}
