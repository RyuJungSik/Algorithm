{
 "cells": [
  {
   "cell_type": "code",
   "execution_count": null,
   "metadata": {},
   "outputs": [],
   "source": [
    "from collections import deque\n",
    "answer = 0\n",
    "\n",
    "def check(s,e):\n",
    "    tmp=0\n",
    "    for i in range(len(s)):\n",
    "        if s[i]!=e[i]:\n",
    "            tmp+=1\n",
    "    if tmp==1 or tmp==0:\n",
    "        return True\n",
    "    else:\n",
    "        return False\n",
    "\n",
    "\n",
    "def solution(begin, target, words):\n",
    "    global answer\n",
    "    n=len(words)\n",
    "    if target not in words:\n",
    "        return 0\n",
    "    \n",
    "    def bfs(b,t,words):\n",
    "        global answer\n",
    "        index=0\n",
    "        q=deque()\n",
    "        q.append((index,b))\n",
    "        n=len(words)        \n",
    "        \n",
    "        while q:\n",
    "            now=q.popleft()\n",
    "            nowIndex,nowWord=now[0],now[1]\n",
    "            if nowWord==t:\n",
    "                return nowIndex\n",
    "            if nowIndex>n:\n",
    "                return 0\n",
    "            for i in words:\n",
    "                if check(nowWord,i)==True and nowWord!=i:\n",
    "                    q.append((nowIndex+1,i))\n",
    "                    \n",
    "    \n",
    "    answer=bfs(begin, target, words)\n",
    "    return answer"
   ]
  }
 ],
 "metadata": {
  "kernelspec": {
   "display_name": "Python 3",
   "language": "python",
   "name": "python3"
  },
  "language_info": {
   "codemirror_mode": {
    "name": "ipython",
    "version": 3
   },
   "file_extension": ".py",
   "mimetype": "text/x-python",
   "name": "python",
   "nbconvert_exporter": "python",
   "pygments_lexer": "ipython3",
   "version": "3.8.5"
  }
 },
 "nbformat": 4,
 "nbformat_minor": 4
}
