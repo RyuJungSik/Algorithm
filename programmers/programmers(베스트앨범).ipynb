{
 "cells": [
  {
   "cell_type": "code",
   "execution_count": null,
   "metadata": {},
   "outputs": [],
   "source": [
    "def solution(genres, plays):\n",
    "    answer=[]\n",
    "    g=dict()\n",
    "    s=dict()\n",
    "    for i in range(len(plays)):\n",
    "        if genres[i] not in g:\n",
    "            g[genres[i]]=[(plays[i],i)]\n",
    "        else:\n",
    "            g[genres[i]]+=[(plays[i],i)]\n",
    "            \n",
    "        if genres[i] not in s:\n",
    "            s[genres[i]]=plays[i]\n",
    "        else:\n",
    "            s[genres[i]]+=plays[i]\n",
    "\n",
    "    for i in g.values():\n",
    "        i.sort(key=lambda data:(-data[0],data[1]))\n",
    "    sk=list(s.keys())\n",
    "    sk.sort(key=lambda data : s[data], reverse=True)\n",
    "\n",
    "    for i in sk:\n",
    "        tmp=g[i]\n",
    "        if len(tmp)==1:\n",
    "            answer.append(tmp[0][1])\n",
    "        else:\n",
    "            answer.append(tmp[0][1])\n",
    "            answer.append(tmp[1][1])\n",
    "            \n",
    "    return answer"
   ]
  }
 ],
 "metadata": {
  "kernelspec": {
   "display_name": "Python 3",
   "language": "python",
   "name": "python3"
  },
  "language_info": {
   "codemirror_mode": {
    "name": "ipython",
    "version": 3
   },
   "file_extension": ".py",
   "mimetype": "text/x-python",
   "name": "python",
   "nbconvert_exporter": "python",
   "pygments_lexer": "ipython3",
   "version": "3.8.5"
  }
 },
 "nbformat": 4,
 "nbformat_minor": 4
}
