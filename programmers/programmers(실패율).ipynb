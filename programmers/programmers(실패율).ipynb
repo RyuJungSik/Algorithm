{
 "cells": [
  {
   "cell_type": "code",
   "execution_count": null,
   "metadata": {},
   "outputs": [],
   "source": [
    "def solution(N, stages):\n",
    "    answer = []\n",
    "    rank={}\n",
    "    num=len(stages)\n",
    "    for i in range(1, N+1):\n",
    "        a=0\n",
    "        b=0\n",
    "        \n",
    "        if num!=0:\n",
    "            a=stages.count(i)\n",
    "            rank[i]=a/num\n",
    "            num-=a\n",
    "        else:\n",
    "            rank[i]=0\n",
    "        \n",
    "    return sorted(rank, key = lambda x: rank[x], reverse=True)"
   ]
  }
 ],
 "metadata": {
  "kernelspec": {
   "display_name": "Python 3",
   "language": "python",
   "name": "python3"
  },
  "language_info": {
   "codemirror_mode": {
    "name": "ipython",
    "version": 3
   },
   "file_extension": ".py",
   "mimetype": "text/x-python",
   "name": "python",
   "nbconvert_exporter": "python",
   "pygments_lexer": "ipython3",
   "version": "3.8.5"
  }
 },
 "nbformat": 4,
 "nbformat_minor": 4
}
