{
 "cells": [
  {
   "cell_type": "code",
   "execution_count": null,
   "metadata": {},
   "outputs": [],
   "source": [
    "def solution(s):\n",
    "    answer = []\n",
    "    newS=(s[1:-1]).split('},{')\n",
    "\n",
    "    newS[0]=newS[0].split('{')[1]\n",
    "    newS[-1]=newS[-1].split('}')[0]\n",
    "\n",
    "    newS.sort(key=lambda data : len(data))\n",
    "\n",
    "    for i in newS:\n",
    "        tmp=i.split(',')\n",
    "        for j in tmp:\n",
    "            if j not in answer:\n",
    "                answer.append(j)\n",
    "\n",
    "    answer=list(map(int,answer))\n",
    "    return answer"
   ]
  }
 ],
 "metadata": {
  "kernelspec": {
   "display_name": "Python 3",
   "language": "python",
   "name": "python3"
  },
  "language_info": {
   "codemirror_mode": {
    "name": "ipython",
    "version": 3
   },
   "file_extension": ".py",
   "mimetype": "text/x-python",
   "name": "python",
   "nbconvert_exporter": "python",
   "pygments_lexer": "ipython3",
   "version": "3.8.5"
  }
 },
 "nbformat": 4,
 "nbformat_minor": 4
}
